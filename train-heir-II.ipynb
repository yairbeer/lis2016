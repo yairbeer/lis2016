{
 "cells": [
  {
   "cell_type": "code",
   "execution_count": 13,
   "metadata": {
    "collapsed": false
   },
   "outputs": [
    {
     "name": "stdout",
     "output_type": "stream",
     "text": [
      "[['train/CAR/logfile_CAR_R1_S3.txt', 'train/CAR/logfile_CAR_R1_S3mini.txt', 'train/CAR/logfile_CAR_R2_S3.txt', 'train/CAR/logfile_CAR_R2_S4.txt'], ['train/UAH/logfile_UAH_R1_S3.txt', 'train/UAH/logfile_UAH_R1_S4.txt', 'train/UAH/logfile_UAH_R2_S3.txt', 'train/UAH/logfile_UAH_R2_S4.txt', 'train/UAH/logfile_UAH_R4_S3.txt', 'train/UAH/logfile_UAH_R4_S4.txt'], ['train/UJITI/logfile_UJITI_R1_NEXUS5.txt', 'train/UJITI/logfile_UJITI_R2_NEXUS5.txt'], ['train/UJIUB/logfile_UJIUB_R1n_S3.txt', 'train/UJIUB/logfile_UJIUB_R1r_S3.txt', 'train/UJIUB/logfile_UJIUB_R2n_S3.txt', 'train/UJIUB/logfile_UJIUB_R2r_S3.txt', 'train/UJIUB/logfile_UJIUB_R3_S3.txt']]\n",
      "There are 17 files\n"
     ]
    }
   ],
   "source": [
    "\"\"\"\n",
    "Only for the 1st three buildings\n",
    "\"\"\"\n",
    "\n",
    "# get train files\n",
    "import glob\n",
    "\n",
    "train_folders = ['CAR', 'UAH', 'UJITI', 'UJIUB']\n",
    "\n",
    "files_names = []\n",
    "n_files = 0\n",
    "for building in train_folders:\n",
    "    cur_file_names = glob.glob('train/' + building + '/log*')\n",
    "    files_names.append(sorted(cur_file_names))\n",
    "    n_files += len(cur_file_names)\n",
    "\n",
    "print(files_names)\n",
    "print('There are %d files' % n_files)"
   ]
  },
  {
   "cell_type": "code",
   "execution_count": 15,
   "metadata": {
    "collapsed": false
   },
   "outputs": [
    {
     "name": "stdout",
     "output_type": "stream",
     "text": [
      "train/CAR/logfile_CAR_R1_S3.txt\n",
      "['ACCE' 'AHRS' 'GNSS' 'GYRO' 'LIGH' 'MAGN' 'POSI' 'PRES' 'SOUN' 'WIFI']\n",
      "train/CAR/logfile_CAR_R1_S3mini.txt\n",
      "['ACCE' 'AHRS' 'GNSS' 'GYRO' 'MAGN' 'POSI' 'SOUN' 'WIFI']\n",
      "train/CAR/logfile_CAR_R2_S3.txt\n",
      "['ACCE' 'AHRS' 'GNSS' 'GYRO' 'LIGH' 'MAGN' 'POSI' 'PRES' 'PROX' 'SOUN'\n",
      " 'WIFI']\n",
      "train/CAR/logfile_CAR_R2_S4.txt\n",
      "['ACCE' 'AHRS' 'GNSS' 'GYRO' 'HUMI' 'LIGH' 'MAGN' 'POSI' 'PRES' 'PROX'\n",
      " 'SOUN' 'TEMP' 'WIFI']\n",
      "train/UAH/logfile_UAH_R1_S3.txt\n",
      "['ACCE' 'AHRS' 'GNSS' 'GYRO' 'LIGH' 'MAGN' 'POSI' 'PRES' 'SOUN' 'WIFI']\n",
      "train/UAH/logfile_UAH_R1_S4.txt\n",
      "['ACCE' 'AHRS' 'GNSS' 'GYRO' 'HUMI' 'LIGH' 'MAGN' 'POSI' 'PRES' 'SOUN'\n",
      " 'TEMP' 'WIFI']\n",
      "train/UAH/logfile_UAH_R2_S3.txt\n",
      "['ACCE' 'AHRS' 'GNSS' 'GYRO' 'LIGH' 'MAGN' 'POSI' 'PRES' 'SOUN' 'WIFI']\n",
      "train/UAH/logfile_UAH_R2_S4.txt\n",
      "['ACCE' 'AHRS' 'GNSS' 'GYRO' 'HUMI' 'LIGH' 'MAGN' 'POSI' 'PRES' 'SOUN'\n",
      " 'TEMP' 'WIFI']\n",
      "train/UAH/logfile_UAH_R4_S3.txt\n",
      "['ACCE' 'AHRS' 'GNSS' 'GYRO' 'LIGH' 'MAGN' 'POSI' 'PRES' 'SOUN' 'WIFI']\n",
      "train/UAH/logfile_UAH_R4_S4.txt\n",
      "['ACCE' 'AHRS' 'GNSS' 'GYRO' 'HUMI' 'LIGH' 'MAGN' 'POSI' 'PRES' 'SOUN'\n",
      " 'TEMP' 'WIFI']\n",
      "train/UJITI/logfile_UJITI_R1_NEXUS5.txt\n",
      "['ACCE' 'AHRS' 'GNSS' 'GYRO' 'LIGH' 'MAGN' 'POSI' 'PRES' 'PROX' 'SOUN'\n",
      " 'WIFI']\n",
      "train/UJITI/logfile_UJITI_R2_NEXUS5.txt\n",
      "['ACCE' 'AHRS' 'GYRO' 'LIGH' 'MAGN' 'POSI' 'PRES' 'SOUN' 'WIFI']\n",
      "train/UJIUB/logfile_UJIUB_R1n_S3.txt\n",
      "['ACCE' 'AHRS' 'GNSS' 'GYRO' 'LIGH' 'MAGN' 'POSI' 'PRES' 'PROX' 'SOUN'\n",
      " 'WIFI']\n",
      "train/UJIUB/logfile_UJIUB_R1r_S3.txt\n",
      "['ACCE' 'AHRS' 'GNSS' 'GYRO' 'LIGH' 'MAGN' 'POSI' 'PRES' 'SOUN' 'WIFI']\n",
      "train/UJIUB/logfile_UJIUB_R2n_S3.txt\n",
      "['ACCE' 'AHRS' 'GNSS' 'GYRO' 'LIGH' 'MAGN' 'POSI' 'PRES' 'PROX' 'SOUN'\n",
      " 'WIFI']\n",
      "train/UJIUB/logfile_UJIUB_R2r_S3.txt\n",
      "['ACCE' 'AHRS' 'GNSS' 'GYRO' 'LIGH' 'MAGN' 'POSI' 'PRES' 'SOUN' 'WIFI']\n",
      "train/UJIUB/logfile_UJIUB_R3_S3.txt\n",
      "['ACCE' 'AHRS' 'GNSS' 'GYRO' 'LIGH' 'MAGN' 'POSI' 'PRES' 'PROX' 'SOUN'\n",
      " 'WIFI']\n"
     ]
    },
    {
     "name": "stderr",
     "output_type": "stream",
     "text": [
      "/usr/local/lib/python3.4/dist-packages/IPython/core/interactiveshell.py:2723: DtypeWarning: Columns (3,4) have mixed types. Specify dtype option on import or set low_memory=False.\n",
      "  interactivity=interactivity, compiler=compiler, result=result)\n"
     ]
    }
   ],
   "source": [
    "# import files into dataframe\n",
    "import numpy as np\n",
    "import pandas as pd\n",
    "\n",
    "track= []\n",
    "for building in files_names:\n",
    "    track.append([])\n",
    "    for track_name in building:\n",
    "        print(track_name)\n",
    "        track[-1].append(pd.read_csv(track_name, sep=';', engine='c', names=range(11)))\n",
    "        print(np.unique(track[-1][-1][0]))"
   ]
  },
  {
   "cell_type": "code",
   "execution_count": 17,
   "metadata": {
    "collapsed": false
   },
   "outputs": [
    {
     "name": "stdout",
     "output_type": "stream",
     "text": [
      "          Time  index          Lat       Lon  FloorID  BuildingID  \\\n",
      "8512    30.341    1.0  40.31347091  -3.48315      0.0        10.0   \n",
      "13709   48.878    2.0  40.31332032  -3.48312      0.0        10.0   \n",
      "22475   80.175    3.0  40.31328135  -3.48342      0.0        10.0   \n",
      "27694   98.724    4.0  40.31331275  -3.48342      0.0        10.0   \n",
      "38394  136.709    5.0  40.31333944  -3.48335      0.0        10.0   \n",
      "\n",
      "       ind_begin_time  ind_end_time  \n",
      "8512           0.0000       39.6095  \n",
      "13709         39.6095       64.5265  \n",
      "22475         64.5265       89.4495  \n",
      "27694         89.4495      117.7165  \n",
      "38394        117.7165      142.1475  \n"
     ]
    },
    {
     "name": "stderr",
     "output_type": "stream",
     "text": [
      "/usr/local/lib/python3.4/dist-packages/pandas/core/indexing.py:128: SettingWithCopyWarning: \n",
      "A value is trying to be set on a copy of a slice from a DataFrame\n",
      "\n",
      "See the caveats in the documentation: http://pandas.pydata.org/pandas-docs/stable/indexing.html#indexing-view-versus-copy\n",
      "  self._setitem_with_indexer(indexer, value)\n"
     ]
    }
   ],
   "source": [
    "# Find time limits per POSI id\n",
    "def posi_time_limits(pos_array):\n",
    "    # create start and end index time array\n",
    "    pos_array['ind_begin_time'] = np.zeros((pos_array.shape[0]))\n",
    "    pos_array['ind_end_time'] = np.zeros((pos_array.shape[0]))\n",
    "    pos_array['ind_end_time'].iloc[-1] = 99999\n",
    "\n",
    "    for i in range(1, pos_array.shape[0]):\n",
    "        cur_split = (float(pos_array['Time'].iloc[i]) + float(pos_array['Time'].iloc[i-1])) / 2\n",
    "        pos_array['ind_begin_time'].iat[i] = cur_split       \n",
    "        pos_array['ind_end_time'].iat[i-1] = cur_split       \n",
    "    return pos_array\n",
    "\n",
    "pos = []\n",
    "for i in range(len(track)):\n",
    "    pos.append([])\n",
    "    for j in range(len(track[i])):\n",
    "        pos[i].append(track[i][j][[1, 2, 3, 4, 5, 6, 7]].iloc[track[i][j][0].values == 'POSI'])\n",
    "        pos[i][j] = pos[i][j].dropna(axis=1)\n",
    "        pos[i][j].columns = ['Time', 'index', 'Lat', 'Lon', 'FloorID', 'BuildingID']\n",
    "        pos[i][j] = posi_time_limits(pos[i][j])\n",
    "print(pos[0][0].head())"
   ]
  },
  {
   "cell_type": "code",
   "execution_count": 18,
   "metadata": {
    "collapsed": false
   },
   "outputs": [
    {
     "name": "stdout",
     "output_type": "stream",
     "text": [
      "      0      1       2         3        4         5        6        7  \\\n",
      "0  GYRO  0.018  89.931   0.58521  0.41692  -0.74526  3.00000      NaN   \n",
      "1  AHRS  0.019  89.931   36.8048   5.5949 -32.75710  0.31558 -0.04448   \n",
      "2  LIGH  0.020  89.940    2124.0        0       NaN      NaN      NaN   \n",
      "3  ACCE  0.020  89.941  -1.38864  6.10043   7.44118  3.00000      NaN   \n",
      "4  GYRO  0.031  89.951  -0.48686  0.38546   0.01344  3.00000      NaN   \n",
      "\n",
      "         8     9  10  POSI_floor  POSI_building  \n",
      "0      NaN   NaN NaN         0.0           30.0  \n",
      "1 -0.25246 -43.0 NaN         0.0           30.0  \n",
      "2      NaN   NaN NaN         0.0           30.0  \n",
      "3      NaN   NaN NaN         0.0           30.0  \n",
      "4      NaN   NaN NaN         0.0           30.0  \n"
     ]
    },
    {
     "name": "stderr",
     "output_type": "stream",
     "text": [
      "/usr/local/lib/python3.4/dist-packages/pandas/core/indexing.py:128: SettingWithCopyWarning: \n",
      "A value is trying to be set on a copy of a slice from a DataFrame\n",
      "\n",
      "See the caveats in the documentation: http://pandas.pydata.org/pandas-docs/stable/indexing.html#indexing-view-versus-copy\n",
      "  self._setitem_with_indexer(indexer, value)\n"
     ]
    }
   ],
   "source": [
    "# associate signals with POSI ids. Spliting at middle of the time between POSI measurements\n",
    "for i in range(len(track)):\n",
    "    for j in range(len(track[i])):\n",
    "        track[i][j]['POSI_floor'] = np.zeros((track[i][j].shape[0])) * np.nan\n",
    "        track[i][j]['POSI_building'] = np.zeros((track[i][j].shape[0])) * np.nan\n",
    "        for k in range(pos[i][j].shape[0]):\n",
    "            ind_begin_time = pos[i][j]['ind_begin_time'].iloc[k]\n",
    "            ind_end_time = pos[i][j]['ind_end_time'].iloc[k]\n",
    "    \n",
    "            ind = pos[i][j]['index'].iloc[k]\n",
    "            ind_floor = pos[i][j]['FloorID'].iloc[k]\n",
    "            ind_building = pos[i][j]['BuildingID'].iloc[k]\n",
    "            \n",
    "            index_limits = np.logical_and(track[i][j][1].values >= ind_begin_time, \n",
    "                                          track[i][j][1].values < ind_end_time)\n",
    "            \n",
    "            track[i][j]['POSI_floor'].iloc[index_limits] = ind_floor\n",
    "            track[i][j]['POSI_building'].iloc[index_limits] = ind_building\n",
    "\n",
    "print(track[i][j].head())"
   ]
  },
  {
   "cell_type": "code",
   "execution_count": 19,
   "metadata": {
    "collapsed": false
   },
   "outputs": [
    {
     "name": "stdout",
     "output_type": "stream",
     "text": [
      "     Time index          Lat       Lon FloorID BuildingID ind_begin_time  \\\n",
      "0       0     1  40.31347091  -3.48315       0         10              0   \n",
      "1  30.341     1  40.31347091  -3.48315       0         10              0   \n",
      "2  48.878     2  40.31332032  -3.48312       0         10        39.6095   \n",
      "3  80.175     3  40.31328135  -3.48342       0         10        64.5265   \n",
      "4  98.724     4  40.31331275  -3.48342       0         10        89.4495   \n",
      "\n",
      "  ind_end_time  \n",
      "0      39.6095  \n",
      "1      39.6095  \n",
      "2      64.5265  \n",
      "3      89.4495  \n",
      "4      117.716  \n"
     ]
    }
   ],
   "source": [
    "# Pad ground truth\n",
    "for i in range(len(track)):\n",
    "    for j in range(len(track[i])):\n",
    "        pos_pad_start = pos[i][j].iloc[0]\n",
    "        pos_pad_start.at['Time'] = 0\n",
    "        pos_pad_end = pos[i][j].iloc[-1]\n",
    "        pos_pad_end.at['Time'] = track[i][j][1].values[-1]\n",
    "        pos_array = np.vstack((pos_pad_start.values.reshape((1, pos[i][j].shape[1])), \n",
    "                                pos[i][j].values, \n",
    "                                pos_pad_end.values.reshape((1, pos[i][j].shape[1]))))\n",
    "        pos[i][j] = pd.DataFrame(pos_array, columns=pos[i][j].columns.values)\n",
    "print(pos[0][0].head())"
   ]
  },
  {
   "cell_type": "code",
   "execution_count": 20,
   "metadata": {
    "collapsed": false
   },
   "outputs": [
    {
     "name": "stdout",
     "output_type": "stream",
     "text": [
      "      0      1         2         3          4          5        6       7  \\\n",
      "0  ACCE  0.094  4292.788  -1.38864    4.62560    8.40844  3.00000     NaN   \n",
      "1  MAGN  0.095  4292.788  -5.64000  -39.72000  -19.56000  3.00000     NaN   \n",
      "2  GYRO  0.097  4292.792  -0.16432   -0.20861   -0.19609  3.00000     NaN   \n",
      "3  AHRS  0.098  4292.792   28.5264     9.6349 -161.85360  0.11909 -0.2296   \n",
      "4  LIGH  0.098  4292.792   14561.0          3        NaN      NaN     NaN   \n",
      "\n",
      "        8    9  10  POSI_floor  POSI_building  interp_lat  interp_lon  \n",
      "0     NaN  NaN NaN         0.0           10.0   40.313471    -3.48315  \n",
      "1     NaN  NaN NaN         0.0           10.0   40.313471    -3.48315  \n",
      "2     NaN  NaN NaN         0.0           10.0   40.313471    -3.48315  \n",
      "3 -0.9504  3.0 NaN         0.0           10.0   40.313471    -3.48315  \n",
      "4     NaN  NaN NaN         0.0           10.0   40.313471    -3.48315  \n"
     ]
    }
   ],
   "source": [
    "# Interpolate sensor time\n",
    "import scipy.interpolate as interpolate\n",
    "\n",
    "for i in range(len(track)):\n",
    "    for j in range(len(track[i])):\n",
    "        interp_ground_truth_lat = interpolate.interp1d(pos[i][j]['Time'].astype(float), pos[i][j]['Lat'])\n",
    "        track[i][j]['interp_lat'] = interp_ground_truth_lat(track[i][j][1])\n",
    "        interp_ground_truth_lon = interpolate.interp1d(pos[i][j]['Time'].astype(float), pos[i][j]['Lon'])\n",
    "        track[i][j]['interp_lon'] = interp_ground_truth_lon(track[i][j][1])\n",
    "print(track[0][0].head())"
   ]
  },
  {
   "cell_type": "code",
   "execution_count": 21,
   "metadata": {
    "collapsed": false
   },
   "outputs": [
    {
     "name": "stdout",
     "output_type": "stream",
     "text": [
      "     AppTime                MAC  rssi  POSI_floor  POSI_building  interp_lat  \\\n",
      "637    2.293  00:0b:86:27:36:c2 -82.0         0.0           10.0   40.313471   \n",
      "638    2.293  00:0b:86:27:32:e0 -66.0         0.0           10.0   40.313471   \n",
      "639    2.293  00:0b:86:27:32:e2 -66.0         0.0           10.0   40.313471   \n",
      "640    2.293  00:0b:86:27:32:e1 -68.0         0.0           10.0   40.313471   \n",
      "641    2.293  00:0b:86:27:36:c0 -82.0         0.0           10.0   40.313471   \n",
      "\n",
      "     interp_lon  \n",
      "637    -3.48315  \n",
      "638    -3.48315  \n",
      "639    -3.48315  \n",
      "640    -3.48315  \n",
      "641    -3.48315  \n"
     ]
    }
   ],
   "source": [
    "# create wifi data frames\n",
    "wifi = []\n",
    "for i in range(len(track)):\n",
    "    wifi.append([])\n",
    "    for j in range(len(track[i])):\n",
    "        wifi[-1].append(track[i][j][[1, 4, 5, 'POSI_floor', 'POSI_building', 'interp_lat',  \n",
    "                                    'interp_lon']].iloc[track[i][j][0].values == 'WIFI'])\n",
    "        wifi[-1][-1].columns = ['AppTime', 'MAC', 'rssi', 'POSI_floor', 'POSI_building', 'interp_lat', 'interp_lon']\n",
    "print(wifi[0][0].head())"
   ]
  },
  {
   "cell_type": "code",
   "execution_count": 40,
   "metadata": {
    "collapsed": true
   },
   "outputs": [],
   "source": [
    "# split to different tracks\n",
    "route_numbering = [[0, 0, 1, 1], [2, 2, 3, 3, 4, 4], [5, 6], [7, 7, 8, 8, 9]]\n",
    "test_route = 3"
   ]
  },
  {
   "cell_type": "markdown",
   "metadata": {},
   "source": [
    "#### total macs\n",
    "742\n",
    "#### building macs\n",
    "0 51 ,\n",
    "1 353 ,\n",
    "2 158 ,\n",
    "3 180 ,\n",
    "#### floor macs\n",
    "10 0 51 ,\n",
    "10 1 0 ,\n",
    "10 2 0 ,\n",
    "10 3 0 ,\n",
    "10 4 0 ,\n",
    "10 5 0 ,\n",
    "20 0 221 ,\n",
    "20 1 310 ,\n",
    "20 2 285 ,\n",
    "20 3 0 ,\n",
    "20 4 0 ,\n",
    "20 5 0 ,\n",
    "30 0 82 ,\n",
    "30 1 66 ,\n",
    "30 2 78 ,\n",
    "30 3 62 ,\n",
    "30 4 45 ,\n",
    "30 5 125 ,\n",
    "40 0 0 ,\n",
    "40 1 108 ,\n",
    "40 2 134 ,\n",
    "40 3 123 ,\n",
    "40 4 0 ,\n",
    "40 5 0 ,\n"
   ]
  },
  {
   "cell_type": "markdown",
   "metadata": {},
   "source": [
    "## Train test split should be in effect from here"
   ]
  },
  {
   "cell_type": "code",
   "execution_count": 43,
   "metadata": {
    "collapsed": false
   },
   "outputs": [
    {
     "name": "stdout",
     "output_type": "stream",
     "text": [
      "total macs\n",
      "689\n",
      "building macs\n",
      "0 51 ,\n",
      "1 300 ,\n",
      "2 158 ,\n",
      "3 180 ,\n",
      "floor macs\n",
      "10 0 51 ,\n",
      "10 1 0 ,\n",
      "10 2 0 ,\n",
      "10 3 0 ,\n",
      "10 4 0 ,\n",
      "10 5 0 ,\n",
      "20 0 154 ,\n",
      "20 1 244 ,\n",
      "20 2 242 ,\n",
      "20 3 0 ,\n",
      "20 4 0 ,\n",
      "20 5 0 ,\n",
      "30 0 82 ,\n",
      "30 1 66 ,\n",
      "30 2 78 ,\n",
      "30 3 62 ,\n",
      "30 4 45 ,\n",
      "30 5 125 ,\n",
      "40 0 0 ,\n",
      "40 1 108 ,\n",
      "40 2 134 ,\n",
      "40 3 123 ,\n",
      "40 4 0 ,\n",
      "40 5 0 ,\n"
     ]
    }
   ],
   "source": [
    "# create list of mac addresses for all\n",
    "total_macs = []\n",
    "print('total macs')\n",
    "for i in range(len(wifi)):\n",
    "    for j in range(len(wifi[i])):\n",
    "        if route_numbering[i][j] != test_route:\n",
    "            track_mac_array = wifi[i][j]['MAC'].values\n",
    "            for mac_add in track_mac_array:\n",
    "                if not mac_add in total_macs:\n",
    "                    total_macs.append(mac_add)\n",
    "print(len(total_macs))\n",
    "\n",
    "# create list of mac addresses for each building\n",
    "building_macs = []\n",
    "print('building macs')\n",
    "for i in range(len(wifi)):\n",
    "    building_macs.append([])\n",
    "    for j in range(len(wifi[i])):\n",
    "        if route_numbering[i][j] != test_route:\n",
    "            track_mac_array = wifi[i][j]['MAC'].values\n",
    "            for mac_add in track_mac_array:\n",
    "                if not mac_add in building_macs[i]:\n",
    "                    building_macs[i].append(mac_add)\n",
    "    print(i, len(building_macs[i]), ',')\n",
    "\n",
    "# create list of mac addresses for each building for each floor\n",
    "floor_macs = {10: [[], [], [], [], [], []], 20: [[], [], [], [], [], []], \n",
    "              30: [[], [], [], [], [], []], 40: [[], [], [], [], [], []]}\n",
    "for i in range(len(wifi)):\n",
    "    for j in range(len(wifi[i])):\n",
    "        track_mac_array = wifi[i][j]\n",
    "        if route_numbering[i][j] != test_route:\n",
    "            for k in range(track_mac_array.shape[0]):\n",
    "                mac_line = track_mac_array.iloc[k]\n",
    "                mac = mac_line['MAC']\n",
    "                build = int(mac_line['POSI_building'])\n",
    "                floor = int(mac_line['POSI_floor'])\n",
    "                if not mac in floor_macs[build][floor]:\n",
    "                    floor_macs[build][floor].append(mac)\n",
    "\n",
    "print('floor macs')\n",
    "for build in sorted(floor_macs):\n",
    "    for j in range(len(floor_macs[build])):\n",
    "        print(build, j, len(floor_macs[build][j]), ',')"
   ]
  },
  {
   "cell_type": "code",
   "execution_count": 35,
   "metadata": {
    "collapsed": false
   },
   "outputs": [
    {
     "name": "stdout",
     "output_type": "stream",
     "text": [
      "0 0 232\n",
      "0 1 210\n",
      "0 2 222\n",
      "0 3 221\n",
      "1 0 150\n",
      "1 1 276\n",
      "1 2 188\n",
      "1 3 297\n",
      "1 4 73\n",
      "1 5 127\n",
      "2 0 274\n",
      "2 1 138\n",
      "3 0 131\n",
      "3 1 114\n",
      "3 2 98\n",
      "3 3 92\n",
      "3 4 128\n"
     ]
    }
   ],
   "source": [
    "def dummy_wifi(wifi_df, wifi_list)\n",
    "\n",
    "# make WiFi data into global dummy variable\n",
    "wifi_dummy = []\n",
    "for i in range(len(wifi)):\n",
    "    wifi_dummy.append([])\n",
    "    for j in range(len(wifi[i])):\n",
    "        wifi_samples_cur = np.unique(wifi[i][j]['AppTime'].values)\n",
    "        wifi_dummy_cur = np.ones((wifi_samples_cur.shape[0], len(building_macs[i]))) * -200\n",
    "        wifi_dummy_cur = pd.DataFrame(wifi_dummy_cur, columns=building_macs[i], index=wifi_samples_cur)\n",
    "        print(i, j, wifi_samples_cur.shape[0])\n",
    "        for k, sample_time in enumerate(wifi_samples_cur):\n",
    "            wifi_cur = wifi[i][j].iloc[wifi[i][j]['AppTime'].values == sample_time]\n",
    "            for l in range(wifi_cur.shape[0]):\n",
    "                wifi_dummy_cur[wifi_cur['MAC'].iat[l]].iat[k] = wifi_cur['rssi'].iat[l]\n",
    "        wifi_dummy[i].append(wifi_dummy_cur)\n",
    "# print(wifi_dummy[0][0].head())"
   ]
  },
  {
   "cell_type": "code",
   "execution_count": 36,
   "metadata": {
    "collapsed": false
   },
   "outputs": [],
   "source": [
    "# Normalize wifi and cut noise\n",
    "noise_level = -50\n",
    "for i in range(len(wifi_dummy)):\n",
    "    for j in range(len(wifi_dummy[i])):\n",
    "        max_per_line = np.amax(wifi_dummy[i][j].values, axis=1)\n",
    "        wifi_dummy[i][j].iloc[:, :] = wifi_dummy[i][j].values - max_per_line.reshape((max_per_line.shape[0], 1))\n",
    "        noise_not = (wifi_dummy[i][j].values >= noise_level) * 1\n",
    "        wifi_dummy[i][j].iloc[:, :] = noise_not * wifi_dummy[i][j].values + (1- noise_not) * noise_level\n",
    "# print(wifi_dummy[0][0].head())"
   ]
  },
  {
   "cell_type": "code",
   "execution_count": null,
   "metadata": {
    "collapsed": true
   },
   "outputs": [],
   "source": []
  }
 ],
 "metadata": {
  "kernelspec": {
   "display_name": "Python 3",
   "language": "python",
   "name": "python3"
  },
  "language_info": {
   "codemirror_mode": {
    "name": "ipython",
    "version": 3
   },
   "file_extension": ".py",
   "mimetype": "text/x-python",
   "name": "python",
   "nbconvert_exporter": "python",
   "pygments_lexer": "ipython3",
   "version": "3.4.3"
  }
 },
 "nbformat": 4,
 "nbformat_minor": 0
}
