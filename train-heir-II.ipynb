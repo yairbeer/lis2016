{
 "cells": [
  {
   "cell_type": "code",
   "execution_count": 1,
   "metadata": {
    "collapsed": false
   },
   "outputs": [
    {
     "name": "stdout",
     "output_type": "stream",
     "text": [
      "[['train/CAR/logfile_CAR_R1_S3.txt', 'train/CAR/logfile_CAR_R1_S3mini.txt', 'train/CAR/logfile_CAR_R2_S3.txt', 'train/CAR/logfile_CAR_R2_S4.txt'], ['train/UAH/logfile_UAH_R1_S3.txt', 'train/UAH/logfile_UAH_R1_S4.txt', 'train/UAH/logfile_UAH_R2_S3.txt', 'train/UAH/logfile_UAH_R2_S4.txt', 'train/UAH/logfile_UAH_R4_S3.txt', 'train/UAH/logfile_UAH_R4_S4.txt'], ['train/UJITI/logfile_UJITI_R1_NEXUS5.txt', 'train/UJITI/logfile_UJITI_R2_NEXUS5.txt'], ['train/UJIUB/logfile_UJIUB_R1n_S3.txt', 'train/UJIUB/logfile_UJIUB_R1r_S3.txt', 'train/UJIUB/logfile_UJIUB_R2n_S3.txt', 'train/UJIUB/logfile_UJIUB_R2r_S3.txt', 'train/UJIUB/logfile_UJIUB_R3_S3.txt']]\n",
      "There are 17 files\n"
     ]
    }
   ],
   "source": [
    "\"\"\"\n",
    "Only for the 1st three buildings\n",
    "\"\"\"\n",
    "\n",
    "# get train files\n",
    "import glob\n",
    "\n",
    "train_folders = ['CAR', 'UAH', 'UJITI', 'UJIUB']\n",
    "\n",
    "files_names = []\n",
    "n_files = 0\n",
    "for building in train_folders:\n",
    "    cur_file_names = glob.glob('train/' + building + '/log*')\n",
    "    files_names.append(sorted(cur_file_names))\n",
    "    n_files += len(cur_file_names)\n",
    "\n",
    "print(files_names)\n",
    "print('There are %d files' % n_files)"
   ]
  },
  {
   "cell_type": "code",
   "execution_count": 2,
   "metadata": {
    "collapsed": false
   },
   "outputs": [
    {
     "name": "stdout",
     "output_type": "stream",
     "text": [
      "train/CAR/logfile_CAR_R1_S3.txt\n",
      "['ACCE' 'AHRS' 'GNSS' 'GYRO' 'LIGH' 'MAGN' 'POSI' 'PRES' 'SOUN' 'WIFI']\n",
      "train/CAR/logfile_CAR_R1_S3mini.txt\n",
      "['ACCE' 'AHRS' 'GNSS' 'GYRO' 'MAGN' 'POSI' 'SOUN' 'WIFI']\n",
      "train/CAR/logfile_CAR_R2_S3.txt\n",
      "['ACCE' 'AHRS' 'GNSS' 'GYRO' 'LIGH' 'MAGN' 'POSI' 'PRES' 'PROX' 'SOUN'\n",
      " 'WIFI']\n",
      "train/CAR/logfile_CAR_R2_S4.txt\n",
      "['ACCE' 'AHRS' 'GNSS' 'GYRO' 'HUMI' 'LIGH' 'MAGN' 'POSI' 'PRES' 'PROX'\n",
      " 'SOUN' 'TEMP' 'WIFI']\n",
      "train/UAH/logfile_UAH_R1_S3.txt\n",
      "['ACCE' 'AHRS' 'GNSS' 'GYRO' 'LIGH' 'MAGN' 'POSI' 'PRES' 'SOUN' 'WIFI']\n",
      "train/UAH/logfile_UAH_R1_S4.txt\n",
      "['ACCE' 'AHRS' 'GNSS' 'GYRO' 'HUMI' 'LIGH' 'MAGN' 'POSI' 'PRES' 'SOUN'\n",
      " 'TEMP' 'WIFI']\n",
      "train/UAH/logfile_UAH_R2_S3.txt\n",
      "['ACCE' 'AHRS' 'GNSS' 'GYRO' 'LIGH' 'MAGN' 'POSI' 'PRES' 'SOUN' 'WIFI']\n",
      "train/UAH/logfile_UAH_R2_S4.txt\n",
      "['ACCE' 'AHRS' 'GNSS' 'GYRO' 'HUMI' 'LIGH' 'MAGN' 'POSI' 'PRES' 'SOUN'\n",
      " 'TEMP' 'WIFI']\n",
      "train/UAH/logfile_UAH_R4_S3.txt\n",
      "['ACCE' 'AHRS' 'GNSS' 'GYRO' 'LIGH' 'MAGN' 'POSI' 'PRES' 'SOUN' 'WIFI']\n",
      "train/UAH/logfile_UAH_R4_S4.txt\n",
      "['ACCE' 'AHRS' 'GNSS' 'GYRO' 'HUMI' 'LIGH' 'MAGN' 'POSI' 'PRES' 'SOUN'\n",
      " 'TEMP' 'WIFI']\n",
      "train/UJITI/logfile_UJITI_R1_NEXUS5.txt\n",
      "['ACCE' 'AHRS' 'GNSS' 'GYRO' 'LIGH' 'MAGN' 'POSI' 'PRES' 'PROX' 'SOUN'\n",
      " 'WIFI']\n",
      "train/UJITI/logfile_UJITI_R2_NEXUS5.txt\n",
      "['ACCE' 'AHRS' 'GYRO' 'LIGH' 'MAGN' 'POSI' 'PRES' 'SOUN' 'WIFI']\n",
      "train/UJIUB/logfile_UJIUB_R1n_S3.txt\n",
      "['ACCE' 'AHRS' 'GNSS' 'GYRO' 'LIGH' 'MAGN' 'POSI' 'PRES' 'PROX' 'SOUN'\n",
      " 'WIFI']\n",
      "train/UJIUB/logfile_UJIUB_R1r_S3.txt\n",
      "['ACCE' 'AHRS' 'GNSS' 'GYRO' 'LIGH' 'MAGN' 'POSI' 'PRES' 'SOUN' 'WIFI']\n",
      "train/UJIUB/logfile_UJIUB_R2n_S3.txt\n",
      "['ACCE' 'AHRS' 'GNSS' 'GYRO' 'LIGH' 'MAGN' 'POSI' 'PRES' 'PROX' 'SOUN'\n",
      " 'WIFI']\n",
      "train/UJIUB/logfile_UJIUB_R2r_S3.txt\n",
      "['ACCE' 'AHRS' 'GNSS' 'GYRO' 'LIGH' 'MAGN' 'POSI' 'PRES' 'SOUN' 'WIFI']\n",
      "train/UJIUB/logfile_UJIUB_R3_S3.txt\n",
      "['ACCE' 'AHRS' 'GNSS' 'GYRO' 'LIGH' 'MAGN' 'POSI' 'PRES' 'PROX' 'SOUN'\n",
      " 'WIFI']\n"
     ]
    },
    {
     "name": "stderr",
     "output_type": "stream",
     "text": [
      "/usr/local/lib/python3.4/dist-packages/IPython/core/interactiveshell.py:2723: DtypeWarning: Columns (3,4) have mixed types. Specify dtype option on import or set low_memory=False.\n",
      "  interactivity=interactivity, compiler=compiler, result=result)\n"
     ]
    }
   ],
   "source": [
    "# import files into dataframe\n",
    "import numpy as np\n",
    "import pandas as pd\n",
    "\n",
    "track= []\n",
    "for building in files_names:\n",
    "    track.append([])\n",
    "    for track_name in building:\n",
    "        print(track_name)\n",
    "        track[-1].append(pd.read_csv(track_name, sep=';', engine='c', names=range(11)))\n",
    "        print(np.unique(track[-1][-1][0]))"
   ]
  },
  {
   "cell_type": "code",
   "execution_count": 3,
   "metadata": {
    "collapsed": false
   },
   "outputs": [
    {
     "name": "stdout",
     "output_type": "stream",
     "text": [
      "train/UAH/logfile_UAH_R2_S3.txt\n",
      "64\n",
      "[ 0.  0.  0.  0.  0.  0.  0.  0.  0.  0.  0.  0.  0.  0.  0.  0.  0.  0.\n",
      "  0.  0.  0.  0.  0.  0.  0.  0.  0.  0.  0.  0.  0.  0.  3.  3.  3.  3.\n",
      "  3.  3.  3.  3.  3.  3.  3.  3.  3.  3.  3.  3.  3.  3.  3.  3.  3.  3.\n",
      "  3.  3.  2.  1.  0.  0.  0.  0.  0.  0.]\n",
      "         Time  index          Lat       Lon  FloorID  BuildingID  \\\n",
      "4142    8.618    1.0  40.51278407  -3.34849      0.0        20.0   \n",
      "16724  34.656    2.0  40.51296307  -3.34844      0.0        20.0   \n",
      "24993  51.802    3.0  40.51296539  -3.34859      0.0        20.0   \n",
      "32452  67.263    4.0  40.51302711  -3.34866      0.0        20.0   \n",
      "39755  82.372    5.0  40.51307726  -3.34879      0.0        20.0   \n",
      "\n",
      "       ind_begin_time  ind_end_time  \n",
      "4142           0.0000       21.6370  \n",
      "16724         21.6370       43.2290  \n",
      "24993         43.2290       59.5325  \n",
      "32452         59.5325       74.8175  \n",
      "39755         74.8175       92.8480  \n"
     ]
    },
    {
     "name": "stderr",
     "output_type": "stream",
     "text": [
      "/usr/local/lib/python3.4/dist-packages/pandas/core/indexing.py:128: SettingWithCopyWarning: \n",
      "A value is trying to be set on a copy of a slice from a DataFrame\n",
      "\n",
      "See the caveats in the documentation: http://pandas.pydata.org/pandas-docs/stable/indexing.html#indexing-view-versus-copy\n",
      "  self._setitem_with_indexer(indexer, value)\n"
     ]
    }
   ],
   "source": [
    "# Find time limits per POSI id\n",
    "def posi_time_limits(pos_array):\n",
    "    # create start and end index time array\n",
    "    pos_array['ind_begin_time'] = np.zeros((pos_array.shape[0]))\n",
    "    pos_array['ind_end_time'] = np.zeros((pos_array.shape[0]))\n",
    "    pos_array['ind_end_time'].iloc[-1] = 99999\n",
    "\n",
    "    for i in range(1, pos_array.shape[0]):\n",
    "        cur_split = (float(pos_array['Time'].iloc[i]) + float(pos_array['Time'].iloc[i-1])) / 2\n",
    "        pos_array['ind_begin_time'].iat[i] = cur_split       \n",
    "        pos_array['ind_end_time'].iat[i-1] = cur_split       \n",
    "    return pos_array\n",
    "\n",
    "pos = []\n",
    "for i in range(len(track)):\n",
    "    pos.append([])\n",
    "    for j in range(len(track[i])):\n",
    "        pos[i].append(track[i][j][[1, 2, 3, 4, 5, 6, 7]].iloc[track[i][j][0].values == 'POSI'])\n",
    "        pos[i][j] = pos[i][j].dropna(axis=1)\n",
    "        pos[i][j].columns = ['Time', 'index', 'Lat', 'Lon', 'FloorID', 'BuildingID']\n",
    "        pos[i][j] = posi_time_limits(pos[i][j])\n",
    "\n",
    "i = 1\n",
    "j = 2\n",
    "print(files_names[i][j])\n",
    "print(pos[i][j].shape[0])\n",
    "print(pos[i][j]['FloorID'].values)\n",
    "print(pos[i][j].head())"
   ]
  },
  {
   "cell_type": "code",
   "execution_count": 4,
   "metadata": {
    "collapsed": false
   },
   "outputs": [
    {
     "name": "stdout",
     "output_type": "stream",
     "text": [
      "      0      1       2         3        4         5        6        7  \\\n",
      "0  GYRO  0.018  89.931   0.58521  0.41692  -0.74526  3.00000      NaN   \n",
      "1  AHRS  0.019  89.931   36.8048   5.5949 -32.75710  0.31558 -0.04448   \n",
      "2  LIGH  0.020  89.940    2124.0        0       NaN      NaN      NaN   \n",
      "3  ACCE  0.020  89.941  -1.38864  6.10043   7.44118  3.00000      NaN   \n",
      "4  GYRO  0.031  89.951  -0.48686  0.38546   0.01344  3.00000      NaN   \n",
      "\n",
      "         8     9  10  POSI_floor  POSI_building  \n",
      "0      NaN   NaN NaN         0.0           30.0  \n",
      "1 -0.25246 -43.0 NaN         0.0           30.0  \n",
      "2      NaN   NaN NaN         0.0           30.0  \n",
      "3      NaN   NaN NaN         0.0           30.0  \n",
      "4      NaN   NaN NaN         0.0           30.0  \n"
     ]
    },
    {
     "name": "stderr",
     "output_type": "stream",
     "text": [
      "/usr/local/lib/python3.4/dist-packages/pandas/core/indexing.py:128: SettingWithCopyWarning: \n",
      "A value is trying to be set on a copy of a slice from a DataFrame\n",
      "\n",
      "See the caveats in the documentation: http://pandas.pydata.org/pandas-docs/stable/indexing.html#indexing-view-versus-copy\n",
      "  self._setitem_with_indexer(indexer, value)\n"
     ]
    }
   ],
   "source": [
    "# associate signals with POSI ids. Spliting at middle of the time between POSI measurements\n",
    "for i in range(len(track)):\n",
    "    for j in range(len(track[i])):\n",
    "        track[i][j]['POSI_floor'] = np.zeros((track[i][j].shape[0])) * np.nan\n",
    "        track[i][j]['POSI_building'] = np.zeros((track[i][j].shape[0])) * np.nan\n",
    "        for k in range(pos[i][j].shape[0]):\n",
    "            ind_begin_time = pos[i][j]['ind_begin_time'].iloc[k]\n",
    "            ind_end_time = pos[i][j]['ind_end_time'].iloc[k]\n",
    "    \n",
    "            ind = pos[i][j]['index'].iloc[k]\n",
    "            ind_floor = pos[i][j]['FloorID'].iloc[k]\n",
    "            ind_building = pos[i][j]['BuildingID'].iloc[k]\n",
    "            \n",
    "            index_limits = np.logical_and(track[i][j][1].values >= ind_begin_time, \n",
    "                                          track[i][j][1].values < ind_end_time)\n",
    "            \n",
    "            track[i][j]['POSI_floor'].iloc[index_limits] = ind_floor\n",
    "            track[i][j]['POSI_building'].iloc[index_limits] = ind_building\n",
    "\n",
    "print(track[i][j].head())"
   ]
  },
  {
   "cell_type": "code",
   "execution_count": 5,
   "metadata": {
    "collapsed": false
   },
   "outputs": [],
   "source": [
    "# Pad ground truth\n",
    "for i in range(len(track)):\n",
    "    for j in range(len(track[i])):\n",
    "        pos_pad_start = pos[i][j].iloc[0]\n",
    "        pos_pad_start.at['Time'] = 0\n",
    "        pos_pad_end = pos[i][j].iloc[-1]\n",
    "        pos_pad_end.at['Time'] = track[i][j][1].values[-1]\n",
    "        pos_array = np.vstack((pos_pad_start.values.reshape((1, pos[i][j].shape[1])), \n",
    "                                pos[i][j].values, \n",
    "                                pos_pad_end.values.reshape((1, pos[i][j].shape[1]))))\n",
    "        pos[i][j] = pd.DataFrame(pos_array, columns=pos[i][j].columns.values)"
   ]
  },
  {
   "cell_type": "code",
   "execution_count": 6,
   "metadata": {
    "collapsed": false
   },
   "outputs": [
    {
     "name": "stdout",
     "output_type": "stream",
     "text": [
      "      0      1         2         3          4          5        6       7  \\\n",
      "0  ACCE  0.094  4292.788  -1.38864    4.62560    8.40844  3.00000     NaN   \n",
      "1  MAGN  0.095  4292.788  -5.64000  -39.72000  -19.56000  3.00000     NaN   \n",
      "2  GYRO  0.097  4292.792  -0.16432   -0.20861   -0.19609  3.00000     NaN   \n",
      "3  AHRS  0.098  4292.792   28.5264     9.6349 -161.85360  0.11909 -0.2296   \n",
      "4  LIGH  0.098  4292.792   14561.0          3        NaN      NaN     NaN   \n",
      "\n",
      "        8    9  10  POSI_floor  POSI_building  interp_lat  interp_lon  \n",
      "0     NaN  NaN NaN         0.0           10.0   40.313471    -3.48315  \n",
      "1     NaN  NaN NaN         0.0           10.0   40.313471    -3.48315  \n",
      "2     NaN  NaN NaN         0.0           10.0   40.313471    -3.48315  \n",
      "3 -0.9504  3.0 NaN         0.0           10.0   40.313471    -3.48315  \n",
      "4     NaN  NaN NaN         0.0           10.0   40.313471    -3.48315  \n"
     ]
    }
   ],
   "source": [
    "# Interpolate sensor time\n",
    "import scipy.interpolate as interpolate\n",
    "\n",
    "for i in range(len(track)):\n",
    "    for j in range(len(track[i])):\n",
    "        interp_ground_truth_lat = interpolate.interp1d(pos[i][j]['Time'].astype(float), pos[i][j]['Lat'])\n",
    "        track[i][j]['interp_lat'] = interp_ground_truth_lat(track[i][j][1])\n",
    "        interp_ground_truth_lon = interpolate.interp1d(pos[i][j]['Time'].astype(float), pos[i][j]['Lon'])\n",
    "        track[i][j]['interp_lon'] = interp_ground_truth_lon(track[i][j][1])\n",
    "print(track[0][0].head())"
   ]
  },
  {
   "cell_type": "code",
   "execution_count": 7,
   "metadata": {
    "collapsed": false
   },
   "outputs": [
    {
     "name": "stdout",
     "output_type": "stream",
     "text": [
      "     AppTime                MAC  rssi  POSI_floor  POSI_building  interp_lat  \\\n",
      "637    2.293  00:0b:86:27:36:c2 -82.0         0.0           10.0   40.313471   \n",
      "638    2.293  00:0b:86:27:32:e0 -66.0         0.0           10.0   40.313471   \n",
      "639    2.293  00:0b:86:27:32:e2 -66.0         0.0           10.0   40.313471   \n",
      "640    2.293  00:0b:86:27:32:e1 -68.0         0.0           10.0   40.313471   \n",
      "641    2.293  00:0b:86:27:36:c0 -82.0         0.0           10.0   40.313471   \n",
      "\n",
      "     interp_lon  \n",
      "637    -3.48315  \n",
      "638    -3.48315  \n",
      "639    -3.48315  \n",
      "640    -3.48315  \n",
      "641    -3.48315  \n"
     ]
    }
   ],
   "source": [
    "# create wifi data frames\n",
    "wifi = []\n",
    "for i in range(len(track)):\n",
    "    wifi.append([])\n",
    "    for j in range(len(track[i])):\n",
    "        wifi[-1].append(track[i][j][[1, 4, 5, 'POSI_floor', 'POSI_building', 'interp_lat',  \n",
    "                                    'interp_lon']].iloc[track[i][j][0].values == 'WIFI'])\n",
    "        wifi[-1][-1].columns = ['AppTime', 'MAC', 'rssi', 'POSI_floor', 'POSI_building', 'interp_lat', 'interp_lon']\n",
    "print(wifi[0][0].head())"
   ]
  },
  {
   "cell_type": "code",
   "execution_count": 23,
   "metadata": {
    "collapsed": true
   },
   "outputs": [],
   "source": [
    "# split to different tracks\n",
    "route_numbering = [[0, 0, 1, 1], [2, 2, 3, 3, 4, 4], [5, 6], [7, 7, 8, 8, 9]]\n",
    "test_route = 1"
   ]
  },
  {
   "cell_type": "markdown",
   "metadata": {},
   "source": [
    "#### total macs\n",
    "742\n",
    "#### building macs\n",
    "0 51 ,\n",
    "1 353 ,\n",
    "2 158 ,\n",
    "3 180 ,\n",
    "#### floor macs\n",
    "10 0 51 ,\n",
    "10 1 0 ,\n",
    "10 2 0 ,\n",
    "10 3 0 ,\n",
    "10 4 0 ,\n",
    "10 5 0 ,\n",
    "20 0 221 ,\n",
    "20 1 310 ,\n",
    "20 2 285 ,\n",
    "20 3 0 ,\n",
    "20 4 0 ,\n",
    "20 5 0 ,\n",
    "30 0 82 ,\n",
    "30 1 66 ,\n",
    "30 2 78 ,\n",
    "30 3 62 ,\n",
    "30 4 45 ,\n",
    "30 5 125 ,\n",
    "40 0 0 ,\n",
    "40 1 108 ,\n",
    "40 2 134 ,\n",
    "40 3 123 ,\n",
    "40 4 0 ,\n",
    "40 5 0 ,\n"
   ]
  },
  {
   "cell_type": "markdown",
   "metadata": {},
   "source": [
    "## Train test split should be in effect from here"
   ]
  },
  {
   "cell_type": "code",
   "execution_count": 24,
   "metadata": {
    "collapsed": false
   },
   "outputs": [
    {
     "name": "stdout",
     "output_type": "stream",
     "text": [
      "total macs\n",
      "734\n",
      "building macs\n",
      "10 43 ,\n",
      "20 353 ,\n",
      "30 180 ,\n",
      "40 158 ,\n",
      "floor macs\n",
      "10 0 43 ,\n",
      "10 1 0 ,\n",
      "10 2 0 ,\n",
      "10 3 0 ,\n",
      "10 4 0 ,\n",
      "10 5 0 ,\n",
      "20 0 338 ,\n",
      "20 1 253 ,\n",
      "20 2 244 ,\n",
      "20 3 176 ,\n",
      "20 4 0 ,\n",
      "20 5 0 ,\n",
      "30 0 82 ,\n",
      "30 1 66 ,\n",
      "30 2 78 ,\n",
      "30 3 62 ,\n",
      "30 4 45 ,\n",
      "30 5 125 ,\n",
      "40 0 0 ,\n",
      "40 1 108 ,\n",
      "40 2 134 ,\n",
      "40 3 123 ,\n",
      "40 4 0 ,\n",
      "40 5 0 ,\n"
     ]
    }
   ],
   "source": [
    "# create list of mac addresses for all\n",
    "total_macs = []\n",
    "print('total macs')\n",
    "for i in range(len(wifi)):\n",
    "    for j in range(len(wifi[i])):\n",
    "        if route_numbering[i][j] != test_route:\n",
    "            track_mac_array = wifi[i][j]['MAC'].values\n",
    "            for mac_add in track_mac_array:\n",
    "                if not mac_add in total_macs:\n",
    "                    total_macs.append(mac_add)\n",
    "print(len(total_macs))\n",
    "\n",
    "# create list of mac addresses for each building\n",
    "building_macs = {10: [], 20: [], 30: [], 40: []}\n",
    "for i in range(len(wifi)):\n",
    "    for j in range(len(wifi[i])):\n",
    "        if route_numbering[i][j] != test_route:\n",
    "            track_mac_array = wifi[i][j]\n",
    "            for k in range(track_mac_array.shape[0]):\n",
    "                mac_line = track_mac_array.iloc[k]\n",
    "                mac = mac_line['MAC']\n",
    "                build = int(mac_line['POSI_building'])\n",
    "                if not mac in building_macs[build]:\n",
    "                    building_macs[build].append(mac)\n",
    "print('building macs')\n",
    "for build in sorted(building_macs):\n",
    "    print(build, len(building_macs[build]), ',')\n",
    "\n",
    "# create list of mac addresses for each building for each floor\n",
    "floor_macs = {10: [[], [], [], [], [], []], 20: [[], [], [], [], [], []], \n",
    "              30: [[], [], [], [], [], []], 40: [[], [], [], [], [], []]}\n",
    "for i in range(len(wifi)):\n",
    "    for j in range(len(wifi[i])):\n",
    "        if route_numbering[i][j] != test_route:\n",
    "            track_mac_array = wifi[i][j]\n",
    "            for k in range(track_mac_array.shape[0]):\n",
    "                mac_line = track_mac_array.iloc[k]\n",
    "                mac = mac_line['MAC']\n",
    "                build = int(mac_line['POSI_building'])\n",
    "                floor = int(mac_line['POSI_floor'])\n",
    "                if not mac in floor_macs[build][floor]:\n",
    "                    floor_macs[build][floor].append(mac)\n",
    "\n",
    "print('floor macs')\n",
    "for build in sorted(floor_macs):\n",
    "    for j in range(len(floor_macs[build])):\n",
    "        print(build, j, len(floor_macs[build][j]), ',')"
   ]
  },
  {
   "cell_type": "code",
   "execution_count": 25,
   "metadata": {
    "collapsed": false
   },
   "outputs": [
    {
     "name": "stdout",
     "output_type": "stream",
     "text": [
      "0 0\n",
      "0 1\n",
      "0 2\n",
      "0 3\n",
      "1 0\n",
      "1 1\n",
      "1 2\n",
      "1 3\n",
      "1 4\n",
      "1 5\n",
      "2 0\n",
      "2 1\n",
      "3 0\n",
      "3 1\n",
      "3 2\n",
      "3 3\n",
      "3 4\n",
      "        00:0b:86:27:36:c2  00:0b:86:27:32:e0  00:0b:86:27:32:e2  \\\n",
      "2.293               -16.0                0.0                0.0   \n",
      "8.276               -15.0                0.0                0.0   \n",
      "14.269              -20.0                0.0               -3.0   \n",
      "18.284              -19.0               -1.0               -2.0   \n",
      "24.253              -16.0                0.0                0.0   \n",
      "\n",
      "        00:0b:86:27:32:e1  00:0b:86:27:36:c0  00:0b:86:27:36:c1  \\\n",
      "2.293                -2.0              -16.0              -16.0   \n",
      "8.276                 0.0              -15.0              -18.0   \n",
      "14.269               -3.0              -20.0              -21.0   \n",
      "18.284                0.0              -18.0              -18.0   \n",
      "24.253                0.0              -17.0              -15.0   \n",
      "\n",
      "        00:0b:86:27:35:90  00:0b:86:27:35:92  00:0b:86:27:35:91  \\\n",
      "2.293               -18.0              -15.0              -20.0   \n",
      "8.276               -18.0              -18.0              -20.0   \n",
      "14.269              -17.0              -18.0              -18.0   \n",
      "18.284              -17.0              -21.0              -18.0   \n",
      "24.253              -23.0              -25.0              -17.0   \n",
      "\n",
      "        00:0b:86:27:35:82     ...      ff:ff:ff:ff:01:79  ff:ff:ff:ff:01:78  \\\n",
      "2.293               -30.0     ...                 -134.0             -134.0   \n",
      "8.276               -24.0     ...                 -131.0             -131.0   \n",
      "14.269              -29.0     ...                 -135.0             -135.0   \n",
      "18.284              -31.0     ...                 -136.0             -136.0   \n",
      "24.253              -30.0     ...                 -135.0             -135.0   \n",
      "\n",
      "        ff:ff:ff:ff:01:75  ff:ff:ff:ff:01:77  ff:ff:ff:ff:01:74  \\\n",
      "2.293              -134.0             -134.0             -134.0   \n",
      "8.276              -131.0             -131.0             -131.0   \n",
      "14.269             -135.0             -135.0             -135.0   \n",
      "18.284             -136.0             -136.0             -136.0   \n",
      "24.253             -135.0             -135.0             -135.0   \n",
      "\n",
      "        ff:ff:ff:ff:01:76  POSI_building  POSI_floor  interp_lat  interp_lon  \n",
      "2.293              -134.0           10.0         0.0   40.313471    -3.48315  \n",
      "8.276              -131.0           10.0         0.0   40.313471    -3.48315  \n",
      "14.269             -135.0           10.0         0.0   40.313471    -3.48315  \n",
      "18.284             -136.0           10.0         0.0   40.313471    -3.48315  \n",
      "24.253             -135.0           10.0         0.0   40.313471    -3.48315  \n",
      "\n",
      "[5 rows x 738 columns]\n"
     ]
    }
   ],
   "source": [
    "# Make WiFi data into global dummy variable\n",
    "def dummify_wifi(wifi_df, wifi_list):\n",
    "    wifi_samples = np.unique(wifi_df['AppTime'].values)\n",
    "    wifi_dummy = np.ones((wifi_samples.shape[0], len(wifi_list))) * -200\n",
    "    wifi_dummy = pd.DataFrame(wifi_dummy, columns=wifi_list, index=wifi_samples)\n",
    "    for i, sample_time in enumerate(wifi_samples):\n",
    "            wifi_cur = wifi_df.iloc[wifi_df['AppTime'].values == sample_time]\n",
    "            for j in range(wifi_cur.shape[0]):\n",
    "                if str(wifi_cur['MAC'].iat[j]) in wifi_list:\n",
    "                    wifi_dummy[wifi_cur['MAC'].iat[j]].iat[i] = wifi_cur['rssi'].iat[j]\n",
    "    return wifi_dummy\n",
    "\n",
    "# Normalize wifi and cut noise\n",
    "def normalize_wifi(wifi_dummy_df):\n",
    "    max_per_line = np.amax(wifi_dummy_df, axis=1)\n",
    "    wifi_dummy_df.iloc[:, :] = wifi_dummy_df.values - max_per_line.reshape((max_per_line.shape[0], 1))\n",
    "    return wifi_dummy_df\n",
    "\n",
    "def add_results_wifi(df, results_df):\n",
    "    df['POSI_building'] = np.ones((df.shape[0],))\n",
    "    df['POSI_floor'] = np.ones((df.shape[0],))\n",
    "    df['interp_lat'] = np.ones((df.shape[0],))\n",
    "    df['interp_lon'] = np.ones((df.shape[0],))\n",
    "    wifi_samples = df.index.values\n",
    "    for i, sample_time in enumerate(wifi_samples):\n",
    "        results_cur = results_df.iloc[results_df['AppTime'].values == sample_time]\n",
    "        for j in range(results_cur.shape[0]):\n",
    "            df['POSI_building'].iat[i] = results_cur['POSI_building'].iat[0]\n",
    "            df['POSI_floor'].iat[i] = results_cur['POSI_floor'].iat[0]\n",
    "            df['interp_lat'].iat[i] = results_cur['interp_lat'].iat[0]\n",
    "            df['interp_lon'].iat[i] = results_cur['interp_lon'].iat[0]\n",
    "    return df\n",
    "\n",
    "wifi_dummy_total = []\n",
    "for i in range(len(wifi)):\n",
    "    wifi_dummy_total.append([])\n",
    "    for j in range(len(wifi[i])):\n",
    "        print(i, j)\n",
    "        wifi_dummy_total[i].append(dummify_wifi(wifi[i][j], total_macs))\n",
    "        wifi_dummy_total[i][j] = normalize_wifi(wifi_dummy_total[i][j])\n",
    "        wifi_dummy_total[i][j] = add_results_wifi(wifi_dummy_total[i][j], wifi[i][j])\n",
    "print(wifi_dummy_total[0][0].head())"
   ]
  },
  {
   "cell_type": "markdown",
   "metadata": {},
   "source": [
    "## Building classification"
   ]
  },
  {
   "cell_type": "code",
   "execution_count": 26,
   "metadata": {
    "collapsed": false
   },
   "outputs": [
    {
     "name": "stdout",
     "output_type": "stream",
     "text": [
      "0 0\n",
      "0 1\n",
      "0 2\n",
      "0 3\n",
      "1 0\n",
      "1 1\n",
      "1 2\n",
      "1 3\n",
      "1 4\n",
      "1 5\n",
      "2 0\n",
      "2 1\n",
      "3 0\n",
      "3 1\n",
      "3 2\n",
      "3 3\n",
      "3 4\n",
      "         40    10   20   30  POSI_building  POSI_floor  interp_lat  interp_lon\n",
      "2.293   0.0  15.0  0.0  0.0           10.0         0.0   40.313471    -3.48315\n",
      "8.276   0.0  15.0  0.0  0.0           10.0         0.0   40.313471    -3.48315\n",
      "14.269  0.0  18.0  0.0  0.0           10.0         0.0   40.313471    -3.48315\n",
      "18.284  0.0  16.0  0.0  0.0           10.0         0.0   40.313471    -3.48315\n",
      "24.253  0.0  13.0  0.0  0.0           10.0         0.0   40.313471    -3.48315\n",
      "         40   10    20   30  POSI_building  POSI_floor  interp_lat  interp_lon\n",
      "2.742   0.0  0.0  34.0  0.0           20.0         0.0   40.513608    -3.34883\n",
      "6.822   0.0  0.0  30.0  0.0           20.0         0.0   40.513608    -3.34883\n",
      "10.801  0.0  0.0  29.0  0.0           20.0         0.0   40.513608    -3.34883\n",
      "14.814  0.0  0.0  30.0  0.0           20.0         0.0   40.513608    -3.34883\n",
      "18.787  0.0  0.0  32.0  0.0           20.0         0.0   40.513608    -3.34883\n",
      "          40   10   20   30  POSI_building  POSI_floor  interp_lat  interp_lon\n",
      "6.312   17.0  0.0  0.0  0.0           40.0         1.0   39.993390   -0.068266\n",
      "11.685  16.0  0.0  0.0  0.0           40.0         1.0   39.993373   -0.068342\n",
      "16.792  14.0  0.0  0.0  0.0           40.0         1.0   39.993356   -0.068420\n",
      "20.651  20.0  0.0  0.0  0.0           40.0         1.0   39.993362   -0.068467\n",
      "24.812  20.0  0.0  0.0  0.0           40.0         1.0   39.993376   -0.068516\n",
      "         40   10   20    30  POSI_building  POSI_floor  interp_lat  interp_lon\n",
      "3.610   0.0  0.0  0.0  22.0           30.0         0.0   39.993895   -0.073716\n",
      "7.627   0.0  0.0  0.0  25.0           30.0         0.0   39.993894   -0.073717\n",
      "11.636  0.0  0.0  0.0  20.0           30.0         0.0   39.993863   -0.073742\n",
      "15.611  0.0  0.0  0.0  20.0           30.0         0.0   39.993837   -0.073774\n",
      "19.600  0.0  0.0  0.0  19.0           30.0         0.0   39.993828   -0.073807\n"
     ]
    }
   ],
   "source": [
    "# make WiFi data into global dummy variable\n",
    "def dummify_wifi_building(wifi_df, wifi_building_list):\n",
    "    wifi_samples = np.unique(wifi_df['AppTime'].values)\n",
    "    wifi_dummy = np.zeros((wifi_samples.shape[0], len(wifi_building_list)))\n",
    "    wifi_dummy = pd.DataFrame(wifi_dummy, columns=list(wifi_building_list.keys()), index=wifi_samples)\n",
    "    for i, sample_time in enumerate(wifi_samples):\n",
    "            wifi_cur = wifi_df.iloc[wifi_df['AppTime'].values == sample_time]\n",
    "            for j in range(wifi_cur.shape[0]):\n",
    "                for k in wifi_building_list:\n",
    "                    if str(wifi_cur['MAC'].iat[j]) in wifi_building_list[k]:\n",
    "                        wifi_dummy[k].iat[i] += 1\n",
    "    return wifi_dummy\n",
    "\n",
    "wifi_dummy_building = []\n",
    "for i in range(len(wifi)):\n",
    "    wifi_dummy_building.append([])\n",
    "    for j in range(len(wifi[i])):\n",
    "        print(i, j)\n",
    "        wifi_dummy_building[i].append(dummify_wifi_building(wifi[i][j], building_macs))\n",
    "        wifi_dummy_building[i][j] = add_results_wifi(wifi_dummy_building[i][j], wifi[i][j])\n",
    "print(wifi_dummy_building[0][0].head())\n",
    "print(wifi_dummy_building[1][0].head())\n",
    "print(wifi_dummy_building[2][0].head())\n",
    "print(wifi_dummy_building[3][0].head())"
   ]
  },
  {
   "cell_type": "code",
   "execution_count": 27,
   "metadata": {
    "collapsed": false
   },
   "outputs": [
    {
     "data": {
      "text/plain": [
       "RandomForestClassifier(bootstrap=True, class_weight=None, criterion='gini',\n",
       "            max_depth=4, max_features=1, max_leaf_nodes=None,\n",
       "            min_samples_leaf=1, min_samples_split=2,\n",
       "            min_weight_fraction_leaf=0.0, n_estimators=100, n_jobs=1,\n",
       "            oob_score=False, random_state=2016, verbose=0,\n",
       "            warm_start=False)"
      ]
     },
     "execution_count": 27,
     "metadata": {},
     "output_type": "execute_result"
    }
   ],
   "source": [
    "# Train building on Random Forest using WiFi fingerprinting\n",
    "from sklearn.ensemble import RandomForestClassifier\n",
    "train_build = []\n",
    "for i in range(len(wifi_dummy_total)):\n",
    "    for j in range(len(wifi_dummy_total[i])):\n",
    "        if route_numbering[i][j] != test_route:\n",
    "            train_build.append(wifi_dummy_building[i][j])\n",
    "\n",
    "train_build = pd.concat(train_build, axis=0)\n",
    "train_build_results = train_build['POSI_building']\n",
    "train_build = train_build[[10, 20, 30, 40]]\n",
    "\n",
    "\n",
    "rfc_build = RandomForestClassifier(n_estimators=100, max_depth=4 ,max_features=1, random_state=2016)\n",
    "rfc_build.fit(train_build.values, train_build_results.values)"
   ]
  },
  {
   "cell_type": "code",
   "execution_count": 28,
   "metadata": {
    "collapsed": false
   },
   "outputs": [],
   "source": [
    "# Create test routes\n",
    "test_build = []\n",
    "test_wifi_build = []\n",
    "for i in range(len(wifi_dummy_building)):\n",
    "    for j in range(len(wifi_dummy_building[i])):\n",
    "        if route_numbering[i][j] == test_route:\n",
    "            test_build.append(wifi_dummy_building[i][j][[10, 20, 30, 40]])\n",
    "            test_wifi_build.append(wifi_dummy_total[i][j]['POSI_building'])\n",
    "# print(test_build_results)"
   ]
  },
  {
   "cell_type": "code",
   "execution_count": 29,
   "metadata": {
    "collapsed": false
   },
   "outputs": [
    {
     "name": "stdout",
     "output_type": "stream",
     "text": [
      "0 1.0\n",
      "1 1.0\n"
     ]
    }
   ],
   "source": [
    "# Check RF algorithm. Predict for all the test data\n",
    "predicted_build = []\n",
    "predicted_build_proba = []\n",
    "for i in range(len(test_build)):\n",
    "    predicted_build.append(rfc_build.predict(test_build[i].values))\n",
    "    predicted_build_proba.append(rfc_build.predict_proba(test_build[i].values))\n",
    "    print(i, np.sum(predicted_build[i] == test_wifi_build[i].values) / test_wifi_build[i].shape[0])"
   ]
  },
  {
   "cell_type": "code",
   "execution_count": 30,
   "metadata": {
    "collapsed": false
   },
   "outputs": [
    {
     "data": {
      "image/png": "[encoded data removed]",
      "text/plain": [
       "<matplotlib.figure.Figure at 0x7fe50e3c6b70>"
      ]
     },
     "metadata": {},
     "output_type": "display_data"
    }
   ],
   "source": [
    "%matplotlib inline\n",
    "import matplotlib.pyplot as plt\n",
    "\n",
    "route = 0\n",
    "# Plot results\n",
    "plt.plot(test_build[route].index.values, predicted_build_proba[route][:, 0], 'bo', \n",
    "         test_build[route].index.values, predicted_build_proba[route][:, 1], 'ro', \n",
    "         test_build[route].index.values, predicted_build_proba[route][:, 2], 'go', \n",
    "         test_build[route].index.values, predicted_build_proba[route][:, 3], 'ko')\n",
    "plt.xlabel('Time')\n",
    "plt.ylabel('Percent')\n",
    "plt.title('10: blue, 20: red, 30: green, 40: black')\n",
    "plt.show()"
   ]
  },
  {
   "cell_type": "code",
   "execution_count": 31,
   "metadata": {
    "collapsed": false
   },
   "outputs": [
    {
     "name": "stdout",
     "output_type": "stream",
     "text": [
      "        00:0b:86:27:36:c2  00:0b:86:27:32:e0  00:0b:86:27:32:e2  \\\n",
      "2.293               -16.0                0.0                0.0   \n",
      "8.276               -15.0                0.0                0.0   \n",
      "14.269              -20.0                0.0               -3.0   \n",
      "18.284              -19.0               -1.0               -2.0   \n",
      "24.253              -16.0                0.0                0.0   \n",
      "\n",
      "        00:0b:86:27:32:e1  00:0b:86:27:36:c0  00:0b:86:27:36:c1  \\\n",
      "2.293                -2.0              -16.0              -16.0   \n",
      "8.276                 0.0              -15.0              -18.0   \n",
      "14.269               -3.0              -20.0              -21.0   \n",
      "18.284                0.0              -18.0              -18.0   \n",
      "24.253                0.0              -17.0              -15.0   \n",
      "\n",
      "        00:0b:86:27:35:90  00:0b:86:27:35:92  00:0b:86:27:35:91  \\\n",
      "2.293               -18.0              -15.0              -20.0   \n",
      "8.276               -18.0              -18.0              -20.0   \n",
      "14.269              -17.0              -18.0              -18.0   \n",
      "18.284              -17.0              -21.0              -18.0   \n",
      "24.253              -23.0              -25.0              -17.0   \n",
      "\n",
      "        00:0b:86:27:35:82     ...      ff:ff:ff:ff:01:79  ff:ff:ff:ff:01:78  \\\n",
      "2.293               -30.0     ...                 -134.0             -134.0   \n",
      "8.276               -24.0     ...                 -131.0             -131.0   \n",
      "14.269              -29.0     ...                 -135.0             -135.0   \n",
      "18.284              -31.0     ...                 -136.0             -136.0   \n",
      "24.253              -30.0     ...                 -135.0             -135.0   \n",
      "\n",
      "        ff:ff:ff:ff:01:75  ff:ff:ff:ff:01:77  ff:ff:ff:ff:01:74  \\\n",
      "2.293              -134.0             -134.0             -134.0   \n",
      "8.276              -131.0             -131.0             -131.0   \n",
      "14.269             -135.0             -135.0             -135.0   \n",
      "18.284             -136.0             -136.0             -136.0   \n",
      "24.253             -135.0             -135.0             -135.0   \n",
      "\n",
      "        ff:ff:ff:ff:01:76  POSI_building  POSI_floor  interp_lat  interp_lon  \n",
      "2.293              -134.0           10.0         0.0   40.313471    -3.48315  \n",
      "8.276              -131.0           10.0         0.0   40.313471    -3.48315  \n",
      "14.269             -135.0           10.0         0.0   40.313471    -3.48315  \n",
      "18.284             -136.0           10.0         0.0   40.313471    -3.48315  \n",
      "24.253             -135.0           10.0         0.0   40.313471    -3.48315  \n",
      "\n",
      "[5 rows x 738 columns]\n"
     ]
    }
   ],
   "source": [
    "# wifi train data with noise and all the macs\n",
    "train_wifi = []\n",
    "train_results = []\n",
    "for i in range(len(wifi_dummy_total)):\n",
    "    for j in range(len(wifi_dummy_total[i])):\n",
    "        if route_numbering[i][j] != test_route:\n",
    "            train_wifi.append(wifi_dummy_total[i][j])\n",
    "train_wifi = pd.concat(train_wifi, axis=0)\n",
    "print(train_wifi.head())\n",
    "\n",
    "# Create test routes\n",
    "test_wifi = []\n",
    "test_wifi_floor = []\n",
    "test_wifi_lat = []\n",
    "test_wifi_lng = []\n",
    "for i in range(len(wifi_dummy_total)):\n",
    "    for j in range(len(wifi_dummy_total[i])):\n",
    "        if route_numbering[i][j] == test_route:\n",
    "            test_wifi.append(wifi_dummy_total[i][j])\n",
    "            test_wifi_floor.append(wifi_dummy_total[i][j]['POSI_floor'])\n",
    "            test_wifi_lat.append(wifi_dummy_total[i][j]['interp_lat'])\n",
    "            test_wifi_lng.append(wifi_dummy_total[i][j]['interp_lon'])"
   ]
  },
  {
   "cell_type": "markdown",
   "metadata": {},
   "source": [
    "## Floor classification"
   ]
  },
  {
   "cell_type": "code",
   "execution_count": 32,
   "metadata": {
    "collapsed": false
   },
   "outputs": [],
   "source": [
    "# Remove packets with less \n",
    "def wifi_level_noise(wifi_dummy_df, noise):\n",
    "    noise_not = (wifi_dummy_df.values >= noise) * 1\n",
    "    wifi_dummy_df.iloc[:, :] = noise_not * wifi_dummy_df.values + (1- noise_not) * noise\n",
    "    return wifi_dummy_df\n",
    "\n",
    "# filter train samples by buildings in order to train floors\n",
    "train_floor = {10: 0, 20: 0, 30: 0, 40: 0}\n",
    "train_floor_results = {10: 0, 20: 0, 30: 0, 40: 0}\n",
    "for building in train_floor:\n",
    "    train_floor[building] = train_wifi.iloc[train_build_results.values == building][building_macs[building]]\n",
    "    train_floor[building] = wifi_level_noise(train_floor[building], -25)\n",
    "    train_floor_results[building] = train_wifi.iloc[train_build_results.values == building]['POSI_floor']"
   ]
  },
  {
   "cell_type": "code",
   "execution_count": 33,
   "metadata": {
    "collapsed": false
   },
   "outputs": [],
   "source": [
    "# Train floor on Random Forest using WiFi fingerprinting\n",
    "from sklearn.ensemble import RandomForestClassifier\n",
    "rfc_floor = {10: 0, 20: 0, 30: 0, 40: 0}\n",
    "for building in rfc_floor:\n",
    "    rfc_floor[building] = RandomForestClassifier(n_estimators=1000, max_depth=20 ,max_features=1.0, random_state=2016)\n",
    "    rfc_floor[building].fit(train_floor[building].values, train_floor_results[building].values)"
   ]
  },
  {
   "cell_type": "code",
   "execution_count": 34,
   "metadata": {
    "collapsed": false
   },
   "outputs": [],
   "source": [
    "# Predict floors\n",
    "predicted_floor = []\n",
    "predicted_floor_proba = []\n",
    "for test_i in range(len(test_wifi)):\n",
    "    predicted_floor.append([])\n",
    "    predicted_floor_proba.append([])\n",
    "    for row_i in range(test_wifi[test_i].shape[0]):\n",
    "        cur_pred_build = predicted_build[test_i][row_i]\n",
    "        cur_measurement = test_wifi[test_i][building_macs[cur_pred_build]].iloc[row_i]\n",
    "        predicted_floor[test_i].append(int(rfc_floor[cur_pred_build].predict([cur_measurement.values])))\n",
    "# print(predicted_floor)"
   ]
  },
  {
   "cell_type": "code",
   "execution_count": 35,
   "metadata": {
    "collapsed": false
   },
   "outputs": [
    {
     "data": {
      "image/png": "[encoded data removed]",
      "text/plain": [
       "<matplotlib.figure.Figure at 0x7fe50e3f4710>"
      ]
     },
     "metadata": {},
     "output_type": "display_data"
    }
   ],
   "source": [
    "%matplotlib inline\n",
    "import matplotlib.pyplot as plt\n",
    "\n",
    "route = 1\n",
    "# Plot results\n",
    "plt.plot(test_build[route].index.values, test_wifi_floor[route], 'b', \n",
    "         test_build[route].index.values, predicted_floor[route], 'ro')\n",
    "plt.xlabel('Time')\n",
    "plt.ylabel('Floor')\n",
    "plt.title('Blue: Route, Red: prediction')\n",
    "plt.show()"
   ]
  },
  {
   "cell_type": "code",
   "execution_count": 57,
   "metadata": {
    "collapsed": false
   },
   "outputs": [],
   "source": [
    "# Create train for 2D positioning\n",
    "train_2d = {10: [[], [], [], [], [], []], 20: [[], [], [], [], [], []], \n",
    "            30: [[], [], [], [], [], []], 40: [[], [], [], [], [], []]}\n",
    "train_2d_lat = {10: [[], [], [], [], [], []], 20: [[], [], [], [], [], []], \n",
    "                30: [[], [], [], [], [], []], 40: [[], [], [], [], [], []]}\n",
    "train_2d_lon = {10: [[], [], [], [], [], []], 20: [[], [], [], [], [], []], \n",
    "                30: [[], [], [], [], [], []], 40: [[], [], [], [], [], []]}\n",
    "train_2d_grid_results = {10: [[], [], [], [], [], []], 20: [[], [], [], [], [], []], \n",
    "                         30: [[], [], [], [], [], []], 40: [[], [], [], [], [], []]}\n",
    "\n",
    "# Split into floors\n",
    "for i in range(len(wifi_dummy_total)):\n",
    "    for j in range(len(wifi_dummy_total[i])):\n",
    "        if route_numbering[i][j] != test_route:\n",
    "            track_mac_array = wifi_dummy_total[i][j]\n",
    "            for k in range(track_mac_array.shape[0]):\n",
    "                mac_line = track_mac_array.iloc[k]\n",
    "                build = int(mac_line['POSI_building'])\n",
    "                floor = int(mac_line['POSI_floor'])\n",
    "                lat = float(mac_line['interp_lat'])\n",
    "                lon = float(mac_line['interp_lon'])\n",
    "                train_2d[build][floor].append(mac_line[floor_macs[build][floor]].values.reshape((1, \n",
    "                                                                                                 len(floor_macs[build][floor]))))\n",
    "                train_2d_lat[build][floor].append(lat)\n",
    "                train_2d_lon[build][floor].append(lon)\n",
    "\n",
    "# Concat samples inside each floor\n",
    "for build in train_2d:\n",
    "    for floor in range(len(train_2d[build])):\n",
    "        if len(train_2d[build][floor]):\n",
    "            train_2d[build][floor] = np.vstack(tuple(train_2d[build][floor]))\n",
    "            train_2d[build][floor] = pd.DataFrame(train_2d[build][floor], columns=floor_macs[build][floor])\n",
    "# print(train_2d[10][0].head())"
   ]
  },
  {
   "cell_type": "markdown",
   "metadata": {},
   "source": [
    "## Grid"
   ]
  },
  {
   "cell_type": "code",
   "execution_count": 107,
   "metadata": {
    "collapsed": false
   },
   "outputs": [],
   "source": [
    "def mtod_calc(local_latitude, mes_m):\n",
    "    local_radius = 6378137 * np.cos(np.pi * local_latitude / 180)\n",
    "    mes_d = 360 * mes_m / (local_radius * 2 * np.pi)\n",
    "    return mes_d\n",
    "\n",
    "class Grid:\n",
    "    \n",
    "    def __init__(self, lat_samples, lon_samples, resolution_m, translate):\n",
    "        self.lat_lim = (np.min(lat_samples), np.max(lat_samples))\n",
    "        self.lon_lim = (np.min(lon_samples), np.max(lon_samples))\n",
    "        self.lat_loc = np.median(lat_samples)\n",
    "        self.resolution = mtod_calc(self.lat_loc, resolution_m)\n",
    "        self.lat_grid_start = self.lat_lim[0] + mtod_calc(self.lat_loc, translate[0])\n",
    "        self.lon_grid_start = self.lon_lim[0] + mtod_calc(self.lat_loc, translate[1])\n",
    "        self.grid_lat = np.arange(self.lat_grid_start, self.lat_lim[1] + self.resolution, self.resolution)\n",
    "        self.grid_lon = np.arange(self.lon_grid_start, self.lon_lim[1] + self.resolution, self.resolution)\n",
    "        print(self.grid_lat)\n",
    "        print(self.grid_lon)\n",
    "        "
   ]
  },
  {
   "cell_type": "code",
   "execution_count": 108,
   "metadata": {
    "collapsed": false
   },
   "outputs": [
    {
     "name": "stdout",
     "output_type": "stream",
     "text": [
      "[ 39.99277837  39.99289563  39.99301288  39.99313014  39.99324739\n",
      "  39.99336465  39.9934819   39.99359916  39.99371641]\n",
      "[-0.06912063 -0.06900337 -0.06888612 -0.06876886 -0.06865161 -0.06853435\n",
      " -0.0684171  -0.06829984 -0.06818259]\n",
      "[ 39.99277837  39.99289563  39.99301288  39.99313014  39.99324739\n",
      "  39.99336465  39.9934819   39.99359916  39.99371641]\n",
      "[-0.06912063 -0.06900337 -0.06888612 -0.06876886 -0.06865161 -0.06853435\n",
      " -0.0684171  -0.06829984 -0.06818259]\n",
      "[ 39.99277837  39.99289563  39.99301288  39.99313014  39.99324739\n",
      "  39.99336465  39.9934819   39.99359916  39.99371641]\n",
      "[-0.06912063 -0.06900337 -0.06888612 -0.06876886 -0.06865161 -0.06853435\n",
      " -0.0684171  -0.06829984 -0.06818259]\n",
      "[ 40.31296926  40.31308707  40.31320488  40.31332269  40.3134405\n",
      "  40.3135583 ]\n",
      "[-3.48425249 -3.48413468 -3.48401687 -3.48389907 -3.48378126 -3.48366345\n",
      " -3.48354564 -3.48342783 -3.48331002 -3.48319221 -3.4830744 ]\n",
      "[ 40.51255416  40.51267232  40.51279048  40.51290864  40.5130268\n",
      "  40.51314496  40.51326312  40.51338128  40.51349943  40.51361759]\n",
      "[-3.34979866 -3.3496805  -3.34956234 -3.34944418 -3.34932602 -3.34920786\n",
      " -3.3490897  -3.34897154 -3.34885338 -3.34873523 -3.34861707 -3.34849891\n",
      " -3.34838075]\n",
      "[ 40.51274549  40.51286365  40.51298181  40.51309997  40.51321813\n",
      "  40.51333629  40.51345444]\n",
      "[-3.34943908 -3.34932092 -3.34920276 -3.3490846  -3.34896644 -3.34884828\n",
      " -3.34873012 -3.34861196]\n",
      "[ 40.5127595   40.51287766  40.51299582  40.51311398  40.51323214\n",
      "  40.5133503   40.51346846]\n",
      "[-3.34943908 -3.34932092 -3.34920276 -3.3490846  -3.34896644 -3.34884828]\n",
      "[ 40.51276751  40.51288566  40.51300382  40.51312198  40.51324014\n",
      "  40.5133583   40.51347646]\n",
      "[-3.3494385  -3.34932034 -3.34920218 -3.34908402 -3.34896586 -3.3488477 ]\n",
      "[ 39.99359673  39.99371399  39.99383124  39.9939485 ]\n",
      "[-0.07400503 -0.07388777 -0.07377052 -0.07365326]\n",
      "[ 39.99354399  39.99366125  39.99377851  39.99389576  39.99401302]\n",
      "[-0.07425902 -0.07414177 -0.07402451 -0.07390725 -0.07379    -0.07367274\n",
      " -0.07355548 -0.07343823]\n",
      "[ 39.99364961  39.99376687  39.99388412]\n",
      "[-0.07393842 -0.07382117 -0.07370391]\n",
      "[ 39.99366519  39.99378244  39.9938997 ]\n",
      "[-0.07393864 -0.07382138 -0.07370412]\n",
      "[ 39.9936658   39.99378306  39.99390031]\n",
      "[-0.07393849 -0.07382123 -0.07370397]\n",
      "[ 39.99367861  39.99379587  39.99391312  39.99403038]\n",
      "[-0.07401727 -0.07390002 -0.07378276 -0.0736655  -0.07354825]\n",
      "(39.993737240212923, 39.993966894226688)\n"
     ]
    }
   ],
   "source": [
    "train_2d_grid = {10: [[], [], [], [], [], []], 20: [[], [], [], [], [], []], \n",
    "                30: [[], [], [], [], [], []], 40: [[], [], [], [], [], []]}\n",
    "train_2d_grid_results = {10: [[], [], [], [], [], []], 20: [[], [], [], [], [], []], \n",
    "                         30: [[], [], [], [], [], []], 40: [[], [], [], [], [], []]}\n",
    "\n",
    "res_m = 10\n",
    "\n",
    "for build in train_2d:\n",
    "    for floor in range(len(train_2d[build])):\n",
    "        if len(train_2d[build][floor]):\n",
    "            train_2d_grid[build][floor] = Grid(train_2d_lat[build][floor], train_2d_lon[build][floor], \n",
    "                                               res_m, (-0.5 * res_m, -0.5 * res_m))\n",
    "print(train_2d_grid[build][floor].lat_lim)"
   ]
  },
  {
   "cell_type": "code",
   "execution_count": null,
   "metadata": {
    "collapsed": true
   },
   "outputs": [],
   "source": []
  }
 ],
 "metadata": {
  "kernelspec": {
   "display_name": "Python 3",
   "language": "python",
   "name": "python3"
  },
  "language_info": {
   "codemirror_mode": {
    "name": "ipython",
    "version": 3
   },
   "file_extension": ".py",
   "mimetype": "text/x-python",
   "name": "python",
   "nbconvert_exporter": "python",
   "pygments_lexer": "ipython3",
   "version": "3.4.3"
  }
 },
 "nbformat": 4,
 "nbformat_minor": 0
}
