{
 "cells": [
  {
   "cell_type": "code",
   "execution_count": 1,
   "metadata": {
    "collapsed": false
   },
   "outputs": [
    {
     "name": "stdout",
     "output_type": "stream",
     "text": [
      "[['train/CAR/logfile_CAR_R1_S3.txt', 'train/CAR/logfile_CAR_R1_S3mini.txt', 'train/CAR/logfile_CAR_R2_S3.txt', 'train/CAR/logfile_CAR_R2_S4.txt'], ['train/UAH/logfile_UAH_R1_S3.txt', 'train/UAH/logfile_UAH_R1_S4.txt', 'train/UAH/logfile_UAH_R2_S3.txt', 'train/UAH/logfile_UAH_R2_S4.txt', 'train/UAH/logfile_UAH_R4_S3.txt', 'train/UAH/logfile_UAH_R4_S4.txt'], ['train/UJITI/logfile_UJITI_R1_NEXUS5.txt', 'train/UJITI/logfile_UJITI_R2_NEXUS5.txt'], ['train/UJIUB/logfile_UJIUB_R1n_S3.txt', 'train/UJIUB/logfile_UJIUB_R1r_S3.txt', 'train/UJIUB/logfile_UJIUB_R2n_S3.txt', 'train/UJIUB/logfile_UJIUB_R2r_S3.txt', 'train/UJIUB/logfile_UJIUB_R3_S3.txt']]\n",
      "There are 17 files\n"
     ]
    }
   ],
   "source": [
    "\"\"\"\n",
    "Only for the 1st three buildings\n",
    "\"\"\"\n",
    "\n",
    "# get train files\n",
    "import glob\n",
    "\n",
    "train_folders = ['CAR', 'UAH', 'UJITI', 'UJIUB']\n",
    "\n",
    "files_names = []\n",
    "n_files = 0\n",
    "for building in train_folders:\n",
    "    cur_file_names = glob.glob('train/' + building + '/log*')\n",
    "    files_names.append(sorted(cur_file_names))\n",
    "    n_files += len(cur_file_names)\n",
    "\n",
    "print(files_names)\n",
    "print('There are %d files' % n_files)"
   ]
  },
  {
   "cell_type": "code",
   "execution_count": 2,
   "metadata": {
    "collapsed": false
   },
   "outputs": [
    {
     "name": "stdout",
     "output_type": "stream",
     "text": [
      "train/CAR/logfile_CAR_R1_S3.txt\n",
      "['ACCE' 'AHRS' 'GNSS' 'GYRO' 'LIGH' 'MAGN' 'POSI' 'PRES' 'SOUN' 'WIFI']\n",
      "train/CAR/logfile_CAR_R1_S3mini.txt\n",
      "['ACCE' 'AHRS' 'GNSS' 'GYRO' 'MAGN' 'POSI' 'SOUN' 'WIFI']\n",
      "train/CAR/logfile_CAR_R2_S3.txt\n",
      "['ACCE' 'AHRS' 'GNSS' 'GYRO' 'LIGH' 'MAGN' 'POSI' 'PRES' 'PROX' 'SOUN'\n",
      " 'WIFI']\n",
      "train/CAR/logfile_CAR_R2_S4.txt\n",
      "['ACCE' 'AHRS' 'GNSS' 'GYRO' 'HUMI' 'LIGH' 'MAGN' 'POSI' 'PRES' 'PROX'\n",
      " 'SOUN' 'TEMP' 'WIFI']\n",
      "train/UAH/logfile_UAH_R1_S3.txt\n",
      "['ACCE' 'AHRS' 'GNSS' 'GYRO' 'LIGH' 'MAGN' 'POSI' 'PRES' 'SOUN' 'WIFI']\n",
      "train/UAH/logfile_UAH_R1_S4.txt\n",
      "['ACCE' 'AHRS' 'GNSS' 'GYRO' 'HUMI' 'LIGH' 'MAGN' 'POSI' 'PRES' 'SOUN'\n",
      " 'TEMP' 'WIFI']\n",
      "train/UAH/logfile_UAH_R2_S3.txt\n",
      "['ACCE' 'AHRS' 'GNSS' 'GYRO' 'LIGH' 'MAGN' 'POSI' 'PRES' 'SOUN' 'WIFI']\n",
      "train/UAH/logfile_UAH_R2_S4.txt\n",
      "['ACCE' 'AHRS' 'GNSS' 'GYRO' 'HUMI' 'LIGH' 'MAGN' 'POSI' 'PRES' 'SOUN'\n",
      " 'TEMP' 'WIFI']\n",
      "train/UAH/logfile_UAH_R4_S3.txt\n",
      "['ACCE' 'AHRS' 'GNSS' 'GYRO' 'LIGH' 'MAGN' 'POSI' 'PRES' 'SOUN' 'WIFI']\n",
      "train/UAH/logfile_UAH_R4_S4.txt\n",
      "['ACCE' 'AHRS' 'GNSS' 'GYRO' 'HUMI' 'LIGH' 'MAGN' 'POSI' 'PRES' 'SOUN'\n",
      " 'TEMP' 'WIFI']\n",
      "train/UJITI/logfile_UJITI_R1_NEXUS5.txt\n",
      "['ACCE' 'AHRS' 'GNSS' 'GYRO' 'LIGH' 'MAGN' 'POSI' 'PRES' 'PROX' 'SOUN'\n",
      " 'WIFI']\n",
      "train/UJITI/logfile_UJITI_R2_NEXUS5.txt\n",
      "['ACCE' 'AHRS' 'GYRO' 'LIGH' 'MAGN' 'POSI' 'PRES' 'SOUN' 'WIFI']\n",
      "train/UJIUB/logfile_UJIUB_R1n_S3.txt\n",
      "['ACCE' 'AHRS' 'GNSS' 'GYRO' 'LIGH' 'MAGN' 'POSI' 'PRES' 'PROX' 'SOUN'\n",
      " 'WIFI']\n",
      "train/UJIUB/logfile_UJIUB_R1r_S3.txt\n",
      "['ACCE' 'AHRS' 'GNSS' 'GYRO' 'LIGH' 'MAGN' 'POSI' 'PRES' 'SOUN' 'WIFI']\n",
      "train/UJIUB/logfile_UJIUB_R2n_S3.txt\n",
      "['ACCE' 'AHRS' 'GNSS' 'GYRO' 'LIGH' 'MAGN' 'POSI' 'PRES' 'PROX' 'SOUN'\n",
      " 'WIFI']\n",
      "train/UJIUB/logfile_UJIUB_R2r_S3.txt\n",
      "['ACCE' 'AHRS' 'GNSS' 'GYRO' 'LIGH' 'MAGN' 'POSI' 'PRES' 'SOUN' 'WIFI']\n",
      "train/UJIUB/logfile_UJIUB_R3_S3.txt\n",
      "['ACCE' 'AHRS' 'GNSS' 'GYRO' 'LIGH' 'MAGN' 'POSI' 'PRES' 'PROX' 'SOUN'\n",
      " 'WIFI']\n"
     ]
    },
    {
     "name": "stderr",
     "output_type": "stream",
     "text": [
      "/usr/local/lib/python3.4/dist-packages/IPython/core/interactiveshell.py:2723: DtypeWarning: Columns (3,4) have mixed types. Specify dtype option on import or set low_memory=False.\n",
      "  interactivity=interactivity, compiler=compiler, result=result)\n"
     ]
    }
   ],
   "source": [
    "# import files into dataframe\n",
    "import numpy as np\n",
    "import pandas as pd\n",
    "\n",
    "track= []\n",
    "for building in files_names:\n",
    "    track.append([])\n",
    "    for track_name in building:\n",
    "        print(track_name)\n",
    "        track[-1].append(pd.read_csv(track_name, sep=';', engine='c', names=range(11)))\n",
    "        print(np.unique(track[-1][-1][0]))"
   ]
  },
  {
   "cell_type": "code",
   "execution_count": 3,
   "metadata": {
    "collapsed": false
   },
   "outputs": [
    {
     "name": "stdout",
     "output_type": "stream",
     "text": [
      "          Time  index          Lat       Lon  FloorID  BuildingID  \\\n",
      "8512    30.341    1.0  40.31347091  -3.48315      0.0        10.0   \n",
      "13709   48.878    2.0  40.31332032  -3.48312      0.0        10.0   \n",
      "22475   80.175    3.0  40.31328135  -3.48342      0.0        10.0   \n",
      "27694   98.724    4.0  40.31331275  -3.48342      0.0        10.0   \n",
      "38394  136.709    5.0  40.31333944  -3.48335      0.0        10.0   \n",
      "\n",
      "       ind_begin_time  ind_end_time  \n",
      "8512           0.0000       39.6095  \n",
      "13709         39.6095       64.5265  \n",
      "22475         64.5265       89.4495  \n",
      "27694         89.4495      117.7165  \n",
      "38394        117.7165      142.1475  \n"
     ]
    },
    {
     "name": "stderr",
     "output_type": "stream",
     "text": [
      "/usr/local/lib/python3.4/dist-packages/pandas/core/indexing.py:128: SettingWithCopyWarning: \n",
      "A value is trying to be set on a copy of a slice from a DataFrame\n",
      "\n",
      "See the caveats in the documentation: http://pandas.pydata.org/pandas-docs/stable/indexing.html#indexing-view-versus-copy\n",
      "  self._setitem_with_indexer(indexer, value)\n"
     ]
    }
   ],
   "source": [
    "# Find time limits per POSI id\n",
    "def posi_time_limits(pos_array):\n",
    "    # create start and end index time array\n",
    "    pos_array['ind_begin_time'] = np.zeros((pos_array.shape[0]))\n",
    "    pos_array['ind_end_time'] = np.zeros((pos_array.shape[0]))\n",
    "    pos_array['ind_end_time'].iloc[-1] = 99999\n",
    "\n",
    "    for i in range(1, pos_array.shape[0]):\n",
    "        cur_split = (float(pos_array['Time'].iloc[i]) + float(pos_array['Time'].iloc[i-1])) / 2\n",
    "        pos_array['ind_begin_time'].iat[i] = cur_split       \n",
    "        pos_array['ind_end_time'].iat[i-1] = cur_split       \n",
    "    return pos_array\n",
    "\n",
    "pos = []\n",
    "for i in range(len(track)):\n",
    "    pos.append([])\n",
    "    for j in range(len(track[i])):\n",
    "        pos[i].append(track[i][j][[1, 2, 3, 4, 5, 6, 7]].iloc[track[i][j][0].values == 'POSI'])\n",
    "        pos[i][j] = pos[i][j].dropna(axis=1)\n",
    "        pos[i][j].columns = ['Time', 'index', 'Lat', 'Lon', 'FloorID', 'BuildingID']\n",
    "        pos[i][j] = posi_time_limits(pos[i][j])\n",
    "print(pos[0][0].head())"
   ]
  },
  {
   "cell_type": "code",
   "execution_count": 4,
   "metadata": {
    "collapsed": false
   },
   "outputs": [
    {
     "name": "stdout",
     "output_type": "stream",
     "text": [
      "      0      1       2         3        4         5        6        7  \\\n",
      "0  GYRO  0.018  89.931   0.58521  0.41692  -0.74526  3.00000      NaN   \n",
      "1  AHRS  0.019  89.931   36.8048   5.5949 -32.75710  0.31558 -0.04448   \n",
      "2  LIGH  0.020  89.940    2124.0        0       NaN      NaN      NaN   \n",
      "3  ACCE  0.020  89.941  -1.38864  6.10043   7.44118  3.00000      NaN   \n",
      "4  GYRO  0.031  89.951  -0.48686  0.38546   0.01344  3.00000      NaN   \n",
      "\n",
      "         8     9  10  POSI_floor  POSI_building  \n",
      "0      NaN   NaN NaN         0.0           30.0  \n",
      "1 -0.25246 -43.0 NaN         0.0           30.0  \n",
      "2      NaN   NaN NaN         0.0           30.0  \n",
      "3      NaN   NaN NaN         0.0           30.0  \n",
      "4      NaN   NaN NaN         0.0           30.0  \n"
     ]
    },
    {
     "name": "stderr",
     "output_type": "stream",
     "text": [
      "/usr/local/lib/python3.4/dist-packages/pandas/core/indexing.py:128: SettingWithCopyWarning: \n",
      "A value is trying to be set on a copy of a slice from a DataFrame\n",
      "\n",
      "See the caveats in the documentation: http://pandas.pydata.org/pandas-docs/stable/indexing.html#indexing-view-versus-copy\n",
      "  self._setitem_with_indexer(indexer, value)\n"
     ]
    }
   ],
   "source": [
    "# associate signals with POSI ids. Spliting at middle of the time between POSI measurements\n",
    "for i in range(len(track)):\n",
    "    for j in range(len(track[i])):\n",
    "        track[i][j]['POSI_floor'] = np.zeros((track[i][j].shape[0])) * np.nan\n",
    "        track[i][j]['POSI_building'] = np.zeros((track[i][j].shape[0])) * np.nan\n",
    "        for k in range(pos[i][j].shape[0]):\n",
    "            ind_begin_time = pos[i][j]['ind_begin_time'].iloc[k]\n",
    "            ind_end_time = pos[i][j]['ind_end_time'].iloc[k]\n",
    "    \n",
    "            ind = pos[i][j]['index'].iloc[k]\n",
    "            ind_floor = pos[i][j]['FloorID'].iloc[k]\n",
    "            ind_building = pos[i][j]['BuildingID'].iloc[k]\n",
    "            \n",
    "            index_limits = np.logical_and(track[i][j][1].values >= ind_begin_time, \n",
    "                                          track[i][j][1].values < ind_end_time)\n",
    "            \n",
    "            track[i][j]['POSI_floor'].iloc[index_limits] = ind_floor\n",
    "            track[i][j]['POSI_building'].iloc[index_limits] = ind_building\n",
    "\n",
    "print(track[i][j].head())"
   ]
  },
  {
   "cell_type": "code",
   "execution_count": 5,
   "metadata": {
    "collapsed": false
   },
   "outputs": [
    {
     "name": "stdout",
     "output_type": "stream",
     "text": [
      "     Time index          Lat       Lon FloorID BuildingID ind_begin_time  \\\n",
      "0       0     1  40.31347091  -3.48315       0         10              0   \n",
      "1  30.341     1  40.31347091  -3.48315       0         10              0   \n",
      "2  48.878     2  40.31332032  -3.48312       0         10        39.6095   \n",
      "3  80.175     3  40.31328135  -3.48342       0         10        64.5265   \n",
      "4  98.724     4  40.31331275  -3.48342       0         10        89.4495   \n",
      "\n",
      "  ind_end_time  \n",
      "0      39.6095  \n",
      "1      39.6095  \n",
      "2      64.5265  \n",
      "3      89.4495  \n",
      "4      117.716  \n"
     ]
    }
   ],
   "source": [
    "# Pad ground truth\n",
    "for i in range(len(track)):\n",
    "    for j in range(len(track[i])):\n",
    "        pos_pad_start = pos[i][j].iloc[0]\n",
    "        pos_pad_start.at['Time'] = 0\n",
    "        pos_pad_end = pos[i][j].iloc[-1]\n",
    "        pos_pad_end.at['Time'] = track[i][j][1].values[-1]\n",
    "        pos_array = np.vstack((pos_pad_start.values.reshape((1, pos[i][j].shape[1])), \n",
    "                                pos[i][j].values, \n",
    "                                pos_pad_end.values.reshape((1, pos[i][j].shape[1]))))\n",
    "        pos[i][j] = pd.DataFrame(pos_array, columns=pos[i][j].columns.values)\n",
    "print(pos[0][0].head())"
   ]
  },
  {
   "cell_type": "code",
   "execution_count": 6,
   "metadata": {
    "collapsed": false
   },
   "outputs": [
    {
     "name": "stdout",
     "output_type": "stream",
     "text": [
      "      0      1         2         3          4          5        6       7  \\\n",
      "0  ACCE  0.094  4292.788  -1.38864    4.62560    8.40844  3.00000     NaN   \n",
      "1  MAGN  0.095  4292.788  -5.64000  -39.72000  -19.56000  3.00000     NaN   \n",
      "2  GYRO  0.097  4292.792  -0.16432   -0.20861   -0.19609  3.00000     NaN   \n",
      "3  AHRS  0.098  4292.792   28.5264     9.6349 -161.85360  0.11909 -0.2296   \n",
      "4  LIGH  0.098  4292.792   14561.0          3        NaN      NaN     NaN   \n",
      "\n",
      "        8    9  10  POSI_floor  POSI_building  interp_lat  interp_lon  \n",
      "0     NaN  NaN NaN         0.0           10.0   40.313471    -3.48315  \n",
      "1     NaN  NaN NaN         0.0           10.0   40.313471    -3.48315  \n",
      "2     NaN  NaN NaN         0.0           10.0   40.313471    -3.48315  \n",
      "3 -0.9504  3.0 NaN         0.0           10.0   40.313471    -3.48315  \n",
      "4     NaN  NaN NaN         0.0           10.0   40.313471    -3.48315  \n"
     ]
    }
   ],
   "source": [
    "# Interpolate sensor time\n",
    "import scipy.interpolate as interpolate\n",
    "\n",
    "for i in range(len(track)):\n",
    "    for j in range(len(track[i])):\n",
    "        interp_ground_truth_lat = interpolate.interp1d(pos[i][j]['Time'].astype(float), pos[i][j]['Lat'])\n",
    "        track[i][j]['interp_lat'] = interp_ground_truth_lat(track[i][j][1])\n",
    "        interp_ground_truth_lon = interpolate.interp1d(pos[i][j]['Time'].astype(float), pos[i][j]['Lon'])\n",
    "        track[i][j]['interp_lon'] = interp_ground_truth_lon(track[i][j][1])\n",
    "print(track[0][0].head())"
   ]
  },
  {
   "cell_type": "code",
   "execution_count": 7,
   "metadata": {
    "collapsed": false
   },
   "outputs": [
    {
     "name": "stdout",
     "output_type": "stream",
     "text": [
      "     AppTime                MAC  rssi  POSI_floor  POSI_building  interp_lat  \\\n",
      "637    2.293  00:0b:86:27:36:c2 -82.0         0.0           10.0   40.313471   \n",
      "638    2.293  00:0b:86:27:32:e0 -66.0         0.0           10.0   40.313471   \n",
      "639    2.293  00:0b:86:27:32:e2 -66.0         0.0           10.0   40.313471   \n",
      "640    2.293  00:0b:86:27:32:e1 -68.0         0.0           10.0   40.313471   \n",
      "641    2.293  00:0b:86:27:36:c0 -82.0         0.0           10.0   40.313471   \n",
      "\n",
      "     interp_lon  \n",
      "637    -3.48315  \n",
      "638    -3.48315  \n",
      "639    -3.48315  \n",
      "640    -3.48315  \n",
      "641    -3.48315  \n"
     ]
    }
   ],
   "source": [
    "# create wifi data frames\n",
    "wifi = []\n",
    "for i in range(len(track)):\n",
    "    wifi.append([])\n",
    "    for j in range(len(track[i])):\n",
    "        wifi[-1].append(track[i][j][[1, 4, 5, 'POSI_floor', 'POSI_building', 'interp_lat',  \n",
    "                                    'interp_lon']].iloc[track[i][j][0].values == 'WIFI'])\n",
    "        wifi[-1][-1].columns = ['AppTime', 'MAC', 'rssi', 'POSI_floor', 'POSI_building', 'interp_lat', 'interp_lon']\n",
    "print(wifi[0][0].head())"
   ]
  },
  {
   "cell_type": "code",
   "execution_count": 8,
   "metadata": {
    "collapsed": true
   },
   "outputs": [],
   "source": [
    "# split to different tracks\n",
    "route_numbering = [[0, 0, 1, 1], [2, 2, 3, 3, 4, 4], [5, 6], [7, 7, 8, 8, 9]]\n",
    "test_route = 3"
   ]
  },
  {
   "cell_type": "markdown",
   "metadata": {},
   "source": [
    "#### total macs\n",
    "742\n",
    "#### building macs\n",
    "0 51 ,\n",
    "1 353 ,\n",
    "2 158 ,\n",
    "3 180 ,\n",
    "#### floor macs\n",
    "10 0 51 ,\n",
    "10 1 0 ,\n",
    "10 2 0 ,\n",
    "10 3 0 ,\n",
    "10 4 0 ,\n",
    "10 5 0 ,\n",
    "20 0 221 ,\n",
    "20 1 310 ,\n",
    "20 2 285 ,\n",
    "20 3 0 ,\n",
    "20 4 0 ,\n",
    "20 5 0 ,\n",
    "30 0 82 ,\n",
    "30 1 66 ,\n",
    "30 2 78 ,\n",
    "30 3 62 ,\n",
    "30 4 45 ,\n",
    "30 5 125 ,\n",
    "40 0 0 ,\n",
    "40 1 108 ,\n",
    "40 2 134 ,\n",
    "40 3 123 ,\n",
    "40 4 0 ,\n",
    "40 5 0 ,\n"
   ]
  },
  {
   "cell_type": "markdown",
   "metadata": {},
   "source": [
    "## Train test split should be in effect from here"
   ]
  },
  {
   "cell_type": "code",
   "execution_count": 9,
   "metadata": {
    "collapsed": false
   },
   "outputs": [
    {
     "name": "stdout",
     "output_type": "stream",
     "text": [
      "total macs\n",
      "689\n",
      "building macs\n",
      "0 51 ,\n",
      "1 300 ,\n",
      "2 158 ,\n",
      "3 180 ,\n",
      "floor macs\n",
      "10 0 51 ,\n",
      "10 1 0 ,\n",
      "10 2 0 ,\n",
      "10 3 0 ,\n",
      "10 4 0 ,\n",
      "10 5 0 ,\n",
      "20 0 154 ,\n",
      "20 1 244 ,\n",
      "20 2 242 ,\n",
      "20 3 0 ,\n",
      "20 4 0 ,\n",
      "20 5 0 ,\n",
      "30 0 82 ,\n",
      "30 1 66 ,\n",
      "30 2 78 ,\n",
      "30 3 62 ,\n",
      "30 4 45 ,\n",
      "30 5 125 ,\n",
      "40 0 0 ,\n",
      "40 1 108 ,\n",
      "40 2 134 ,\n",
      "40 3 123 ,\n",
      "40 4 0 ,\n",
      "40 5 0 ,\n"
     ]
    }
   ],
   "source": [
    "# create list of mac addresses for all\n",
    "total_macs = []\n",
    "print('total macs')\n",
    "for i in range(len(wifi)):\n",
    "    for j in range(len(wifi[i])):\n",
    "        if route_numbering[i][j] != test_route:\n",
    "            track_mac_array = wifi[i][j]['MAC'].values\n",
    "            for mac_add in track_mac_array:\n",
    "                if not mac_add in total_macs:\n",
    "                    total_macs.append(mac_add)\n",
    "print(len(total_macs))\n",
    "\n",
    "# create list of mac addresses for each building\n",
    "building_macs = []\n",
    "print('building macs')\n",
    "for i in range(len(wifi)):\n",
    "    building_macs.append([])\n",
    "    for j in range(len(wifi[i])):\n",
    "        if route_numbering[i][j] != test_route:\n",
    "            track_mac_array = wifi[i][j]['MAC'].values\n",
    "            for mac_add in track_mac_array:\n",
    "                if not mac_add in building_macs[i]:\n",
    "                    building_macs[i].append(mac_add)\n",
    "    print(i, len(building_macs[i]), ',')\n",
    "\n",
    "# create list of mac addresses for each building for each floor\n",
    "floor_macs = {10: [[], [], [], [], [], []], 20: [[], [], [], [], [], []], \n",
    "              30: [[], [], [], [], [], []], 40: [[], [], [], [], [], []]}\n",
    "for i in range(len(wifi)):\n",
    "    for j in range(len(wifi[i])):\n",
    "        track_mac_array = wifi[i][j]\n",
    "        if route_numbering[i][j] != test_route:\n",
    "            for k in range(track_mac_array.shape[0]):\n",
    "                mac_line = track_mac_array.iloc[k]\n",
    "                mac = mac_line['MAC']\n",
    "                build = int(mac_line['POSI_building'])\n",
    "                floor = int(mac_line['POSI_floor'])\n",
    "                if not mac in floor_macs[build][floor]:\n",
    "                    floor_macs[build][floor].append(mac)\n",
    "\n",
    "print('floor macs')\n",
    "for build in sorted(floor_macs):\n",
    "    for j in range(len(floor_macs[build])):\n",
    "        print(build, j, len(floor_macs[build][j]), ',')"
   ]
  },
  {
   "cell_type": "markdown",
   "metadata": {},
   "source": [
    "## Building classification"
   ]
  },
  {
   "cell_type": "code",
   "execution_count": 15,
   "metadata": {
    "collapsed": false
   },
   "outputs": [
    {
     "name": "stdout",
     "output_type": "stream",
     "text": [
      "0 0\n",
      "0 1\n",
      "0 2\n",
      "0 3\n",
      "1 0\n",
      "1 1\n",
      "1 2\n",
      "1 3\n",
      "1 4\n",
      "1 5\n",
      "2 0\n",
      "2 1\n",
      "3 0\n",
      "3 1\n",
      "3 2\n",
      "3 3\n",
      "3 4\n"
     ]
    }
   ],
   "source": [
    "# make WiFi data into global dummy variable\n",
    "def dummify_wifi(wifi_df, wifi_list):\n",
    "    wifi_samples = np.unique(wifi_df['AppTime'].values)\n",
    "    wifi_dummy = np.ones((wifi_samples.shape[0], len(wifi_list))) * -200\n",
    "    wifi_dummy = pd.DataFrame(wifi_dummy, columns=wifi_list, index=wifi_samples)\n",
    "    for i, sample_time in enumerate(wifi_samples):\n",
    "            wifi_cur = wifi_df.iloc[wifi_df['AppTime'].values == sample_time]\n",
    "            for j in range(wifi_cur.shape[0]):\n",
    "                if str(wifi_cur['MAC'].iat[j]) in wifi_list:\n",
    "                    wifi_dummy[wifi_cur['MAC'].iat[j]].iat[i] = wifi_cur['rssi'].iat[j]\n",
    "#             wifi_dummy['POSI_building'].iat[i] = wifi_cur['POSI_building'].iat[0]\n",
    "#             wifi_dummy['POSI_floor'].iat[i] = wifi_cur['POSI_floor'].iat[0]\n",
    "#             wifi_dummy['interp_lat'].iat[i] = wifi_cur['interp_lat'].iat[0]\n",
    "#             wifi_dummy['interp_lon'].iat[i] = wifi_cur['interp_lon'].iat[0]\n",
    "    return wifi_dummy\n",
    "\n",
    "# Normalize wifi and cut noise\n",
    "noise_level = -50\n",
    "def normalize_wifi(wifi_dummy_df, noise):\n",
    "    max_per_line = np.amax(wifi_dummy_df, axis=1)\n",
    "    wifi_dummy_df.iloc[:, :] = wifi_dummy_df.values - max_per_line.reshape((max_per_line.shape[0], 1))\n",
    "    noise_not = (wifi_dummy_df.values >= noise) * 1\n",
    "    wifi_dummy_df.iloc[:, :] = noise_not * wifi_dummy_df.values + (1- noise_not) * noise\n",
    "    return wifi_dummy_df\n",
    "\n",
    "def add_results_wifi(df, results_df):\n",
    "    df['POSI_building'] = np.ones((df.shape[0],))\n",
    "    df['POSI_floor'] = np.ones((df.shape[0],))\n",
    "    df['interp_lat'] = np.ones((df.shape[0],))\n",
    "    df['interp_lon'] = np.ones((df.shape[0],))\n",
    "    wifi_samples = df.index.values\n",
    "    for i, sample_time in enumerate(wifi_samples):\n",
    "        results_cur = results_df.iloc[results_df['AppTime'].values == sample_time]\n",
    "        for j in range(results_cur.shape[0]):\n",
    "            df['POSI_building'].iat[i] = results_cur['POSI_building'].iat[0]\n",
    "            df['POSI_floor'].iat[i] = results_cur['POSI_floor'].iat[0]\n",
    "            df['interp_lat'].iat[i] = results_cur['interp_lat'].iat[0]\n",
    "            df['interp_lon'].iat[i] = results_cur['interp_lon'].iat[0]\n",
    "    return df\n",
    "\n",
    "wifi_dummy_total = []\n",
    "for i in range(len(wifi)):\n",
    "    wifi_dummy_total.append([])\n",
    "    for j in range(len(wifi[i])):\n",
    "        print(i, j)\n",
    "        wifi_dummy_total[i].append(dummify_wifi(wifi[i][j], total_macs))\n",
    "        wifi_dummy_total[i][j] = normalize_wifi(wifi_dummy_total[i][j], noise_level)\n",
    "        wifi_dummy_total[i][j] = add_results_wifi(wifi_dummy_total[i][j], wifi[i][j])\n",
    "# print(wifi_dummy_total[1][0].head())"
   ]
  },
  {
   "cell_type": "code",
   "execution_count": 17,
   "metadata": {
    "collapsed": false
   },
   "outputs": [
    {
     "name": "stdout",
     "output_type": "stream",
     "text": [
      "        00:0b:86:27:36:c2  00:0b:86:27:32:e0  00:0b:86:27:32:e2  \\\n",
      "2.293               -16.0                0.0                0.0   \n",
      "8.276               -15.0                0.0                0.0   \n",
      "14.269              -20.0                0.0               -3.0   \n",
      "18.284              -19.0               -1.0               -2.0   \n",
      "24.253              -16.0                0.0                0.0   \n",
      "\n",
      "        00:0b:86:27:32:e1  00:0b:86:27:36:c0  00:0b:86:27:36:c1  \\\n",
      "2.293                -2.0              -16.0              -16.0   \n",
      "8.276                 0.0              -15.0              -18.0   \n",
      "14.269               -3.0              -20.0              -21.0   \n",
      "18.284                0.0              -18.0              -18.0   \n",
      "24.253                0.0              -17.0              -15.0   \n",
      "\n",
      "        00:0b:86:27:35:90  00:0b:86:27:35:92  00:0b:86:27:35:91  \\\n",
      "2.293               -18.0              -15.0              -20.0   \n",
      "8.276               -18.0              -18.0              -20.0   \n",
      "14.269              -17.0              -18.0              -18.0   \n",
      "18.284              -17.0              -21.0              -18.0   \n",
      "24.253              -23.0              -25.0              -17.0   \n",
      "\n",
      "        00:0b:86:27:35:82     ...      ff:ff:ff:ff:01:79  ff:ff:ff:ff:01:78  \\\n",
      "2.293               -30.0     ...                  -50.0              -50.0   \n",
      "8.276               -24.0     ...                  -50.0              -50.0   \n",
      "14.269              -29.0     ...                  -50.0              -50.0   \n",
      "18.284              -31.0     ...                  -50.0              -50.0   \n",
      "24.253              -30.0     ...                  -50.0              -50.0   \n",
      "\n",
      "        ff:ff:ff:ff:01:75  ff:ff:ff:ff:01:77  ff:ff:ff:ff:01:74  \\\n",
      "2.293               -50.0              -50.0              -50.0   \n",
      "8.276               -50.0              -50.0              -50.0   \n",
      "14.269              -50.0              -50.0              -50.0   \n",
      "18.284              -50.0              -50.0              -50.0   \n",
      "24.253              -50.0              -50.0              -50.0   \n",
      "\n",
      "        ff:ff:ff:ff:01:76  POSI_building  POSI_floor  interp_lat  interp_lon  \n",
      "2.293               -50.0           10.0         0.0   40.313471    -3.48315  \n",
      "8.276               -50.0           10.0         0.0   40.313471    -3.48315  \n",
      "14.269              -50.0           10.0         0.0   40.313471    -3.48315  \n",
      "18.284              -50.0           10.0         0.0   40.313471    -3.48315  \n",
      "24.253              -50.0           10.0         0.0   40.313471    -3.48315  \n",
      "\n",
      "[5 rows x 693 columns]\n"
     ]
    }
   ],
   "source": [
    "# wifi train data for building classification\n",
    "train_wifi = []\n",
    "train_results = []\n",
    "for i in range(len(wifi_dummy_total)):\n",
    "    for j in range(len(wifi_dummy_total[i])):\n",
    "        if route_numbering[i][j] != test_route:\n",
    "            train_wifi.append(wifi_dummy_total[i][j])\n",
    "train_wifi = pd.concat(train_wifi, axis=0)\n",
    "print(train_wifi.head())"
   ]
  },
  {
   "cell_type": "code",
   "execution_count": 96,
   "metadata": {
    "collapsed": false
   },
   "outputs": [
    {
     "data": {
      "text/plain": [
       "ExtraTreesClassifier(bootstrap=False, class_weight=None, criterion='gini',\n",
       "           max_depth=40, max_features=0.2, max_leaf_nodes=None,\n",
       "           min_samples_leaf=1, min_samples_split=2,\n",
       "           min_weight_fraction_leaf=0.0, n_estimators=200, n_jobs=1,\n",
       "           oob_score=False, random_state=2016, verbose=0, warm_start=False)"
      ]
     },
     "execution_count": 96,
     "metadata": {},
     "output_type": "execute_result"
    }
   ],
   "source": [
    "# Train building on Random Forest using WiFi fingerprinting\n",
    "from sklearn.ensemble import ExtraTreesClassifier\n",
    "train_build = train_wifi.iloc[:, :-4]\n",
    "train_build_results = train_wifi['POSI_building']\n",
    "\n",
    "rfc = ExtraTreesClassifier(n_estimators=200, max_depth=40 ,max_features=0.2, random_state=2016)\n",
    "rfc.fit(train_build.values, train_build_results.values)"
   ]
  },
  {
   "cell_type": "code",
   "execution_count": 97,
   "metadata": {
    "collapsed": false
   },
   "outputs": [],
   "source": [
    "# Create test routes\n",
    "test_build = []\n",
    "test_build_results = []\n",
    "for i in range(len(wifi_dummy_total)):\n",
    "    for j in range(len(wifi_dummy_total[i])):\n",
    "        if route_numbering[i][j] == test_route:\n",
    "            test_build.append(wifi_dummy_total[i][j].iloc[:, :-4])\n",
    "            test_build_results.append(wifi_dummy_total[i][j]['POSI_building'])"
   ]
  },
  {
   "cell_type": "code",
   "execution_count": 98,
   "metadata": {
    "collapsed": false
   },
   "outputs": [
    {
     "name": "stdout",
     "output_type": "stream",
     "text": [
      "0 0.877659574468\n",
      "1 0.915824915825\n"
     ]
    }
   ],
   "source": [
    "# Check RF algorithm. Predict for all the test data\n",
    "predicted_build = []\n",
    "predicted_build_proba = []\n",
    "for i in range(len(test_routes)):\n",
    "    predicted_build.append(rfc.predict(test_build[i].values))\n",
    "    predicted_build_proba.append(rfc.predict_proba(test_build[i].values))\n",
    "    print(i, np.sum(predicted_build[i] == test_build_results[i].values) / test_build_results[i].shape[0])"
   ]
  },
  {
   "cell_type": "code",
   "execution_count": 104,
   "metadata": {
    "collapsed": false
   },
   "outputs": [
    {
     "data": {
      "image/png": "[encoded data removed]",
      "text/plain": [
       "<matplotlib.figure.Figure at 0x7f01785c54e0>"
      ]
     },
     "metadata": {},
     "output_type": "display_data"
    }
   ],
   "source": [
    "%matplotlib inline\n",
    "import matplotlib.pyplot as plt\n",
    "# Plot results\n",
    "plt.figure(1)\n",
    "plt.subplot(211)\n",
    "plt.title('logfile_UAH_R2_S3.txt (20) building classification using random forest')\n",
    "plt.plot(test_build[0].index.values, test_build_results[0].values, 'b', \n",
    "         test_build[0].index.values, predicted_build[0], 'ko')\n",
    "plt.xlabel('Time')\n",
    "plt.ylabel('Predicted building')\n",
    "plt.subplot(212)\n",
    "plt.plot(test_build[0].index.values, predicted_build_proba[0][:, 0], 'bo', \n",
    "         test_build[0].index.values, predicted_build_proba[0][:, 1], 'ro', \n",
    "         test_build[0].index.values, predicted_build_proba[0][:, 2], 'go', \n",
    "         test_build[0].index.values, predicted_build_proba[0][:, 3], 'ko')\n",
    "plt.xlabel('Time')\n",
    "plt.ylabel('Percent')\n",
    "plt.title('10: blue, 20: red, 30: green, 40: black')\n",
    "plt.show()"
   ]
  },
  {
   "cell_type": "code",
   "execution_count": null,
   "metadata": {
    "collapsed": true
   },
   "outputs": [],
   "source": []
  }
 ],
 "metadata": {
  "kernelspec": {
   "display_name": "Python 3",
   "language": "python",
   "name": "python3"
  },
  "language_info": {
   "codemirror_mode": {
    "name": "ipython",
    "version": 3
   },
   "file_extension": ".py",
   "mimetype": "text/x-python",
   "name": "python",
   "nbconvert_exporter": "python",
   "pygments_lexer": "ipython3",
   "version": "3.4.3"
  }
 },
 "nbformat": 4,
 "nbformat_minor": 0
}
