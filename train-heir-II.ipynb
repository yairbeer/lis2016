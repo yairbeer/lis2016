{
 "cells": [
  {
   "cell_type": "code",
   "execution_count": 1,
   "metadata": {
    "collapsed": false
   },
   "outputs": [
    {
     "name": "stdout",
     "output_type": "stream",
     "text": [
      "[['train/CAR/logfile_CAR_R1_S3.txt', 'train/CAR/logfile_CAR_R1_S3mini.txt', 'train/CAR/logfile_CAR_R2_S3.txt', 'train/CAR/logfile_CAR_R2_S4.txt'], ['train/UAH/logfile_UAH_R1_S3.txt', 'train/UAH/logfile_UAH_R1_S4.txt', 'train/UAH/logfile_UAH_R2_S3.txt', 'train/UAH/logfile_UAH_R2_S4.txt', 'train/UAH/logfile_UAH_R4_S3.txt', 'train/UAH/logfile_UAH_R4_S4.txt'], ['train/UJITI/logfile_UJITI_R1_NEXUS5.txt', 'train/UJITI/logfile_UJITI_R2_NEXUS5.txt'], ['train/UJIUB/logfile_UJIUB_R1n_S3.txt', 'train/UJIUB/logfile_UJIUB_R1r_S3.txt', 'train/UJIUB/logfile_UJIUB_R2n_S3.txt', 'train/UJIUB/logfile_UJIUB_R2r_S3.txt', 'train/UJIUB/logfile_UJIUB_R3_S3.txt']]\n",
      "There are 17 files\n"
     ]
    }
   ],
   "source": [
    "# get train file names\n",
    "import glob\n",
    "\n",
    "train_folders = ['CAR', 'UAH', 'UJITI', 'UJIUB']\n",
    "\n",
    "files_names = []\n",
    "n_files = 0\n",
    "for building in train_folders:\n",
    "    cur_file_names = glob.glob('train/' + building + '/log*')\n",
    "    files_names.append(sorted(cur_file_names))\n",
    "    n_files += len(cur_file_names)\n",
    "\n",
    "print(files_names)\n",
    "print('There are %d files' % n_files)"
   ]
  },
  {
   "cell_type": "code",
   "execution_count": 2,
   "metadata": {
    "collapsed": false
   },
   "outputs": [
    {
     "name": "stdout",
     "output_type": "stream",
     "text": [
      "train/CAR/logfile_CAR_R1_S3.txt\n",
      "['ACCE' 'AHRS' 'GNSS' 'GYRO' 'LIGH' 'MAGN' 'POSI' 'PRES' 'SOUN' 'WIFI']\n",
      "train/CAR/logfile_CAR_R1_S3mini.txt\n",
      "['ACCE' 'AHRS' 'GNSS' 'GYRO' 'MAGN' 'POSI' 'SOUN' 'WIFI']\n",
      "train/CAR/logfile_CAR_R2_S3.txt\n",
      "['ACCE' 'AHRS' 'GNSS' 'GYRO' 'LIGH' 'MAGN' 'POSI' 'PRES' 'PROX' 'SOUN'\n",
      " 'WIFI']\n",
      "train/CAR/logfile_CAR_R2_S4.txt\n",
      "['ACCE' 'AHRS' 'GNSS' 'GYRO' 'HUMI' 'LIGH' 'MAGN' 'POSI' 'PRES' 'PROX'\n",
      " 'SOUN' 'TEMP' 'WIFI']\n",
      "train/UAH/logfile_UAH_R1_S3.txt\n",
      "['ACCE' 'AHRS' 'GNSS' 'GYRO' 'LIGH' 'MAGN' 'POSI' 'PRES' 'SOUN' 'WIFI']\n",
      "train/UAH/logfile_UAH_R1_S4.txt\n",
      "['ACCE' 'AHRS' 'GNSS' 'GYRO' 'HUMI' 'LIGH' 'MAGN' 'POSI' 'PRES' 'SOUN'\n",
      " 'TEMP' 'WIFI']\n",
      "train/UAH/logfile_UAH_R2_S3.txt\n",
      "['ACCE' 'AHRS' 'GNSS' 'GYRO' 'LIGH' 'MAGN' 'POSI' 'PRES' 'SOUN' 'WIFI']\n",
      "train/UAH/logfile_UAH_R2_S4.txt\n",
      "['ACCE' 'AHRS' 'GNSS' 'GYRO' 'HUMI' 'LIGH' 'MAGN' 'POSI' 'PRES' 'SOUN'\n",
      " 'TEMP' 'WIFI']\n",
      "train/UAH/logfile_UAH_R4_S3.txt\n",
      "['ACCE' 'AHRS' 'GNSS' 'GYRO' 'LIGH' 'MAGN' 'POSI' 'PRES' 'SOUN' 'WIFI']\n",
      "train/UAH/logfile_UAH_R4_S4.txt\n",
      "['ACCE' 'AHRS' 'GNSS' 'GYRO' 'HUMI' 'LIGH' 'MAGN' 'POSI' 'PRES' 'SOUN'\n",
      " 'TEMP' 'WIFI']\n",
      "train/UJITI/logfile_UJITI_R1_NEXUS5.txt\n",
      "['ACCE' 'AHRS' 'GNSS' 'GYRO' 'LIGH' 'MAGN' 'POSI' 'PRES' 'PROX' 'SOUN'\n",
      " 'WIFI']\n",
      "train/UJITI/logfile_UJITI_R2_NEXUS5.txt\n",
      "['ACCE' 'AHRS' 'GYRO' 'LIGH' 'MAGN' 'POSI' 'PRES' 'SOUN' 'WIFI']\n",
      "train/UJIUB/logfile_UJIUB_R1n_S3.txt\n",
      "['ACCE' 'AHRS' 'GNSS' 'GYRO' 'LIGH' 'MAGN' 'POSI' 'PRES' 'PROX' 'SOUN'\n",
      " 'WIFI']\n",
      "train/UJIUB/logfile_UJIUB_R1r_S3.txt\n",
      "['ACCE' 'AHRS' 'GNSS' 'GYRO' 'LIGH' 'MAGN' 'POSI' 'PRES' 'SOUN' 'WIFI']\n",
      "train/UJIUB/logfile_UJIUB_R2n_S3.txt\n",
      "['ACCE' 'AHRS' 'GNSS' 'GYRO' 'LIGH' 'MAGN' 'POSI' 'PRES' 'PROX' 'SOUN'\n",
      " 'WIFI']\n",
      "train/UJIUB/logfile_UJIUB_R2r_S3.txt\n",
      "['ACCE' 'AHRS' 'GNSS' 'GYRO' 'LIGH' 'MAGN' 'POSI' 'PRES' 'SOUN' 'WIFI']\n",
      "train/UJIUB/logfile_UJIUB_R3_S3.txt\n",
      "['ACCE' 'AHRS' 'GNSS' 'GYRO' 'LIGH' 'MAGN' 'POSI' 'PRES' 'PROX' 'SOUN'\n",
      " 'WIFI']\n"
     ]
    },
    {
     "name": "stderr",
     "output_type": "stream",
     "text": [
      "/usr/local/lib/python3.4/dist-packages/IPython/core/interactiveshell.py:2723: DtypeWarning: Columns (3,4) have mixed types. Specify dtype option on import or set low_memory=False.\n",
      "  interactivity=interactivity, compiler=compiler, result=result)\n"
     ]
    }
   ],
   "source": [
    "# import files into dataframes\n",
    "import numpy as np\n",
    "import pandas as pd\n",
    "\n",
    "track= []\n",
    "for building in files_names:\n",
    "    track.append([])\n",
    "    for track_name in building:\n",
    "        print(track_name)\n",
    "        track[-1].append(pd.read_csv(track_name, sep=';', engine='c', names=range(11)))\n",
    "        print(np.unique(track[-1][-1][0]))"
   ]
  },
  {
   "cell_type": "code",
   "execution_count": 3,
   "metadata": {
    "collapsed": false
   },
   "outputs": [
    {
     "name": "stdout",
     "output_type": "stream",
     "text": [
      "train/UAH/logfile_UAH_R2_S3.txt\n",
      "64\n",
      "[ 0.  0.  0.  0.  0.  0.  0.  0.  0.  0.  0.  0.  0.  0.  0.  0.  0.  0.\n",
      "  0.  0.  0.  0.  0.  0.  0.  0.  0.  0.  0.  0.  0.  0.  3.  3.  3.  3.\n",
      "  3.  3.  3.  3.  3.  3.  3.  3.  3.  3.  3.  3.  3.  3.  3.  3.  3.  3.\n",
      "  3.  3.  2.  1.  0.  0.  0.  0.  0.  0.]\n",
      "         Time  index          Lat       Lon  FloorID  BuildingID  \\\n",
      "4142    8.618    1.0  40.51278407  -3.34849      0.0        20.0   \n",
      "16724  34.656    2.0  40.51296307  -3.34844      0.0        20.0   \n",
      "24993  51.802    3.0  40.51296539  -3.34859      0.0        20.0   \n",
      "32452  67.263    4.0  40.51302711  -3.34866      0.0        20.0   \n",
      "39755  82.372    5.0  40.51307726  -3.34879      0.0        20.0   \n",
      "\n",
      "       ind_begin_time  ind_end_time  \n",
      "4142           0.0000       21.6370  \n",
      "16724         21.6370       43.2290  \n",
      "24993         43.2290       59.5325  \n",
      "32452         59.5325       74.8175  \n",
      "39755         74.8175       92.8480  \n"
     ]
    },
    {
     "name": "stderr",
     "output_type": "stream",
     "text": [
      "/usr/local/lib/python3.4/dist-packages/pandas/core/indexing.py:128: SettingWithCopyWarning: \n",
      "A value is trying to be set on a copy of a slice from a DataFrame\n",
      "\n",
      "See the caveats in the documentation: http://pandas.pydata.org/pandas-docs/stable/indexing.html#indexing-view-versus-copy\n",
      "  self._setitem_with_indexer(indexer, value)\n"
     ]
    }
   ],
   "source": [
    "# Find time limits per POSI id\n",
    "def posi_time_limits(pos_array):\n",
    "    # create start and end index time array\n",
    "    pos_array['ind_begin_time'] = np.zeros((pos_array.shape[0]))\n",
    "    pos_array['ind_end_time'] = np.zeros((pos_array.shape[0]))\n",
    "    pos_array['ind_end_time'].iloc[-1] = 99999\n",
    "\n",
    "    for i in range(1, pos_array.shape[0]):\n",
    "        cur_split = (float(pos_array['Time'].iloc[i]) + float(pos_array['Time'].iloc[i-1])) / 2\n",
    "        pos_array['ind_begin_time'].iat[i] = cur_split       \n",
    "        pos_array['ind_end_time'].iat[i-1] = cur_split       \n",
    "    return pos_array\n",
    "\n",
    "# create true ground dataframes\n",
    "pos = []\n",
    "for i in range(len(track)):\n",
    "    pos.append([])\n",
    "    for j in range(len(track[i])):\n",
    "        pos[i].append(track[i][j][[1, 2, 3, 4, 5, 6, 7]].iloc[track[i][j][0].values == 'POSI'])\n",
    "        pos[i][j] = pos[i][j].dropna(axis=1)\n",
    "        pos[i][j].columns = ['Time', 'index', 'Lat', 'Lon', 'FloorID', 'BuildingID']\n",
    "        pos[i][j] = posi_time_limits(pos[i][j])\n",
    "\n",
    "i = 1\n",
    "j = 2\n",
    "print(files_names[i][j])\n",
    "print(pos[i][j].shape[0])\n",
    "print(pos[i][j]['FloorID'].values)\n",
    "print(pos[i][j].head())"
   ]
  },
  {
   "cell_type": "code",
   "execution_count": 4,
   "metadata": {
    "collapsed": false
   },
   "outputs": [
    {
     "name": "stdout",
     "output_type": "stream",
     "text": [
      "      0      1       2         3        4         5        6        7  \\\n",
      "0  GYRO  0.018  89.931   0.58521  0.41692  -0.74526  3.00000      NaN   \n",
      "1  AHRS  0.019  89.931   36.8048   5.5949 -32.75710  0.31558 -0.04448   \n",
      "2  LIGH  0.020  89.940    2124.0        0       NaN      NaN      NaN   \n",
      "3  ACCE  0.020  89.941  -1.38864  6.10043   7.44118  3.00000      NaN   \n",
      "4  GYRO  0.031  89.951  -0.48686  0.38546   0.01344  3.00000      NaN   \n",
      "\n",
      "         8     9  10  POSI_floor  POSI_building  \n",
      "0      NaN   NaN NaN         0.0           30.0  \n",
      "1 -0.25246 -43.0 NaN         0.0           30.0  \n",
      "2      NaN   NaN NaN         0.0           30.0  \n",
      "3      NaN   NaN NaN         0.0           30.0  \n",
      "4      NaN   NaN NaN         0.0           30.0  \n"
     ]
    },
    {
     "name": "stderr",
     "output_type": "stream",
     "text": [
      "/usr/local/lib/python3.4/dist-packages/pandas/core/indexing.py:128: SettingWithCopyWarning: \n",
      "A value is trying to be set on a copy of a slice from a DataFrame\n",
      "\n",
      "See the caveats in the documentation: http://pandas.pydata.org/pandas-docs/stable/indexing.html#indexing-view-versus-copy\n",
      "  self._setitem_with_indexer(indexer, value)\n"
     ]
    }
   ],
   "source": [
    "# associate signals with POSI ids. Spliting at middle of the time between POSI measurements using posi_time_limits\n",
    "for i in range(len(track)):\n",
    "    for j in range(len(track[i])):\n",
    "        track[i][j]['POSI_floor'] = np.zeros((track[i][j].shape[0])) * np.nan\n",
    "        track[i][j]['POSI_building'] = np.zeros((track[i][j].shape[0])) * np.nan\n",
    "        for k in range(pos[i][j].shape[0]):\n",
    "            ind_begin_time = pos[i][j]['ind_begin_time'].iloc[k]\n",
    "            ind_end_time = pos[i][j]['ind_end_time'].iloc[k]\n",
    "    \n",
    "            ind = pos[i][j]['index'].iloc[k]\n",
    "            ind_floor = pos[i][j]['FloorID'].iloc[k]\n",
    "            ind_building = pos[i][j]['BuildingID'].iloc[k]\n",
    "            \n",
    "            index_limits = np.logical_and(track[i][j][1].values >= ind_begin_time, \n",
    "                                          track[i][j][1].values < ind_end_time)\n",
    "            \n",
    "            track[i][j]['POSI_floor'].iloc[index_limits] = ind_floor\n",
    "            track[i][j]['POSI_building'].iloc[index_limits] = ind_building\n",
    "\n",
    "print(track[i][j].head())"
   ]
  },
  {
   "cell_type": "code",
   "execution_count": 5,
   "metadata": {
    "collapsed": false
   },
   "outputs": [],
   "source": [
    "# Pad ground truth in order to use interpolation later\n",
    "for i in range(len(track)):\n",
    "    for j in range(len(track[i])):\n",
    "        pos_pad_start = pos[i][j].iloc[0]\n",
    "        pos_pad_start.at['Time'] = 0\n",
    "        pos_pad_end = pos[i][j].iloc[-1]\n",
    "        pos_pad_end.at['Time'] = track[i][j][1].values[-1]\n",
    "        pos_array = np.vstack((pos_pad_start.values.reshape((1, pos[i][j].shape[1])), \n",
    "                                pos[i][j].values, \n",
    "                                pos_pad_end.values.reshape((1, pos[i][j].shape[1]))))\n",
    "        pos[i][j] = pd.DataFrame(pos_array, columns=pos[i][j].columns.values)"
   ]
  },
  {
   "cell_type": "code",
   "execution_count": 6,
   "metadata": {
    "collapsed": false
   },
   "outputs": [
    {
     "name": "stdout",
     "output_type": "stream",
     "text": [
      "      0      1         2         3          4          5        6       7  \\\n",
      "0  ACCE  0.094  4292.788  -1.38864    4.62560    8.40844  3.00000     NaN   \n",
      "1  MAGN  0.095  4292.788  -5.64000  -39.72000  -19.56000  3.00000     NaN   \n",
      "2  GYRO  0.097  4292.792  -0.16432   -0.20861   -0.19609  3.00000     NaN   \n",
      "3  AHRS  0.098  4292.792   28.5264     9.6349 -161.85360  0.11909 -0.2296   \n",
      "4  LIGH  0.098  4292.792   14561.0          3        NaN      NaN     NaN   \n",
      "\n",
      "        8    9  10  POSI_floor  POSI_building  interp_lat  interp_lon  \n",
      "0     NaN  NaN NaN         0.0           10.0   40.313471    -3.48315  \n",
      "1     NaN  NaN NaN         0.0           10.0   40.313471    -3.48315  \n",
      "2     NaN  NaN NaN         0.0           10.0   40.313471    -3.48315  \n",
      "3 -0.9504  3.0 NaN         0.0           10.0   40.313471    -3.48315  \n",
      "4     NaN  NaN NaN         0.0           10.0   40.313471    -3.48315  \n"
     ]
    }
   ],
   "source": [
    "# Interpolate sensors' time\n",
    "import scipy.interpolate as interpolate\n",
    "\n",
    "for i in range(len(track)):\n",
    "    for j in range(len(track[i])):\n",
    "        interp_ground_truth_lat = interpolate.interp1d(pos[i][j]['Time'].astype(float), pos[i][j]['Lat'])\n",
    "        track[i][j]['interp_lat'] = interp_ground_truth_lat(track[i][j][1])\n",
    "        interp_ground_truth_lon = interpolate.interp1d(pos[i][j]['Time'].astype(float), pos[i][j]['Lon'])\n",
    "        track[i][j]['interp_lon'] = interp_ground_truth_lon(track[i][j][1])\n",
    "print(track[0][0].head())"
   ]
  },
  {
   "cell_type": "code",
   "execution_count": 7,
   "metadata": {
    "collapsed": false
   },
   "outputs": [
    {
     "name": "stdout",
     "output_type": "stream",
     "text": [
      "     AppTime                MAC  rssi  POSI_floor  POSI_building  interp_lat  \\\n",
      "637    2.293  00:0b:86:27:36:c2 -82.0         0.0           10.0   40.313471   \n",
      "638    2.293  00:0b:86:27:32:e0 -66.0         0.0           10.0   40.313471   \n",
      "639    2.293  00:0b:86:27:32:e2 -66.0         0.0           10.0   40.313471   \n",
      "640    2.293  00:0b:86:27:32:e1 -68.0         0.0           10.0   40.313471   \n",
      "641    2.293  00:0b:86:27:36:c0 -82.0         0.0           10.0   40.313471   \n",
      "\n",
      "     interp_lon  \n",
      "637    -3.48315  \n",
      "638    -3.48315  \n",
      "639    -3.48315  \n",
      "640    -3.48315  \n",
      "641    -3.48315  \n"
     ]
    }
   ],
   "source": [
    "# Create wifi data frames\n",
    "wifi = []\n",
    "for i in range(len(track)):\n",
    "    wifi.append([])\n",
    "    for j in range(len(track[i])):\n",
    "        wifi[-1].append(track[i][j][[1, 4, 5, 'POSI_floor', 'POSI_building', 'interp_lat',  \n",
    "                                    'interp_lon']].iloc[track[i][j][0].values == 'WIFI'])\n",
    "        wifi[-1][-1].columns = ['AppTime', 'MAC', 'rssi', 'POSI_floor', 'POSI_building', 'interp_lat', 'interp_lon']\n",
    "print(wifi[0][0].head())"
   ]
  },
  {
   "cell_type": "code",
   "execution_count": 8,
   "metadata": {
    "collapsed": true
   },
   "outputs": [],
   "source": [
    "# split to different tracks in order to not overfit while testing\n",
    "route_numbering = [[0, 0, 1, 1], [2, 2, 3, 3, 4, 4], [5, 6], [7, 7, 8, 8, 9]]\n",
    "test_route = 9"
   ]
  },
  {
   "cell_type": "markdown",
   "metadata": {},
   "source": [
    "#### total macs\n",
    "742\n",
    "#### building macs\n",
    "0 51 ,\n",
    "1 353 ,\n",
    "2 158 ,\n",
    "3 180 ,\n",
    "#### floor macs\n",
    "10 0 51 ,\n",
    "10 1 0 ,\n",
    "10 2 0 ,\n",
    "10 3 0 ,\n",
    "10 4 0 ,\n",
    "10 5 0 ,\n",
    "20 0 221 ,\n",
    "20 1 310 ,\n",
    "20 2 285 ,\n",
    "20 3 0 ,\n",
    "20 4 0 ,\n",
    "20 5 0 ,\n",
    "30 0 82 ,\n",
    "30 1 66 ,\n",
    "30 2 78 ,\n",
    "30 3 62 ,\n",
    "30 4 45 ,\n",
    "30 5 125 ,\n",
    "40 0 0 ,\n",
    "40 1 108 ,\n",
    "40 2 134 ,\n",
    "40 3 123 ,\n",
    "40 4 0 ,\n",
    "40 5 0 ,\n"
   ]
  },
  {
   "cell_type": "markdown",
   "metadata": {},
   "source": [
    "## Train test split should be in effect from here"
   ]
  },
  {
   "cell_type": "code",
   "execution_count": 9,
   "metadata": {
    "collapsed": false
   },
   "outputs": [
    {
     "name": "stdout",
     "output_type": "stream",
     "text": [
      "total macs\n",
      "735\n",
      "building macs\n",
      "10 51 ,\n",
      "20 353 ,\n",
      "30 173 ,\n",
      "40 158 ,\n",
      "floor macs\n",
      "10 0 51 ,\n",
      "10 1 0 ,\n",
      "10 2 0 ,\n",
      "10 3 0 ,\n",
      "10 4 0 ,\n",
      "10 5 0 ,\n",
      "20 0 338 ,\n",
      "20 1 253 ,\n",
      "20 2 244 ,\n",
      "20 3 176 ,\n",
      "20 4 0 ,\n",
      "20 5 0 ,\n",
      "30 0 74 ,\n",
      "30 1 64 ,\n",
      "30 2 74 ,\n",
      "30 3 57 ,\n",
      "30 4 45 ,\n",
      "30 5 112 ,\n",
      "40 0 0 ,\n",
      "40 1 108 ,\n",
      "40 2 134 ,\n",
      "40 3 123 ,\n",
      "40 4 0 ,\n",
      "40 5 0 ,\n"
     ]
    }
   ],
   "source": [
    "# Only for the train data\n",
    "# create list of mac addresses for all the samples\n",
    "total_macs = []\n",
    "print('total macs')\n",
    "for i in range(len(wifi)):\n",
    "    for j in range(len(wifi[i])):\n",
    "        if route_numbering[i][j] != test_route:\n",
    "            track_mac_array = wifi[i][j]['MAC'].values\n",
    "            for mac_add in track_mac_array:\n",
    "                if not mac_add in total_macs:\n",
    "                    total_macs.append(mac_add)\n",
    "print(len(total_macs))\n",
    "\n",
    "# create list of mac addresses for each building\n",
    "building_macs = {10: [], 20: [], 30: [], 40: []}\n",
    "for i in range(len(wifi)):\n",
    "    for j in range(len(wifi[i])):\n",
    "        if route_numbering[i][j] != test_route:\n",
    "            track_mac_array = wifi[i][j]\n",
    "            for k in range(track_mac_array.shape[0]):\n",
    "                mac_line = track_mac_array.iloc[k]\n",
    "                mac = mac_line['MAC']\n",
    "                build = int(mac_line['POSI_building'])\n",
    "                if not mac in building_macs[build]:\n",
    "                    building_macs[build].append(mac)\n",
    "print('building macs')\n",
    "for build in sorted(building_macs):\n",
    "    print(build, len(building_macs[build]), ',')\n",
    "\n",
    "# create list of mac addresses for each building for each floor\n",
    "floor_macs = {10: [[], [], [], [], [], []], 20: [[], [], [], [], [], []], \n",
    "              30: [[], [], [], [], [], []], 40: [[], [], [], [], [], []]}\n",
    "for i in range(len(wifi)):\n",
    "    for j in range(len(wifi[i])):\n",
    "        if route_numbering[i][j] != test_route:\n",
    "            track_mac_array = wifi[i][j]\n",
    "            for k in range(track_mac_array.shape[0]):\n",
    "                mac_line = track_mac_array.iloc[k]\n",
    "                mac = mac_line['MAC']\n",
    "                build = int(mac_line['POSI_building'])\n",
    "                floor = int(mac_line['POSI_floor'])\n",
    "                if not mac in floor_macs[build][floor]:\n",
    "                    floor_macs[build][floor].append(mac)\n",
    "\n",
    "print('floor macs')\n",
    "for build in sorted(floor_macs):\n",
    "    for j in range(len(floor_macs[build])):\n",
    "        print(build, j, len(floor_macs[build][j]), ',')"
   ]
  },
  {
   "cell_type": "code",
   "execution_count": 10,
   "metadata": {
    "collapsed": false
   },
   "outputs": [
    {
     "name": "stdout",
     "output_type": "stream",
     "text": [
      "0 0\n",
      "0 1\n",
      "0 2\n",
      "0 3\n",
      "1 0\n",
      "1 1\n",
      "1 2\n",
      "1 3\n",
      "1 4\n",
      "1 5\n",
      "2 0\n",
      "2 1\n",
      "3 0\n",
      "3 1\n",
      "3 2\n",
      "3 3\n",
      "3 4\n",
      "        00:0b:86:27:36:c2  00:0b:86:27:32:e0  00:0b:86:27:32:e2  \\\n",
      "2.293               -16.0                0.0                0.0   \n",
      "8.276               -15.0                0.0                0.0   \n",
      "14.269              -20.0                0.0               -3.0   \n",
      "18.284              -19.0               -1.0               -2.0   \n",
      "24.253              -16.0                0.0                0.0   \n",
      "\n",
      "        00:0b:86:27:32:e1  00:0b:86:27:36:c0  00:0b:86:27:36:c1  \\\n",
      "2.293                -2.0              -16.0              -16.0   \n",
      "8.276                 0.0              -15.0              -18.0   \n",
      "14.269               -3.0              -20.0              -21.0   \n",
      "18.284                0.0              -18.0              -18.0   \n",
      "24.253                0.0              -17.0              -15.0   \n",
      "\n",
      "        00:0b:86:27:35:90  00:0b:86:27:35:92  00:0b:86:27:35:91  \\\n",
      "2.293               -18.0              -15.0              -20.0   \n",
      "8.276               -18.0              -18.0              -20.0   \n",
      "14.269              -17.0              -18.0              -18.0   \n",
      "18.284              -17.0              -21.0              -18.0   \n",
      "24.253              -23.0              -25.0              -17.0   \n",
      "\n",
      "        00:0b:86:27:35:82     ...      ff:ff:ff:ff:00:20  ff:ff:ff:ff:00:76  \\\n",
      "2.293               -30.0     ...                 -134.0             -134.0   \n",
      "8.276               -24.0     ...                 -131.0             -131.0   \n",
      "14.269              -29.0     ...                 -135.0             -135.0   \n",
      "18.284              -31.0     ...                 -136.0             -136.0   \n",
      "24.253              -30.0     ...                 -135.0             -135.0   \n",
      "\n",
      "        ff:ff:ff:ff:00:73  ff:ff:ff:ff:00:15  ff:ff:ff:ff:00:97  \\\n",
      "2.293              -134.0             -134.0             -134.0   \n",
      "8.276              -131.0             -131.0             -131.0   \n",
      "14.269             -135.0             -135.0             -135.0   \n",
      "18.284             -136.0             -136.0             -136.0   \n",
      "24.253             -135.0             -135.0             -135.0   \n",
      "\n",
      "        ff:ff:ff:ff:00:31  POSI_building  POSI_floor  interp_lat  interp_lon  \n",
      "2.293              -134.0           10.0         0.0   40.313471    -3.48315  \n",
      "8.276              -131.0           10.0         0.0   40.313471    -3.48315  \n",
      "14.269             -135.0           10.0         0.0   40.313471    -3.48315  \n",
      "18.284             -136.0           10.0         0.0   40.313471    -3.48315  \n",
      "24.253             -135.0           10.0         0.0   40.313471    -3.48315  \n",
      "\n",
      "[5 rows x 739 columns]\n"
     ]
    }
   ],
   "source": [
    "# Make WiFi data into global dummy variable\n",
    "def dummify_wifi(wifi_df, wifi_list):\n",
    "    wifi_samples = np.unique(wifi_df['AppTime'].values)\n",
    "    wifi_dummy = np.ones((wifi_samples.shape[0], len(wifi_list))) * -200\n",
    "    wifi_dummy = pd.DataFrame(wifi_dummy, columns=wifi_list, index=wifi_samples)\n",
    "    for i, sample_time in enumerate(wifi_samples):\n",
    "            wifi_cur = wifi_df.iloc[wifi_df['AppTime'].values == sample_time]\n",
    "            for j in range(wifi_cur.shape[0]):\n",
    "                if str(wifi_cur['MAC'].iat[j]) in wifi_list:\n",
    "                    wifi_dummy[wifi_cur['MAC'].iat[j]].iat[i] = wifi_cur['rssi'].iat[j]\n",
    "    return wifi_dummy\n",
    "\n",
    "# Normalize wifi and cut noise\n",
    "def normalize_wifi(wifi_dummy_df):\n",
    "    max_per_line = np.amax(wifi_dummy_df, axis=1)\n",
    "    wifi_dummy_df.iloc[:, :] = wifi_dummy_df.values - max_per_line.reshape((max_per_line.shape[0], 1))\n",
    "    return wifi_dummy_df\n",
    "\n",
    "# Add ground truth columnns to the wifi dataframe\n",
    "def add_results_wifi(df, results_df):\n",
    "    df['POSI_building'] = np.ones((df.shape[0],))\n",
    "    df['POSI_floor'] = np.ones((df.shape[0],))\n",
    "    df['interp_lat'] = np.ones((df.shape[0],))\n",
    "    df['interp_lon'] = np.ones((df.shape[0],))\n",
    "    wifi_samples = df.index.values\n",
    "    for i, sample_time in enumerate(wifi_samples):\n",
    "        results_cur = results_df.iloc[results_df['AppTime'].values == sample_time]\n",
    "        for j in range(results_cur.shape[0]):\n",
    "            df['POSI_building'].iat[i] = results_cur['POSI_building'].iat[0]\n",
    "            df['POSI_floor'].iat[i] = results_cur['POSI_floor'].iat[0]\n",
    "            df['interp_lat'].iat[i] = results_cur['interp_lat'].iat[0]\n",
    "            df['interp_lon'].iat[i] = results_cur['interp_lon'].iat[0]\n",
    "    return df\n",
    "\n",
    "# Use different MACs as dummy variables in each time sample with RSSI as value\n",
    "wifi_dummy_total = []\n",
    "for i in range(len(wifi)):\n",
    "    wifi_dummy_total.append([])\n",
    "    for j in range(len(wifi[i])):\n",
    "        print(i, j)\n",
    "        wifi_dummy_total[i].append(dummify_wifi(wifi[i][j], total_macs))\n",
    "        wifi_dummy_total[i][j] = normalize_wifi(wifi_dummy_total[i][j])\n",
    "        wifi_dummy_total[i][j] = add_results_wifi(wifi_dummy_total[i][j], wifi[i][j])\n",
    "print(wifi_dummy_total[0][0].head())"
   ]
  },
  {
   "cell_type": "markdown",
   "metadata": {},
   "source": [
    "## Building classification"
   ]
  },
  {
   "cell_type": "code",
   "execution_count": 11,
   "metadata": {
    "collapsed": false
   },
   "outputs": [
    {
     "name": "stdout",
     "output_type": "stream",
     "text": [
      "0 0\n",
      "0 1\n",
      "0 2\n",
      "0 3\n",
      "1 0\n",
      "1 1\n",
      "1 2\n",
      "1 3\n",
      "1 4\n",
      "1 5\n",
      "2 0\n",
      "2 1\n",
      "3 0\n",
      "3 1\n",
      "3 2\n",
      "3 3\n",
      "3 4\n",
      "         40    10   20   30  POSI_building  POSI_floor  interp_lat  interp_lon\n",
      "2.293   0.0  15.0  0.0  0.0           10.0         0.0   40.313471    -3.48315\n",
      "8.276   0.0  15.0  0.0  0.0           10.0         0.0   40.313471    -3.48315\n",
      "14.269  0.0  18.0  0.0  0.0           10.0         0.0   40.313471    -3.48315\n",
      "18.284  0.0  16.0  0.0  0.0           10.0         0.0   40.313471    -3.48315\n",
      "24.253  0.0  13.0  0.0  0.0           10.0         0.0   40.313471    -3.48315\n"
     ]
    }
   ],
   "source": [
    "# Make WiFi data into dummy variable with the buildingIDs as values. \n",
    "# In each row the number of MACs associated with the buildingID is the value\n",
    "def dummify_wifi_building(wifi_df, wifi_building_list):\n",
    "    wifi_samples = np.unique(wifi_df['AppTime'].values)\n",
    "    wifi_dummy = np.zeros((wifi_samples.shape[0], len(wifi_building_list)))\n",
    "    wifi_dummy = pd.DataFrame(wifi_dummy, columns=list(wifi_building_list.keys()), index=wifi_samples)\n",
    "    for i, sample_time in enumerate(wifi_samples):\n",
    "            wifi_cur = wifi_df.iloc[wifi_df['AppTime'].values == sample_time]\n",
    "            for j in range(wifi_cur.shape[0]):\n",
    "                for k in wifi_building_list:\n",
    "                    if str(wifi_cur['MAC'].iat[j]) in wifi_building_list[k]:\n",
    "                        wifi_dummy[k].iat[i] += 1\n",
    "    return wifi_dummy\n",
    "\n",
    "# Create WiFi dataframe \n",
    "wifi_dummy_building = []\n",
    "for i in range(len(wifi)):\n",
    "    wifi_dummy_building.append([])\n",
    "    for j in range(len(wifi[i])):\n",
    "        print(i, j)\n",
    "        wifi_dummy_building[i].append(dummify_wifi_building(wifi[i][j], building_macs))\n",
    "        wifi_dummy_building[i][j] = add_results_wifi(wifi_dummy_building[i][j], wifi[i][j])\n",
    "print(wifi_dummy_building[0][0].head())\n",
    "# print(wifi_dummy_building[1][0].head())\n",
    "# print(wifi_dummy_building[2][0].head())\n",
    "# print(wifi_dummy_building[3][0].head())"
   ]
  },
  {
   "cell_type": "code",
   "execution_count": 12,
   "metadata": {
    "collapsed": false
   },
   "outputs": [
    {
     "data": {
      "text/plain": [
       "RandomForestClassifier(bootstrap=True, class_weight=None, criterion='gini',\n",
       "            max_depth=4, max_features=1, max_leaf_nodes=None,\n",
       "            min_samples_leaf=1, min_samples_split=2,\n",
       "            min_weight_fraction_leaf=0.0, n_estimators=100, n_jobs=1,\n",
       "            oob_score=False, random_state=2016, verbose=0,\n",
       "            warm_start=False)"
      ]
     },
     "execution_count": 12,
     "metadata": {},
     "output_type": "execute_result"
    }
   ],
   "source": [
    "# Train building on Random Forest using WiFi fingerprinting\n",
    "from sklearn.ensemble import RandomForestClassifier\n",
    "\n",
    "train_build = []\n",
    "for i in range(len(wifi_dummy_total)):\n",
    "    for j in range(len(wifi_dummy_total[i])):\n",
    "        if route_numbering[i][j] != test_route:\n",
    "            train_build.append(wifi_dummy_building[i][j])\n",
    "\n",
    "# concat all train dataframes into one\n",
    "train_build = pd.concat(train_build, axis=0)\n",
    "train_build_results = train_build['POSI_building']\n",
    "train_build = train_build[[10, 20, 30, 40]]\n",
    "\n",
    "# Train RF\n",
    "rfc_build = RandomForestClassifier(n_estimators=100, max_depth=4 ,max_features=1, random_state=2016)\n",
    "rfc_build.fit(train_build.values, train_build_results.values)"
   ]
  },
  {
   "cell_type": "code",
   "execution_count": 13,
   "metadata": {
    "collapsed": false
   },
   "outputs": [
    {
     "name": "stdout",
     "output_type": "stream",
     "text": [
      "         10   20    30   40\n",
      "1.656   0.0  0.0  22.0  0.0\n",
      "5.741   0.0  0.0  19.0  0.0\n",
      "9.763   0.0  0.0  19.0  0.0\n",
      "13.755  0.0  0.0  15.0  0.0\n",
      "17.809  0.0  0.0  13.0  0.0\n"
     ]
    }
   ],
   "source": [
    "# Create test routes in order to evaluate the method\n",
    "test_build = []\n",
    "test_wifi_build = []\n",
    "for i in range(len(wifi_dummy_building)):\n",
    "    for j in range(len(wifi_dummy_building[i])):\n",
    "        if route_numbering[i][j] == test_route:\n",
    "            test_build.append(wifi_dummy_building[i][j][[10, 20, 30, 40]])\n",
    "            test_wifi_build.append(wifi_dummy_total[i][j]['POSI_building'])\n",
    "print(test_build[0].head())"
   ]
  },
  {
   "cell_type": "code",
   "execution_count": 14,
   "metadata": {
    "collapsed": false
   },
   "outputs": [
    {
     "name": "stdout",
     "output_type": "stream",
     "text": [
      "0 1.0\n"
     ]
    }
   ],
   "source": [
    "# Predict test routes using the RF algorithm. Predict for all the test data\n",
    "predicted_build = []\n",
    "predicted_build_proba = []\n",
    "for i in range(len(test_build)):\n",
    "    predicted_build.append(rfc_build.predict(test_build[i].values))\n",
    "    predicted_build_proba.append(rfc_build.predict_proba(test_build[i].values))\n",
    "    print(i, np.sum(predicted_build[i] == test_wifi_build[i].values) / test_wifi_build[i].shape[0])"
   ]
  },
  {
   "cell_type": "code",
   "execution_count": 15,
   "metadata": {
    "collapsed": false
   },
   "outputs": [
    {
     "data": {
      "image/png": "[encoded data removed]",
      "text/plain": [
       "<matplotlib.figure.Figure at 0x7f216211ec18>"
      ]
     },
     "metadata": {},
     "output_type": "display_data"
    }
   ],
   "source": [
    "%matplotlib inline\n",
    "import matplotlib.pyplot as plt\n",
    "\n",
    "route = 0\n",
    "# Plot building results. 100% of the points are true\n",
    "plt.figure(1, figsize=(6, 3))\n",
    "plt.plot(test_build[route].index.values, predicted_build_proba[route][:, 0], 'bo', \n",
    "         test_build[route].index.values, predicted_build_proba[route][:, 1], 'ro', \n",
    "         test_build[route].index.values, predicted_build_proba[route][:, 2], 'go', \n",
    "         test_build[route].index.values, predicted_build_proba[route][:, 3], 'ko')\n",
    "plt.xlabel('Time')\n",
    "plt.ylabel('Percent')\n",
    "plt.title('10: blue, 20: red, 30: green, 40: black')\n",
    "plt.show()"
   ]
  },
  {
   "cell_type": "code",
   "execution_count": 16,
   "metadata": {
    "collapsed": false
   },
   "outputs": [
    {
     "name": "stdout",
     "output_type": "stream",
     "text": [
      "        00:0b:86:27:36:c2  00:0b:86:27:32:e0  00:0b:86:27:32:e2  \\\n",
      "1.656              -139.0             -139.0             -139.0   \n",
      "5.741              -136.0             -136.0             -136.0   \n",
      "9.763              -141.0             -141.0             -141.0   \n",
      "13.755             -146.0             -146.0             -146.0   \n",
      "17.809             -156.0             -156.0             -156.0   \n",
      "\n",
      "        00:0b:86:27:32:e1  00:0b:86:27:36:c0  00:0b:86:27:36:c1  \\\n",
      "1.656              -139.0             -139.0             -139.0   \n",
      "5.741              -136.0             -136.0             -136.0   \n",
      "9.763              -141.0             -141.0             -141.0   \n",
      "13.755             -146.0             -146.0             -146.0   \n",
      "17.809             -156.0             -156.0             -156.0   \n",
      "\n",
      "        00:0b:86:27:35:90  00:0b:86:27:35:92  00:0b:86:27:35:91  \\\n",
      "1.656              -139.0             -139.0             -139.0   \n",
      "5.741              -136.0             -136.0             -136.0   \n",
      "9.763              -141.0             -141.0             -141.0   \n",
      "13.755             -146.0             -146.0             -146.0   \n",
      "17.809             -156.0             -156.0             -156.0   \n",
      "\n",
      "        00:0b:86:27:35:82     ...      ff:ff:ff:ff:00:20  ff:ff:ff:ff:00:76  \\\n",
      "1.656              -139.0     ...                 -139.0             -139.0   \n",
      "5.741              -136.0     ...                 -136.0             -136.0   \n",
      "9.763              -141.0     ...                 -141.0             -141.0   \n",
      "13.755             -146.0     ...                 -146.0             -146.0   \n",
      "17.809             -156.0     ...                 -156.0             -156.0   \n",
      "\n",
      "        ff:ff:ff:ff:00:73  ff:ff:ff:ff:00:15  ff:ff:ff:ff:00:97  \\\n",
      "1.656              -139.0             -139.0             -139.0   \n",
      "5.741              -136.0             -136.0             -136.0   \n",
      "9.763              -141.0             -141.0             -141.0   \n",
      "13.755             -146.0             -146.0             -146.0   \n",
      "17.809             -156.0             -156.0             -156.0   \n",
      "\n",
      "        ff:ff:ff:ff:00:31  POSI_building  POSI_floor  interp_lat  interp_lon  \n",
      "1.656              -139.0           30.0         0.0   39.993670   -0.073939  \n",
      "5.741              -136.0           30.0         0.0   39.993690   -0.073923  \n",
      "9.763              -141.0           30.0         0.0   39.993721   -0.073899  \n",
      "13.755             -146.0           30.0         0.0   39.993758   -0.073869  \n",
      "17.809             -156.0           30.0         0.0   39.993797   -0.073839  \n",
      "\n",
      "[5 rows x 739 columns]\n"
     ]
    }
   ],
   "source": [
    "# wifi train data with noise and all the macs\n",
    "train_wifi = []\n",
    "train_results = []\n",
    "for i in range(len(wifi_dummy_total)):\n",
    "    for j in range(len(wifi_dummy_total[i])):\n",
    "        if route_numbering[i][j] != test_route:\n",
    "            train_wifi.append(wifi_dummy_total[i][j])\n",
    "train_wifi = pd.concat(train_wifi, axis=0)\n",
    "\n",
    "# Create test routes using the dummy WiFi dataframe with all the MACs\n",
    "test_wifi = []\n",
    "test_wifi_floor = []\n",
    "test_wifi_lat = []\n",
    "test_wifi_lng = []\n",
    "for i in range(len(wifi_dummy_total)):\n",
    "    for j in range(len(wifi_dummy_total[i])):\n",
    "        if route_numbering[i][j] == test_route:\n",
    "            test_wifi.append(wifi_dummy_total[i][j])\n",
    "            test_wifi_floor.append(wifi_dummy_total[i][j]['POSI_floor'])\n",
    "            test_wifi_lat.append(wifi_dummy_total[i][j]['interp_lat'])\n",
    "            test_wifi_lng.append(wifi_dummy_total[i][j]['interp_lon'])\n",
    "print(test_wifi[0].head())"
   ]
  },
  {
   "cell_type": "markdown",
   "metadata": {},
   "source": [
    "## Floor classification"
   ]
  },
  {
   "cell_type": "code",
   "execution_count": 17,
   "metadata": {
    "collapsed": false
   },
   "outputs": [],
   "source": [
    "# level noise when packets have lower power than it\n",
    "def wifi_level_noise(wifi_dummy_df, noise):\n",
    "    if len(wifi_dummy_df.shape) > 1:\n",
    "        noise_not = (wifi_dummy_df.values >= noise) * 1\n",
    "        wifi_dummy_df.iloc[:, :] = noise_not * wifi_dummy_df.values + (1- noise_not) * noise\n",
    "    else:\n",
    "        noise_not = (wifi_dummy_df.values >= noise) * 1\n",
    "        wifi_dummy_df.iloc[:] = noise_not * wifi_dummy_df.values + (1- noise_not) * noise\n",
    "    return wifi_dummy_df\n",
    "\n",
    "# filter train samples by buildings in order to train floors\n",
    "train_floor = {10: 0, 20: 0, 30: 0, 40: 0}\n",
    "train_floor_results = {10: 0, 20: 0, 30: 0, 40: 0}\n",
    "for building in train_floor:\n",
    "    train_floor[building] = train_wifi.iloc[train_build_results.values == building][building_macs[building]]\n",
    "    train_floor[building] = wifi_level_noise(train_floor[building], -10)\n",
    "    train_floor_results[building] = train_wifi.iloc[train_build_results.values == building]['POSI_floor']"
   ]
  },
  {
   "cell_type": "code",
   "execution_count": 18,
   "metadata": {
    "collapsed": false
   },
   "outputs": [],
   "source": [
    "# Train floor on Random Forest using WiFi fingerprinting\n",
    "from sklearn.ensemble import RandomForestClassifier\n",
    "rfc_floor = {10: 0, 20: 0, 30: 0, 40: 0}\n",
    "for building in rfc_floor:\n",
    "    rfc_floor[building] = RandomForestClassifier(n_estimators=1000, max_depth=20 ,max_features=1.0, random_state=2016)\n",
    "    rfc_floor[building].fit(train_floor[building].values, train_floor_results[building].values)"
   ]
  },
  {
   "cell_type": "code",
   "execution_count": 19,
   "metadata": {
    "collapsed": false
   },
   "outputs": [],
   "source": [
    "# Predict floors\n",
    "predicted_floor = []\n",
    "predicted_floor_proba = []\n",
    "for test_i in range(len(test_wifi)):\n",
    "    predicted_floor.append([])\n",
    "    predicted_floor_proba.append([])\n",
    "    for row_i in range(test_wifi[test_i].shape[0]):\n",
    "        cur_pred_build = predicted_build[test_i][row_i]\n",
    "        cur_measurement = test_wifi[test_i][building_macs[cur_pred_build]].iloc[row_i]\n",
    "        cur_measurement = wifi_level_noise(cur_measurement, -10)\n",
    "        predicted_floor[test_i].append(int(rfc_floor[cur_pred_build].predict([cur_measurement.values])))\n",
    "# print(predicted_floor)"
   ]
  },
  {
   "cell_type": "code",
   "execution_count": 20,
   "metadata": {
    "collapsed": false
   },
   "outputs": [
    {
     "data": {
      "image/png": "[encoded data removed]",
      "text/plain": [
       "<matplotlib.figure.Figure at 0x7f214bf99f60>"
      ]
     },
     "metadata": {},
     "output_type": "display_data"
    }
   ],
   "source": [
    "route = 0\n",
    "# Plot results\n",
    "plt.figure(1, figsize=(6, 3))\n",
    "plt.plot(test_build[route].index.values, test_wifi_floor[route], 'b', \n",
    "         test_build[route].index.values, predicted_floor[route], 'ro')\n",
    "plt.xlabel('Time')\n",
    "plt.ylabel('Floor')\n",
    "plt.title('logfile_UJIUB_R3_S3 Floor class: Blue: Route, Red: prediction')\n",
    "plt.show()"
   ]
  },
  {
   "cell_type": "code",
   "execution_count": 45,
   "metadata": {
    "collapsed": false
   },
   "outputs": [
    {
     "name": "stdout",
     "output_type": "stream",
     "text": [
      "     Time index          Lat       Lon FloorID BuildingID ind_begin_time  \\\n",
      "0       0     1  40.31347091  -3.48315       0         10              0   \n",
      "1  30.341     1  40.31347091  -3.48315       0         10              0   \n",
      "2  48.878     2  40.31332032  -3.48312       0         10        39.6095   \n",
      "3  80.175     3  40.31328135  -3.48342       0         10        64.5265   \n",
      "4  98.724     4  40.31331275  -3.48342       0         10        89.4495   \n",
      "\n",
      "  ind_end_time  \n",
      "0      39.6095  \n",
      "1      39.6095  \n",
      "2      64.5265  \n",
      "3      89.4495  \n",
      "4      117.716  \n",
      "1\n",
      "1\n",
      "1\n",
      "1\n",
      "1\n",
      "1\n",
      "1\n",
      "1\n",
      "1\n",
      "1\n",
      "1\n",
      "1\n",
      "1\n",
      "1\n",
      "1\n",
      "1\n",
      "1\n"
     ]
    }
   ],
   "source": [
    "# Build floor change data per building\n",
    "# filter train samples by buildings in order to train floors\n",
    "train_floor_change = {10: [], 20: [], 30: [], 40: []}\n",
    "train_floor_change_results = {10: [], 20: [], 30: [], 40: []}\n",
    "\n",
    "print(pos[0][0].head())\n",
    "for i in range(len(pos)):\n",
    "    for j in range(len(pos[i])):\n",
    "        cur_building = pos[i][j].iloc[0]\n",
    "        floor\n",
    "        print('1')"
   ]
  },
  {
   "cell_type": "markdown",
   "metadata": {},
   "source": [
    "## Grid"
   ]
  },
  {
   "cell_type": "code",
   "execution_count": 22,
   "metadata": {
    "collapsed": false
   },
   "outputs": [
    {
     "name": "stdout",
     "output_type": "stream",
     "text": [
      "   00:1a:a1:5c:f9:61  90:f6:52:ff:cd:72  90:f6:52:ff:cd:71  00:1a:a1:5c:f9:60  \\\n",
      "0              -19.0              -33.0              -21.0              -23.0   \n",
      "1              -22.0              -29.0              -20.0              -23.0   \n",
      "2              -20.0              -32.0              -23.0              -20.0   \n",
      "3               -3.0              -20.0               -7.0               -3.0   \n",
      "4               -4.0              -17.0               -5.0               -4.0   \n",
      "\n",
      "   00:1a:6d:9b:9a:21  00:13:c3:44:d8:21  00:1a:6d:9b:9a:20  00:13:c3:44:d8:20  \\\n",
      "0                0.0              -36.0                0.0              -30.0   \n",
      "1               -1.0              -32.0                0.0              -32.0   \n",
      "2                0.0              -40.0               -1.0              -40.0   \n",
      "3                0.0              -17.0                0.0              -18.0   \n",
      "4               -1.0               -9.0                0.0              -10.0   \n",
      "\n",
      "   00:13:c3:44:d8:e1  00:14:69:f2:31:41        ...          00:13:c3:44:af:f1  \\\n",
      "0              -20.0              -30.0        ...                     -150.0   \n",
      "1              -23.0              -23.0        ...                     -152.0   \n",
      "2              -26.0              -38.0        ...                     -158.0   \n",
      "3              -14.0              -15.0        ...                     -141.0   \n",
      "4              -24.0              -24.0        ...                     -141.0   \n",
      "\n",
      "   84:1b:5e:3f:88:6f  c2:9f:db:1c:38:3e  84:1b:5e:3f:88:6e  00:27:22:a7:29:d3  \\\n",
      "0             -150.0             -150.0             -150.0             -150.0   \n",
      "1             -152.0             -152.0             -152.0             -152.0   \n",
      "2             -158.0             -158.0             -158.0             -158.0   \n",
      "3             -141.0             -141.0             -141.0             -141.0   \n",
      "4             -141.0             -141.0             -141.0             -141.0   \n",
      "\n",
      "   02:ca:ff:ee:ba:be  0a:18:d6:03:26:40  0a:18:d6:03:29:62  04:18:d6:03:26:40  \\\n",
      "0             -150.0             -150.0             -150.0             -150.0   \n",
      "1             -152.0             -152.0             -152.0             -152.0   \n",
      "2             -158.0             -158.0             -158.0             -158.0   \n",
      "3             -141.0             -141.0             -141.0             -141.0   \n",
      "4             -141.0             -141.0             -141.0             -141.0   \n",
      "\n",
      "   00:27:22:0b:c6:52  \n",
      "0             -150.0  \n",
      "1             -152.0  \n",
      "2             -158.0  \n",
      "3             -141.0  \n",
      "4             -141.0  \n",
      "\n",
      "[5 rows x 108 columns]\n"
     ]
    }
   ],
   "source": [
    "# Create train for 2D positioning using WiFi fingerprinting\n",
    "train_2d = {10: [[], [], [], [], [], []], 20: [[], [], [], [], [], []], \n",
    "            30: [[], [], [], [], [], []], 40: [[], [], [], [], [], []]}\n",
    "train_2d_lat = {10: [[], [], [], [], [], []], 20: [[], [], [], [], [], []], \n",
    "                30: [[], [], [], [], [], []], 40: [[], [], [], [], [], []]}\n",
    "train_2d_lon = {10: [[], [], [], [], [], []], 20: [[], [], [], [], [], []], \n",
    "                30: [[], [], [], [], [], []], 40: [[], [], [], [], [], []]}\n",
    "train_2d_grid_results = {10: [[], [], [], [], [], []], 20: [[], [], [], [], [], []], \n",
    "                         30: [[], [], [], [], [], []], 40: [[], [], [], [], [], []]}\n",
    "\n",
    "# Split train data into floors\n",
    "for i in range(len(wifi_dummy_total)):\n",
    "    for j in range(len(wifi_dummy_total[i])):\n",
    "        if route_numbering[i][j] != test_route:\n",
    "            track_mac_array = wifi_dummy_total[i][j]\n",
    "            for k in range(track_mac_array.shape[0]):\n",
    "                mac_line = track_mac_array.iloc[k]\n",
    "                build = int(mac_line['POSI_building'])\n",
    "                floor = int(mac_line['POSI_floor'])\n",
    "                lat = float(mac_line['interp_lat'])\n",
    "                lon = float(mac_line['interp_lon'])\n",
    "                train_2d[build][floor].append(mac_line[floor_macs[build][floor]].values.reshape((1, len(floor_macs[build][floor]))))\n",
    "                train_2d_lat[build][floor].append(lat)\n",
    "                train_2d_lon[build][floor].append(lon)\n",
    "\n",
    "# Concat samples inside each floor\n",
    "for build in train_2d:\n",
    "    for floor in range(len(train_2d[build])):\n",
    "        if len(train_2d[build][floor]):\n",
    "            train_2d[build][floor] = np.vstack(tuple(train_2d[build][floor]))\n",
    "            train_2d[build][floor] = pd.DataFrame(train_2d[build][floor], columns=floor_macs[build][floor])\n",
    "print(train_2d[40][1].head())"
   ]
  },
  {
   "cell_type": "code",
   "execution_count": 23,
   "metadata": {
    "collapsed": false
   },
   "outputs": [],
   "source": [
    "# Change measurement from meters to differnial earth angle\n",
    "def mtod_calc(local_latitude, mes_m):\n",
    "    local_radius = 6378137 * np.cos(np.pi * local_latitude / 180)\n",
    "    mes_d = 360 * mes_m / (local_radius * 2 * np.pi)\n",
    "    return mes_d\n",
    "\n",
    "# Create the grid for fingerprinting\n",
    "class GridTrain:\n",
    "    def __init__(self, lat_samples, lon_samples, resolution_m, rssis, translate, classifier):\n",
    "        self.lat_lim = (np.min(lat_samples), np.max(lat_samples))\n",
    "        self.lon_lim = (np.min(lon_samples), np.max(lon_samples))\n",
    "        self.lat_loc = np.median(lat_samples)\n",
    "        self.resolution = mtod_calc(self.lat_loc, resolution_m)\n",
    "        self.lat_grid_start = self.lat_lim[0] + mtod_calc(self.lat_loc, translate[0])\n",
    "        self.lon_grid_start = self.lon_lim[0] + mtod_calc(self.lat_loc, translate[1])\n",
    "        self.grid_lat = np.arange(self.lat_grid_start, self.lat_lim[1], self.resolution)\n",
    "        self.grid_lon = np.arange(self.lon_grid_start, self.lon_lim[1], self.resolution)\n",
    "        self.grid_rssis, self.grid_cell_id, self.grid_dict = self.fit_rssis_to_grid(lat_samples, lon_samples, rssis)\n",
    "        self.classifier = classifier\n",
    "        self.classifier.fit(self.grid_rssis.values, self.grid_cell_id)\n",
    "        \n",
    "    # Allocate packets to a cell\n",
    "    def fit_rssis_to_grid(self, lat_samples, lon_samples, rssis):\n",
    "        rssis_noise_lim = wifi_level_noise(rssis, -25)\n",
    "        grid_rssis = []\n",
    "        grid_cell_id = []\n",
    "        grid_dict = {}\n",
    "        cur_cell_id = 0\n",
    "        for i in range(self.grid_lat.shape[0]):\n",
    "            for j in range(self.grid_lon.shape[0]):\n",
    "                inside_lat = np.logical_and(lat_samples >= self.grid_lat[i], \n",
    "                                            lat_samples < (self.grid_lat[i] + self.resolution))\n",
    "                inside_lon = np.logical_and(lon_samples >= self.grid_lon[j], \n",
    "                                            lon_samples < (self.grid_lon[j] + self.resolution))\n",
    "                inside_cell = np.logical_and(inside_lat, inside_lon)\n",
    "                if np.sum(inside_cell):\n",
    "                    grid_rssis.append(rssis.iloc[inside_cell])\n",
    "                    grid_cell_id.append(np.repeat(cur_cell_id, np.sum(inside_cell)))\n",
    "                    grid_dict[cur_cell_id] = [self.grid_lat[i] + 0.5 * self.resolution, \n",
    "                                              self.grid_lon[j] + 0.5 * self.resolution]\n",
    "                    cur_cell_id += 1\n",
    "        grid_cell_id = np.hstack(tuple(grid_cell_id))\n",
    "        grid_rssis = pd.concat(grid_rssis, axis=0)\n",
    "        return(grid_rssis, grid_cell_id, grid_dict)\n",
    "    \n",
    "    # Predict from classifier\n",
    "    def predict_classifier(self, testset):\n",
    "        self.classifier.predict(testset)\n",
    "        "
   ]
  },
  {
   "cell_type": "code",
   "execution_count": 24,
   "metadata": {
    "collapsed": false
   },
   "outputs": [
    {
     "name": "stdout",
     "output_type": "stream",
     "text": [
      "ID 40 1\n",
      "ID 40 2\n",
      "ID 40 3\n",
      "ID 10 0\n",
      "ID 20 0\n",
      "ID 20 1\n",
      "ID 20 2\n",
      "ID 20 3\n",
      "ID 30 0\n",
      "ID 30 1\n",
      "ID 30 2\n",
      "ID 30 3\n",
      "ID 30 4\n",
      "ID 30 5\n"
     ]
    }
   ],
   "source": [
    "\"\"\" Need to add noise limit \"\"\"\n",
    "# Train grid\n",
    "train_2d_grid = {10: [[], [], [], [], [], []], 20: [[], [], [], [], [], []], \n",
    "                30: [[], [], [], [], [], []], 40: [[], [], [], [], [], []]}\n",
    "train_2d_grid_results = {10: [[], [], [], [], [], []], 20: [[], [], [], [], [], []], \n",
    "                         30: [[], [], [], [], [], []], 40: [[], [], [], [], [], []]}\n",
    "\n",
    "res_m = 10\n",
    "\n",
    "for build in train_2d:\n",
    "    for floor in range(len(train_2d[build])):\n",
    "        if len(train_2d[build][floor]):\n",
    "            print('ID', build, floor)\n",
    "            train_2d_grid[build][floor] = GridTrain(train_2d_lat[build][floor], train_2d_lon[build][floor], res_m, \n",
    "                                                    train_2d[build][floor], (-0.5 * res_m, -0.5 * res_m),\n",
    "                                                    RandomForestClassifier(n_estimators=200, max_depth=20,\n",
    "                                                                           max_features=0.5, random_state=2016))"
   ]
  },
  {
   "cell_type": "code",
   "execution_count": 25,
   "metadata": {
    "collapsed": false
   },
   "outputs": [],
   "source": [
    "# Predict cells and change back to lat / long\n",
    "predicted_cell = []\n",
    "predicted_2d = []\n",
    "for test_i in range(len(test_wifi)):\n",
    "    predicted_cell.append([])\n",
    "    predicted_2d.append([])\n",
    "    for row_i in range(test_wifi[test_i].shape[0]):\n",
    "        cur_pred_build = predicted_build[test_i][row_i]\n",
    "        cur_pred_floor = predicted_floor[test_i][row_i]\n",
    "        cur_measurement = test_wifi[test_i][floor_macs[cur_pred_build][cur_pred_floor]].iloc[row_i]\n",
    "        cur_measurement = wifi_level_noise(cur_measurement, -25)\n",
    "        cur_prediction = int(train_2d_grid[cur_pred_build][cur_pred_floor].classifier.predict([cur_measurement.values]))\n",
    "        predicted_cell[test_i].append(cur_prediction)\n",
    "        predicted_2d[test_i].append(train_2d_grid[cur_pred_build][cur_pred_floor].grid_dict[cur_prediction])\n",
    "    predicted_2d[test_i] = np.array(predicted_2d[test_i])\n"
   ]
  },
  {
   "cell_type": "code",
   "execution_count": 26,
   "metadata": {
    "collapsed": false
   },
   "outputs": [
    {
     "data": {
      "image/png": "[encoded data removed]",
      "text/plain": [
       "<matplotlib.figure.Figure at 0x7f214be0d630>"
      ]
     },
     "metadata": {},
     "output_type": "display_data"
    }
   ],
   "source": [
    "route = 0\n",
    "# Plot 2D predicitions\n",
    "plt.figure(1, figsize=(12, 10))\n",
    "plt.subplot(221)\n",
    "plt.plot(test_wifi[route].index.values, test_wifi_lat[route].values, 'r',\n",
    "         test_wifi[route].index.values, predicted_2d[route][:, 0], 'ko')\n",
    "plt.title('Lat(t): Route - red, WiFi - black')\n",
    "plt.subplot(222)\n",
    "plt.plot(test_wifi[route].index.values, test_wifi_lng[route].values, 'r',\n",
    "         test_wifi[route].index.values, predicted_2d[route][:, 1], 'ko')\n",
    "plt.title('Lng(t): Route - red, WiFi - black')\n",
    "plt.show()"
   ]
  },
  {
   "cell_type": "code",
   "execution_count": 27,
   "metadata": {
    "collapsed": false
   },
   "outputs": [],
   "source": [
    "# Calculate errors\n",
    "def dtom_calc(local_latitude, mes_d):\n",
    "    local_radius = 6378137 * np.cos(np.pi * local_latitude / 180)\n",
    "    mes_m = mes_d * (local_radius * 2 * np.pi) / 360\n",
    "    return mes_m\n",
    "\n",
    "test_deg_m_scale = []\n",
    "for test_i in range(len(test_wifi)):\n",
    "    test_deg_m_scale.append(dtom_calc(np.median(predicted_2d[test_i][:, 0]), 1))\n",
    "\n",
    "test_error_wifi = []\n",
    "for test_i in range(len(test_wifi)):\n",
    "    error_2d = np.sqrt((predicted_2d[test_i][:, 0] - test_wifi_lat[test_i].values) ** 2 +\n",
    "                       (predicted_2d[test_i][:, 1] - test_wifi_lng[test_i].values) ** 2) * test_deg_m_scale[test_i]\n",
    "    error_build = 50 * (predicted_build[test_i] != test_wifi_build[test_i].values)\n",
    "    error_floor = 15 * np.abs(predicted_floor[test_i] - test_wifi_floor[test_i].values)\n",
    "    test_error_wifi.append(error_2d + error_floor + error_build)"
   ]
  },
  {
   "cell_type": "code",
   "execution_count": 28,
   "metadata": {
    "collapsed": false
   },
   "outputs": [
    {
     "name": "stdout",
     "output_type": "stream",
     "text": [
      "[[6.8952358385302599]]\n"
     ]
    },
    {
     "data": {
      "image/png": "[encoded data removed]",
      "text/plain": [
       "<matplotlib.figure.Figure at 0x7f214bd84898>"
      ]
     },
     "metadata": {},
     "output_type": "display_data"
    }
   ],
   "source": [
    "# Plot errors\n",
    "error_prob_wifi = []\n",
    "error_ranked_wifi = []\n",
    "test_error_q3_wifi = []\n",
    "for test_i in range(len(test_error_wifi)):\n",
    "    cur_errors = np.sort(test_error_wifi[test_i])\n",
    "    density = 1 / cur_errors.shape[0]\n",
    "    error_ranked_wifi.append([cur_errors[0]])\n",
    "    error_prob_wifi.append([density])\n",
    "    for err_i in cur_errors[1:]:\n",
    "        error_prob_wifi[test_i].append(error_prob_wifi[test_i][-1] + density)\n",
    "        error_ranked_wifi[test_i].append(err_i)\n",
    "    test_error_q3_wifi.append([cur_errors[int(cur_errors.shape[0] * 3 / 4)]])\n",
    "print(test_error_q3_wifi)\n",
    "\n",
    "route = 0\n",
    "# Plot commulative error of predicitions\n",
    "plt.figure(1, figsize=(10, 10))\n",
    "plt.plot(error_prob_wifi[route], error_ranked_wifi[route], 'r')\n",
    "plt.title('Cumulative error probability')\n",
    "plt.show()"
   ]
  },
  {
   "cell_type": "markdown",
   "metadata": {},
   "source": [
    "## GPS 2D prediction"
   ]
  },
  {
   "cell_type": "code",
   "execution_count": 29,
   "metadata": {
    "collapsed": false
   },
   "outputs": [
    {
     "name": "stdout",
     "output_type": "stream",
     "text": [
      "         GPS_lat    GPS_lon  GPS_alt  GPS_bearing  GPS_accuracy  GPS_speed  \\\n",
      "0.389  40.313451  -3.483100  600.238      197.585           6.0        0.0   \n",
      "0.398  40.313451  -3.483100  600.238      197.585           6.0        0.0   \n",
      "1.406  40.313449  -3.483100  600.217      197.585           6.0        0.0   \n",
      "1.416  40.313449  -3.483100  600.217      197.585           6.0        0.0   \n",
      "2.416  40.313449  -3.483099  600.197      197.585           6.0        0.0   \n",
      "\n",
      "       GPS_sat_viewed  GPS_sat_used  POSI_floor  POSI_building  interp_lat  \\\n",
      "0.389            15.0          11.0         0.0           10.0   40.313471   \n",
      "0.398            15.0          11.0         0.0           10.0   40.313471   \n",
      "1.406            15.0          11.0         0.0           10.0   40.313471   \n",
      "1.416            15.0          11.0         0.0           10.0   40.313471   \n",
      "2.416            15.0          11.0         0.0           10.0   40.313471   \n",
      "\n",
      "       interp_lon  \n",
      "0.389    -3.48315  \n",
      "0.398    -3.48315  \n",
      "1.406    -3.48315  \n",
      "1.416    -3.48315  \n",
      "2.416    -3.48315  \n",
      "         GPS_lat    GPS_lon  GPS_alt  GPS_bearing  GPS_accuracy  GPS_speed  \\\n",
      "0.132  40.313459  -3.483200  587.938       35.833          15.0        0.0   \n",
      "0.135  40.313459  -3.483200  587.938       35.833          15.0        0.0   \n",
      "1.081  40.313464  -3.483200  588.261        3.059          10.0        0.1   \n",
      "1.197  40.313464  -3.483200  588.261        3.059          10.0        0.1   \n",
      "2.099  40.313466  -3.483199  588.236      299.388          25.0        0.1   \n",
      "\n",
      "       GPS_sat_viewed  GPS_sat_used  POSI_floor  POSI_building  interp_lat  \\\n",
      "0.132            11.0           7.0         0.0           10.0   40.313471   \n",
      "0.135            11.0           7.0         0.0           10.0   40.313471   \n",
      "1.081            11.0           7.0         0.0           10.0   40.313471   \n",
      "1.197            11.0           7.0         0.0           10.0   40.313471   \n",
      "2.099            11.0           7.0         0.0           10.0   40.313471   \n",
      "\n",
      "       interp_lon  \n",
      "0.132    -3.48315  \n",
      "0.135    -3.48315  \n",
      "1.081    -3.48315  \n",
      "1.197    -3.48315  \n",
      "2.099    -3.48315  \n"
     ]
    }
   ],
   "source": [
    "# create gps data frames\n",
    "gps = []\n",
    "for i in range(len(track)):\n",
    "    gps.append([])\n",
    "    for j in range(len(track[i])):\n",
    "        gps[-1].append(track[i][j][[1, 3, 4, 5, 6, 7, 8, 9, 10, 'POSI_floor', 'POSI_building', 'interp_lat',\n",
    "                                    'interp_lon']].iloc[track[i][j][0].values == 'GNSS'])\n",
    "        gps[-1][-1].columns = ['AppTime', 'GPS_lat', 'GPS_lon', 'GPS_alt', 'GPS_bearing', 'GPS_accuracy', 'GPS_speed', \n",
    "                                'GPS_sat_viewed', 'GPS_sat_used', 'POSI_floor', 'POSI_building', 'interp_lat',\n",
    "                                'interp_lon']\n",
    "        gps[-1][-1].index = gps[-1][-1]['AppTime'].values\n",
    "        gps[-1][-1] = gps[-1][-1].drop(['AppTime'], axis=1)\n",
    "print(gps[0][0].head())\n",
    "print(gps[0][1].head())"
   ]
  },
  {
   "cell_type": "code",
   "execution_count": 30,
   "metadata": {
    "collapsed": false
   },
   "outputs": [
    {
     "name": "stdout",
     "output_type": "stream",
     "text": [
      "         GPS_lat    GPS_lon  GPS_alt  GPS_bearing  GPS_accuracy  GPS_speed  \\\n",
      "0.984  39.993661  -0.074055   93.903          0.0          16.0        0.0   \n",
      "0.998  39.993661  -0.074055   93.903          0.0          16.0        0.0   \n",
      "1.937  39.993661  -0.074055   95.287          0.0          12.0        0.0   \n",
      "1.976  39.993661  -0.074055   95.287          0.0          12.0        0.0   \n",
      "2.934  39.993661  -0.074055   99.543          0.0          12.0        0.0   \n",
      "\n",
      "       GPS_sat_viewed  GPS_sat_used  POSI_floor  POSI_building  interp_lat  \\\n",
      "0.984            11.0           9.0         0.0           30.0    39.99367   \n",
      "0.998            11.0           9.0         0.0           30.0    39.99367   \n",
      "1.937            11.0           9.0         0.0           30.0    39.99367   \n",
      "1.976            11.0           9.0         0.0           30.0    39.99367   \n",
      "2.934            11.0           9.0         0.0           30.0    39.99367   \n",
      "\n",
      "       interp_lon  \n",
      "0.984   -0.073939  \n",
      "0.998   -0.073939  \n",
      "1.937   -0.073939  \n",
      "1.976   -0.073939  \n",
      "2.934   -0.073939  \n"
     ]
    }
   ],
   "source": [
    "# Create test gps routes\n",
    "test_gps = []\n",
    "for i in range(len(wifi_dummy_total)):\n",
    "    for j in range(len(wifi_dummy_total[i])):\n",
    "        if route_numbering[i][j] == test_route:\n",
    "            test_gps.append(gps[i][j])\n",
    "print(test_gps[0].head())"
   ]
  },
  {
   "cell_type": "code",
   "execution_count": 31,
   "metadata": {
    "collapsed": false
   },
   "outputs": [
    {
     "data": {
      "image/png": "[encoded data removed]",
      "text/plain": [
       "<matplotlib.figure.Figure at 0x7f214bb4e278>"
      ]
     },
     "metadata": {},
     "output_type": "display_data"
    }
   ],
   "source": [
    "route = 0\n",
    "# Plot 2D predicitions\n",
    "plt.figure(1, figsize=(12, 12))\n",
    "plt.subplot(221)\n",
    "plt.plot(test_gps[route].index.values, test_gps[route]['interp_lat'].values, 'r',\n",
    "         test_gps[route].index.values, test_gps[route]['GPS_lat'].values, 'g--')\n",
    "plt.title('Lat(t)')\n",
    "plt.subplot(222)\n",
    "plt.plot(test_gps[route].index.values, test_gps[route]['interp_lon'].values, 'r',\n",
    "         test_gps[route].index.values, test_gps[route]['GPS_lon'].values, 'g--')\n",
    "plt.title('Lng(t)')\n",
    "plt.show()"
   ]
  },
  {
   "cell_type": "code",
   "execution_count": 32,
   "metadata": {
    "collapsed": false
   },
   "outputs": [
    {
     "data": {
      "image/png": "[encoded data removed]",
      "text/plain": [
       "<matplotlib.figure.Figure at 0x7f214bb7d978>"
      ]
     },
     "metadata": {},
     "output_type": "display_data"
    }
   ],
   "source": [
    "route = 0\n",
    "# Plot 2D predicitions\n",
    "plt.figure(1, figsize=(12, 12))\n",
    "plt.subplot(221)\n",
    "plt.plot(test_gps[route].index.values, test_gps[route]['interp_lat'].values, 'r',\n",
    "         test_gps[route].index.values, test_gps[route]['GPS_lat'].values, 'go',\n",
    "         test_wifi[route].index.values, predicted_2d[route][:, 0], 'ko')\n",
    "plt.title('Lat(t): Route - red; WiFi fingerprinting - black; GPS positioning - green')\n",
    "plt.subplot(222)\n",
    "plt.plot(test_gps[route].index.values, test_gps[route]['interp_lon'].values, 'r',\n",
    "         test_gps[route].index.values, test_gps[route]['GPS_lon'].values, 'go',\n",
    "         test_wifi[route].index.values, predicted_2d[route][:, 1], 'ko')\n",
    "plt.title('Lng(t): Route - red; WiFi fingerprinting - black; GPS positioning - green')\n",
    "plt.show()"
   ]
  },
  {
   "cell_type": "markdown",
   "metadata": {},
   "source": [
    "### GPS error estimation"
   ]
  },
  {
   "cell_type": "code",
   "execution_count": 33,
   "metadata": {
    "collapsed": false
   },
   "outputs": [
    {
     "name": "stdout",
     "output_type": "stream",
     "text": [
      "[[23.123193719879719]]\n"
     ]
    },
    {
     "data": {
      "image/png": "[encoded data removed]",
      "text/plain": [
       "<matplotlib.figure.Figure at 0x7f214bae2b70>"
      ]
     },
     "metadata": {},
     "output_type": "display_data"
    }
   ],
   "source": [
    "# Get GPS errors\n",
    "test_error_gps = []\n",
    "for test_i in range(len(test_gps)):\n",
    "    error_2d = np.sqrt((test_gps[test_i]['GPS_lat'].values.astype(float) - test_gps[test_i]['interp_lat'].values.astype(float)) ** 2 +\n",
    "                       (test_gps[test_i]['GPS_lon'].values.astype(float) - test_gps[test_i]['interp_lon'].values.astype(float)) ** 2) * test_deg_m_scale[test_i]\n",
    "#     error_build = 50 * (predicted_build[test_i] != test_wifi_build[test_i].values)\n",
    "#     error_floor = 15 * np.abs(predicted_floor[test_i] - test_wifi_floor[test_i].values)\n",
    "    test_error_gps.append(error_2d)\n",
    "\n",
    "# Plot errors\n",
    "error_prob_gps = []\n",
    "error_ranked_gps = []\n",
    "test_error_q3_gps = []\n",
    "for test_i in range(len(test_error_gps)):\n",
    "    cur_errors = np.sort(test_error_gps[test_i])\n",
    "    density = 1 / cur_errors.shape[0]\n",
    "    error_ranked_gps.append([cur_errors[0]])\n",
    "    error_prob_gps.append([density])\n",
    "    for err_i in cur_errors[1:]:\n",
    "        error_prob_gps[test_i].append(error_prob_gps[test_i][-1] + density)\n",
    "        error_ranked_gps[test_i].append(err_i)\n",
    "    test_error_q3_gps.append([cur_errors[int(cur_errors.shape[0] * 3 / 4)]])\n",
    "print(test_error_q3_gps)\n",
    "\n",
    "route = 0\n",
    "# Plot commulative error of predicitions\n",
    "plt.figure(1, figsize=(10, 10))\n",
    "plt.plot(error_prob_gps[route], error_ranked_gps[route], 'r')\n",
    "plt.title('Cumulative error')\n",
    "plt.show()"
   ]
  },
  {
   "cell_type": "code",
   "execution_count": 34,
   "metadata": {
    "collapsed": false
   },
   "outputs": [
    {
     "name": "stdout",
     "output_type": "stream",
     "text": [
      "78\n",
      "0\n"
     ]
    }
   ],
   "source": [
    "# Filter GPS with GPS_accuracy < value\n",
    "# Get GPS errors\n",
    "test_gps_filtered = []\n",
    "for test_i in range(len(test_gps)):\n",
    "    test_gps_filtered.append(test_gps[test_i].iloc[test_gps[test_i]['GPS_accuracy'].values < 7])\n",
    "    \n",
    "route = 0\n",
    "print(test_gps[route].shape[0])\n",
    "print(test_gps_filtered[route].shape[0])"
   ]
  },
  {
   "cell_type": "code",
   "execution_count": 35,
   "metadata": {
    "collapsed": false
   },
   "outputs": [
    {
     "data": {
      "image/png": "[encoded data removed]",
      "text/plain": [
       "<matplotlib.figure.Figure at 0x7f214bb42080>"
      ]
     },
     "metadata": {},
     "output_type": "display_data"
    }
   ],
   "source": [
    "# Plot GPS_error as function of different parameters\n",
    "\n",
    "plt.figure(1, figsize=(8, 6))\n",
    "plt.hist2d(test_gps[route]['GPS_accuracy'].values, test_error_gps[route], bins=100)\n",
    "plt.title('GPS tracking error(y) Vs. GPS_accuracy density(x)')\n",
    "plt.colorbar()\n",
    "plt.show()"
   ]
  },
  {
   "cell_type": "code",
   "execution_count": 36,
   "metadata": {
    "collapsed": false
   },
   "outputs": [
    {
     "data": {
      "image/png": "[encoded data removed]",
      "text/plain": [
       "<matplotlib.figure.Figure at 0x7f214b9ab7b8>"
      ]
     },
     "metadata": {},
     "output_type": "display_data"
    }
   ],
   "source": [
    "route = 0\n",
    "# Plot 2D predicitions\n",
    "plt.figure(1, figsize=(16, 12))\n",
    "plt.subplot(221)\n",
    "plt.plot(test_gps[route].index.values, test_gps[route]['interp_lat'].values, 'r',\n",
    "         test_gps[route].index.values, test_gps[route]['GPS_lat'].values, 'go',\n",
    "         test_gps_filtered[route].index.values, test_gps_filtered[route]['GPS_lat'].values, 'bo',\n",
    "         test_wifi[route].index.values, predicted_2d[route][:, 0], 'ko')\n",
    "plt.title('Lat(t): Route - red; WiFi - black; GPS - green')\n",
    "plt.subplot(222)\n",
    "plt.plot(test_gps[route].index.values, test_gps[route]['interp_lon'].values, 'r',\n",
    "         test_gps[route].index.values, test_gps[route]['GPS_lon'].values, 'go',\n",
    "         test_gps_filtered[route].index.values, test_gps_filtered[route]['GPS_lon'].values, 'bo',\n",
    "         test_wifi[route].index.values, predicted_2d[route][:, 1], 'ko')\n",
    "plt.title('Lng(t): Route - red; WiFi - black; GPS - green')\n",
    "plt.show()"
   ]
  },
  {
   "cell_type": "code",
   "execution_count": 37,
   "metadata": {
    "collapsed": false
   },
   "outputs": [
    {
     "name": "stdout",
     "output_type": "stream",
     "text": [
      "     Time index          Lat         Lon FloorID BuildingID ind_begin_time  \\\n",
      "0       0     1  39.99367034  -0.0739385       0         30              0   \n",
      "1   3.175     1  39.99367034  -0.0739385       0         30              0   \n",
      "2   9.448     2  39.99371763   -0.073901       0         30         6.3115   \n",
      "3  19.942     3  39.99381714  -0.0738233       0         30         14.695   \n",
      "4  27.481     4   39.9938298  -0.0738543       0         30        23.7115   \n",
      "\n",
      "  ind_end_time  \n",
      "0       6.3115  \n",
      "1       6.3115  \n",
      "2       14.695  \n",
      "3      23.7115  \n",
      "4       31.269  \n"
     ]
    }
   ],
   "source": [
    "# Create a test answer with 0.5 seconds intervals\n",
    "test_sub_timestamps = []\n",
    "interval = 0.5\n",
    "for i in range(len(track)):\n",
    "    for j in range(len(track[i])):\n",
    "        if route_numbering[i][j] == test_route:\n",
    "            last_sample_time = track[i][j][1].iloc[-1]\n",
    "            test_sub_timestamps.append(np.arange(0, last_sample_time, interval))\n",
    "            print(pos[i][j].head())"
   ]
  },
  {
   "cell_type": "code",
   "execution_count": 38,
   "metadata": {
    "collapsed": false
   },
   "outputs": [
    {
     "name": "stdout",
     "output_type": "stream",
     "text": [
      "     AppTime       Lat       Lon  FloorID  BuildingID\n",
      "0.0      0.0  39.99367 -0.073939        0        30.0\n",
      "0.5      0.5  39.99367 -0.073939        0        30.0\n",
      "1.0      1.0  39.99367 -0.073939        0        30.0\n",
      "1.5      1.5  39.99367 -0.073939        0        30.0\n",
      "2.0      2.0  39.99367 -0.073939        0        30.0\n"
     ]
    }
   ],
   "source": [
    "# Interpolate ground truth for the test time stamps\n",
    "test_sub_results = [] \n",
    "test_i = 0\n",
    "for i in range(len(track)):\n",
    "    for j in range(len(track[i])):\n",
    "        if route_numbering[i][j] == test_route:\n",
    "            test_sub_results.append(pd.DataFrame(np.zeros((test_sub_timestamps[test_i].shape[0], 5)), \n",
    "                                                 index=test_sub_timestamps[test_i], \n",
    "                                                 columns=['AppTime', 'Lat', 'Lon', 'FloorID', 'BuildingID']))\n",
    "            interp_ground_truth_lat = interpolate.interp1d(pos[i][j]['Time'].astype(float), pos[i][j]['Lat'])\n",
    "            interp_ground_truth_lon = interpolate.interp1d(pos[i][j]['Time'].astype(float), pos[i][j]['Lon'])\n",
    "            interp_ground_truth_floor = interpolate.interp1d(pos[i][j]['Time'].astype(float), pos[i][j]['FloorID'])\n",
    "            interp_ground_truth_building = interpolate.interp1d(pos[i][j]['Time'].astype(float), pos[i][j]['BuildingID'])\n",
    "            test_sub_results[test_i]['AppTime'] = test_sub_timestamps[test_i]\n",
    "            test_sub_results[test_i]['Lat'] = interp_ground_truth_lat(test_sub_results[test_i].index.values)\n",
    "            test_sub_results[test_i]['Lon'] = interp_ground_truth_lon(test_sub_results[test_i].index.values)\n",
    "            test_sub_results[test_i]['FloorID'] = interp_ground_truth_floor(test_sub_results[test_i].index.values)\n",
    "            test_sub_results[test_i]['BuildingID'] = interp_ground_truth_building(test_sub_results[test_i].index.values)\n",
    "            test_sub_results[test_i]['FloorID'] = (test_sub_results[test_i]['FloorID'].values + 0.5).astype(int)\n",
    "            test_i += 1\n",
    "\n",
    "print(test_sub_results[0].head())"
   ]
  },
  {
   "cell_type": "code",
   "execution_count": 39,
   "metadata": {
    "collapsed": true
   },
   "outputs": [],
   "source": [
    "# Smooth out"
   ]
  },
  {
   "cell_type": "code",
   "execution_count": 40,
   "metadata": {
    "collapsed": false
   },
   "outputs": [],
   "source": [
    "test_sub_wifi_predicitions = [] \n",
    "for i in range(len(test_sub_results)):\n",
    "    test_sub_wifi_predicitions.append(pd.DataFrame(np.zeros(test_sub_results[i].shape), \n",
    "                                                   index=test_sub_timestamps[i], \n",
    "                                                   columns=['AppTime', 'Lat', 'Lon', 'FloorID', 'BuildingID']))\n",
    "    # Pad sensors' samples\n",
    "    latlon_pad_start = predicted_2d[i][0, :]\n",
    "    latlon_pad_end = predicted_2d[i][-1, :]\n",
    "    latlon_array = np.vstack((latlon_pad_start, \n",
    "                           predicted_2d[i], \n",
    "                           latlon_pad_end))\n",
    "    floor_pad_start = predicted_floor[i][0]\n",
    "    floor_pad_end = predicted_floor[i][-1]\n",
    "    floor_array = np.hstack((floor_pad_start, \n",
    "                             predicted_floor[i], \n",
    "                             floor_pad_end))\n",
    "    building_pad_start = predicted_build[i][0]\n",
    "    building_pad_end = predicted_build[i][-1]\n",
    "    building_array = np.hstack((building_pad_start, \n",
    "                               predicted_build[i], \n",
    "                               building_pad_end))\n",
    "    time_pad_start = 0\n",
    "    time_pad_end = test_sub_timestamps[i][-1]\n",
    "    time_array = np.hstack((time_pad_start, \n",
    "                            test_wifi[i].index.values, \n",
    "                            time_pad_end))\n",
    "    \n",
    "    # Interpolate sensors' samples\n",
    "    interp_pred_wifi_lat = interpolate.interp1d(time_array, latlon_array[:, 0])\n",
    "    interp_pred_wifi_lon = interpolate.interp1d(time_array, latlon_array[:, 1])\n",
    "    interp_pred_wifi_floor = interpolate.interp1d(time_array, floor_array)\n",
    "    interp_pred_wifi_building = interpolate.interp1d(time_array, building_array)\n",
    "    test_sub_wifi_predicitions[i]['AppTime'] = test_sub_timestamps[i]\n",
    "    test_sub_wifi_predicitions[i]['Lat'] = interp_pred_wifi_lat(test_sub_wifi_predicitions[i]['AppTime'].values)\n",
    "    test_sub_wifi_predicitions[i]['Lon'] = interp_pred_wifi_lon(test_sub_wifi_predicitions[i]['AppTime'].values)\n",
    "    test_sub_wifi_predicitions[i]['FloorID'] = interp_pred_wifi_floor(test_sub_wifi_predicitions[i]['AppTime'].values)\n",
    "    test_sub_wifi_predicitions[i]['BuildingID'] = interp_pred_wifi_building(test_sub_wifi_predicitions[i]['AppTime'].values)\n",
    "    test_sub_wifi_predicitions[i]['FloorID'] = (test_sub_wifi_predicitions[i]['FloorID'].values + 0.5).astype(int)\n"
   ]
  },
  {
   "cell_type": "code",
   "execution_count": 41,
   "metadata": {
    "collapsed": false
   },
   "outputs": [
    {
     "data": {
      "image/png": "[encoded data removed]",
      "text/plain": [
       "<matplotlib.figure.Figure at 0x7f214b998b00>"
      ]
     },
     "metadata": {},
     "output_type": "display_data"
    }
   ],
   "source": [
    "# print an image of the predicitions\n",
    "def show_prediction(results, predictions, route):\n",
    "    # Plot 2D predicitions\n",
    "    plt.figure(1, figsize=(10, 12))\n",
    "    plt.subplot(311)\n",
    "    plt.plot(results[route]['AppTime'].values, results[route]['Lat'].values, 'r',\n",
    "             predictions[route]['AppTime'].values, predictions[route]['Lat'].values, 'bo')\n",
    "    plt.title('Lat(t): Route - red; WiFi fingerprinting - black; GPS positioning - green')\n",
    "    plt.subplot(312)\n",
    "    plt.plot(test_sub_results[route]['AppTime'].values, test_sub_results[route]['Lon'].values, 'r',\n",
    "             predictions[route]['AppTime'].values, predictions[route]['Lon'].values, 'bo')\n",
    "    plt.title('Lng(t): Route - red; WiFi fingerprinting - black; GPS positioning - green')\n",
    "    plt.subplot(313)\n",
    "    plt.plot(results[route]['AppTime'].values, results[route]['FloorID'].values, 'r',\n",
    "             predictions[route]['AppTime'].values, predictions[route]['FloorID'].values, 'bo')\n",
    "    plt.title('FloorID: Route - red; Predicitoin - blue')\n",
    "    plt.show()\n",
    "    \n",
    "route = 0\n",
    "show_prediction(test_sub_results ,test_sub_wifi_predicitions, route)\n"
   ]
  },
  {
   "cell_type": "code",
   "execution_count": 42,
   "metadata": {
    "collapsed": false
   },
   "outputs": [
    {
     "name": "stdout",
     "output_type": "stream",
     "text": [
      "[[6.5193893583470537]]\n"
     ]
    },
    {
     "data": {
      "image/png": "[encoded data removed]",
      "text/plain": [
       "<matplotlib.figure.Figure at 0x7f214b9e5b00>"
      ]
     },
     "metadata": {},
     "output_type": "display_data"
    }
   ],
   "source": [
    "# Calculate submission errors\n",
    "test_sub_errors = []\n",
    "for i in range(len(test_gps)):\n",
    "    error_2d = np.sqrt((test_sub_wifi_predicitions[i]['Lat'].values - test_sub_results[i]['Lat'].values) ** 2 +\n",
    "                       (test_sub_wifi_predicitions[i]['Lon'].values - test_sub_results[i]['Lon'].values) ** 2) * test_deg_m_scale[i]\n",
    "    error_build = 50 * (test_sub_wifi_predicitions[i]['BuildingID'].values != test_sub_results[i]['BuildingID'].values)\n",
    "    error_floor = 15 * np.abs(test_sub_wifi_predicitions[i]['FloorID'].values - test_sub_results[i]['FloorID'].values)\n",
    "    test_sub_errors.append(error_2d + error_floor + error_build)\n",
    "\n",
    "# Plot errors\n",
    "error_sub_prob = []\n",
    "error_sub_ranked = []\n",
    "test_sub_error_q3 = []\n",
    "for i in range(len(test_error_gps)):\n",
    "    cur_errors = np.sort(test_sub_errors[i])\n",
    "    density = 1 / cur_errors.shape[0]\n",
    "    error_sub_ranked.append([cur_errors[0]])\n",
    "    error_sub_prob.append([density])\n",
    "    for err_i in cur_errors[1:]:\n",
    "        error_sub_prob[i].append(error_sub_prob[i][-1] + density)\n",
    "        error_sub_ranked[i].append(err_i)\n",
    "    test_sub_error_q3.append([cur_errors[int(cur_errors.shape[0] * 3 / 4)]])\n",
    "print(test_sub_error_q3)\n",
    "\n",
    "route = 0\n",
    "# Plot commulative error of predicitions\n",
    "plt.figure(1, figsize=(10, 10))\n",
    "plt.plot(error_sub_prob[route], error_sub_ranked[route], 'r')\n",
    "plt.title('Cumulative error')\n",
    "plt.show()"
   ]
  },
  {
   "cell_type": "code",
   "execution_count": 43,
   "metadata": {
    "collapsed": false
   },
   "outputs": [
    {
     "ename": "IndexError",
     "evalue": "single positional indexer is out-of-bounds",
     "output_type": "error",
     "traceback": [
      "\u001b[1;31m---------------------------------------------------------------------------\u001b[0m",
      "\u001b[1;31mIndexError\u001b[0m                                Traceback (most recent call last)",
      "\u001b[1;32m<ipython-input-43-6b4b9035aaed>\u001b[0m in \u001b[0;36m<module>\u001b[1;34m()\u001b[0m\n\u001b[0;32m      8\u001b[0m                                                    columns=['AppTime', 'Lat', 'Lon']))\n\u001b[0;32m      9\u001b[0m     \u001b[1;31m# Pad GPS samples\u001b[0m\u001b[1;33m\u001b[0m\u001b[1;33m\u001b[0m\u001b[0m\n\u001b[1;32m---> 10\u001b[1;33m     \u001b[0mlat_pad_start\u001b[0m \u001b[1;33m=\u001b[0m \u001b[0mtest_gps_filtered\u001b[0m\u001b[1;33m[\u001b[0m\u001b[0mi\u001b[0m\u001b[1;33m]\u001b[0m\u001b[1;33m[\u001b[0m\u001b[1;34m'GPS_lat'\u001b[0m\u001b[1;33m]\u001b[0m\u001b[1;33m.\u001b[0m\u001b[0miloc\u001b[0m\u001b[1;33m[\u001b[0m\u001b[1;36m0\u001b[0m\u001b[1;33m]\u001b[0m\u001b[1;33m\u001b[0m\u001b[0m\n\u001b[0m\u001b[0;32m     11\u001b[0m     \u001b[0mlat_pad_end\u001b[0m \u001b[1;33m=\u001b[0m \u001b[0mtest_gps_filtered\u001b[0m\u001b[1;33m[\u001b[0m\u001b[0mi\u001b[0m\u001b[1;33m]\u001b[0m\u001b[1;33m[\u001b[0m\u001b[1;34m'GPS_lat'\u001b[0m\u001b[1;33m]\u001b[0m\u001b[1;33m.\u001b[0m\u001b[0miloc\u001b[0m\u001b[1;33m[\u001b[0m\u001b[1;33m-\u001b[0m\u001b[1;36m1\u001b[0m\u001b[1;33m]\u001b[0m\u001b[1;33m\u001b[0m\u001b[0m\n\u001b[0;32m     12\u001b[0m     lat_array = np.hstack((lat_pad_start, \n",
      "\u001b[1;32m/usr/local/lib/python3.4/dist-packages/pandas/core/indexing.py\u001b[0m in \u001b[0;36m__getitem__\u001b[1;34m(self, key)\u001b[0m\n\u001b[0;32m   1284\u001b[0m             \u001b[1;32mreturn\u001b[0m \u001b[0mself\u001b[0m\u001b[1;33m.\u001b[0m\u001b[0m_getitem_tuple\u001b[0m\u001b[1;33m(\u001b[0m\u001b[0mkey\u001b[0m\u001b[1;33m)\u001b[0m\u001b[1;33m\u001b[0m\u001b[0m\n\u001b[0;32m   1285\u001b[0m         \u001b[1;32melse\u001b[0m\u001b[1;33m:\u001b[0m\u001b[1;33m\u001b[0m\u001b[0m\n\u001b[1;32m-> 1286\u001b[1;33m             \u001b[1;32mreturn\u001b[0m \u001b[0mself\u001b[0m\u001b[1;33m.\u001b[0m\u001b[0m_getitem_axis\u001b[0m\u001b[1;33m(\u001b[0m\u001b[0mkey\u001b[0m\u001b[1;33m,\u001b[0m \u001b[0maxis\u001b[0m\u001b[1;33m=\u001b[0m\u001b[1;36m0\u001b[0m\u001b[1;33m)\u001b[0m\u001b[1;33m\u001b[0m\u001b[0m\n\u001b[0m\u001b[0;32m   1287\u001b[0m \u001b[1;33m\u001b[0m\u001b[0m\n\u001b[0;32m   1288\u001b[0m     \u001b[1;32mdef\u001b[0m \u001b[0m_getitem_axis\u001b[0m\u001b[1;33m(\u001b[0m\u001b[0mself\u001b[0m\u001b[1;33m,\u001b[0m \u001b[0mkey\u001b[0m\u001b[1;33m,\u001b[0m \u001b[0maxis\u001b[0m\u001b[1;33m=\u001b[0m\u001b[1;36m0\u001b[0m\u001b[1;33m)\u001b[0m\u001b[1;33m:\u001b[0m\u001b[1;33m\u001b[0m\u001b[0m\n",
      "\u001b[1;32m/usr/local/lib/python3.4/dist-packages/pandas/core/indexing.py\u001b[0m in \u001b[0;36m_getitem_axis\u001b[1;34m(self, key, axis)\u001b[0m\n\u001b[0;32m   1571\u001b[0m \u001b[1;33m\u001b[0m\u001b[0m\n\u001b[0;32m   1572\u001b[0m                 \u001b[1;31m# validate the location\u001b[0m\u001b[1;33m\u001b[0m\u001b[1;33m\u001b[0m\u001b[0m\n\u001b[1;32m-> 1573\u001b[1;33m                 \u001b[0mself\u001b[0m\u001b[1;33m.\u001b[0m\u001b[0m_is_valid_integer\u001b[0m\u001b[1;33m(\u001b[0m\u001b[0mkey\u001b[0m\u001b[1;33m,\u001b[0m \u001b[0maxis\u001b[0m\u001b[1;33m)\u001b[0m\u001b[1;33m\u001b[0m\u001b[0m\n\u001b[0m\u001b[0;32m   1574\u001b[0m \u001b[1;33m\u001b[0m\u001b[0m\n\u001b[0;32m   1575\u001b[0m             \u001b[1;32mreturn\u001b[0m \u001b[0mself\u001b[0m\u001b[1;33m.\u001b[0m\u001b[0m_get_loc\u001b[0m\u001b[1;33m(\u001b[0m\u001b[0mkey\u001b[0m\u001b[1;33m,\u001b[0m \u001b[0maxis\u001b[0m\u001b[1;33m=\u001b[0m\u001b[0maxis\u001b[0m\u001b[1;33m)\u001b[0m\u001b[1;33m\u001b[0m\u001b[0m\n",
      "\u001b[1;32m/usr/local/lib/python3.4/dist-packages/pandas/core/indexing.py\u001b[0m in \u001b[0;36m_is_valid_integer\u001b[1;34m(self, key, axis)\u001b[0m\n\u001b[0;32m   1485\u001b[0m         \u001b[0ml\u001b[0m \u001b[1;33m=\u001b[0m \u001b[0mlen\u001b[0m\u001b[1;33m(\u001b[0m\u001b[0max\u001b[0m\u001b[1;33m)\u001b[0m\u001b[1;33m\u001b[0m\u001b[0m\n\u001b[0;32m   1486\u001b[0m         \u001b[1;32mif\u001b[0m \u001b[0mkey\u001b[0m \u001b[1;33m>=\u001b[0m \u001b[0ml\u001b[0m \u001b[1;32mor\u001b[0m \u001b[0mkey\u001b[0m \u001b[1;33m<\u001b[0m \u001b[1;33m-\u001b[0m\u001b[0ml\u001b[0m\u001b[1;33m:\u001b[0m\u001b[1;33m\u001b[0m\u001b[0m\n\u001b[1;32m-> 1487\u001b[1;33m             \u001b[1;32mraise\u001b[0m \u001b[0mIndexError\u001b[0m\u001b[1;33m(\u001b[0m\u001b[1;34m\"single positional indexer is out-of-bounds\"\u001b[0m\u001b[1;33m)\u001b[0m\u001b[1;33m\u001b[0m\u001b[0m\n\u001b[0m\u001b[0;32m   1488\u001b[0m         \u001b[1;32mreturn\u001b[0m \u001b[1;32mTrue\u001b[0m\u001b[1;33m\u001b[0m\u001b[0m\n\u001b[0;32m   1489\u001b[0m \u001b[1;33m\u001b[0m\u001b[0m\n",
      "\u001b[1;31mIndexError\u001b[0m: single positional indexer is out-of-bounds"
     ]
    }
   ],
   "source": [
    "# Add GPS measurements\n",
    "\n",
    "# Interpolate GPS measurements\n",
    "test_sub_GPS_predicitions = [] \n",
    "for i in range(len(test_sub_results)):\n",
    "    test_sub_GPS_predicitions.append(pd.DataFrame(np.zeros((test_sub_timestamps[i].shape[0], 3)), \n",
    "                                                   index=test_sub_timestamps[i], \n",
    "                                                   columns=['AppTime', 'Lat', 'Lon']))\n",
    "    # Pad GPS samples\n",
    "    lat_pad_start = test_gps_filtered[i]['GPS_lat'].iloc[0]\n",
    "    lat_pad_end = test_gps_filtered[i]['GPS_lat'].iloc[-1]\n",
    "    lat_array = np.hstack((lat_pad_start, \n",
    "                           test_gps_filtered[i]['GPS_lat'].values, \n",
    "                           lat_pad_end))\n",
    "    lon_pad_start = test_gps_filtered[i]['GPS_lon'].iloc[0]\n",
    "    lon_pad_end = test_gps_filtered[i]['GPS_lon'].iloc[-1]\n",
    "    lon_array = np.hstack((lon_pad_start, \n",
    "                           test_gps_filtered[i]['GPS_lon'].values, \n",
    "                           lon_pad_end))\n",
    "    time_pad_start = 0\n",
    "    time_pad_end = test_sub_timestamps[i][-1]\n",
    "    time_array = np.hstack((time_pad_start, \n",
    "                            test_gps_filtered[i].index.values, \n",
    "                            time_pad_end))\n",
    "    \n",
    "    # Interpolate sensors' samples\n",
    "    interp_pred_gps_lat = interpolate.interp1d(time_array, lat_array)\n",
    "    interp_pred_gps_lon = interpolate.interp1d(time_array, lon_array)\n",
    "    test_sub_GPS_predicitions[i]['AppTime'] = test_sub_timestamps[i]\n",
    "    test_sub_GPS_predicitions[i]['Lat'] = interp_pred_gps_lat(test_sub_GPS_predicitions[i]['AppTime'].values)\n",
    "    test_sub_GPS_predicitions[i]['Lon'] = interp_pred_gps_lon(test_sub_GPS_predicitions[i]['AppTime'].values)\n",
    "\n",
    "# Find which time stamps are in the region of the good GPS samples\n",
    "gps_time_area = 1\n",
    "test_sub_GPS_area = []\n",
    "for i in range(len(test_sub_timestamps)):\n",
    "    test_sub_GPS_area.append(np.zeros((test_sub_timestamps[i].shape[0],)))\n",
    "    for time_i in range(test_sub_timestamps[i].shape[0]):\n",
    "        for time_measured in test_gps_filtered[i].index.values:\n",
    "            if not test_sub_GPS_area[i][time_i]:\n",
    "                if np.abs(test_sub_timestamps[i][time_i] - time_measured) < gps_time_area:\n",
    "                    test_sub_GPS_area[i][time_i] = 1\n",
    "                    break\n",
    "\n",
    "# Add GPS measurement for the solution\n",
    "test_sub_hybrid_prediction = []\n",
    "for i in range(len(test_sub_wifi_predicitions)):\n",
    "    test_sub_hybrid_prediction.append(test_sub_wifi_predicitions[i].copy())\n",
    "    for j, gps_area in enumerate(test_sub_GPS_area[i]):\n",
    "        if gps_area:\n",
    "            test_sub_hybrid_prediction[i]['Lat'].iat[j] = test_sub_GPS_predicitions[i]['Lat'].iat[j]\n",
    "            test_sub_hybrid_prediction[i]['Lon'].iat[j] = test_sub_GPS_predicitions[i]['Lon'].iat[j]\n",
    "print(test_sub_hybrid_prediction[0].head())"
   ]
  },
  {
   "cell_type": "code",
   "execution_count": null,
   "metadata": {
    "collapsed": false
   },
   "outputs": [],
   "source": [
    "# print an image of hybrid predicitions\n",
    "show_prediction(test_sub_results ,test_sub_hybrid_prediction, route)"
   ]
  },
  {
   "cell_type": "code",
   "execution_count": null,
   "metadata": {
    "collapsed": true
   },
   "outputs": [],
   "source": []
  },
  {
   "cell_type": "code",
   "execution_count": null,
   "metadata": {
    "collapsed": false
   },
   "outputs": [],
   "source": [
    "# Send to file\n",
    "# np.savetxt('try1.csv', test_sub_wifi_predicitions[0].values, fmt='%.1f %.8f %.8f %d %d', delimiter=',')"
   ]
  },
  {
   "cell_type": "code",
   "execution_count": null,
   "metadata": {
    "collapsed": false
   },
   "outputs": [],
   "source": [
    "# Smoothing\n",
    "def exp_smooth(time_series, sensor_series, alpha):\n",
    "    # forward in time\n",
    "    sensor_forward = np.zeros((sensor_series.shape))\n",
    "    sensor_forward[0] = sensor_series[0]\n",
    "    for i in range(1, time_series.shape[0]):\n",
    "        dt = time_series[i] - time_series[i-1]\n",
    "        sensor_forward[i] = alpha * sensor_series[i] + (1 - alpha) * sensor_forward[i-1]\n",
    "    # backwards in time\n",
    "    sensor_backwards = np.zeros((sensor_series.shape))\n",
    "    sensor_trend = np.zeros((sensor_series.shape))\n",
    "    sensor_backwards[-1] = sensor_series[-1]\n",
    "    for i in range(time_series.shape[0]-2, -1, -1):\n",
    "        dt = time_series[i+1] - time_series[i]\n",
    "        sensor_backwards[i] = alpha * sensor_series[i] + (1 - alpha) * sensor_backwards[i+1]\n",
    "    sensor_smoothed = (sensor_forward + sensor_backwards) / 2\n",
    "    return sensor_smoothed\n",
    "\n",
    "smoothed_test_lat = exp_smooth(test_wifi[0].index.values, predicted_2d[0][:, 0], 0.3)\n",
    "smoothed_test_lon = exp_smooth(test_wifi[0].index.values, predicted_2d[0][:, 1], 0.3)\n",
    "\n",
    "# Plot 2D smoothed predicitions\n",
    "plt.figure(1, figsize=(10, 12))\n",
    "plt.subplot(221)\n",
    "plt.plot(test_wifi[0].index.values, test_wifi[0]['interp_lat'].values, 'r',\n",
    "         test_wifi[0].index.values, predicted_2d[0][:, 0], 'bo',\n",
    "         test_wifi[0].index.values, smoothed_test_lat, 'go')\n",
    "plt.title('Lat(t): Route - red; WiFi fingerprinting - blue; alpha = 0.3 - green')\n",
    "plt.subplot(222)\n",
    "plt.plot(test_wifi[0].index.values, test_wifi[0]['interp_lon'].values, 'r',\n",
    "         test_wifi[0].index.values, predicted_2d[0][:, 1], 'bo',\n",
    "         test_wifi[0].index.values, smoothed_test_lon, 'go')\n",
    "plt.title('Lng(t): Route - red; WiFi fingerprinting - blue; alpha = 0.3 - green')\n",
    "plt.show()"
   ]
  },
  {
   "cell_type": "code",
   "execution_count": null,
   "metadata": {
    "collapsed": true
   },
   "outputs": [],
   "source": []
  }
 ],
 "metadata": {
  "kernelspec": {
   "display_name": "Python 3",
   "language": "python",
   "name": "python3"
  },
  "language_info": {
   "codemirror_mode": {
    "name": "ipython",
    "version": 3
   },
   "file_extension": ".py",
   "mimetype": "text/x-python",
   "name": "python",
   "nbconvert_exporter": "python",
   "pygments_lexer": "ipython3",
   "version": "3.4.3"
  }
 },
 "nbformat": 4,
 "nbformat_minor": 0
}
