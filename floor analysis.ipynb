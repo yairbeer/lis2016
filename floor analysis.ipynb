{
 "cells": [
  {
   "cell_type": "code",
   "execution_count": 1,
   "metadata": {
    "collapsed": false
   },
   "outputs": [
    {
     "name": "stdout",
     "output_type": "stream",
     "text": [
      "[['train/CAR/logfile_CAR_R1_S3.txt', 'train/CAR/logfile_CAR_R1_S3mini.txt', 'train/CAR/logfile_CAR_R2_S3.txt', 'train/CAR/logfile_CAR_R2_S4.txt'], ['train/UAH/logfile_UAH_R1_S3.txt', 'train/UAH/logfile_UAH_R1_S4.txt', 'train/UAH/logfile_UAH_R2_S3.txt', 'train/UAH/logfile_UAH_R2_S4.txt', 'train/UAH/logfile_UAH_R4_S3.txt', 'train/UAH/logfile_UAH_R4_S4.txt'], ['train/UJITI/logfile_UJITI_R1_NEXUS5.txt', 'train/UJITI/logfile_UJITI_R2_NEXUS5.txt'], ['train/UJIUB/logfile_UJIUB_R1n_S3.txt', 'train/UJIUB/logfile_UJIUB_R1r_S3.txt', 'train/UJIUB/logfile_UJIUB_R2n_S3.txt', 'train/UJIUB/logfile_UJIUB_R2r_S3.txt', 'train/UJIUB/logfile_UJIUB_R3_S3.txt']]\n",
      "There are 17 files\n"
     ]
    }
   ],
   "source": [
    "# get train file names\n",
    "import glob\n",
    "\n",
    "train_folders = ['CAR', 'UAH', 'UJITI', 'UJIUB']\n",
    "\n",
    "files_names = []\n",
    "n_files = 0\n",
    "for building in train_folders:\n",
    "    cur_file_names = glob.glob('train/' + building + '/log*')\n",
    "    files_names.append(sorted(cur_file_names))\n",
    "    n_files += len(cur_file_names)\n",
    "\n",
    "print(files_names)\n",
    "print('There are %d files' % n_files)"
   ]
  },
  {
   "cell_type": "code",
   "execution_count": 2,
   "metadata": {
    "collapsed": false
   },
   "outputs": [
    {
     "name": "stdout",
     "output_type": "stream",
     "text": [
      "train/CAR/logfile_CAR_R1_S3.txt\n",
      "['ACCE' 'AHRS' 'GNSS' 'GYRO' 'LIGH' 'MAGN' 'POSI' 'PRES' 'SOUN' 'WIFI']\n",
      "train/CAR/logfile_CAR_R1_S3mini.txt\n",
      "['ACCE' 'AHRS' 'GNSS' 'GYRO' 'MAGN' 'POSI' 'SOUN' 'WIFI']\n",
      "train/CAR/logfile_CAR_R2_S3.txt\n",
      "['ACCE' 'AHRS' 'GNSS' 'GYRO' 'LIGH' 'MAGN' 'POSI' 'PRES' 'PROX' 'SOUN'\n",
      " 'WIFI']\n",
      "train/CAR/logfile_CAR_R2_S4.txt\n",
      "['ACCE' 'AHRS' 'GNSS' 'GYRO' 'HUMI' 'LIGH' 'MAGN' 'POSI' 'PRES' 'PROX'\n",
      " 'SOUN' 'TEMP' 'WIFI']\n",
      "train/UAH/logfile_UAH_R1_S3.txt\n",
      "['ACCE' 'AHRS' 'GNSS' 'GYRO' 'LIGH' 'MAGN' 'POSI' 'PRES' 'SOUN' 'WIFI']\n",
      "train/UAH/logfile_UAH_R1_S4.txt\n",
      "['ACCE' 'AHRS' 'GNSS' 'GYRO' 'HUMI' 'LIGH' 'MAGN' 'POSI' 'PRES' 'SOUN'\n",
      " 'TEMP' 'WIFI']\n",
      "train/UAH/logfile_UAH_R2_S3.txt\n",
      "['ACCE' 'AHRS' 'GNSS' 'GYRO' 'LIGH' 'MAGN' 'POSI' 'PRES' 'SOUN' 'WIFI']\n",
      "train/UAH/logfile_UAH_R2_S4.txt\n",
      "['ACCE' 'AHRS' 'GNSS' 'GYRO' 'HUMI' 'LIGH' 'MAGN' 'POSI' 'PRES' 'SOUN'\n",
      " 'TEMP' 'WIFI']\n",
      "train/UAH/logfile_UAH_R4_S3.txt\n",
      "['ACCE' 'AHRS' 'GNSS' 'GYRO' 'LIGH' 'MAGN' 'POSI' 'PRES' 'SOUN' 'WIFI']\n",
      "train/UAH/logfile_UAH_R4_S4.txt\n",
      "['ACCE' 'AHRS' 'GNSS' 'GYRO' 'HUMI' 'LIGH' 'MAGN' 'POSI' 'PRES' 'SOUN'\n",
      " 'TEMP' 'WIFI']\n",
      "train/UJITI/logfile_UJITI_R1_NEXUS5.txt\n",
      "['ACCE' 'AHRS' 'GNSS' 'GYRO' 'LIGH' 'MAGN' 'POSI' 'PRES' 'PROX' 'SOUN'\n",
      " 'WIFI']\n",
      "train/UJITI/logfile_UJITI_R2_NEXUS5.txt\n",
      "['ACCE' 'AHRS' 'GYRO' 'LIGH' 'MAGN' 'POSI' 'PRES' 'SOUN' 'WIFI']\n",
      "train/UJIUB/logfile_UJIUB_R1n_S3.txt\n",
      "['ACCE' 'AHRS' 'GNSS' 'GYRO' 'LIGH' 'MAGN' 'POSI' 'PRES' 'PROX' 'SOUN'\n",
      " 'WIFI']\n",
      "train/UJIUB/logfile_UJIUB_R1r_S3.txt\n",
      "['ACCE' 'AHRS' 'GNSS' 'GYRO' 'LIGH' 'MAGN' 'POSI' 'PRES' 'SOUN' 'WIFI']\n",
      "train/UJIUB/logfile_UJIUB_R2n_S3.txt\n",
      "['ACCE' 'AHRS' 'GNSS' 'GYRO' 'LIGH' 'MAGN' 'POSI' 'PRES' 'PROX' 'SOUN'\n",
      " 'WIFI']\n",
      "train/UJIUB/logfile_UJIUB_R2r_S3.txt\n",
      "['ACCE' 'AHRS' 'GNSS' 'GYRO' 'LIGH' 'MAGN' 'POSI' 'PRES' 'SOUN' 'WIFI']\n",
      "train/UJIUB/logfile_UJIUB_R3_S3.txt\n",
      "['ACCE' 'AHRS' 'GNSS' 'GYRO' 'LIGH' 'MAGN' 'POSI' 'PRES' 'PROX' 'SOUN'\n",
      " 'WIFI']\n",
      "     0      1         2         3          4          5        6       7   \\\n",
      "0  ACCE  0.094  4292.788  -1.38864    4.62560    8.40844  3.00000     NaN   \n",
      "1  MAGN  0.095  4292.788  -5.64000  -39.72000  -19.56000  3.00000     NaN   \n",
      "2  GYRO  0.097  4292.792  -0.16432   -0.20861   -0.19609  3.00000     NaN   \n",
      "3  AHRS  0.098  4292.792   28.5264     9.6349 -161.85360  0.11909 -0.2296   \n",
      "4  LIGH  0.098  4292.792   14561.0          3        NaN      NaN     NaN   \n",
      "\n",
      "       8    9   10  \n",
      "0     NaN  NaN NaN  \n",
      "1     NaN  NaN NaN  \n",
      "2     NaN  NaN NaN  \n",
      "3 -0.9504  3.0 NaN  \n",
      "4     NaN  NaN NaN  \n"
     ]
    },
    {
     "name": "stderr",
     "output_type": "stream",
     "text": [
      "/usr/local/lib/python3.4/dist-packages/IPython/core/interactiveshell.py:2723: DtypeWarning: Columns (3,4) have mixed types. Specify dtype option on import or set low_memory=False.\n",
      "  interactivity=interactivity, compiler=compiler, result=result)\n"
     ]
    }
   ],
   "source": [
    "# import files into dataframes\n",
    "import numpy as np\n",
    "import pandas as pd\n",
    "\n",
    "track= []\n",
    "for building in files_names:\n",
    "    track.append([])\n",
    "    for track_name in building:\n",
    "        print(track_name)\n",
    "        track[-1].append(pd.read_csv(track_name, sep=';', engine='c', names=range(11)))\n",
    "        print(np.unique(track[-1][-1][0]))\n",
    "print(track[0][0].head())"
   ]
  },
  {
   "cell_type": "code",
   "execution_count": 3,
   "metadata": {
    "collapsed": false
   },
   "outputs": [
    {
     "name": "stdout",
     "output_type": "stream",
     "text": [
      "train/UAH/logfile_UAH_R2_S3.txt\n",
      "64\n",
      "[ 0.  0.  0.  0.  0.  0.  0.  0.  0.  0.  0.  0.  0.  0.  0.  0.  0.  0.\n",
      "  0.  0.  0.  0.  0.  0.  0.  0.  0.  0.  0.  0.  0.  0.  3.  3.  3.  3.\n",
      "  3.  3.  3.  3.  3.  3.  3.  3.  3.  3.  3.  3.  3.  3.  3.  3.  3.  3.\n",
      "  3.  3.  2.  1.  0.  0.  0.  0.  0.  0.]\n",
      "         Time  index          Lat       Lon  FloorID  BuildingID  \\\n",
      "4142    8.618    1.0  40.51278407  -3.34849      0.0        20.0   \n",
      "16724  34.656    2.0  40.51296307  -3.34844      0.0        20.0   \n",
      "24993  51.802    3.0  40.51296539  -3.34859      0.0        20.0   \n",
      "32452  67.263    4.0  40.51302711  -3.34866      0.0        20.0   \n",
      "39755  82.372    5.0  40.51307726  -3.34879      0.0        20.0   \n",
      "\n",
      "       ind_begin_time  ind_end_time  \n",
      "4142           0.0000       21.6370  \n",
      "16724         21.6370       43.2290  \n",
      "24993         43.2290       59.5325  \n",
      "32452         59.5325       74.8175  \n",
      "39755         74.8175       92.8480  \n"
     ]
    }
   ],
   "source": [
    "# Find time limits per POSI id\n",
    "def posi_time_limits(pos_array):\n",
    "    # create start and end index time array\n",
    "    pos_array['ind_begin_time'] = np.zeros((pos_array.shape[0]))\n",
    "    pos_array['ind_end_time'] = np.zeros((pos_array.shape[0]))\n",
    "    pos_array['ind_end_time'].iat[-1] = 99999\n",
    "\n",
    "    for i in range(1, pos_array.shape[0]):\n",
    "        cur_split = (float(pos_array['Time'].iloc[i]) + float(pos_array['Time'].iloc[i-1])) / 2\n",
    "        pos_array['ind_begin_time'].iat[i] = cur_split       \n",
    "        pos_array['ind_end_time'].iat[i-1] = cur_split       \n",
    "    return pos_array\n",
    "\n",
    "# create true ground dataframes\n",
    "pos = []\n",
    "for i in range(len(track)):\n",
    "    pos.append([])\n",
    "    for j in range(len(track[i])):\n",
    "        pos[i].append(track[i][j][[1, 2, 3, 4, 5, 6, 7]].iloc[track[i][j][0].values == 'POSI'])\n",
    "        pos[i][j] = pos[i][j].dropna(axis=1)\n",
    "        pos[i][j].columns = ['Time', 'index', 'Lat', 'Lon', 'FloorID', 'BuildingID']\n",
    "        pos[i][j] = posi_time_limits(pos[i][j])\n",
    "\n",
    "i = 1\n",
    "j = 2\n",
    "print(files_names[i][j])\n",
    "print(pos[i][j].shape[0])\n",
    "print(pos[i][j]['FloorID'].values)\n",
    "print(pos[i][j].head())"
   ]
  },
  {
   "cell_type": "code",
   "execution_count": 10,
   "metadata": {
    "collapsed": false
   },
   "outputs": [
    {
     "name": "stdout",
     "output_type": "stream",
     "text": [
      "      0      1       2         3        4         5        6        7  \\\n",
      "0  GYRO  0.018  89.931   0.58521  0.41692  -0.74526  3.00000      NaN   \n",
      "1  AHRS  0.019  89.931   36.8048   5.5949 -32.75710  0.31558 -0.04448   \n",
      "2  LIGH  0.020  89.940    2124.0        0       NaN      NaN      NaN   \n",
      "3  ACCE  0.020  89.941  -1.38864  6.10043   7.44118  3.00000      NaN   \n",
      "4  GYRO  0.031  89.951  -0.48686  0.38546   0.01344  3.00000      NaN   \n",
      "\n",
      "         8     9  10  POSI_floor  POSI_building  posi_lat  posi_lon  \n",
      "0      NaN   NaN NaN         0.0           30.0  39.99367 -0.073939  \n",
      "1 -0.25246 -43.0 NaN         0.0           30.0  39.99367 -0.073939  \n",
      "2      NaN   NaN NaN         0.0           30.0  39.99367 -0.073939  \n",
      "3      NaN   NaN NaN         0.0           30.0  39.99367 -0.073939  \n",
      "4      NaN   NaN NaN         0.0           30.0  39.99367 -0.073939  \n"
     ]
    },
    {
     "name": "stderr",
     "output_type": "stream",
     "text": [
      "/usr/local/lib/python3.4/dist-packages/pandas/core/indexing.py:128: SettingWithCopyWarning: \n",
      "A value is trying to be set on a copy of a slice from a DataFrame\n",
      "\n",
      "See the caveats in the documentation: http://pandas.pydata.org/pandas-docs/stable/indexing.html#indexing-view-versus-copy\n",
      "  self._setitem_with_indexer(indexer, value)\n"
     ]
    }
   ],
   "source": [
    "# associate signals with POSI ids. Spliting at middle of the time between POSI measurements using posi_time_limits\n",
    "for i in range(len(track)):\n",
    "    for j in range(len(track[i])):\n",
    "        track[i][j]['POSI_floor'] = np.zeros((track[i][j].shape[0])) * np.nan\n",
    "        track[i][j]['POSI_building'] = np.zeros((track[i][j].shape[0])) * np.nan\n",
    "        for k in range(pos[i][j].shape[0]):\n",
    "            ind_begin_time = pos[i][j]['ind_begin_time'].iloc[k]\n",
    "            ind_end_time = pos[i][j]['ind_end_time'].iloc[k]\n",
    "    \n",
    "            ind = pos[i][j]['index'].iloc[k]\n",
    "            ind_floor = pos[i][j]['FloorID'].iloc[k]\n",
    "            ind_building = pos[i][j]['BuildingID'].iloc[k]\n",
    "            \n",
    "            index_limits = np.logical_and(track[i][j][1].values >= ind_begin_time, \n",
    "                                          track[i][j][1].values < ind_end_time)\n",
    "            \n",
    "            track[i][j]['POSI_floor'].iloc[index_limits] = ind_floor\n",
    "            track[i][j]['POSI_building'].iloc[index_limits] = ind_building\n",
    "\n",
    "print(track[i][j].head())"
   ]
  },
  {
   "cell_type": "code",
   "execution_count": 11,
   "metadata": {
    "collapsed": true
   },
   "outputs": [],
   "source": [
    "# Pad ground truth in order to use interpolation later\n",
    "for i in range(len(track)):\n",
    "    for j in range(len(track[i])):\n",
    "        pos_pad_start = pos[i][j].iloc[0]\n",
    "        pos_pad_start.at['Time'] = 0\n",
    "        pos_pad_end = pos[i][j].iloc[-1]\n",
    "        pos_pad_end.at['Time'] = track[i][j][1].values[-1]\n",
    "        pos_array = np.vstack((pos_pad_start.values.reshape((1, pos[i][j].shape[1])), \n",
    "                                pos[i][j].values, \n",
    "                                pos_pad_end.values.reshape((1, pos[i][j].shape[1]))))\n",
    "        pos[i][j] = pd.DataFrame(pos_array, columns=pos[i][j].columns.values)"
   ]
  },
  {
   "cell_type": "code",
   "execution_count": 12,
   "metadata": {
    "collapsed": false
   },
   "outputs": [
    {
     "name": "stdout",
     "output_type": "stream",
     "text": [
      "      0      1         2         3          4          5        6       7  \\\n",
      "0  ACCE  0.094  4292.788  -1.38864    4.62560    8.40844  3.00000     NaN   \n",
      "1  MAGN  0.095  4292.788  -5.64000  -39.72000  -19.56000  3.00000     NaN   \n",
      "2  GYRO  0.097  4292.792  -0.16432   -0.20861   -0.19609  3.00000     NaN   \n",
      "3  AHRS  0.098  4292.792   28.5264     9.6349 -161.85360  0.11909 -0.2296   \n",
      "4  LIGH  0.098  4292.792   14561.0          3        NaN      NaN     NaN   \n",
      "\n",
      "        8    9  10  POSI_floor  POSI_building   posi_lat  posi_lon   POSI_lat  \\\n",
      "0     NaN  NaN NaN         0.0           10.0  40.313471  -3.48315  40.313471   \n",
      "1     NaN  NaN NaN         0.0           10.0  40.313471  -3.48315  40.313471   \n",
      "2     NaN  NaN NaN         0.0           10.0  40.313471  -3.48315  40.313471   \n",
      "3 -0.9504  3.0 NaN         0.0           10.0  40.313471  -3.48315  40.313471   \n",
      "4     NaN  NaN NaN         0.0           10.0  40.313471  -3.48315  40.313471   \n",
      "\n",
      "   POSI_lon  \n",
      "0  -3.48315  \n",
      "1  -3.48315  \n",
      "2  -3.48315  \n",
      "3  -3.48315  \n",
      "4  -3.48315  \n"
     ]
    }
   ],
   "source": [
    "# Interpolate sensors' time\n",
    "import scipy.interpolate as interpolate\n",
    "\n",
    "for i in range(len(track)):\n",
    "    for j in range(len(track[i])):\n",
    "        interp_ground_truth_lat = interpolate.interp1d(pos[i][j]['Time'].astype(float), pos[i][j]['Lat'])\n",
    "        track[i][j]['POSI_lat'] = interp_ground_truth_lat(track[i][j][1])\n",
    "        interp_ground_truth_lon = interpolate.interp1d(pos[i][j]['Time'].astype(float), pos[i][j]['Lon'])\n",
    "        track[i][j]['POSI_lon'] = interp_ground_truth_lon(track[i][j][1])\n",
    "print(track[0][0].head())"
   ]
  },
  {
   "cell_type": "code",
   "execution_count": 13,
   "metadata": {
    "collapsed": false
   },
   "outputs": [
    {
     "name": "stdout",
     "output_type": "stream",
     "text": [
      "Empty DataFrame\n",
      "Columns: [SensorTime, Pressure, SensorAcc, POSI_building, POSI_floor, POSI_lat, POSI_lon]\n",
      "Index: []\n"
     ]
    }
   ],
   "source": [
    "pressure = []\n",
    "for i in range(len(track)):\n",
    "    pressure.append([])\n",
    "    for j in range(len(track[i])):\n",
    "        pressure[-1].append(track[i][j][[1, 2, 3, 4, 'POSI_building', 'POSI_floor', \n",
    "                                         'POSI_lat', 'POSI_lon']].iloc[track[i][j][0].values == 'PRES'])\n",
    "        pressure[i][j].columns = ['AppTime', 'SensorTime', 'Pressure','SensorAcc', 'POSI_building', 'POSI_floor', \n",
    "                                  'POSI_lat', 'POSI_lon']\n",
    "        pressure[i][j].index = pressure[i][j]['AppTime']\n",
    "        pressure[i][j] = pressure[i][j].drop('AppTime', axis=1)\n",
    "        pressure[i][j] = pressure[i][j].astype(float)\n",
    "print(pressure[0][1].head())"
   ]
  },
  {
   "cell_type": "code",
   "execution_count": 14,
   "metadata": {
    "collapsed": false
   },
   "outputs": [],
   "source": [
    "# Smooth signal\n",
    "def exp_smooth(time_series, sensor_series, alpha):\n",
    "    # forward in time\n",
    "    sensor_forward = np.zeros((sensor_series.shape))\n",
    "    sensor_forward[0] = sensor_series[0]\n",
    "    for i in range(1, time_series.shape[0]):\n",
    "        dt = time_series[i] - time_series[i-1]\n",
    "        sensor_forward[i] = alpha * sensor_series[i] + (1 - alpha) * sensor_forward[i-1]\n",
    "    # backwards in time\n",
    "    sensor_backwards = np.zeros((sensor_series.shape))\n",
    "    sensor_trend = np.zeros((sensor_series.shape))\n",
    "    sensor_backwards[-1] = sensor_series[-1]\n",
    "    for i in range(time_series.shape[0]-2, -1, -1):\n",
    "        dt = time_series[i+1] - time_series[i]\n",
    "        sensor_backwards[i] = alpha * sensor_series[i] + (1 - alpha) * sensor_backwards[i+1]\n",
    "    sensor_smoothed = (sensor_forward + sensor_backwards) / 2\n",
    "    return sensor_smoothed\n",
    "\n",
    "for i in range(len(pressure)):\n",
    "    for j in range(len(pressure[i])):\n",
    "        if pressure[i][j].shape[0]:\n",
    "            pressure[i][j]['PresSmoothed'] = exp_smooth(pressure[i][j]['SensorTime'].values, \n",
    "                                                        pressure[i][j]['Pressure'].values, 0.02)"
   ]
  },
  {
   "cell_type": "code",
   "execution_count": 15,
   "metadata": {
    "collapsed": false
   },
   "outputs": [
    {
     "data": {
      "image/png": "[encoded data removed]",
      "text/plain": [
       "<matplotlib.figure.Figure at 0x7f6af8494c50>"
      ]
     },
     "metadata": {},
     "output_type": "display_data"
    }
   ],
   "source": [
    "%matplotlib inline\n",
    "import matplotlib.pyplot as plt\n",
    "\n",
    "# plot pressure and floor over time\n",
    "i = 3\n",
    "j = 1\n",
    "\n",
    "fig, ax1 = plt.subplots()\n",
    "ax1.plot(pressure[i][j].index.values, pressure[i][j]['Pressure'].values, 'b',\n",
    "         pressure[i][j].index.values, pressure[i][j]['PresSmoothed'].values, 'g')\n",
    "ax1.set_xlabel('time (s)')\n",
    "# Make the y-axis label and tick labels match the line color.\n",
    "ax1.set_ylabel('Pressure', color='b')\n",
    "ax1.set_ylim([np.min(pressure[i][j]['PresSmoothed'].values) - 1, np.max(pressure[i][j]['PresSmoothed'].values) + 1])\n",
    "for tl in ax1.get_yticklabels():\n",
    "    tl.set_color('b')\n",
    "\n",
    "\n",
    "ax2 = ax1.twinx()\n",
    "ax2.plot(pos[i][j]['Time'].values, pos[i][j]['FloorID'].values, 'r')\n",
    "ax2.set_ylabel('Floor', color='r')\n",
    "ax2.set_ylim([-0.5,5.5])\n",
    "for tl in ax2.get_yticklabels():\n",
    "    tl.set_color('r')\n",
    "plt.show()"
   ]
  },
  {
   "cell_type": "code",
   "execution_count": 18,
   "metadata": {
    "collapsed": false
   },
   "outputs": [
    {
     "name": "stdout",
     "output_type": "stream",
     "text": [
      "     AppTime                MAC  rssi  POSI_floor  POSI_building   POSI_lat  \\\n",
      "637    2.293  00:0b:86:27:36:c2 -82.0         0.0           10.0  40.313471   \n",
      "638    2.293  00:0b:86:27:32:e0 -66.0         0.0           10.0  40.313471   \n",
      "639    2.293  00:0b:86:27:32:e2 -66.0         0.0           10.0  40.313471   \n",
      "640    2.293  00:0b:86:27:32:e1 -68.0         0.0           10.0  40.313471   \n",
      "641    2.293  00:0b:86:27:36:c0 -82.0         0.0           10.0  40.313471   \n",
      "\n",
      "     POSI_lon  \n",
      "637  -3.48315  \n",
      "638  -3.48315  \n",
      "639  -3.48315  \n",
      "640  -3.48315  \n",
      "641  -3.48315  \n"
     ]
    }
   ],
   "source": [
    "# Create wifi data frames\n",
    "wifi = []\n",
    "for i in range(len(track)):\n",
    "    wifi.append([])\n",
    "    for j in range(len(track[i])):\n",
    "        wifi[-1].append(track[i][j][[1, 4, 5, 'POSI_floor', 'POSI_building', 'POSI_lat', \n",
    "                                     'POSI_lon']].iloc[track[i][j][0].values == 'WIFI'])\n",
    "        wifi[-1][-1].columns = ['AppTime', 'MAC', 'rssi', 'POSI_floor', 'POSI_building', 'POSI_lat', 'POSI_lon']\n",
    "print(wifi[0][0].head())"
   ]
  },
  {
   "cell_type": "code",
   "execution_count": 19,
   "metadata": {
    "collapsed": true
   },
   "outputs": [],
   "source": [
    "# split to different tracks in order to not overfit while testing\n",
    "route_numbering = [[0, 0, 1, 1], [2, 2, 3, 3, 4, 4], [5, 6], [7, 7, 8, 8, 9]]\n",
    "test_route = 9"
   ]
  },
  {
   "cell_type": "code",
   "execution_count": 20,
   "metadata": {
    "collapsed": false
   },
   "outputs": [
    {
     "name": "stdout",
     "output_type": "stream",
     "text": [
      "total macs\n",
      "735\n",
      "building macs\n",
      "10 51 ,\n",
      "20 353 ,\n",
      "30 173 ,\n",
      "40 158 ,\n"
     ]
    }
   ],
   "source": [
    "# Only for the train data\n",
    "# create list of mac addresses for all the samples\n",
    "total_macs = []\n",
    "print('total macs')\n",
    "for i in range(len(wifi)):\n",
    "    for j in range(len(wifi[i])):\n",
    "        if route_numbering[i][j] != test_route:\n",
    "            track_mac_array = wifi[i][j]['MAC'].values\n",
    "            for mac_add in track_mac_array:\n",
    "                if not mac_add in total_macs:\n",
    "                    total_macs.append(mac_add)\n",
    "print(len(total_macs))\n",
    "\n",
    "# create list of mac addresses for each building\n",
    "building_macs = {10: [], 20: [], 30: [], 40: []}\n",
    "for i in range(len(wifi)):\n",
    "    for j in range(len(wifi[i])):\n",
    "        if route_numbering[i][j] != test_route:\n",
    "            track_mac_array = wifi[i][j]\n",
    "            for k in range(track_mac_array.shape[0]):\n",
    "                mac_line = track_mac_array.iloc[k]\n",
    "                mac = mac_line['MAC']\n",
    "                build = int(mac_line['POSI_building'])\n",
    "                if not mac in building_macs[build]:\n",
    "                    building_macs[build].append(mac)\n",
    "print('building macs')\n",
    "for build in sorted(building_macs):\n",
    "    print(build, len(building_macs[build]), ',')"
   ]
  },
  {
   "cell_type": "code",
   "execution_count": 22,
   "metadata": {
    "collapsed": false
   },
   "outputs": [
    {
     "name": "stdout",
     "output_type": "stream",
     "text": [
      "0 0\n",
      "0 1\n",
      "0 2\n",
      "0 3\n",
      "1 0\n",
      "1 1\n",
      "1 2\n",
      "1 3\n",
      "1 4\n",
      "1 5\n",
      "2 0\n",
      "2 1\n",
      "3 0\n",
      "3 1\n",
      "3 2\n",
      "3 3\n",
      "3 4\n",
      "        00:0b:86:27:36:c2  00:0b:86:27:32:e0  00:0b:86:27:32:e2  \\\n",
      "2.293               -16.0                0.0                0.0   \n",
      "8.276               -15.0                0.0                0.0   \n",
      "14.269              -20.0                0.0               -3.0   \n",
      "18.284              -19.0               -1.0               -2.0   \n",
      "24.253              -16.0                0.0                0.0   \n",
      "\n",
      "        00:0b:86:27:32:e1  00:0b:86:27:36:c0  00:0b:86:27:36:c1  \\\n",
      "2.293                -2.0              -16.0              -16.0   \n",
      "8.276                 0.0              -15.0              -18.0   \n",
      "14.269               -3.0              -20.0              -21.0   \n",
      "18.284                0.0              -18.0              -18.0   \n",
      "24.253                0.0              -17.0              -15.0   \n",
      "\n",
      "        00:0b:86:27:35:90  00:0b:86:27:35:92  00:0b:86:27:35:91  \\\n",
      "2.293               -18.0              -15.0              -20.0   \n",
      "8.276               -18.0              -18.0              -20.0   \n",
      "14.269              -17.0              -18.0              -18.0   \n",
      "18.284              -17.0              -21.0              -18.0   \n",
      "24.253              -23.0              -25.0              -17.0   \n",
      "\n",
      "        00:0b:86:27:35:82     ...      ff:ff:ff:ff:00:20  ff:ff:ff:ff:00:76  \\\n",
      "2.293               -30.0     ...                 -134.0             -134.0   \n",
      "8.276               -24.0     ...                 -131.0             -131.0   \n",
      "14.269              -29.0     ...                 -135.0             -135.0   \n",
      "18.284              -31.0     ...                 -136.0             -136.0   \n",
      "24.253              -30.0     ...                 -135.0             -135.0   \n",
      "\n",
      "        ff:ff:ff:ff:00:73  ff:ff:ff:ff:00:15  ff:ff:ff:ff:00:97  \\\n",
      "2.293              -134.0             -134.0             -134.0   \n",
      "8.276              -131.0             -131.0             -131.0   \n",
      "14.269             -135.0             -135.0             -135.0   \n",
      "18.284             -136.0             -136.0             -136.0   \n",
      "24.253             -135.0             -135.0             -135.0   \n",
      "\n",
      "        ff:ff:ff:ff:00:31  POSI_building  POSI_floor  interp_lat  interp_lon  \n",
      "2.293              -134.0           10.0         0.0   40.313471    -3.48315  \n",
      "8.276              -131.0           10.0         0.0   40.313471    -3.48315  \n",
      "14.269             -135.0           10.0         0.0   40.313471    -3.48315  \n",
      "18.284             -136.0           10.0         0.0   40.313471    -3.48315  \n",
      "24.253             -135.0           10.0         0.0   40.313471    -3.48315  \n",
      "\n",
      "[5 rows x 739 columns]\n"
     ]
    }
   ],
   "source": [
    "# Make WiFi data into global dummy variable\n",
    "def dummify_wifi(wifi_df, wifi_list):\n",
    "    wifi_samples = np.unique(wifi_df['AppTime'].values)\n",
    "    wifi_dummy = np.ones((wifi_samples.shape[0], len(wifi_list))) * -200\n",
    "    wifi_dummy = pd.DataFrame(wifi_dummy, columns=wifi_list, index=wifi_samples)\n",
    "    for i, sample_time in enumerate(wifi_samples):\n",
    "            wifi_cur = wifi_df.iloc[wifi_df['AppTime'].values == sample_time]\n",
    "            for j in range(wifi_cur.shape[0]):\n",
    "                if str(wifi_cur['MAC'].iat[j]) in wifi_list:\n",
    "                    wifi_dummy[wifi_cur['MAC'].iat[j]].iat[i] = wifi_cur['rssi'].iat[j]\n",
    "    return wifi_dummy\n",
    "\n",
    "# Normalize wifi and cut noise\n",
    "def normalize_wifi(wifi_dummy_df):\n",
    "    max_per_line = np.amax(wifi_dummy_df, axis=1)\n",
    "    wifi_dummy_df.iloc[:, :] = wifi_dummy_df.values - max_per_line.reshape((max_per_line.shape[0], 1))\n",
    "    return wifi_dummy_df\n",
    "\n",
    "# Add ground truth columnns to the wifi dataframe\n",
    "def add_results_wifi(df, results_df):\n",
    "    df['POSI_building'] = np.ones((df.shape[0],))\n",
    "    df['POSI_floor'] = np.ones((df.shape[0],))\n",
    "    df['interp_lat'] = np.ones((df.shape[0],))\n",
    "    df['interp_lon'] = np.ones((df.shape[0],))\n",
    "    wifi_samples = df.index.values\n",
    "    for i, sample_time in enumerate(wifi_samples):\n",
    "        results_cur = results_df.iloc[results_df['AppTime'].values == sample_time]\n",
    "        for j in range(results_cur.shape[0]):\n",
    "            df['POSI_building'].iat[i] = results_cur['POSI_building'].iat[0]\n",
    "            df['POSI_floor'].iat[i] = results_cur['POSI_floor'].iat[0]\n",
    "            df['interp_lat'].iat[i] = results_cur['POSI_lat'].iat[0]\n",
    "            df['interp_lon'].iat[i] = results_cur['POSI_lon'].iat[0]\n",
    "    return df\n",
    "\n",
    "# Use different MACs as dummy variables in each time sample with RSSI as value\n",
    "wifi_dummy_total = []\n",
    "for i in range(len(wifi)):\n",
    "    wifi_dummy_total.append([])\n",
    "    for j in range(len(wifi[i])):\n",
    "        print(i, j)\n",
    "        wifi_dummy_total[i].append(dummify_wifi(wifi[i][j], total_macs))\n",
    "        wifi_dummy_total[i][j] = normalize_wifi(wifi_dummy_total[i][j])\n",
    "        wifi_dummy_total[i][j] = add_results_wifi(wifi_dummy_total[i][j], wifi[i][j])\n",
    "print(wifi_dummy_total[0][0].head())"
   ]
  },
  {
   "cell_type": "code",
   "execution_count": 23,
   "metadata": {
    "collapsed": false
   },
   "outputs": [
    {
     "name": "stdout",
     "output_type": "stream",
     "text": [
      "0 0\n",
      "0 1\n",
      "0 2\n",
      "0 3\n",
      "1 0\n",
      "1 1\n",
      "1 2\n",
      "1 3\n",
      "1 4\n",
      "1 5\n",
      "2 0\n",
      "2 1\n",
      "3 0\n",
      "3 1\n",
      "3 2\n",
      "3 3\n",
      "3 4\n",
      "         40    10   20   30  POSI_building  POSI_floor  interp_lat  interp_lon\n",
      "2.293   0.0  15.0  0.0  0.0           10.0         0.0   40.313471    -3.48315\n",
      "8.276   0.0  15.0  0.0  0.0           10.0         0.0   40.313471    -3.48315\n",
      "14.269  0.0  18.0  0.0  0.0           10.0         0.0   40.313471    -3.48315\n",
      "18.284  0.0  16.0  0.0  0.0           10.0         0.0   40.313471    -3.48315\n",
      "24.253  0.0  13.0  0.0  0.0           10.0         0.0   40.313471    -3.48315\n"
     ]
    }
   ],
   "source": [
    "# Make WiFi data into dummy variable with the buildingIDs as values. \n",
    "# In each row the number of MACs associated with the buildingID is the value\n",
    "def dummify_wifi_building(wifi_df, wifi_building_list):\n",
    "    wifi_samples = np.unique(wifi_df['AppTime'].values)\n",
    "    wifi_dummy = np.zeros((wifi_samples.shape[0], len(wifi_building_list)))\n",
    "    wifi_dummy = pd.DataFrame(wifi_dummy, columns=list(wifi_building_list.keys()), index=wifi_samples)\n",
    "    for i, sample_time in enumerate(wifi_samples):\n",
    "            wifi_cur = wifi_df.iloc[wifi_df['AppTime'].values == sample_time]\n",
    "            for j in range(wifi_cur.shape[0]):\n",
    "                for k in wifi_building_list:\n",
    "                    if str(wifi_cur['MAC'].iat[j]) in wifi_building_list[k]:\n",
    "                        wifi_dummy[k].iat[i] += 1\n",
    "    return wifi_dummy\n",
    "\n",
    "# Create WiFi dataframe \n",
    "wifi_dummy_building = []\n",
    "for i in range(len(wifi)):\n",
    "    wifi_dummy_building.append([])\n",
    "    for j in range(len(wifi[i])):\n",
    "        print(i, j)\n",
    "        wifi_dummy_building[i].append(dummify_wifi_building(wifi[i][j], building_macs))\n",
    "        wifi_dummy_building[i][j] = add_results_wifi(wifi_dummy_building[i][j], wifi[i][j])\n",
    "print(wifi_dummy_building[0][0].head())\n",
    "# print(wifi_dummy_building[1][0].head())\n",
    "# print(wifi_dummy_building[2][0].head())\n",
    "# print(wifi_dummy_building[3][0].head())"
   ]
  },
  {
   "cell_type": "code",
   "execution_count": 28,
   "metadata": {
    "collapsed": false
   },
   "outputs": [
    {
     "name": "stdout",
     "output_type": "stream",
     "text": [
      "[ 10.  20.  30.  40.]\n"
     ]
    }
   ],
   "source": [
    "# Train building on Random Forest using WiFi fingerprinting\n",
    "from sklearn.ensemble import RandomForestClassifier\n",
    "\n",
    "train_build = []\n",
    "for i in range(len(wifi_dummy_total)):\n",
    "    for j in range(len(wifi_dummy_total[i])):\n",
    "        if route_numbering[i][j] != test_route:\n",
    "            train_build.append(wifi_dummy_building[i][j])\n",
    "\n",
    "# concat all train dataframes into one\n",
    "train_build = pd.concat(train_build, axis=0)\n",
    "train_build_results = train_build['POSI_building']\n",
    "train_build = train_build[[10, 20, 30, 40]]\n",
    "\n",
    "# Train RF\n",
    "rfc_build = RandomForestClassifier(n_estimators=100, max_depth=4 ,max_features=1, random_state=2016)\n",
    "rfc_build.fit(train_build.values, train_build_results.values)\n",
    "print(rfc_build.classes_)"
   ]
  },
  {
   "cell_type": "code",
   "execution_count": 25,
   "metadata": {
    "collapsed": false
   },
   "outputs": [
    {
     "name": "stdout",
     "output_type": "stream",
     "text": [
      "         10   20    30   40\n",
      "1.656   0.0  0.0  22.0  0.0\n",
      "5.741   0.0  0.0  19.0  0.0\n",
      "9.763   0.0  0.0  19.0  0.0\n",
      "13.755  0.0  0.0  15.0  0.0\n",
      "17.809  0.0  0.0  13.0  0.0\n"
     ]
    }
   ],
   "source": [
    "# Create test routes in order to evaluate the method\n",
    "test_build = []\n",
    "test_wifi_build = []\n",
    "for i in range(len(wifi_dummy_building)):\n",
    "    for j in range(len(wifi_dummy_building[i])):\n",
    "        if route_numbering[i][j] == test_route:\n",
    "            test_build.append(wifi_dummy_building[i][j][[10, 20, 30, 40]])\n",
    "            test_wifi_build.append(wifi_dummy_total[i][j]['POSI_building'])\n",
    "print(test_build[0].head())"
   ]
  },
  {
   "cell_type": "code",
   "execution_count": 26,
   "metadata": {
    "collapsed": false
   },
   "outputs": [
    {
     "name": "stdout",
     "output_type": "stream",
     "text": [
      "0 1.0\n"
     ]
    }
   ],
   "source": [
    "# Predict test routes using the RF algorithm. Predict for all the test data\n",
    "predicted_build = []\n",
    "predicted_build_proba = []\n",
    "for i in range(len(test_build)):\n",
    "    predicted_build.append(rfc_build.predict(test_build[i].values))\n",
    "    predicted_build_proba.append(rfc_build.predict_proba(test_build[i].values))\n",
    "    print(i, np.sum(predicted_build[i] == test_wifi_build[i].values) / test_wifi_build[i].shape[0])"
   ]
  },
  {
   "cell_type": "code",
   "execution_count": 43,
   "metadata": {
    "collapsed": false
   },
   "outputs": [],
   "source": [
    "# Smooth building predictions\n",
    "predicted_build_proba_smoothed = []\n",
    "predicted_build_smoothed = []\n",
    "for i in range(len(predicted_build_proba)):\n",
    "    # Smooth probabilities\n",
    "    predicted_build_proba_smoothed.append(np.zeros(predicted_build_proba[i].shape))\n",
    "    predicted_build_smoothed.append(np.zeros(predicted_build_proba[i].shape[0], ))\n",
    "    for j in range(predicted_build_proba[i].shape[1]):\n",
    "        predicted_build_proba_smoothed[i][:, j] = exp_smooth(test_build[i].index.values, \n",
    "                                                             predicted_build_proba[i][:, j], 0.01)\n",
    "    # Smoothed result\n",
    "    predicted_max = np.argmax(predicted_build_proba_smoothed[i], axis=1)\n",
    "    for j in range(predicted_max.shape[0]):\n",
    "        predicted_build_smoothed[i][j] = rfc_build.classes_[predicted_max[i]]     "
   ]
  },
  {
   "cell_type": "code",
   "execution_count": 45,
   "metadata": {
    "collapsed": false
   },
   "outputs": [
    {
     "name": "stdout",
     "output_type": "stream",
     "text": [
      "        00:0b:86:27:36:c2  00:0b:86:27:32:e0  00:0b:86:27:32:e2  \\\n",
      "1.656              -139.0             -139.0             -139.0   \n",
      "5.741              -136.0             -136.0             -136.0   \n",
      "9.763              -141.0             -141.0             -141.0   \n",
      "13.755             -146.0             -146.0             -146.0   \n",
      "17.809             -156.0             -156.0             -156.0   \n",
      "\n",
      "        00:0b:86:27:32:e1  00:0b:86:27:36:c0  00:0b:86:27:36:c1  \\\n",
      "1.656              -139.0             -139.0             -139.0   \n",
      "5.741              -136.0             -136.0             -136.0   \n",
      "9.763              -141.0             -141.0             -141.0   \n",
      "13.755             -146.0             -146.0             -146.0   \n",
      "17.809             -156.0             -156.0             -156.0   \n",
      "\n",
      "        00:0b:86:27:35:90  00:0b:86:27:35:92  00:0b:86:27:35:91  \\\n",
      "1.656              -139.0             -139.0             -139.0   \n",
      "5.741              -136.0             -136.0             -136.0   \n",
      "9.763              -141.0             -141.0             -141.0   \n",
      "13.755             -146.0             -146.0             -146.0   \n",
      "17.809             -156.0             -156.0             -156.0   \n",
      "\n",
      "        00:0b:86:27:35:82     ...      ff:ff:ff:ff:00:20  ff:ff:ff:ff:00:76  \\\n",
      "1.656              -139.0     ...                 -139.0             -139.0   \n",
      "5.741              -136.0     ...                 -136.0             -136.0   \n",
      "9.763              -141.0     ...                 -141.0             -141.0   \n",
      "13.755             -146.0     ...                 -146.0             -146.0   \n",
      "17.809             -156.0     ...                 -156.0             -156.0   \n",
      "\n",
      "        ff:ff:ff:ff:00:73  ff:ff:ff:ff:00:15  ff:ff:ff:ff:00:97  \\\n",
      "1.656              -139.0             -139.0             -139.0   \n",
      "5.741              -136.0             -136.0             -136.0   \n",
      "9.763              -141.0             -141.0             -141.0   \n",
      "13.755             -146.0             -146.0             -146.0   \n",
      "17.809             -156.0             -156.0             -156.0   \n",
      "\n",
      "        ff:ff:ff:ff:00:31  POSI_building  POSI_floor  interp_lat  interp_lon  \n",
      "1.656              -139.0           30.0         0.0   39.993670   -0.073939  \n",
      "5.741              -136.0           30.0         0.0   39.993690   -0.073923  \n",
      "9.763              -141.0           30.0         0.0   39.993721   -0.073899  \n",
      "13.755             -146.0           30.0         0.0   39.993758   -0.073869  \n",
      "17.809             -156.0           30.0         0.0   39.993797   -0.073839  \n",
      "\n",
      "[5 rows x 739 columns]\n"
     ]
    }
   ],
   "source": [
    "# wifi train data with noise and all the macs\n",
    "train_wifi = []\n",
    "train_results = []\n",
    "for i in range(len(wifi_dummy_total)):\n",
    "    for j in range(len(wifi_dummy_total[i])):\n",
    "        if route_numbering[i][j] != test_route:\n",
    "            train_wifi.append(wifi_dummy_total[i][j])\n",
    "train_wifi = pd.concat(train_wifi, axis=0)\n",
    "\n",
    "# Create test routes using the dummy WiFi dataframe with all the MACs\n",
    "test_wifi = []\n",
    "test_wifi_floor = []\n",
    "test_wifi_lat = []\n",
    "test_wifi_lng = []\n",
    "for i in range(len(wifi_dummy_total)):\n",
    "    for j in range(len(wifi_dummy_total[i])):\n",
    "        if route_numbering[i][j] == test_route:\n",
    "            test_wifi.append(wifi_dummy_total[i][j])\n",
    "            test_wifi_floor.append(wifi_dummy_total[i][j]['POSI_floor'])\n",
    "            test_wifi_lat.append(wifi_dummy_total[i][j]['interp_lat'])\n",
    "            test_wifi_lng.append(wifi_dummy_total[i][j]['interp_lon'])\n",
    "print(test_wifi[0].head())"
   ]
  },
  {
   "cell_type": "code",
   "execution_count": 46,
   "metadata": {
    "collapsed": false
   },
   "outputs": [],
   "source": [
    "# level noise when packets have lower power than it\n",
    "def wifi_level_noise(wifi_dummy_df, noise):\n",
    "    if len(wifi_dummy_df.shape) > 1:\n",
    "        noise_not = (wifi_dummy_df.values >= noise) * 1\n",
    "        wifi_dummy_df.iloc[:, :] = noise_not * wifi_dummy_df.values + (1- noise_not) * noise\n",
    "    else:\n",
    "        noise_not = (wifi_dummy_df.values >= noise) * 1\n",
    "        wifi_dummy_df.iloc[:] = noise_not * wifi_dummy_df.values + (1- noise_not) * noise\n",
    "    return wifi_dummy_df\n",
    "\n",
    "# filter train samples by buildings in order to train floors\n",
    "train_floor = {10: 0, 20: 0, 30: 0, 40: 0}\n",
    "train_floor_results = {10: 0, 20: 0, 30: 0, 40: 0}\n",
    "for building in train_floor:\n",
    "    train_floor[building] = train_wifi.iloc[train_build_results.values == building][building_macs[building]]\n",
    "    train_floor[building] = wifi_level_noise(train_floor[building], -10)\n",
    "    train_floor_results[building] = train_wifi.iloc[train_build_results.values == building]['POSI_floor']"
   ]
  },
  {
   "cell_type": "code",
   "execution_count": 47,
   "metadata": {
    "collapsed": true
   },
   "outputs": [],
   "source": [
    "# Train floor on Random Forest using WiFi fingerprinting\n",
    "from sklearn.ensemble import RandomForestClassifier\n",
    "rfc_floor = {10: 0, 20: 0, 30: 0, 40: 0}\n",
    "for building in rfc_floor:\n",
    "    rfc_floor[building] = RandomForestClassifier(n_estimators=1000, max_depth=20 ,max_features=1.0, random_state=2016)\n",
    "    rfc_floor[building].fit(train_floor[building].values, train_floor_results[building].values)"
   ]
  },
  {
   "cell_type": "code",
   "execution_count": null,
   "metadata": {
    "collapsed": false
   },
   "outputs": [],
   "source": [
    "\"\"\"\n",
    "Only works in the same building\n",
    "\"\"\"\n",
    "# Predict floors\n",
    "predicted_floor = []\n",
    "predicted_floor_proba = []\n",
    "predicted_floor_proba_smoothed = []\n",
    "predicted_floor_smoothed = []\n",
    "for test_i in range(len(test_wifi)):\n",
    "    predicted_floor.append([])\n",
    "    predicted_floor_proba.append([])\n",
    "    for row_i in range(test_wifi[test_i].shape[0]):\n",
    "        cur_pred_build = predicted_build[test_i][row_i]\n",
    "        cur_measurement = test_wifi[test_i][building_macs[cur_pred_build]].iloc[row_i]\n",
    "        cur_measurement = wifi_level_noise(cur_measurement, -10)\n",
    "        predicted_floor[test_i].append(int(rfc_floor[cur_pred_build].predict([cur_measurement.values])))\n",
    "        predicted_floor_proba[test_i].append(rfc_floor[cur_pred_build].predict_proba([cur_measurement.values])[0])\n",
    "    predicted_floor_proba[test_i] = np.array(predicted_floor_proba[test_i])\n",
    "    print(predicted_floor_proba[test_i].shape)\n",
    "    # Smooth probabilities                                            \n",
    "    predicted_floor_proba_smoothed.append(np.zeros(predicted_floor_proba[test_i].shape))\n",
    "    predicted_floor_smoothed.append(np.zeros(predicted_floor_proba[test_i].shape[0], ))\n",
    "    for j in range(predicted_floor_proba[test_i].shape[1]):\n",
    "        predicted_floor_proba_smoothed[test_i][:, j] = exp_smooth(test_wifi[test_i].index.values, \n",
    "                                                                  predicted_floor_proba[test_i][:, j], 0.3)\n",
    "    # Smoothed result\n",
    "    predicted_max = np.argmax(predicted_floor_proba_smoothed[test_i], axis=1)\n",
    "    for j in range(predicted_max.shape[0]):\n",
    "        predicted_floor_smoothed[test_i][j] = rfc_floor[cur_pred_build].classes_[predicted_max[j]]  \n",
    "print(predicted_floor[test_i])\n",
    "print(predicted_floor_smoothed[test_i])"
   ]
  },
  {
   "cell_type": "code",
   "execution_count": null,
   "metadata": {
    "collapsed": false
   },
   "outputs": [],
   "source": [
    "route = 0\n",
    "# Plot results\n",
    "plt.figure(1, figsize=(6, 3))\n",
    "plt.plot(test_build[route].index.values, test_wifi_floor[route], 'b', \n",
    "         test_build[route].index.values, predicted_floor[route], 'ro',\n",
    "         test_build[route].index.values, predicted_floor_smoothed[route], 'go',)\n",
    "plt.xlabel('Time')\n",
    "plt.ylabel('Floor')\n",
    "plt.title('logfile_UJIUB_R3_S3 Floor class: Blue: Route, Red: prediction')\n",
    "plt.show()"
   ]
  },
  {
   "cell_type": "code",
   "execution_count": null,
   "metadata": {
    "collapsed": true
   },
   "outputs": [],
   "source": []
  }
 ],
 "metadata": {
  "kernelspec": {
   "display_name": "Python 3",
   "language": "python",
   "name": "python3"
  },
  "language_info": {
   "codemirror_mode": {
    "name": "ipython",
    "version": 3
   },
   "file_extension": ".py",
   "mimetype": "text/x-python",
   "name": "python",
   "nbconvert_exporter": "python",
   "pygments_lexer": "ipython3",
   "version": "3.4.3"
  }
 },
 "nbformat": 4,
 "nbformat_minor": 0
}
