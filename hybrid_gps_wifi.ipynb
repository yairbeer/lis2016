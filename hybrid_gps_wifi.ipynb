{
 "cells": [
  {
   "cell_type": "code",
   "execution_count": 1,
   "metadata": {
    "collapsed": false
   },
   "outputs": [
    {
     "name": "stdout",
     "output_type": "stream",
     "text": [
      "[['train/CAR/logfile_CAR_R1_S3.txt', 'train/CAR/logfile_CAR_R1_S3mini.txt', 'train/CAR/logfile_CAR_R2_S3.txt', 'train/CAR/logfile_CAR_R2_S4.txt'], ['train/UAH/logfile_UAH_R1_S3.txt', 'train/UAH/logfile_UAH_R1_S4.txt', 'train/UAH/logfile_UAH_R2_S3.txt', 'train/UAH/logfile_UAH_R2_S4.txt', 'train/UAH/logfile_UAH_R4_S3.txt', 'train/UAH/logfile_UAH_R4_S4.txt'], ['train/UJITI/logfile_UJITI_R1_NEXUS5.txt', 'train/UJITI/logfile_UJITI_R2_NEXUS5.txt'], ['train/UJIUB/logfile_UJIUB_R1n_S3.txt', 'train/UJIUB/logfile_UJIUB_R1r_S3.txt', 'train/UJIUB/logfile_UJIUB_R2n_S3.txt', 'train/UJIUB/logfile_UJIUB_R2r_S3.txt', 'train/UJIUB/logfile_UJIUB_R3_S3.txt']]\n",
      "There are 17 files\n"
     ]
    }
   ],
   "source": [
    "\"\"\"\n",
    "Only for the 1st three buildings\n",
    "\"\"\"\n",
    "\n",
    "# get train files\n",
    "import glob\n",
    "\n",
    "train_folders = ['CAR', 'UAH', 'UJITI', 'UJIUB']\n",
    "\n",
    "files_names = []\n",
    "n_files = 0\n",
    "for building in train_folders:\n",
    "    cur_file_names = glob.glob('train/' + building + '/log*')\n",
    "    files_names.append(sorted(cur_file_names))\n",
    "    n_files += len(cur_file_names)\n",
    "\n",
    "print(files_names)\n",
    "print('There are %d files' % n_files)"
   ]
  },
  {
   "cell_type": "code",
   "execution_count": 3,
   "metadata": {
    "collapsed": false
   },
   "outputs": [
    {
     "name": "stdout",
     "output_type": "stream",
     "text": [
      "train/CAR/logfile_CAR_R1_S3.txt\n",
      "['ACCE' 'AHRS' 'GNSS' 'GYRO' 'LIGH' 'MAGN' 'POSI' 'PRES' 'SOUN' 'WIFI']\n",
      "train/CAR/logfile_CAR_R1_S3mini.txt\n",
      "['ACCE' 'AHRS' 'GNSS' 'GYRO' 'MAGN' 'POSI' 'SOUN' 'WIFI']\n",
      "train/CAR/logfile_CAR_R2_S3.txt\n",
      "['ACCE' 'AHRS' 'GNSS' 'GYRO' 'LIGH' 'MAGN' 'POSI' 'PRES' 'PROX' 'SOUN'\n",
      " 'WIFI']\n",
      "train/CAR/logfile_CAR_R2_S4.txt\n",
      "['ACCE' 'AHRS' 'GNSS' 'GYRO' 'HUMI' 'LIGH' 'MAGN' 'POSI' 'PRES' 'PROX'\n",
      " 'SOUN' 'TEMP' 'WIFI']\n",
      "train/UAH/logfile_UAH_R1_S3.txt\n",
      "['ACCE' 'AHRS' 'GNSS' 'GYRO' 'LIGH' 'MAGN' 'POSI' 'PRES' 'SOUN' 'WIFI']\n",
      "train/UAH/logfile_UAH_R1_S4.txt\n",
      "['ACCE' 'AHRS' 'GNSS' 'GYRO' 'HUMI' 'LIGH' 'MAGN' 'POSI' 'PRES' 'SOUN'\n",
      " 'TEMP' 'WIFI']\n",
      "train/UAH/logfile_UAH_R2_S3.txt\n",
      "['ACCE' 'AHRS' 'GNSS' 'GYRO' 'LIGH' 'MAGN' 'POSI' 'PRES' 'SOUN' 'WIFI']\n",
      "train/UAH/logfile_UAH_R2_S4.txt\n",
      "['ACCE' 'AHRS' 'GNSS' 'GYRO' 'HUMI' 'LIGH' 'MAGN' 'POSI' 'PRES' 'SOUN'\n",
      " 'TEMP' 'WIFI']\n",
      "train/UAH/logfile_UAH_R4_S3.txt\n",
      "['ACCE' 'AHRS' 'GNSS' 'GYRO' 'LIGH' 'MAGN' 'POSI' 'PRES' 'SOUN' 'WIFI']\n",
      "train/UAH/logfile_UAH_R4_S4.txt\n",
      "['ACCE' 'AHRS' 'GNSS' 'GYRO' 'HUMI' 'LIGH' 'MAGN' 'POSI' 'PRES' 'SOUN'\n",
      " 'TEMP' 'WIFI']\n",
      "train/UJITI/logfile_UJITI_R1_NEXUS5.txt\n",
      "['ACCE' 'AHRS' 'GNSS' 'GYRO' 'LIGH' 'MAGN' 'POSI' 'PRES' 'PROX' 'SOUN'\n",
      " 'WIFI']\n",
      "train/UJITI/logfile_UJITI_R2_NEXUS5.txt\n",
      "['ACCE' 'AHRS' 'GYRO' 'LIGH' 'MAGN' 'POSI' 'PRES' 'SOUN' 'WIFI']\n",
      "train/UJIUB/logfile_UJIUB_R1n_S3.txt\n",
      "['ACCE' 'AHRS' 'GNSS' 'GYRO' 'LIGH' 'MAGN' 'POSI' 'PRES' 'PROX' 'SOUN'\n",
      " 'WIFI']\n",
      "train/UJIUB/logfile_UJIUB_R1r_S3.txt\n",
      "['ACCE' 'AHRS' 'GNSS' 'GYRO' 'LIGH' 'MAGN' 'POSI' 'PRES' 'SOUN' 'WIFI']\n",
      "train/UJIUB/logfile_UJIUB_R2n_S3.txt\n",
      "['ACCE' 'AHRS' 'GNSS' 'GYRO' 'LIGH' 'MAGN' 'POSI' 'PRES' 'PROX' 'SOUN'\n",
      " 'WIFI']\n",
      "train/UJIUB/logfile_UJIUB_R2r_S3.txt\n",
      "['ACCE' 'AHRS' 'GNSS' 'GYRO' 'LIGH' 'MAGN' 'POSI' 'PRES' 'SOUN' 'WIFI']\n",
      "train/UJIUB/logfile_UJIUB_R3_S3.txt\n",
      "['ACCE' 'AHRS' 'GNSS' 'GYRO' 'LIGH' 'MAGN' 'POSI' 'PRES' 'PROX' 'SOUN'\n",
      " 'WIFI']\n"
     ]
    },
    {
     "name": "stderr",
     "output_type": "stream",
     "text": [
      "/usr/local/lib/python3.4/dist-packages/IPython/core/interactiveshell.py:2723: DtypeWarning: Columns (3,4) have mixed types. Specify dtype option on import or set low_memory=False.\n",
      "  interactivity=interactivity, compiler=compiler, result=result)\n"
     ]
    }
   ],
   "source": [
    "# import files into dataframe\n",
    "import numpy as np\n",
    "import pandas as pd\n",
    "\n",
    "track= []\n",
    "for building in files_names:\n",
    "    track.append([])\n",
    "    for track_name in building:\n",
    "        print(track_name)\n",
    "        track[-1].append(pd.read_csv(track_name, sep=';', engine='c', names=range(11)))\n",
    "        print(np.unique(track[-1][-1][0]))"
   ]
  },
  {
   "cell_type": "code",
   "execution_count": 4,
   "metadata": {
    "collapsed": false
   },
   "outputs": [
    {
     "name": "stdout",
     "output_type": "stream",
     "text": [
      "train/UAH/logfile_UAH_R2_S3.txt\n",
      "64\n",
      "[ 0.  0.  0.  0.  0.  0.  0.  0.  0.  0.  0.  0.  0.  0.  0.  0.  0.  0.\n",
      "  0.  0.  0.  0.  0.  0.  0.  0.  0.  0.  0.  0.  0.  0.  3.  3.  3.  3.\n",
      "  3.  3.  3.  3.  3.  3.  3.  3.  3.  3.  3.  3.  3.  3.  3.  3.  3.  3.\n",
      "  3.  3.  2.  1.  0.  0.  0.  0.  0.  0.]\n",
      "         Time  index          Lat       Lon  FloorID  BuildingID  \\\n",
      "4142    8.618    1.0  40.51278407  -3.34849      0.0        20.0   \n",
      "16724  34.656    2.0  40.51296307  -3.34844      0.0        20.0   \n",
      "24993  51.802    3.0  40.51296539  -3.34859      0.0        20.0   \n",
      "32452  67.263    4.0  40.51302711  -3.34866      0.0        20.0   \n",
      "39755  82.372    5.0  40.51307726  -3.34879      0.0        20.0   \n",
      "\n",
      "       ind_begin_time  ind_end_time  \n",
      "4142           0.0000       21.6370  \n",
      "16724         21.6370       43.2290  \n",
      "24993         43.2290       59.5325  \n",
      "32452         59.5325       74.8175  \n",
      "39755         74.8175       92.8480  \n"
     ]
    },
    {
     "name": "stderr",
     "output_type": "stream",
     "text": [
      "/usr/local/lib/python3.4/dist-packages/pandas/core/indexing.py:128: SettingWithCopyWarning: \n",
      "A value is trying to be set on a copy of a slice from a DataFrame\n",
      "\n",
      "See the caveats in the documentation: http://pandas.pydata.org/pandas-docs/stable/indexing.html#indexing-view-versus-copy\n",
      "  self._setitem_with_indexer(indexer, value)\n"
     ]
    }
   ],
   "source": [
    "# Find time limits per POSI id\n",
    "def posi_time_limits(pos_array):\n",
    "    # create start and end index time array\n",
    "    pos_array['ind_begin_time'] = np.zeros((pos_array.shape[0]))\n",
    "    pos_array['ind_end_time'] = np.zeros((pos_array.shape[0]))\n",
    "    pos_array['ind_end_time'].iloc[-1] = 99999\n",
    "\n",
    "    for i in range(1, pos_array.shape[0]):\n",
    "        cur_split = (float(pos_array['Time'].iloc[i]) + float(pos_array['Time'].iloc[i-1])) / 2\n",
    "        pos_array['ind_begin_time'].iat[i] = cur_split       \n",
    "        pos_array['ind_end_time'].iat[i-1] = cur_split       \n",
    "    return pos_array\n",
    "\n",
    "pos = []\n",
    "for i in range(len(track)):\n",
    "    pos.append([])\n",
    "    for j in range(len(track[i])):\n",
    "        pos[i].append(track[i][j][[1, 2, 3, 4, 5, 6, 7]].iloc[track[i][j][0].values == 'POSI'])\n",
    "        pos[i][j] = pos[i][j].dropna(axis=1)\n",
    "        pos[i][j].columns = ['Time', 'index', 'Lat', 'Lon', 'FloorID', 'BuildingID']\n",
    "        pos[i][j] = posi_time_limits(pos[i][j])\n",
    "\n",
    "i = 1\n",
    "j = 2\n",
    "print(files_names[i][j])\n",
    "print(pos[i][j].shape[0])\n",
    "print(pos[i][j]['FloorID'].values)\n",
    "print(pos[i][j].head())"
   ]
  },
  {
   "cell_type": "code",
   "execution_count": null,
   "metadata": {
    "collapsed": true
   },
   "outputs": [],
   "source": [
    "# associate signals with POSI ids. Spliting at middle of the time between POSI measurements\n",
    "for i in range(len(track)):\n",
    "    for j in range(len(track[i])):\n",
    "        track[i][j]['POSI_floor'] = np.zeros((track[i][j].shape[0])) * np.nan\n",
    "        track[i][j]['POSI_building'] = np.zeros((track[i][j].shape[0])) * np.nan\n",
    "        for k in range(pos[i][j].shape[0]):\n",
    "            ind_begin_time = pos[i][j]['ind_begin_time'].iloc[k]\n",
    "            ind_end_time = pos[i][j]['ind_end_time'].iloc[k]\n",
    "    \n",
    "            ind = pos[i][j]['index'].iloc[k]\n",
    "            ind_floor = pos[i][j]['FloorID'].iloc[k]\n",
    "            ind_building = pos[i][j]['BuildingID'].iloc[k]\n",
    "            \n",
    "            index_limits = np.logical_and(track[i][j][1].values >= ind_begin_time, \n",
    "                                          track[i][j][1].values < ind_end_time)\n",
    "            \n",
    "            track[i][j]['POSI_floor'].iloc[index_limits] = ind_floor\n",
    "            track[i][j]['POSI_building'].iloc[index_limits] = ind_building\n",
    "\n",
    "print(track[i][j].head())"
   ]
  },
  {
   "cell_type": "code",
   "execution_count": null,
   "metadata": {
    "collapsed": true
   },
   "outputs": [],
   "source": [
    "# Pad ground truth\n",
    "for i in range(len(track)):\n",
    "    for j in range(len(track[i])):\n",
    "        pos_pad_start = pos[i][j].iloc[0]\n",
    "        pos_pad_start.at['Time'] = 0\n",
    "        pos_pad_end = pos[i][j].iloc[-1]\n",
    "        pos_pad_end.at['Time'] = track[i][j][1].values[-1]\n",
    "        pos_array = np.vstack((pos_pad_start.values.reshape((1, pos[i][j].shape[1])), \n",
    "                                pos[i][j].values, \n",
    "                                pos_pad_end.values.reshape((1, pos[i][j].shape[1]))))\n",
    "        pos[i][j] = pd.DataFrame(pos_array, columns=pos[i][j].columns.values)"
   ]
  },
  {
   "cell_type": "code",
   "execution_count": null,
   "metadata": {
    "collapsed": true
   },
   "outputs": [],
   "source": [
    "# Interpolate sensor time\n",
    "import scipy.interpolate as interpolate\n",
    "\n",
    "for i in range(len(track)):\n",
    "    for j in range(len(track[i])):\n",
    "        interp_ground_truth_lat = interpolate.interp1d(pos[i][j]['Time'].astype(float), pos[i][j]['Lat'])\n",
    "        track[i][j]['interp_lat'] = interp_ground_truth_lat(track[i][j][1])\n",
    "        interp_ground_truth_lon = interpolate.interp1d(pos[i][j]['Time'].astype(float), pos[i][j]['Lon'])\n",
    "        track[i][j]['interp_lon'] = interp_ground_truth_lon(track[i][j][1])\n",
    "print(track[0][0].head())"
   ]
  },
  {
   "cell_type": "code",
   "execution_count": null,
   "metadata": {
    "collapsed": true
   },
   "outputs": [],
   "source": []
  }
 ],
 "metadata": {
  "kernelspec": {
   "display_name": "Python 3",
   "language": "python",
   "name": "python3"
  },
  "language_info": {
   "codemirror_mode": {
    "name": "ipython",
    "version": 3
   },
   "file_extension": ".py",
   "mimetype": "text/x-python",
   "name": "python",
   "nbconvert_exporter": "python",
   "pygments_lexer": "ipython3",
   "version": "3.4.3"
  }
 },
 "nbformat": 4,
 "nbformat_minor": 0
}
