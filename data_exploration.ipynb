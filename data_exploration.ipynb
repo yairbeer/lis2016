{
 "cells": [
  {
   "cell_type": "code",
   "execution_count": 1,
   "metadata": {
    "collapsed": true
   },
   "outputs": [],
   "source": [
    "%matplotlib inline\n",
    "\n",
    "import numpy as np\n",
    "import matplotlib.pyplot as plt"
   ]
  },
  {
   "cell_type": "code",
   "execution_count": 2,
   "metadata": {
    "collapsed": false
   },
   "outputs": [
    {
     "name": "stdout",
     "output_type": "stream",
     "text": [
      "[['train/CAR/logfile_CAR_R1_S3.txt', 'train/CAR/logfile_CAR_R1_S3mini.txt', 'train/CAR/logfile_CAR_R2_S3.txt', 'train/CAR/logfile_CAR_R2_S4.txt'], ['train/UAH/logfile_UAH_R1_S3.txt', 'train/UAH/logfile_UAH_R1_S4.txt', 'train/UAH/logfile_UAH_R2_S3.txt', 'train/UAH/logfile_UAH_R2_S4.txt', 'train/UAH/logfile_UAH_R4_S3.txt', 'train/UAH/logfile_UAH_R4_S4.txt'], ['train/UJITI/logfile_UJITI_R1_NEXUS5.txt', 'train/UJITI/logfile_UJITI_R2_NEXUS5.txt'], ['train/UJIUB/logfile_UJIUB_R1n_S3.txt', 'train/UJIUB/logfile_UJIUB_R1r_S3.txt', 'train/UJIUB/logfile_UJIUB_R2n_S3.txt', 'train/UJIUB/logfile_UJIUB_R2r_S3.txt', 'train/UJIUB/logfile_UJIUB_R3_S3.txt']]\n",
      "There are 17 training files\n"
     ]
    }
   ],
   "source": [
    "# get train files\n",
    "\n",
    "import glob\n",
    "\n",
    "train_folders = ['CAR', 'UAH', 'UJITI', 'UJIUB']\n",
    "\n",
    "train_files_names = []\n",
    "n_files = 0\n",
    "for building in train_folders:\n",
    "    cur_file_names = glob.glob('train/' + building + '/log*')\n",
    "    train_files_names.append(sorted(cur_file_names))\n",
    "    n_files += len(cur_file_names)\n",
    "\n",
    "print(train_files_names)\n",
    "print('There are %d training files' % n_files)"
   ]
  },
  {
   "cell_type": "code",
   "execution_count": 3,
   "metadata": {
    "collapsed": false
   },
   "outputs": [
    {
     "name": "stdout",
     "output_type": "stream",
     "text": [
      "train/CAR/logfile_CAR_R1_S3.txt\n",
      "['ACCE' 'AHRS' 'GNSS' 'GYRO' 'LIGH' 'MAGN' 'POSI' 'PRES' 'SOUN' 'WIFI']\n",
      "train/CAR/logfile_CAR_R1_S3mini.txt\n",
      "['ACCE' 'AHRS' 'GNSS' 'GYRO' 'MAGN' 'POSI' 'SOUN' 'WIFI']\n",
      "train/CAR/logfile_CAR_R2_S3.txt\n",
      "['ACCE' 'AHRS' 'GNSS' 'GYRO' 'LIGH' 'MAGN' 'POSI' 'PRES' 'PROX' 'SOUN'\n",
      " 'WIFI']\n",
      "train/CAR/logfile_CAR_R2_S4.txt\n",
      "['ACCE' 'AHRS' 'GNSS' 'GYRO' 'HUMI' 'LIGH' 'MAGN' 'POSI' 'PRES' 'PROX'\n",
      " 'SOUN' 'TEMP' 'WIFI']\n",
      "train/UAH/logfile_UAH_R1_S3.txt\n",
      "['ACCE' 'AHRS' 'GNSS' 'GYRO' 'LIGH' 'MAGN' 'POSI' 'PRES' 'SOUN' 'WIFI']\n",
      "train/UAH/logfile_UAH_R1_S4.txt\n",
      "['ACCE' 'AHRS' 'GNSS' 'GYRO' 'HUMI' 'LIGH' 'MAGN' 'POSI' 'PRES' 'SOUN'\n",
      " 'TEMP' 'WIFI']\n",
      "train/UAH/logfile_UAH_R2_S3.txt\n",
      "['ACCE' 'AHRS' 'GNSS' 'GYRO' 'LIGH' 'MAGN' 'POSI' 'PRES' 'SOUN' 'WIFI']\n",
      "train/UAH/logfile_UAH_R2_S4.txt\n",
      "['ACCE' 'AHRS' 'GNSS' 'GYRO' 'HUMI' 'LIGH' 'MAGN' 'POSI' 'PRES' 'SOUN'\n",
      " 'TEMP' 'WIFI']\n",
      "train/UAH/logfile_UAH_R4_S3.txt\n",
      "['ACCE' 'AHRS' 'GNSS' 'GYRO' 'LIGH' 'MAGN' 'POSI' 'PRES' 'SOUN' 'WIFI']\n",
      "train/UAH/logfile_UAH_R4_S4.txt\n",
      "['ACCE' 'AHRS' 'GNSS' 'GYRO' 'HUMI' 'LIGH' 'MAGN' 'POSI' 'PRES' 'SOUN'\n",
      " 'TEMP' 'WIFI']\n",
      "train/UJITI/logfile_UJITI_R1_NEXUS5.txt\n",
      "['ACCE' 'AHRS' 'GNSS' 'GYRO' 'LIGH' 'MAGN' 'POSI' 'PRES' 'PROX' 'SOUN'\n",
      " 'WIFI']\n",
      "train/UJITI/logfile_UJITI_R2_NEXUS5.txt\n",
      "['ACCE' 'AHRS' 'GYRO' 'LIGH' 'MAGN' 'POSI' 'PRES' 'SOUN' 'WIFI']\n",
      "train/UJIUB/logfile_UJIUB_R1n_S3.txt\n",
      "['ACCE' 'AHRS' 'GNSS' 'GYRO' 'LIGH' 'MAGN' 'POSI' 'PRES' 'PROX' 'SOUN'\n",
      " 'WIFI']\n",
      "train/UJIUB/logfile_UJIUB_R1r_S3.txt\n",
      "['ACCE' 'AHRS' 'GNSS' 'GYRO' 'LIGH' 'MAGN' 'POSI' 'PRES' 'PROX' 'SOUN'\n",
      " 'WIFI']\n",
      "train/UJIUB/logfile_UJIUB_R2n_S3.txt\n",
      "['ACCE' 'AHRS' 'GNSS' 'GYRO' 'LIGH' 'MAGN' 'POSI' 'PRES' 'SOUN' 'WIFI']\n",
      "train/UJIUB/logfile_UJIUB_R2r_S3.txt\n",
      "['ACCE' 'AHRS' 'GNSS' 'GYRO' 'LIGH' 'MAGN' 'POSI' 'PRES' 'SOUN' 'WIFI']\n",
      "train/UJIUB/logfile_UJIUB_R3_S3.txt\n",
      "['6152' 'ACCE' 'AHRS' 'GNSS' 'GYRO' 'LIGH' 'MAGN' 'POSI' 'PRES' 'PROX'\n",
      " 'SOUN' 'WIFI']\n"
     ]
    },
    {
     "name": "stderr",
     "output_type": "stream",
     "text": [
      "/usr/local/lib/python3.4/dist-packages/IPython/core/interactiveshell.py:2723: DtypeWarning: Columns (3,4) have mixed types. Specify dtype option on import or set low_memory=False.\n",
      "  interactivity=interactivity, compiler=compiler, result=result)\n"
     ]
    }
   ],
   "source": [
    "# import files into dataframe\n",
    "\n",
    "import pandas as pd\n",
    "\n",
    "track_data = []\n",
    "for building in train_files_names:\n",
    "    track_data.append([])\n",
    "    for track_name in building:\n",
    "        print(track_name)\n",
    "        track_data[-1].append(pd.read_csv(track_name, sep=';', engine='c', names=range(11)))\n",
    "        print(np.unique(track_data[-1][-1][0]))\n"
   ]
  },
  {
   "cell_type": "code",
   "execution_count": 4,
   "metadata": {
    "collapsed": false
   },
   "outputs": [],
   "source": [
    "# count wifi stations in each track\n",
    "\n",
    "unique_aps = []\n",
    "unique_macs = []\n",
    "for building in track_data:\n",
    "    for track in building:\n",
    "        wifi_data = track.iloc[track[0].values == 'WIFI']\n",
    "        wifi_names = wifi_data[3].values.astype(str)\n",
    "        wifi_macs = wifi_data[4].values\n",
    "        unique_aps.append(list(np.unique(wifi_names)))\n",
    "        unique_macs.append(list(np.unique(wifi_macs)))"
   ]
  },
  {
   "cell_type": "code",
   "execution_count": 7,
   "metadata": {
    "collapsed": false
   },
   "outputs": [],
   "source": [
    "# Common items between two lists\n",
    "def custom_cor(list1, list2):\n",
    "    count = 0\n",
    "    for item1 in list1:\n",
    "        if item1 in list2:\n",
    "            count += 1\n",
    "    return count / min(len(list1), len(list2))\n",
    "\n",
    "aps_cor = np.zeros((n_files, n_files))\n",
    "mac_cor = np.zeros((n_files, n_files))\n",
    "for i in range(n_files):\n",
    "    for j in range(i, n_files):\n",
    "        aps_cor[i, j] = custom_cor(unique_aps[i], unique_aps[j])\n",
    "        mac_cor[i, j] = custom_cor(unique_macs[i], unique_macs[j])"
   ]
  },
  {
   "cell_type": "code",
   "execution_count": 10,
   "metadata": {
    "collapsed": false
   },
   "outputs": [
    {
     "data": {
      "text/plain": [
       "<matplotlib.image.AxesImage at 0x7facdda470b8>"
      ]
     },
     "execution_count": 10,
     "metadata": {},
     "output_type": "execute_result"
    },
    {
     "data": {
      "image/png": "[encoded data removed]",
      "text/plain": [
       "<matplotlib.figure.Figure at 0x7facdda78dd8>"
      ]
     },
     "metadata": {},
     "output_type": "display_data"
    }
   ],
   "source": [
    "# plot ap names correlation\n",
    "plt.imshow(aps_cor, interpolation='nearest')"
   ]
  },
  {
   "cell_type": "code",
   "execution_count": 11,
   "metadata": {
    "collapsed": false
   },
   "outputs": [
    {
     "data": {
      "text/plain": [
       "<matplotlib.image.AxesImage at 0x7facdda1c908>"
      ]
     },
     "execution_count": 11,
     "metadata": {},
     "output_type": "execute_result"
    },
    {
     "data": {
      "image/png": "[encoded data removed]",
      "text/plain": [
       "<matplotlib.figure.Figure at 0x7facdda50588>"
      ]
     },
     "metadata": {},
     "output_type": "display_data"
    }
   ],
   "source": [
    "# plot ap macs correlation\n",
    "plt.imshow(mac_cor, interpolation='nearest')"
   ]
  },
  {
   "cell_type": "code",
   "execution_count": 17,
   "metadata": {
    "collapsed": false
   },
   "outputs": [],
   "source": [
    "# add building label\n",
    "building_index = [[10, 10, 10, 10], [20, 20, 20, 20, 20, 20], [40, 40], [30, 30, 30, 30, 30]]\n",
    "\n",
    "for i in range(len(track_data)):\n",
    "    for j in range(len(track_data[i])):\n",
    "        track_data[i][j]['buildingID'] = building_index[i][j]"
   ]
  },
  {
   "cell_type": "code",
   "execution_count": 34,
   "metadata": {
    "collapsed": false
   },
   "outputs": [
    {
     "name": "stdout",
     "output_type": "stream",
     "text": [
      "          Time  index  ind_strt_time  ind_end_time\n",
      "8512    30.341    1.0            0.0           0.0\n",
      "13709   48.878    2.0            0.0           0.0\n",
      "22475   80.175    3.0            0.0           0.0\n",
      "27694   98.724    4.0            0.0           0.0\n",
      "38394  136.709    5.0            0.0           0.0\n",
      "            Time  index  ind_strt_time  ind_end_time\n",
      "314491  1117.902   71.0            0.0           0.0\n",
      "324496  1153.566   72.0            0.0           0.0\n",
      "337497  1199.898   73.0            0.0           0.0\n",
      "347410  1235.157   74.0            0.0           0.0\n",
      "350661  1246.750   75.0            0.0       99999.0\n",
      "          Time  index  ind_strt_time  ind_end_time\n",
      "5345    31.840    1.0            0.0           0.0\n",
      "8049    48.068    2.0            0.0           0.0\n",
      "13028   77.821    3.0            0.0           0.0\n",
      "20614  122.867    4.0            0.0           0.0\n",
      "22777  135.834    5.0            0.0           0.0\n",
      "            Time  index  ind_strt_time  ind_end_time\n",
      "187514  1117.319   71.0            0.0           0.0\n",
      "192877  1149.586   72.0            0.0           0.0\n",
      "200945  1197.971   73.0            0.0           0.0\n",
      "206954  1233.822   74.0            0.0           0.0\n",
      "210407  1254.519   75.0            0.0       99999.0\n",
      "         Time  index  ind_strt_time  ind_end_time\n",
      "4649    9.656    1.0            0.0           0.0\n",
      "10286  21.330    2.0            0.0           0.0\n",
      "17652  36.585    3.0            0.0           0.0\n",
      "23457  48.625    4.0            0.0           0.0\n",
      "32369  67.074    5.0            0.0           0.0\n",
      "           Time  index  ind_strt_time  ind_end_time\n",
      "397775  825.938   48.0            0.0           0.0\n",
      "402520  835.792   49.0            0.0           0.0\n",
      "406440  843.964   50.0            0.0           0.0\n",
      "418404  868.848   51.0            0.0           0.0\n",
      "422854  878.070   52.0            0.0       99999.0\n",
      "         Time  index  ind_strt_time  ind_end_time\n",
      "3885    9.544    1.0            0.0           0.0\n",
      "8540   21.005    2.0            0.0           0.0\n",
      "14717  36.142    3.0            0.0           0.0\n",
      "19695  48.367    4.0            0.0           0.0\n",
      "27173  66.645    5.0            0.0           0.0\n",
      "           Time  index  ind_strt_time  ind_end_time\n",
      "336576  825.656   48.0            0.0           0.0\n",
      "340511  835.401   49.0            0.0           0.0\n",
      "343888  843.722   50.0            0.0           0.0\n",
      "353990  868.612   51.0            0.0           0.0\n",
      "357776  877.875   52.0            0.0       99999.0\n",
      "          Time  index  ind_strt_time  ind_end_time\n",
      "10758   22.206    1.0            0.0           0.0\n",
      "16809   34.676    2.0            0.0           0.0\n",
      "33527   68.927    3.0            0.0           0.0\n",
      "44688   92.021    4.0            0.0           0.0\n",
      "63870  132.294    5.0            0.0           0.0\n",
      "            Time  index  ind_strt_time  ind_end_time\n",
      "471712   981.023   63.0            0.0           0.0\n",
      "490744  1020.372   64.0            0.0           0.0\n",
      "499854  1039.211   65.0            0.0           0.0\n",
      "515658  1071.720   66.0            0.0           0.0\n",
      "522862  1086.759   67.0            0.0       99999.0\n",
      "          Time  index  ind_strt_time  ind_end_time\n",
      "9065    21.947    1.0            0.0           0.0\n",
      "14273   34.576    2.0            0.0           0.0\n",
      "28553   68.875    3.0            0.0           0.0\n",
      "37989   91.833    4.0            0.0           0.0\n",
      "54566  132.031    5.0            0.0           0.0\n",
      "            Time  index  ind_strt_time  ind_end_time\n",
      "406368   980.717   63.0            0.0           0.0\n",
      "422603  1019.987   64.0            0.0           0.0\n",
      "430376  1038.936   65.0            0.0           0.0\n",
      "443856  1071.382   66.0            0.0           0.0\n",
      "450049  1086.432   67.0            0.0       99999.0\n",
      "         Time  index  ind_strt_time  ind_end_time\n",
      "4142    8.618    1.0            0.0           0.0\n",
      "16724  34.656    2.0            0.0           0.0\n",
      "24993  51.802    3.0            0.0           0.0\n",
      "32452  67.263    4.0            0.0           0.0\n",
      "39755  82.372    5.0            0.0           0.0\n",
      "            Time  index  ind_strt_time  ind_end_time\n",
      "514531  1067.660   60.0            0.0           0.0\n",
      "522665  1084.466   61.0            0.0           0.0\n",
      "537246  1114.210   62.0            0.0           0.0\n",
      "544264  1128.532   63.0            0.0           0.0\n",
      "568835  1179.593   64.0            0.0       99999.0\n",
      "         Time  index  ind_strt_time  ind_end_time\n",
      "3441    8.484    1.0            0.0           0.0\n",
      "14063  34.459    2.0            0.0           0.0\n",
      "21128  51.695    3.0            0.0           0.0\n",
      "27387  66.961    4.0            0.0           0.0\n",
      "33703  82.284    5.0            0.0           0.0\n",
      "            Time  index  ind_strt_time  ind_end_time\n",
      "441482  1067.362   60.0            0.0           0.0\n",
      "448455  1084.106   61.0            0.0           0.0\n",
      "460858  1113.687   62.0            0.0           0.0\n",
      "466860  1128.056   63.0            0.0           0.0\n",
      "487907  1179.029   64.0            0.0       99999.0\n",
      "         Time  index  ind_strt_time  ind_end_time\n",
      "6001   12.617    1.0            0.0           0.0\n",
      "17792  36.984    2.0            0.0           0.0\n",
      "25572  52.981    3.0            0.0           0.0\n",
      "32168  66.541    4.0            0.0           0.0\n",
      "42347  87.372    5.0            0.0           0.0\n",
      "           Time  index  ind_strt_time  ind_end_time\n",
      "204744  425.105   25.0            0.0           0.0\n",
      "217534  452.002   26.0            0.0           0.0\n",
      "222714  462.899   27.0            0.0           0.0\n",
      "234935  488.451   28.0            0.0           0.0\n",
      "240261  499.522   29.0            0.0       99999.0\n",
      "         Time  index  ind_strt_time  ind_end_time\n",
      "5192   12.585    1.0            0.0           0.0\n",
      "15541  37.641    2.0            0.0           0.0\n",
      "21883  52.976    3.0            0.0           0.0\n",
      "27565  66.511    4.0            0.0           0.0\n",
      "36203  87.367    5.0            0.0           0.0\n",
      "           Time  index  ind_strt_time  ind_end_time\n",
      "176318  425.073   25.0            0.0           0.0\n",
      "187484  451.968   26.0            0.0           0.0\n",
      "192039  462.889   27.0            0.0           0.0\n",
      "202433  488.438   28.0            0.0           0.0\n",
      "207029  499.514   29.0            0.0       99999.0\n",
      "       Time  index  ind_strt_time  ind_end_time\n",
      "232   0.951    1.0            0.0           0.0\n",
      "771   3.121    2.0            0.0           0.0\n",
      "1105  4.482    3.0            0.0           0.0\n",
      "1963  7.934    4.0            0.0           0.0\n",
      "2297  9.338    5.0            0.0           0.0\n",
      "            Time  index  ind_strt_time  ind_end_time\n",
      "283702  1123.525  356.0            0.0           0.0\n",
      "284061  1124.919  357.0            0.0           0.0\n",
      "284808  1128.031  358.0            0.0           0.0\n",
      "285126  1129.282  359.0            0.0           0.0\n",
      "285740  1131.797  360.0            0.0       99999.0\n",
      "       Time  index  ind_strt_time  ind_end_time\n",
      "156   0.627    1.0            0.0           0.0\n",
      "787   3.127    2.0            0.0           0.0\n",
      "1198  4.723    3.0            0.0           0.0\n",
      "2037  8.071    4.0            0.0           0.0\n",
      "2357  9.430    5.0            0.0           0.0\n",
      "           Time  index  ind_strt_time  ind_end_time\n",
      "145211  580.284  197.0            0.0           0.0\n",
      "145516  581.474  198.0            0.0           0.0\n",
      "146272  584.526  199.0            0.0           0.0\n",
      "146630  585.964  200.0            0.0           0.0\n",
      "147212  588.285  201.0            0.0       99999.0\n",
      "        Time  index  ind_strt_time  ind_end_time\n",
      "1908   7.566    1.0            0.0           0.0\n",
      "2788  10.888    2.0            0.0           0.0\n",
      "3640  14.033    3.0            0.0           0.0\n",
      "5843  22.372    4.0            0.0           0.0\n",
      "6593  25.163    5.0            0.0           0.0\n",
      "           Time  index  ind_strt_time  ind_end_time\n",
      "131359  498.222   54.0            0.0           0.0\n",
      "132246  501.530   55.0            0.0           0.0\n",
      "134572  510.276   56.0            0.0           0.0\n",
      "135806  514.832   57.0            0.0           0.0\n",
      "137821  522.402   58.0            0.0       99999.0\n",
      "        Time  index  ind_strt_time  ind_end_time\n",
      "1327   5.122    1.0            0.0           0.0\n",
      "2688  10.319    2.0            0.0           0.0\n",
      "3508  13.332    3.0            0.0           0.0\n",
      "4786  18.187    4.0            0.0           0.0\n",
      "6105  23.035    5.0            0.0           0.0\n",
      "           Time  index  ind_strt_time  ind_end_time\n",
      "97312   366.291   55.0            0.0           0.0\n",
      "98316   370.119   56.0            0.0           0.0\n",
      "100593  378.780   57.0            0.0           0.0\n",
      "101271  381.319   58.0            0.0           0.0\n",
      "103871  391.128   59.0            0.0       99999.0\n",
      "        Time  index  ind_strt_time  ind_end_time\n",
      "1801   7.065    1.0            0.0           0.0\n",
      "3532  13.736    2.0            0.0           0.0\n",
      "4640  17.849    3.0            0.0           0.0\n",
      "6971  26.515    4.0            0.0           0.0\n",
      "7442  28.299    5.0            0.0           0.0\n",
      "           Time  index  ind_strt_time  ind_end_time\n",
      "116338  442.316   54.0            0.0           0.0\n",
      "117446  446.472   55.0            0.0           0.0\n",
      "119340  453.716   56.0            0.0           0.0\n",
      "120372  457.637   57.0            0.0           0.0\n",
      "121430  461.667   58.0            0.0       99999.0\n",
      "        Time  index  ind_strt_time  ind_end_time\n",
      "1494   5.881    1.0            0.0           0.0\n",
      "3697  14.097    2.0            0.0           0.0\n",
      "4183  15.796    3.0            0.0           0.0\n",
      "6156  23.264    4.0            0.0           0.0\n",
      "6894  26.070    5.0            0.0           0.0\n",
      "          Time  index  ind_strt_time  ind_end_time\n",
      "92325  348.577   55.0            0.0           0.0\n",
      "94041  355.134   56.0            0.0           0.0\n",
      "95492  360.676   57.0            0.0           0.0\n",
      "96356  363.948   58.0            0.0           0.0\n",
      "97947  369.895   59.0            0.0       99999.0\n",
      "        Time  index  ind_strt_time  ind_end_time\n",
      "812    3.175    1.0            0.0           0.0\n",
      "2499   9.448    2.0            0.0           0.0\n",
      "5257  19.942    3.0            0.0           0.0\n",
      "7255  27.481    4.0            0.0           0.0\n",
      "9233  35.057    5.0            0.0           0.0\n",
      "           Time  index  ind_strt_time  ind_end_time\n",
      "124966  481.526   56.0            0.0           0.0\n",
      "126554  487.538   57.0            0.0           0.0\n",
      "127381  490.626   58.0            0.0           0.0\n",
      "130789  503.587   59.0            0.0           0.0\n",
      "133003  511.967   60.0            0.0       99999.0\n"
     ]
    }
   ],
   "source": [
    "# associate signals with POSI ids\n",
    "def posi_time_limits(posi_array):\n",
    "    posiarray['ind_strt_time'] = np.zeros((posiarray.shape[0]))\n",
    "    posiarray['ind_end_time'] = np.zeros((posiarray.shape[0]))\n",
    "    posiarray['ind_end_time'].iloc[-1] = 99999\n",
    "    for i in range(1, posi_array.shape[0])\n",
    "    return posiarray\n",
    "\n",
    "for i in range(len(track_data)):\n",
    "    posi_data.append([])\n",
    "    for j in range(len(track_data[i])):\n",
    "        cur_posi = track_data[i][j][[1, 2]].iloc[track_data[i][j][0].values == 'POSI']\n",
    "        cur_posi.columns = ['Time', 'index']\n",
    "        cur_posi = posi_time_limits(cur_posi)\n",
    "        print(cur_posi.head())\n",
    "        print(cur_posi.tail())"
   ]
  },
  {
   "cell_type": "code",
   "execution_count": null,
   "metadata": {
    "collapsed": true
   },
   "outputs": [],
   "source": []
  }
 ],
 "metadata": {
  "kernelspec": {
   "display_name": "Python 3",
   "language": "python",
   "name": "python3"
  },
  "language_info": {
   "codemirror_mode": {
    "name": "ipython",
    "version": 3
   },
   "file_extension": ".py",
   "mimetype": "text/x-python",
   "name": "python",
   "nbconvert_exporter": "python",
   "pygments_lexer": "ipython3",
   "version": "3.4.3"
  }
 },
 "nbformat": 4,
 "nbformat_minor": 0
}
