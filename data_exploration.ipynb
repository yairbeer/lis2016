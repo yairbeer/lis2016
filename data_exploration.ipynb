{
 "cells": [
  {
   "cell_type": "code",
   "execution_count": 1,
   "metadata": {
    "collapsed": false
   },
   "outputs": [
    {
     "name": "stdout",
     "output_type": "stream",
     "text": [
      "[['train/CAR\\\\logfile_CAR_R1_S3.txt', 'train/CAR\\\\logfile_CAR_R1_S3mini.txt', 'train/CAR\\\\logfile_CAR_R2_S3.txt', 'train/CAR\\\\logfile_CAR_R2_S4.txt'], ['train/UAH\\\\logfile_UAH_R1_S3.txt', 'train/UAH\\\\logfile_UAH_R1_S4.txt', 'train/UAH\\\\logfile_UAH_R2_S3.txt', 'train/UAH\\\\logfile_UAH_R2_S4.txt', 'train/UAH\\\\logfile_UAH_R4_S3.txt', 'train/UAH\\\\logfile_UAH_R4_S4.txt'], ['train/UJITI\\\\logfile_UJITI_R1_NEXUS5.txt', 'train/UJITI\\\\logfile_UJITI_R2_NEXUS5.txt'], ['train/UJIUB\\\\logfile_UJIUB_R1n_S3.txt', 'train/UJIUB\\\\logfile_UJIUB_R1r_S3.txt', 'train/UJIUB\\\\logfile_UJIUB_R2n_S3.txt', 'train/UJIUB\\\\logfile_UJIUB_R2r_S3.txt', 'train/UJIUB\\\\logfile_UJIUB_R3_S3.txt']]\n",
      "There are 17 training files\n"
     ]
    }
   ],
   "source": [
    "# get train files\n",
    "import glob\n",
    "\n",
    "train_folders = ['CAR', 'UAH', 'UJITI', 'UJIUB']\n",
    "\n",
    "train_files_names = []\n",
    "n_files = 0\n",
    "for building in train_folders:\n",
    "    cur_file_names = glob.glob('train/' + building + '/log*')\n",
    "    train_files_names.append(sorted(cur_file_names))\n",
    "    n_files += len(cur_file_names)\n",
    "\n",
    "print(train_files_names)\n",
    "print('There are %d training files' % n_files)"
   ]
  },
  {
   "cell_type": "code",
   "execution_count": 2,
   "metadata": {
    "collapsed": false
   },
   "outputs": [
    {
     "name": "stdout",
     "output_type": "stream",
     "text": [
      "train/CAR\\logfile_CAR_R1_S3.txt\n",
      "['ACCE' 'AHRS' 'GNSS' 'GYRO' 'LIGH' 'MAGN' 'POSI' 'PRES' 'SOUN' 'WIFI']\n",
      "train/CAR\\logfile_CAR_R1_S3mini.txt\n",
      "['ACCE' 'AHRS' 'GNSS' 'GYRO' 'MAGN' 'POSI' 'SOUN' 'WIFI']\n",
      "train/CAR\\logfile_CAR_R2_S3.txt\n",
      "['ACCE' 'AHRS' 'GNSS' 'GYRO' 'LIGH' 'MAGN' 'POSI' 'PRES' 'PROX' 'SOUN'\n",
      " 'WIFI']\n",
      "train/CAR\\logfile_CAR_R2_S4.txt\n",
      "['ACCE' 'AHRS' 'GNSS' 'GYRO' 'HUMI' 'LIGH' 'MAGN' 'POSI' 'PRES' 'PROX'\n",
      " 'SOUN' 'TEMP' 'WIFI']\n",
      "train/UAH\\logfile_UAH_R1_S3.txt\n"
     ]
    },
    {
     "name": "stderr",
     "output_type": "stream",
     "text": [
      "C:\\Users\\yaia\\Anaconda3\\lib\\site-packages\\IPython\\core\\interactiveshell.py:2723: DtypeWarning: Columns (3,4) have mixed types. Specify dtype option on import or set low_memory=False.\n",
      "  interactivity=interactivity, compiler=compiler, result=result)\n"
     ]
    },
    {
     "name": "stdout",
     "output_type": "stream",
     "text": [
      "['ACCE' 'AHRS' 'GNSS' 'GYRO' 'LIGH' 'MAGN' 'POSI' 'PRES' 'SOUN' 'WIFI']\n",
      "train/UAH\\logfile_UAH_R1_S4.txt\n",
      "['ACCE' 'AHRS' 'GNSS' 'GYRO' 'HUMI' 'LIGH' 'MAGN' 'POSI' 'PRES' 'SOUN'\n",
      " 'TEMP' 'WIFI']\n",
      "train/UAH\\logfile_UAH_R2_S3.txt\n",
      "['ACCE' 'AHRS' 'GNSS' 'GYRO' 'LIGH' 'MAGN' 'POSI' 'PRES' 'SOUN' 'WIFI']\n",
      "train/UAH\\logfile_UAH_R2_S4.txt\n",
      "['ACCE' 'AHRS' 'GNSS' 'GYRO' 'HUMI' 'LIGH' 'MAGN' 'POSI' 'PRES' 'SOUN'\n",
      " 'TEMP' 'WIFI']\n",
      "train/UAH\\logfile_UAH_R4_S3.txt\n",
      "['ACCE' 'AHRS' 'GNSS' 'GYRO' 'LIGH' 'MAGN' 'POSI' 'PRES' 'SOUN' 'WIFI']\n",
      "train/UAH\\logfile_UAH_R4_S4.txt\n",
      "['ACCE' 'AHRS' 'GNSS' 'GYRO' 'HUMI' 'LIGH' 'MAGN' 'POSI' 'PRES' 'SOUN'\n",
      " 'TEMP' 'WIFI']\n",
      "train/UJITI\\logfile_UJITI_R1_NEXUS5.txt\n",
      "['ACCE' 'AHRS' 'GNSS' 'GYRO' 'LIGH' 'MAGN' 'POSI' 'PRES' 'PROX' 'SOUN'\n",
      " 'WIFI']\n",
      "train/UJITI\\logfile_UJITI_R2_NEXUS5.txt\n",
      "['ACCE' 'AHRS' 'GYRO' 'LIGH' 'MAGN' 'POSI' 'PRES' 'SOUN' 'WIFI']\n",
      "train/UJIUB\\logfile_UJIUB_R1n_S3.txt\n",
      "['ACCE' 'AHRS' 'GNSS' 'GYRO' 'LIGH' 'MAGN' 'POSI' 'PRES' 'PROX' 'SOUN'\n",
      " 'WIFI']\n",
      "train/UJIUB\\logfile_UJIUB_R1r_S3.txt\n",
      "['ACCE' 'AHRS' 'GNSS' 'GYRO' 'LIGH' 'MAGN' 'POSI' 'PRES' 'PROX' 'SOUN'\n",
      " 'WIFI']\n",
      "train/UJIUB\\logfile_UJIUB_R2n_S3.txt\n",
      "['ACCE' 'AHRS' 'GNSS' 'GYRO' 'LIGH' 'MAGN' 'POSI' 'PRES' 'SOUN' 'WIFI']\n",
      "train/UJIUB\\logfile_UJIUB_R2r_S3.txt\n",
      "['ACCE' 'AHRS' 'GNSS' 'GYRO' 'LIGH' 'MAGN' 'POSI' 'PRES' 'SOUN' 'WIFI']\n",
      "train/UJIUB\\logfile_UJIUB_R3_S3.txt\n",
      "['6152' 'ACCE' 'AHRS' 'GNSS' 'GYRO' 'LIGH' 'MAGN' 'POSI' 'PRES' 'PROX'\n",
      " 'SOUN' 'WIFI']\n"
     ]
    }
   ],
   "source": [
    "# import files into dataframe\n",
    "import numpy as np\n",
    "import pandas as pd\n",
    "\n",
    "track_data = []\n",
    "for building in train_files_names:\n",
    "    track_data.append([])\n",
    "    for track_name in building:\n",
    "        print(track_name)\n",
    "        track_data[-1].append(pd.read_csv(track_name, sep=';', engine='c', names=range(11)))\n",
    "        print(np.unique(track_data[-1][-1][0]))"
   ]
  },
  {
   "cell_type": "code",
   "execution_count": 3,
   "metadata": {
    "collapsed": false
   },
   "outputs": [],
   "source": [
    "# count wifi stations in each track\n",
    "unique_aps = []\n",
    "unique_macs = []\n",
    "for building in track_data:\n",
    "    for track in building:\n",
    "        wifi_data = track.iloc[track[0].values == 'WIFI']\n",
    "        wifi_names = wifi_data[3].values.astype(str)\n",
    "        wifi_macs = wifi_data[4].values\n",
    "        unique_aps.append(list(np.unique(wifi_names)))\n",
    "        unique_macs.append(list(np.unique(wifi_macs)))"
   ]
  },
  {
   "cell_type": "code",
   "execution_count": 4,
   "metadata": {
    "collapsed": false
   },
   "outputs": [],
   "source": [
    "# Common items between two lists\n",
    "def custom_cor(list1, list2):\n",
    "    count = 0\n",
    "    for item1 in list1:\n",
    "        if item1 in list2:\n",
    "            count += 1\n",
    "    return count / min(len(list1), len(list2))\n",
    "\n",
    "aps_cor = np.zeros((n_files, n_files))\n",
    "mac_cor = np.zeros((n_files, n_files))\n",
    "for i in range(n_files):\n",
    "    for j in range(n_files):\n",
    "        aps_cor[i, j] = custom_cor(unique_aps[i], unique_aps[j])\n",
    "        mac_cor[i, j] = custom_cor(unique_macs[i], unique_macs[j])"
   ]
  },
  {
   "cell_type": "code",
   "execution_count": 5,
   "metadata": {
    "collapsed": false
   },
   "outputs": [
    {
     "data": {
      "text/plain": [
       "<matplotlib.image.AxesImage at 0xe8d2bf8828>"
      ]
     },
     "execution_count": 5,
     "metadata": {},
     "output_type": "execute_result"
    },
    {
     "data": {
      "image/png": "[encoded data removed]",
      "text/plain": [
       "<matplotlib.figure.Figure at 0xe8ca862f28>"
      ]
     },
     "metadata": {},
     "output_type": "display_data"
    }
   ],
   "source": [
    "# plot ap names correlation\n",
    "%matplotlib inline\n",
    "import matplotlib.pyplot as plt\n",
    "\n",
    "plt.imshow(aps_cor, interpolation='nearest')"
   ]
  },
  {
   "cell_type": "code",
   "execution_count": 6,
   "metadata": {
    "collapsed": false,
    "scrolled": true
   },
   "outputs": [
    {
     "data": {
      "text/plain": [
       "<matplotlib.image.AxesImage at 0xe8d31196a0>"
      ]
     },
     "execution_count": 6,
     "metadata": {},
     "output_type": "execute_result"
    },
    {
     "data": {
      "image/png": "[encoded data removed]",
      "text/plain": [
       "<matplotlib.figure.Figure at 0xe8ca87df98>"
      ]
     },
     "metadata": {},
     "output_type": "display_data"
    }
   ],
   "source": [
    "# plot ap macs correlation\n",
    "plt.imshow(mac_cor, interpolation='nearest')"
   ]
  },
  {
   "cell_type": "code",
   "execution_count": 7,
   "metadata": {
    "collapsed": false
   },
   "outputs": [
    {
     "name": "stderr",
     "output_type": "stream",
     "text": [
      "C:\\Users\\yaia\\Anaconda3\\lib\\site-packages\\pandas\\core\\indexing.py:128: SettingWithCopyWarning: \n",
      "A value is trying to be set on a copy of a slice from a DataFrame\n",
      "\n",
      "See the caveats in the documentation: http://pandas.pydata.org/pandas-docs/stable/indexing.html#indexing-view-versus-copy\n",
      "  self._setitem_with_indexer(indexer, value)\n"
     ]
    },
    {
     "name": "stdout",
     "output_type": "stream",
     "text": [
      "train/UJIUB\\logfile_UJIUB_R3_S3.txt\n",
      "        Time  index         Lat         Lon  FloorID  BuildingID  \\\n",
      "812    3.175    1.0  0.00000000  0.00000000      0.0         0.0   \n",
      "2499   9.448    2.0  0.00000000  0.00000000      0.0         0.0   \n",
      "5257  19.942    3.0  0.00000000  0.00000000      0.0         0.0   \n",
      "7255  27.481    4.0  0.00000000  0.00000000      0.0         0.0   \n",
      "9233  35.057    5.0  0.00000000  0.00000000      0.0         0.0   \n",
      "\n",
      "      ind_begin_time  ind_end_time  \n",
      "812           0.0000        6.3115  \n",
      "2499          6.3115       14.6950  \n",
      "5257         14.6950       23.7115  \n",
      "7255         23.7115       31.2690  \n",
      "9233         31.2690       36.0605  \n"
     ]
    }
   ],
   "source": [
    "# Find time limits per POSI id\n",
    "def posi_time_limits(posi_array):\n",
    "    # create start and end index time array\n",
    "    posi_array['ind_begin_time'] = np.zeros((posi_array.shape[0]))\n",
    "    posi_array['ind_end_time'] = np.zeros((posi_array.shape[0]))\n",
    "    posi_array['ind_end_time'].iloc[-1] = 99999\n",
    "\n",
    "    for i in range(1, posi_array.shape[0]):\n",
    "        cur_split = (float(posi_array['Time'].iloc[i]) + float(posi_array['Time'].iloc[i-1])) / 2\n",
    "        posi_array['ind_begin_time'].iat[i] = cur_split       \n",
    "        posi_array['ind_end_time'].iat[i-1] = cur_split       \n",
    "    return posi_array\n",
    "\n",
    "track_posi = []\n",
    "for i in range(len(track_data)):\n",
    "    track_posi.append([])\n",
    "    for j in range(len(track_data[i])):\n",
    "        track_posi[i].append(track_data[i][j][[1, 2, 3, 4, 5, 6, 7]].iloc[track_data[i][j][0].values == 'POSI'])\n",
    "        track_posi[i][j] = track_posi[i][j].dropna(axis=1)\n",
    "        track_posi[i][j].columns = ['Time', 'index', 'Lat', 'Lon', 'FloorID', 'BuildingID']\n",
    "        track_posi[i][j] = posi_time_limits(track_posi[i][j])\n",
    "print(train_files_names[i][j])\n",
    "print(track_posi[i][j].head())"
   ]
  },
  {
   "cell_type": "code",
   "execution_count": 8,
   "metadata": {
    "collapsed": false
   },
   "outputs": [
    {
     "name": "stdout",
     "output_type": "stream",
     "text": [
      "data:  0 0\n"
     ]
    },
    {
     "name": "stderr",
     "output_type": "stream",
     "text": [
      "C:\\Users\\yaia\\Anaconda3\\lib\\site-packages\\pandas\\core\\indexing.py:128: SettingWithCopyWarning: \n",
      "A value is trying to be set on a copy of a slice from a DataFrame\n",
      "\n",
      "See the caveats in the documentation: http://pandas.pydata.org/pandas-docs/stable/indexing.html#indexing-view-versus-copy\n",
      "  self._setitem_with_indexer(indexer, value)\n"
     ]
    },
    {
     "name": "stdout",
     "output_type": "stream",
     "text": [
      "data:  0 1\n",
      "data:  0 2\n",
      "data:  0 3\n",
      "data:  1 0\n",
      "data:  1 1\n",
      "data:  1 2\n",
      "data:  1 3\n",
      "data:  1 4\n",
      "data:  1 5\n",
      "data:  2 0\n",
      "data:  2 1\n",
      "data:  3 0\n",
      "data:  3 1\n",
      "data:  3 2\n",
      "data:  3 3\n",
      "data:  3 4\n"
     ]
    }
   ],
   "source": [
    "# associate signals with POSI ids. Spliting at middle of the time between POSI measurements\n",
    "for i in range(len(track_data)):\n",
    "    for j in range(len(track_data[i])):\n",
    "        print('data: ', i, j)\n",
    "        track_data[i][j]['POSI_index'] = np.zeros((track_data[i][j].shape[0])) * np.nan\n",
    "        track_data[i][j]['POSI_floor'] = np.zeros((track_data[i][j].shape[0])) * np.nan\n",
    "        track_data[i][j]['POSI_building'] = np.zeros((track_data[i][j].shape[0])) * np.nan\n",
    "        track_data[i][j]['POSI_lat'] = np.zeros((track_data[i][j].shape[0])) * np.nan\n",
    "        track_data[i][j]['POSI_lon'] = np.zeros((track_data[i][j].shape[0])) * np.nan\n",
    "        for k in range(track_posi[i][j].shape[0]):\n",
    "            ind_begin_time = track_posi[i][j]['ind_begin_time'].iloc[k]\n",
    "            ind_end_time = track_posi[i][j]['ind_end_time'].iloc[k]\n",
    "    \n",
    "            ind = track_posi[i][j]['index'].iloc[k]\n",
    "            ind_floor = track_posi[i][j]['FloorID'].iloc[k]\n",
    "            ind_building = track_posi[i][j]['BuildingID'].iloc[k]\n",
    "            ind_lat = track_posi[i][j]['Lat'].iloc[k]\n",
    "            ind_lon = track_posi[i][j]['Lon'].iloc[k]\n",
    "            \n",
    "            index_limits = np.logical_and(track_data[i][j][1].values >= ind_begin_time, \n",
    "                                          track_data[i][j][1].values < ind_end_time)\n",
    "            \n",
    "            track_data[i][j]['POSI_index'].iloc[index_limits] = ind\n",
    "            track_data[i][j]['POSI_floor'].iloc[index_limits] = ind_floor\n",
    "            track_data[i][j]['POSI_building'].iloc[index_limits] = ind_building\n",
    "            track_data[i][j]['POSI_lat'].iloc[index_limits] = ind_lat\n",
    "            track_data[i][j]['POSI_lon'].iloc[index_limits] = ind_lon"
   ]
  },
  {
   "cell_type": "code",
   "execution_count": 9,
   "metadata": {
    "collapsed": false
   },
   "outputs": [],
   "source": [
    "# create pressure data frames\n",
    "pres_data = []\n",
    "for building in track_data:\n",
    "    pres_data.append([])\n",
    "    for track in building:\n",
    "        if track.iloc[track[0].values == 'PRES'].shape[0]:\n",
    "            pres_data[-1].append(track.iloc[track[0].values == 'PRES'])\n",
    "            pres_data[-1][-1] = pres_data[-1][-1].dropna(axis=1)\n",
    "            pres_data[-1][-1] = pres_data[-1][-1].drop(0, axis=1)\n",
    "            pres_data[-1][-1].columns.values[:4] = ['AppTime', 'SensorTime', 'pres', 'acc']\n",
    "        else:\n",
    "            pres_data[-1].append(0)"
   ]
  },
  {
   "cell_type": "code",
   "execution_count": 10,
   "metadata": {
    "collapsed": true
   },
   "outputs": [],
   "source": [
    "# filter pressure"
   ]
  },
  {
   "cell_type": "code",
   "execution_count": 11,
   "metadata": {
    "collapsed": false
   },
   "outputs": [
    {
     "name": "stdout",
     "output_type": "stream",
     "text": [
      "train/UJIUB\\logfile_UJIUB_R2n_S3.txt\n",
      "    AppTime  SensorTime      pres acc  POSI_index  POSI_floor  POSI_building  \\\n",
      "2     0.024    1040.916  998.0500   0         1.0         5.0           30.0   \n",
      "12    0.072    1040.956  998.0231   0         1.0         5.0           30.0   \n",
      "22    0.097    1040.996  998.0227   0         1.0         5.0           30.0   \n",
      "33    0.135    1041.036  997.9818   0         1.0         5.0           30.0   \n",
      "43    0.175    1041.076  998.0162   0         1.0         5.0           30.0   \n",
      "\n",
      "       POSI_lat    POSI_lon  \n",
      "2   39.99384147  -0.0737969  \n",
      "12  39.99384147  -0.0737969  \n",
      "22  39.99384147  -0.0737969  \n",
      "33  39.99384147  -0.0737969  \n",
      "43  39.99384147  -0.0737969  \n"
     ]
    },
    {
     "data": {
      "image/png": "[encoded data removed]",
      "text/plain": [
       "<matplotlib.figure.Figure at 0xe8d318a080>"
      ]
     },
     "metadata": {},
     "output_type": "display_data"
    }
   ],
   "source": [
    "# plot pressure and floor over time\n",
    "plot_i = 3\n",
    "plot_j = 2\n",
    "\n",
    "print(train_files_names[plot_i][plot_j])\n",
    "print(pres_data[plot_i][plot_j].head())\n",
    "\n",
    "fig, ax1 = plt.subplots()\n",
    "ax1.plot(pres_data[plot_i][plot_j]['AppTime'], pres_data[plot_i][plot_j]['pres'], 'b')\n",
    "ax1.set_xlabel('time (s)')\n",
    "# Make the y-axis label and tick labels match the line color.\n",
    "ax1.set_ylabel('Pressure', color='b')\n",
    "for tl in ax1.get_yticklabels():\n",
    "    tl.set_color('b')\n",
    "\n",
    "\n",
    "ax2 = ax1.twinx()\n",
    "ax2.plot(pres_data[plot_i][plot_j]['AppTime'], pres_data[plot_i][plot_j]['POSI_floor'], 'r')\n",
    "ax2.set_ylabel('Floor', color='r')\n",
    "ax2.set_ylim([-0.5,5.5])\n",
    "for tl in ax2.get_yticklabels():\n",
    "    tl.set_color('r')\n",
    "plt.show()"
   ]
  },
  {
   "cell_type": "code",
   "execution_count": 12,
   "metadata": {
    "collapsed": false
   },
   "outputs": [
    {
     "name": "stdout",
     "output_type": "stream",
     "text": [
      "     AppTime                MAC  rssi  POSI_index  POSI_floor  POSI_building  \\\n",
      "637    2.293  00:0b:86:27:36:c2 -82.0         1.0         0.0           10.0   \n",
      "638    2.293  00:0b:86:27:32:e0 -66.0         1.0         0.0           10.0   \n",
      "639    2.293  00:0b:86:27:32:e2 -66.0         1.0         0.0           10.0   \n",
      "640    2.293  00:0b:86:27:32:e1 -68.0         1.0         0.0           10.0   \n",
      "641    2.293  00:0b:86:27:36:c0 -82.0         1.0         0.0           10.0   \n",
      "\n",
      "        POSI_lat  POSI_lon  \n",
      "637  40.31347091  -3.48315  \n",
      "638  40.31347091  -3.48315  \n",
      "639  40.31347091  -3.48315  \n",
      "640  40.31347091  -3.48315  \n",
      "641  40.31347091  -3.48315  \n"
     ]
    }
   ],
   "source": [
    "# create wifi data frames\n",
    "wifi_data = []\n",
    "for building in track_data:\n",
    "    wifi_data.append([])\n",
    "    for track in building:\n",
    "        wifi_data[-1].append(track[[1, 4, 5, 'POSI_index','POSI_floor', 'POSI_building', 'POSI_lat',  \n",
    "                                    'POSI_lon']].iloc[track[0].values == 'WIFI'])\n",
    "        wifi_data[-1][-1].columns.values[:3] = ['AppTime', 'MAC', 'rssi']\n",
    "print(wifi_data[0][0].head())"
   ]
  },
  {
   "cell_type": "code",
   "execution_count": 13,
   "metadata": {
    "collapsed": false
   },
   "outputs": [
    {
     "name": "stdout",
     "output_type": "stream",
     "text": [
      "0 51\n",
      "1 353\n",
      "2 158\n",
      "3 180\n"
     ]
    }
   ],
   "source": [
    "# create list of mac addresses for each building\n",
    "building_macs = []\n",
    "for i in range(len(wifi_data)):\n",
    "    building_macs.append([])\n",
    "    for j in range(len(wifi_data[i])):\n",
    "        track_mac_array = wifi_data[i][j]['MAC'].values\n",
    "        for mac_add in track_mac_array:\n",
    "            if not mac_add in building_macs[i]:\n",
    "                building_macs[i].append(mac_add)\n",
    "    print(i, len(building_macs[i]))\n",
    "\n",
    "# create list of mac addresses for each building for each floor\n",
    "# building_macs = []\n",
    "# for i in range(len(wifi_data)):\n",
    "#     building_macs.append([])\n",
    "#     for j in range(len(wifi_data[i])):\n",
    "#         track_mac_array = wifi_data[i][j]['MAC'].values\n",
    "#         for mac_add in track_mac_array:\n",
    "#             if not mac_add in building_macs[i]:\n",
    "#                 building_macs[i].append(mac_add)\n",
    "#     print(i, len(building_macs[i]))"
   ]
  },
  {
   "cell_type": "code",
   "execution_count": 50,
   "metadata": {
    "collapsed": false
   },
   "outputs": [
    {
     "name": "stdout",
     "output_type": "stream",
     "text": [
      "0 0 232\n",
      "0 1 210\n",
      "0 2 222\n",
      "0 3 221\n",
      "1 0 150\n",
      "1 1 276\n",
      "1 2 188\n",
      "1 3 297\n",
      "1 4 73\n",
      "1 5 127\n",
      "2 0 274\n",
      "2 1 138\n",
      "3 0 131\n",
      "3 1 98\n",
      "3 2 114\n",
      "3 3 92\n",
      "3 4 128\n",
      "        00:0b:86:27:36:c2  00:0b:86:27:32:e0  00:0b:86:27:32:e2  \\\n",
      "2.293               -82.0              -66.0              -66.0   \n",
      "8.276               -84.0              -69.0              -69.0   \n",
      "14.269              -85.0              -65.0              -68.0   \n",
      "18.284              -83.0              -65.0              -66.0   \n",
      "24.253              -81.0              -65.0              -65.0   \n",
      "\n",
      "        00:0b:86:27:32:e1  00:0b:86:27:36:c0  00:0b:86:27:36:c1  \\\n",
      "2.293               -68.0              -82.0              -82.0   \n",
      "8.276               -69.0              -84.0              -87.0   \n",
      "14.269              -68.0              -85.0              -86.0   \n",
      "18.284              -64.0              -82.0              -82.0   \n",
      "24.253              -65.0              -82.0              -80.0   \n",
      "\n",
      "        00:0b:86:27:35:90  00:0b:86:27:35:92  00:0b:86:27:35:91  \\\n",
      "2.293               -84.0              -81.0              -86.0   \n",
      "8.276               -87.0              -87.0              -89.0   \n",
      "14.269              -82.0              -83.0              -83.0   \n",
      "18.284              -81.0              -85.0              -82.0   \n",
      "24.253              -88.0              -90.0              -82.0   \n",
      "\n",
      "        00:0b:86:27:35:82        ...          40:4a:03:bc:2a:fd  \\\n",
      "2.293               -96.0        ...                     -200.0   \n",
      "8.276               -93.0        ...                     -200.0   \n",
      "14.269              -94.0        ...                     -200.0   \n",
      "18.284              -95.0        ...                     -200.0   \n",
      "24.253              -95.0        ...                     -200.0   \n",
      "\n",
      "        d4:21:22:5a:28:f3  1a:fe:34:9d:0d:2f  72:77:81:a4:9e:36  \\\n",
      "2.293              -200.0             -200.0             -200.0   \n",
      "8.276              -200.0             -200.0             -200.0   \n",
      "14.269             -200.0             -200.0             -200.0   \n",
      "18.284             -200.0             -200.0             -200.0   \n",
      "24.253             -200.0             -200.0             -200.0   \n",
      "\n",
      "        82:b6:be:58:5c:52  b2:46:fc:65:f0:f8  50:7e:5d:0d:d6:fd  \\\n",
      "2.293              -200.0             -200.0             -200.0   \n",
      "8.276              -200.0             -200.0             -200.0   \n",
      "14.269             -200.0             -200.0             -200.0   \n",
      "18.284             -200.0             -200.0             -200.0   \n",
      "24.253             -200.0             -200.0             -200.0   \n",
      "\n",
      "        00:90:4c:91:00:01  00:1d:1a:04:c4:01  00:22:a1:02:33:cc  \n",
      "2.293              -200.0             -200.0             -200.0  \n",
      "8.276              -200.0             -200.0             -200.0  \n",
      "14.269             -200.0             -200.0             -200.0  \n",
      "18.284             -200.0             -200.0             -200.0  \n",
      "24.253             -200.0             -200.0             -200.0  \n",
      "\n",
      "[5 rows x 51 columns]\n"
     ]
    }
   ],
   "source": [
    "# make WiFi data into dummy variable\n",
    "wifi_dummy_data = []\n",
    "for i in range(len(wifi_data)):\n",
    "    wifi_dummy_data.append([])\n",
    "    for j in range(len(wifi_data[i])):\n",
    "        wifi_samples_cur = np.unique(wifi_data[i][j]['AppTime'].values)\n",
    "        wifi_dummy_cur = np.ones((wifi_samples_cur.shape[0], len(building_macs[i]))) * -200\n",
    "        wifi_dummy_cur = pd.DataFrame(wifi_dummy_cur, columns=building_macs[i], index=wifi_samples_cur)\n",
    "        print(i, j, wifi_samples_cur.shape[0])\n",
    "        for k, sample_time in enumerate(wifi_samples_cur):\n",
    "            wifi_cur = wifi_data[i][j].iloc[wifi_data[i][j]['AppTime'].values == sample_time]\n",
    "            for l in range(wifi_cur.shape[0]):\n",
    "                wifi_dummy_cur[wifi_cur['MAC'].iat[l]].iat[k] = wifi_cur['rssi'].iat[l]\n",
    "        wifi_dummy_data[i].append(wifi_dummy_cur)\n",
    "print(wifi_dummy_data[0][0].head())"
   ]
  },
  {
   "cell_type": "code",
   "execution_count": 59,
   "metadata": {
    "collapsed": false
   },
   "outputs": [
    {
     "name": "stdout",
     "output_type": "stream",
     "text": [
      "[[False False  True ...,  True  True  True]\n",
      " [False False  True ...,  True  True  True]\n",
      " [False False False ...,  True  True  True]\n",
      " ..., \n",
      " [False False False ...,  True  True  True]\n",
      " [False False False ...,  True  True  True]\n",
      " [False False False ...,  True  True False]]\n",
      "[[ -16.    0.    0. ..., -134. -134. -134.]\n",
      " [ -15.    0.    0. ..., -131. -131. -131.]\n",
      " [ -20.    0.   -3. ..., -135. -135. -135.]\n",
      " ..., \n",
      " [  -9.    0.   -5. ..., -128. -128. -128.]\n",
      " [ -12.   -1.    0. ..., -129. -129. -129.]\n",
      " [ -14.   -1.    0. ..., -129. -129. -129.]]\n",
      "0.0\n"
     ]
    }
   ],
   "source": [
    "# Normalize wifi and cut noise\n",
    "noise_level = -50\n",
    "for i in range(len(wifi_dummy_data)):\n",
    "    for j in range(len(wifi_dummy_data[i])):\n",
    "        max_per_line = np.amax(wifi_dummy_data[i][j].values, axis=1)\n",
    "        wifi_dummy_data[i][j].iloc[:, :] = wifi_dummy_data[i][j].values - max_per_line.reshape((max_per_line.shape[0], 1))\n",
    "        noise_not = (wifi_dummy_data[i][j].values >= noise_level) * 1\n",
    "        wifi_dummy_data[i][j].iloc[:, :] = \n",
    "        wifi_dummy_data[i][j].iloc[:, :] = \n",
    "\n",
    "# Cut noise\n",
    "print(wifi_dummy_data[0][0].values)\n",
    "print(np.amax(wifi_dummy_data[0][0].values))\n",
    "# random macs\n",
    "# x2-xx-xx-xx-xx-xx\n",
    "# x6-xx-xx-xx-xx-xx\n",
    "# xA-xx-xx-xx-xx-xx\n",
    "# xE-xx-xx-xx-xx-xx\n",
    "# print(building_macs[3])"
   ]
  },
  {
   "cell_type": "code",
   "execution_count": null,
   "metadata": {
    "collapsed": true
   },
   "outputs": [],
   "source": []
  }
 ],
 "metadata": {
  "kernelspec": {
   "display_name": "Python 3",
   "language": "python",
   "name": "python3"
  },
  "language_info": {
   "codemirror_mode": {
    "name": "ipython",
    "version": 3
   },
   "file_extension": ".py",
   "mimetype": "text/x-python",
   "name": "python",
   "nbconvert_exporter": "python",
   "pygments_lexer": "ipython3",
   "version": "3.5.1"
  }
 },
 "nbformat": 4,
 "nbformat_minor": 0
}
