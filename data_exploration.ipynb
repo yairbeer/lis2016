{
 "cells": [
  {
   "cell_type": "code",
   "execution_count": 1,
   "metadata": {
    "collapsed": false
   },
   "outputs": [
    {
     "name": "stdout",
     "output_type": "stream",
     "text": [
      "[['train/CAR/logfile_CAR_R1_S3.txt', 'train/CAR/logfile_CAR_R1_S3mini.txt', 'train/CAR/logfile_CAR_R2_S3.txt', 'train/CAR/logfile_CAR_R2_S4.txt'], ['train/UAH/logfile_UAH_R1_S3.txt', 'train/UAH/logfile_UAH_R1_S4.txt', 'train/UAH/logfile_UAH_R2_S3.txt', 'train/UAH/logfile_UAH_R2_S4.txt', 'train/UAH/logfile_UAH_R4_S3.txt', 'train/UAH/logfile_UAH_R4_S4.txt'], ['train/UJITI/logfile_UJITI_R1_NEXUS5.txt', 'train/UJITI/logfile_UJITI_R2_NEXUS5.txt'], ['train/UJIUB/logfile_UJIUB_R1n_S3.txt', 'train/UJIUB/logfile_UJIUB_R1r_S3.txt', 'train/UJIUB/logfile_UJIUB_R2n_S3.txt', 'train/UJIUB/logfile_UJIUB_R2r_S3.txt', 'train/UJIUB/logfile_UJIUB_R3_S3.txt']]\n",
      "There are 17 training files\n"
     ]
    }
   ],
   "source": [
    "# get train files\n",
    "import glob\n",
    "\n",
    "train_folders = ['CAR', 'UAH', 'UJITI', 'UJIUB']\n",
    "\n",
    "train_files_names = []\n",
    "n_files = 0\n",
    "for building in train_folders:\n",
    "    cur_file_names = glob.glob('train/' + building + '/log*')\n",
    "    train_files_names.append(sorted(cur_file_names))\n",
    "    n_files += len(cur_file_names)\n",
    "\n",
    "print(train_files_names)\n",
    "print('There are %d training files' % n_files)"
   ]
  },
  {
   "cell_type": "code",
   "execution_count": 2,
   "metadata": {
    "collapsed": false
   },
   "outputs": [
    {
     "name": "stdout",
     "output_type": "stream",
     "text": [
      "train/CAR/logfile_CAR_R1_S3.txt\n",
      "['ACCE' 'AHRS' 'GNSS' 'GYRO' 'LIGH' 'MAGN' 'POSI' 'PRES' 'SOUN' 'WIFI']\n",
      "train/CAR/logfile_CAR_R1_S3mini.txt\n",
      "['ACCE' 'AHRS' 'GNSS' 'GYRO' 'MAGN' 'POSI' 'SOUN' 'WIFI']\n",
      "train/CAR/logfile_CAR_R2_S3.txt\n",
      "['ACCE' 'AHRS' 'GNSS' 'GYRO' 'LIGH' 'MAGN' 'POSI' 'PRES' 'PROX' 'SOUN'\n",
      " 'WIFI']\n",
      "train/CAR/logfile_CAR_R2_S4.txt\n",
      "['ACCE' 'AHRS' 'GNSS' 'GYRO' 'HUMI' 'LIGH' 'MAGN' 'POSI' 'PRES' 'PROX'\n",
      " 'SOUN' 'TEMP' 'WIFI']\n",
      "train/UAH/logfile_UAH_R1_S3.txt\n",
      "['ACCE' 'AHRS' 'GNSS' 'GYRO' 'LIGH' 'MAGN' 'POSI' 'PRES' 'SOUN' 'WIFI']\n",
      "train/UAH/logfile_UAH_R1_S4.txt\n",
      "['ACCE' 'AHRS' 'GNSS' 'GYRO' 'HUMI' 'LIGH' 'MAGN' 'POSI' 'PRES' 'SOUN'\n",
      " 'TEMP' 'WIFI']\n",
      "train/UAH/logfile_UAH_R2_S3.txt\n",
      "['ACCE' 'AHRS' 'GNSS' 'GYRO' 'LIGH' 'MAGN' 'POSI' 'PRES' 'SOUN' 'WIFI']\n",
      "train/UAH/logfile_UAH_R2_S4.txt\n",
      "['ACCE' 'AHRS' 'GNSS' 'GYRO' 'HUMI' 'LIGH' 'MAGN' 'POSI' 'PRES' 'SOUN'\n",
      " 'TEMP' 'WIFI']\n",
      "train/UAH/logfile_UAH_R4_S3.txt\n",
      "['ACCE' 'AHRS' 'GNSS' 'GYRO' 'LIGH' 'MAGN' 'POSI' 'PRES' 'SOUN' 'WIFI']\n",
      "train/UAH/logfile_UAH_R4_S4.txt\n",
      "['ACCE' 'AHRS' 'GNSS' 'GYRO' 'HUMI' 'LIGH' 'MAGN' 'POSI' 'PRES' 'SOUN'\n",
      " 'TEMP' 'WIFI']\n",
      "train/UJITI/logfile_UJITI_R1_NEXUS5.txt\n",
      "['ACCE' 'AHRS' 'GNSS' 'GYRO' 'LIGH' 'MAGN' 'POSI' 'PRES' 'PROX' 'SOUN'\n",
      " 'WIFI']\n",
      "train/UJITI/logfile_UJITI_R2_NEXUS5.txt\n",
      "['ACCE' 'AHRS' 'GYRO' 'LIGH' 'MAGN' 'POSI' 'PRES' 'SOUN' 'WIFI']\n",
      "train/UJIUB/logfile_UJIUB_R1n_S3.txt\n",
      "['ACCE' 'AHRS' 'GNSS' 'GYRO' 'LIGH' 'MAGN' 'POSI' 'PRES' 'PROX' 'SOUN'\n",
      " 'WIFI']\n",
      "train/UJIUB/logfile_UJIUB_R1r_S3.txt\n",
      "['ACCE' 'AHRS' 'GNSS' 'GYRO' 'LIGH' 'MAGN' 'POSI' 'PRES' 'PROX' 'SOUN'\n",
      " 'WIFI']\n",
      "train/UJIUB/logfile_UJIUB_R2n_S3.txt\n",
      "['ACCE' 'AHRS' 'GNSS' 'GYRO' 'LIGH' 'MAGN' 'POSI' 'PRES' 'SOUN' 'WIFI']\n",
      "train/UJIUB/logfile_UJIUB_R2r_S3.txt\n",
      "['ACCE' 'AHRS' 'GNSS' 'GYRO' 'LIGH' 'MAGN' 'POSI' 'PRES' 'SOUN' 'WIFI']\n",
      "train/UJIUB/logfile_UJIUB_R3_S3.txt\n",
      "['6152' 'ACCE' 'AHRS' 'GNSS' 'GYRO' 'LIGH' 'MAGN' 'POSI' 'PRES' 'PROX'\n",
      " 'SOUN' 'WIFI']\n"
     ]
    },
    {
     "name": "stderr",
     "output_type": "stream",
     "text": [
      "/usr/local/lib/python3.4/dist-packages/IPython/core/interactiveshell.py:2723: DtypeWarning: Columns (3,4) have mixed types. Specify dtype option on import or set low_memory=False.\n",
      "  interactivity=interactivity, compiler=compiler, result=result)\n"
     ]
    }
   ],
   "source": [
    "# import files into dataframe\n",
    "import numpy as np\n",
    "import pandas as pd\n",
    "\n",
    "track_data = []\n",
    "for building in train_files_names:\n",
    "    track_data.append([])\n",
    "    for track_name in building:\n",
    "        print(track_name)\n",
    "        track_data[-1].append(pd.read_csv(track_name, sep=';', engine='c', names=range(11)))\n",
    "        print(np.unique(track_data[-1][-1][0]))"
   ]
  },
  {
   "cell_type": "code",
   "execution_count": 3,
   "metadata": {
    "collapsed": false
   },
   "outputs": [],
   "source": [
    "# count wifi stations in each track\n",
    "unique_aps = []\n",
    "unique_macs = []\n",
    "for building in track_data:\n",
    "    for track in building:\n",
    "        wifi_data = track.iloc[track[0].values == 'WIFI']\n",
    "        wifi_names = wifi_data[3].values.astype(str)\n",
    "        wifi_macs = wifi_data[4].values\n",
    "        unique_aps.append(list(np.unique(wifi_names)))\n",
    "        unique_macs.append(list(np.unique(wifi_macs)))"
   ]
  },
  {
   "cell_type": "code",
   "execution_count": 4,
   "metadata": {
    "collapsed": false
   },
   "outputs": [],
   "source": [
    "# Common items between two lists\n",
    "def custom_cor(list1, list2):\n",
    "    count = 0\n",
    "    for item1 in list1:\n",
    "        if item1 in list2:\n",
    "            count += 1\n",
    "    return count / min(len(list1), len(list2))\n",
    "\n",
    "aps_cor = np.zeros((n_files, n_files))\n",
    "mac_cor = np.zeros((n_files, n_files))\n",
    "for i in range(n_files):\n",
    "    for j in range(n_files):\n",
    "        aps_cor[i, j] = custom_cor(unique_aps[i], unique_aps[j])\n",
    "        mac_cor[i, j] = custom_cor(unique_macs[i], unique_macs[j])"
   ]
  },
  {
   "cell_type": "code",
   "execution_count": 5,
   "metadata": {
    "collapsed": false
   },
   "outputs": [
    {
     "data": {
      "text/plain": [
       "<matplotlib.image.AxesImage at 0x7f23d9a1f9b0>"
      ]
     },
     "execution_count": 5,
     "metadata": {},
     "output_type": "execute_result"
    },
    {
     "data": {
      "image/png": "[encoded data removed]",
      "text/plain": [
       "<matplotlib.figure.Figure at 0x7f23dd6e3c18>"
      ]
     },
     "metadata": {},
     "output_type": "display_data"
    }
   ],
   "source": [
    "# plot ap names correlation\n",
    "%matplotlib inline\n",
    "import matplotlib.pyplot as plt\n",
    "\n",
    "plt.imshow(aps_cor, interpolation='nearest')"
   ]
  },
  {
   "cell_type": "code",
   "execution_count": 6,
   "metadata": {
    "collapsed": false,
    "scrolled": true
   },
   "outputs": [
    {
     "data": {
      "text/plain": [
       "<matplotlib.image.AxesImage at 0x7f23d9932b70>"
      ]
     },
     "execution_count": 6,
     "metadata": {},
     "output_type": "execute_result"
    },
    {
     "data": {
      "image/png": "[encoded data removed]",
      "text/plain": [
       "<matplotlib.figure.Figure at 0x7f23d99d0fd0>"
      ]
     },
     "metadata": {},
     "output_type": "display_data"
    }
   ],
   "source": [
    "# plot ap macs correlation\n",
    "plt.imshow(mac_cor, interpolation='nearest')"
   ]
  },
  {
   "cell_type": "code",
   "execution_count": 7,
   "metadata": {
    "collapsed": false
   },
   "outputs": [
    {
     "name": "stderr",
     "output_type": "stream",
     "text": [
      "/usr/local/lib/python3.4/dist-packages/pandas/core/indexing.py:128: SettingWithCopyWarning: \n",
      "A value is trying to be set on a copy of a slice from a DataFrame\n",
      "\n",
      "See the caveats in the documentation: http://pandas.pydata.org/pandas-docs/stable/indexing.html#indexing-view-versus-copy\n",
      "  self._setitem_with_indexer(indexer, value)\n"
     ]
    }
   ],
   "source": [
    "# Find time limits per POSI id\n",
    "def posi_time_limits(posi_array):\n",
    "    # create start and end index time array\n",
    "    posi_array['ind_begin_time'] = np.zeros((posi_array.shape[0]))\n",
    "    posi_array['ind_end_time'] = np.zeros((posi_array.shape[0]))\n",
    "    posi_array['ind_end_time'].iloc[-1] = 99999\n",
    "\n",
    "    for i in range(1, posi_array.shape[0]):\n",
    "        cur_split = (float(posi_array['Time'].iloc[i]) + float(posi_array['Time'].iloc[i-1])) / 2\n",
    "        posi_array['ind_begin_time'].iat[i] = cur_split       \n",
    "        posi_array['ind_end_time'].iat[i-1] = cur_split       \n",
    "    return posi_array\n",
    "\n",
    "track_posi = []\n",
    "for i in range(len(track_data)):\n",
    "    track_posi.append([])\n",
    "    for j in range(len(track_data[i])):\n",
    "        track_posi[i].append(track_data[i][j][[1, 2, 3, 4, 5, 6, 7]].iloc[track_data[i][j][0].values == 'POSI'])\n",
    "        track_posi[i][j] = track_posi[i][j].dropna(axis=1)\n",
    "        track_posi[i][j].columns = ['Time', 'index', 'Lat', 'Lon', 'FloorID', 'BuildingID']\n",
    "        track_posi[i][j] = posi_time_limits(track_posi[i][j])"
   ]
  },
  {
   "cell_type": "code",
   "execution_count": 8,
   "metadata": {
    "collapsed": false
   },
   "outputs": [
    {
     "name": "stdout",
     "output_type": "stream",
     "text": [
      "          Time  index          Lat       Lon  FloorID  BuildingID  \\\n",
      "8512    30.341    1.0  40.31347091  -3.48315      0.0        10.0   \n",
      "13709   48.878    2.0  40.31332032  -3.48312      0.0        10.0   \n",
      "22475   80.175    3.0  40.31328135  -3.48342      0.0        10.0   \n",
      "27694   98.724    4.0  40.31331275  -3.48342      0.0        10.0   \n",
      "38394  136.709    5.0  40.31333944  -3.48335      0.0        10.0   \n",
      "\n",
      "       ind_begin_time  ind_end_time  speed_lim  \n",
      "8512           0.0000       39.6095   0.000000  \n",
      "13709         39.6095       64.5265   0.000008  \n",
      "22475         64.5265       89.4495   0.000010  \n",
      "27694         89.4495      117.7165   0.000002  \n",
      "38394        117.7165      142.1475   0.000002  \n"
     ]
    },
    {
     "name": "stderr",
     "output_type": "stream",
     "text": [
      "/usr/local/lib/python3.4/dist-packages/pandas/core/indexing.py:128: SettingWithCopyWarning: \n",
      "A value is trying to be set on a copy of a slice from a DataFrame\n",
      "\n",
      "See the caveats in the documentation: http://pandas.pydata.org/pandas-docs/stable/indexing.html#indexing-view-versus-copy\n",
      "  self._setitem_with_indexer(indexer, value)\n"
     ]
    }
   ],
   "source": [
    "# Build speed between ground truth points ds / dt\n",
    "for i in range(len(track_posi)):\n",
    "    for j in range(len(track_posi[i])):\n",
    "        track_posi[i][j]['speed_lim'] = np.zeros((track_posi[i][j].shape[0]))\n",
    "        for k in range(1, track_posi[i][j].shape[0]):\n",
    "            ds = np.sqrt((float(track_posi[i][j]['Lat'].iloc[k]) - float(track_posi[i][j]['Lat'].iloc[k-1])) ** 2 + \n",
    "                         (float(track_posi[i][j]['Lon'].iloc[k]) - float(track_posi[i][j]['Lon'].iloc[k-1])) ** 2)\n",
    "            dt = float(track_posi[i][j]['Time'].iloc[k]) - float(track_posi[i][j]['Time'].iloc[k-1])\n",
    "            track_posi[i][j]['speed_lim'].iloc[k] = ds / dt\n",
    "print(track_posi[0][0].head())    "
   ]
  },
  {
   "cell_type": "code",
   "execution_count": 9,
   "metadata": {
    "collapsed": false
   },
   "outputs": [
    {
     "data": {
      "text/plain": [
       "(array([  4.,   7.,  11.,   2.,  33.,  16.,  41.,  32.,  30.,  20.,  16.,\n",
       "         14.,   7.,   4.,   4.,   4.,   1.,   0.,   4.,   4.]),\n",
       " array([  0.00000000e+00,   6.83917899e-07,   1.36783580e-06,\n",
       "          2.05175370e-06,   2.73567160e-06,   3.41958950e-06,\n",
       "          4.10350740e-06,   4.78742530e-06,   5.47134320e-06,\n",
       "          6.15526109e-06,   6.83917899e-06,   7.52309689e-06,\n",
       "          8.20701479e-06,   8.89093269e-06,   9.57485059e-06,\n",
       "          1.02587685e-05,   1.09426864e-05,   1.16266043e-05,\n",
       "          1.23105222e-05,   1.29944401e-05,   1.36783580e-05]),\n",
       " <a list of 20 Patch objects>)"
      ]
     },
     "execution_count": 9,
     "metadata": {},
     "output_type": "execute_result"
    },
    {
     "data": {
      "image/png": "[encoded data removed]",
      "text/plain": [
       "<matplotlib.figure.Figure at 0x7f23d9959e48>"
      ]
     },
     "metadata": {},
     "output_type": "display_data"
    }
   ],
   "source": [
    "# create a list of all movements in building 10\n",
    "movements = []\n",
    "building_index = 0\n",
    "for i in range(len(track_posi[building_index])):\n",
    "    movements += list(track_posi[building_index][i]['speed_lim'].values)\n",
    "plt.hist(movements, bins=20)"
   ]
  },
  {
   "cell_type": "code",
   "execution_count": 31,
   "metadata": {
    "collapsed": false
   },
   "outputs": [
    {
     "name": "stdout",
     "output_type": "stream",
     "text": [
      "data:  0 0\n",
      "data:  0 1\n",
      "data:  0 2\n",
      "data:  0 3\n",
      "data:  1 0\n",
      "data:  1 1\n",
      "data:  1 2\n",
      "data:  1 3\n",
      "data:  1 4\n",
      "data:  1 5\n",
      "data:  2 0\n",
      "data:  2 1\n",
      "data:  3 0\n",
      "data:  3 1\n",
      "data:  3 2\n",
      "data:  3 3\n",
      "data:  3 4\n",
      "  Sensor  AppTime  SensorTime         3          4          5        6  \\\n",
      "0   ACCE    0.094    4292.788  -1.38864    4.62560    8.40844  3.00000   \n",
      "1   MAGN    0.095    4292.788  -5.64000  -39.72000  -19.56000  3.00000   \n",
      "2   GYRO    0.097    4292.792  -0.16432   -0.20861   -0.19609  3.00000   \n",
      "3   AHRS    0.098    4292.792   28.5264     9.6349 -161.85360  0.11909   \n",
      "4   LIGH    0.098    4292.792   14561.0          3        NaN      NaN   \n",
      "\n",
      "        7       8    9  10  POSI_index  POSI_floor  POSI_building  \n",
      "0     NaN     NaN  NaN NaN         1.0         0.0           10.0  \n",
      "1     NaN     NaN  NaN NaN         1.0         0.0           10.0  \n",
      "2     NaN     NaN  NaN NaN         1.0         0.0           10.0  \n",
      "3 -0.2296 -0.9504  3.0 NaN         1.0         0.0           10.0  \n",
      "4     NaN     NaN  NaN NaN         1.0         0.0           10.0  \n"
     ]
    },
    {
     "name": "stderr",
     "output_type": "stream",
     "text": [
      "/usr/local/lib/python3.4/dist-packages/pandas/core/indexing.py:128: SettingWithCopyWarning: \n",
      "A value is trying to be set on a copy of a slice from a DataFrame\n",
      "\n",
      "See the caveats in the documentation: http://pandas.pydata.org/pandas-docs/stable/indexing.html#indexing-view-versus-copy\n",
      "  self._setitem_with_indexer(indexer, value)\n"
     ]
    }
   ],
   "source": [
    "# associate signals with POSI ids. Spliting at middle of the time between POSI measurements\n",
    "for i in range(len(track_data)):\n",
    "    for j in range(len(track_data[i])):\n",
    "        print('data: ', i, j)\n",
    "        track_data[i][j].columns.values[:3] = ['Sensor', 'AppTime', 'SensorTime']\n",
    "        track_data[i][j]['POSI_index'] = np.zeros((track_data[i][j].shape[0])) * np.nan\n",
    "        track_data[i][j]['POSI_floor'] = np.zeros((track_data[i][j].shape[0])) * np.nan\n",
    "        track_data[i][j]['POSI_building'] = np.zeros((track_data[i][j].shape[0])) * np.nan\n",
    "        for k in range(track_posi[i][j].shape[0]):\n",
    "            ind_begin_time = track_posi[i][j]['ind_begin_time'].iloc[k]\n",
    "            ind_end_time = track_posi[i][j]['ind_end_time'].iloc[k]\n",
    "    \n",
    "            ind = track_posi[i][j]['index'].iloc[k]\n",
    "            ind_floor = track_posi[i][j]['FloorID'].iloc[k]\n",
    "            ind_building = track_posi[i][j]['BuildingID'].iloc[k]\n",
    "            \n",
    "            index_limits = np.logical_and(track_data[i][j][1].values >= ind_begin_time, \n",
    "                                          track_data[i][j][1].values < ind_end_time)\n",
    "            \n",
    "            track_data[i][j]['POSI_index'].iloc[index_limits] = ind\n",
    "            track_data[i][j]['POSI_floor'].iloc[index_limits] = ind_floor\n",
    "            track_data[i][j]['POSI_building'].iloc[index_limits] = ind_building\n",
    "\n",
    "print(track_data[0][0].head())"
   ]
  },
  {
   "cell_type": "code",
   "execution_count": 32,
   "metadata": {
    "collapsed": false
   },
   "outputs": [
    {
     "name": "stdout",
     "output_type": "stream",
     "text": [
      "data:  0 0\n"
     ]
    },
    {
     "ename": "KeyError",
     "evalue": "'AppTime'",
     "output_type": "error",
     "traceback": [
      "\u001b[1;31m---------------------------------------------------------------------------\u001b[0m",
      "\u001b[1;31mKeyError\u001b[0m                                  Traceback (most recent call last)",
      "\u001b[1;32m/usr/local/lib/python3.4/dist-packages/pandas/indexes/base.py\u001b[0m in \u001b[0;36mget_loc\u001b[1;34m(self, key, method, tolerance)\u001b[0m\n\u001b[0;32m   1875\u001b[0m             \u001b[1;32mtry\u001b[0m\u001b[1;33m:\u001b[0m\u001b[1;33m\u001b[0m\u001b[0m\n\u001b[1;32m-> 1876\u001b[1;33m                 \u001b[1;32mreturn\u001b[0m \u001b[0mself\u001b[0m\u001b[1;33m.\u001b[0m\u001b[0m_engine\u001b[0m\u001b[1;33m.\u001b[0m\u001b[0mget_loc\u001b[0m\u001b[1;33m(\u001b[0m\u001b[0mkey\u001b[0m\u001b[1;33m)\u001b[0m\u001b[1;33m\u001b[0m\u001b[0m\n\u001b[0m\u001b[0;32m   1877\u001b[0m             \u001b[1;32mexcept\u001b[0m \u001b[0mKeyError\u001b[0m\u001b[1;33m:\u001b[0m\u001b[1;33m\u001b[0m\u001b[0m\n",
      "\u001b[1;32mpandas/index.pyx\u001b[0m in \u001b[0;36mpandas.index.IndexEngine.get_loc (pandas/index.c:4027)\u001b[1;34m()\u001b[0m\n",
      "\u001b[1;32mpandas/index.pyx\u001b[0m in \u001b[0;36mpandas.index.IndexEngine.get_loc (pandas/index.c:3891)\u001b[1;34m()\u001b[0m\n",
      "\u001b[1;32mpandas/hashtable.pyx\u001b[0m in \u001b[0;36mpandas.hashtable.PyObjectHashTable.get_item (pandas/hashtable.c:12408)\u001b[1;34m()\u001b[0m\n",
      "\u001b[1;32mpandas/hashtable.pyx\u001b[0m in \u001b[0;36mpandas.hashtable.PyObjectHashTable.get_item (pandas/hashtable.c:12359)\u001b[1;34m()\u001b[0m\n",
      "\u001b[1;31mKeyError\u001b[0m: 'AppTime'",
      "\nDuring handling of the above exception, another exception occurred:\n",
      "\u001b[1;31mKeyError\u001b[0m                                  Traceback (most recent call last)",
      "\u001b[1;32m<ipython-input-32-89511f213147>\u001b[0m in \u001b[0;36m<module>\u001b[1;34m()\u001b[0m\n\u001b[0;32m      8\u001b[0m         \u001b[0mtruth_pos_time\u001b[0m \u001b[1;33m=\u001b[0m \u001b[0mtrack_posi\u001b[0m\u001b[1;33m[\u001b[0m\u001b[0mi\u001b[0m\u001b[1;33m]\u001b[0m\u001b[1;33m[\u001b[0m\u001b[0mj\u001b[0m\u001b[1;33m]\u001b[0m\u001b[1;33m[\u001b[0m\u001b[1;34m'Time'\u001b[0m\u001b[1;33m]\u001b[0m\u001b[1;33m\u001b[0m\u001b[0m\n\u001b[0;32m      9\u001b[0m         \u001b[0mlin_int\u001b[0m \u001b[1;33m=\u001b[0m \u001b[0minterpolate\u001b[0m\u001b[1;33m.\u001b[0m\u001b[0minterp1d\u001b[0m\u001b[1;33m(\u001b[0m\u001b[0mtruth_pos_time\u001b[0m\u001b[1;33m.\u001b[0m\u001b[0mvalues\u001b[0m\u001b[1;33m,\u001b[0m \u001b[0mtruth_pos_lat\u001b[0m\u001b[1;33m.\u001b[0m\u001b[0mvalues\u001b[0m\u001b[1;33m)\u001b[0m\u001b[1;33m\u001b[0m\u001b[0m\n\u001b[1;32m---> 10\u001b[1;33m         \u001b[0msensor_time\u001b[0m \u001b[1;33m=\u001b[0m \u001b[0mtrack_data\u001b[0m\u001b[1;33m[\u001b[0m\u001b[0mi\u001b[0m\u001b[1;33m]\u001b[0m\u001b[1;33m[\u001b[0m\u001b[0mj\u001b[0m\u001b[1;33m]\u001b[0m\u001b[1;33m[\u001b[0m\u001b[1;34m'AppTime'\u001b[0m\u001b[1;33m]\u001b[0m\u001b[1;33m.\u001b[0m\u001b[0mvalues\u001b[0m\u001b[1;33m\u001b[0m\u001b[0m\n\u001b[0m\u001b[0;32m     11\u001b[0m         \u001b[0mtrack_data\u001b[0m\u001b[1;33m[\u001b[0m\u001b[0mi\u001b[0m\u001b[1;33m]\u001b[0m\u001b[1;33m[\u001b[0m\u001b[0mj\u001b[0m\u001b[1;33m]\u001b[0m\u001b[1;33m[\u001b[0m\u001b[1;34m'int_Lat'\u001b[0m\u001b[1;33m]\u001b[0m \u001b[1;33m=\u001b[0m \u001b[0mlin_int\u001b[0m\u001b[1;33m(\u001b[0m\u001b[0msensor_time\u001b[0m\u001b[1;33m)\u001b[0m\u001b[1;33m\u001b[0m\u001b[0m\n\u001b[0;32m     12\u001b[0m         \u001b[0mlin_int\u001b[0m \u001b[1;33m=\u001b[0m \u001b[0minterpolate\u001b[0m\u001b[1;33m.\u001b[0m\u001b[0minterp1d\u001b[0m\u001b[1;33m(\u001b[0m\u001b[0mtruth_pos_time\u001b[0m\u001b[1;33m.\u001b[0m\u001b[0mvalues\u001b[0m\u001b[1;33m,\u001b[0m \u001b[0mtruth_pos_lon\u001b[0m\u001b[1;33m.\u001b[0m\u001b[0mvalues\u001b[0m\u001b[1;33m)\u001b[0m\u001b[1;33m\u001b[0m\u001b[0m\n",
      "\u001b[1;32m/usr/local/lib/python3.4/dist-packages/pandas/core/frame.py\u001b[0m in \u001b[0;36m__getitem__\u001b[1;34m(self, key)\u001b[0m\n\u001b[0;32m   1990\u001b[0m             \u001b[1;32mreturn\u001b[0m \u001b[0mself\u001b[0m\u001b[1;33m.\u001b[0m\u001b[0m_getitem_multilevel\u001b[0m\u001b[1;33m(\u001b[0m\u001b[0mkey\u001b[0m\u001b[1;33m)\u001b[0m\u001b[1;33m\u001b[0m\u001b[0m\n\u001b[0;32m   1991\u001b[0m         \u001b[1;32melse\u001b[0m\u001b[1;33m:\u001b[0m\u001b[1;33m\u001b[0m\u001b[0m\n\u001b[1;32m-> 1992\u001b[1;33m             \u001b[1;32mreturn\u001b[0m \u001b[0mself\u001b[0m\u001b[1;33m.\u001b[0m\u001b[0m_getitem_column\u001b[0m\u001b[1;33m(\u001b[0m\u001b[0mkey\u001b[0m\u001b[1;33m)\u001b[0m\u001b[1;33m\u001b[0m\u001b[0m\n\u001b[0m\u001b[0;32m   1993\u001b[0m \u001b[1;33m\u001b[0m\u001b[0m\n\u001b[0;32m   1994\u001b[0m     \u001b[1;32mdef\u001b[0m \u001b[0m_getitem_column\u001b[0m\u001b[1;33m(\u001b[0m\u001b[0mself\u001b[0m\u001b[1;33m,\u001b[0m \u001b[0mkey\u001b[0m\u001b[1;33m)\u001b[0m\u001b[1;33m:\u001b[0m\u001b[1;33m\u001b[0m\u001b[0m\n",
      "\u001b[1;32m/usr/local/lib/python3.4/dist-packages/pandas/core/frame.py\u001b[0m in \u001b[0;36m_getitem_column\u001b[1;34m(self, key)\u001b[0m\n\u001b[0;32m   1997\u001b[0m         \u001b[1;31m# get column\u001b[0m\u001b[1;33m\u001b[0m\u001b[1;33m\u001b[0m\u001b[0m\n\u001b[0;32m   1998\u001b[0m         \u001b[1;32mif\u001b[0m \u001b[0mself\u001b[0m\u001b[1;33m.\u001b[0m\u001b[0mcolumns\u001b[0m\u001b[1;33m.\u001b[0m\u001b[0mis_unique\u001b[0m\u001b[1;33m:\u001b[0m\u001b[1;33m\u001b[0m\u001b[0m\n\u001b[1;32m-> 1999\u001b[1;33m             \u001b[1;32mreturn\u001b[0m \u001b[0mself\u001b[0m\u001b[1;33m.\u001b[0m\u001b[0m_get_item_cache\u001b[0m\u001b[1;33m(\u001b[0m\u001b[0mkey\u001b[0m\u001b[1;33m)\u001b[0m\u001b[1;33m\u001b[0m\u001b[0m\n\u001b[0m\u001b[0;32m   2000\u001b[0m \u001b[1;33m\u001b[0m\u001b[0m\n\u001b[0;32m   2001\u001b[0m         \u001b[1;31m# duplicate columns & possible reduce dimensionality\u001b[0m\u001b[1;33m\u001b[0m\u001b[1;33m\u001b[0m\u001b[0m\n",
      "\u001b[1;32m/usr/local/lib/python3.4/dist-packages/pandas/core/generic.py\u001b[0m in \u001b[0;36m_get_item_cache\u001b[1;34m(self, item)\u001b[0m\n\u001b[0;32m   1343\u001b[0m         \u001b[0mres\u001b[0m \u001b[1;33m=\u001b[0m \u001b[0mcache\u001b[0m\u001b[1;33m.\u001b[0m\u001b[0mget\u001b[0m\u001b[1;33m(\u001b[0m\u001b[0mitem\u001b[0m\u001b[1;33m)\u001b[0m\u001b[1;33m\u001b[0m\u001b[0m\n\u001b[0;32m   1344\u001b[0m         \u001b[1;32mif\u001b[0m \u001b[0mres\u001b[0m \u001b[1;32mis\u001b[0m \u001b[1;32mNone\u001b[0m\u001b[1;33m:\u001b[0m\u001b[1;33m\u001b[0m\u001b[0m\n\u001b[1;32m-> 1345\u001b[1;33m             \u001b[0mvalues\u001b[0m \u001b[1;33m=\u001b[0m \u001b[0mself\u001b[0m\u001b[1;33m.\u001b[0m\u001b[0m_data\u001b[0m\u001b[1;33m.\u001b[0m\u001b[0mget\u001b[0m\u001b[1;33m(\u001b[0m\u001b[0mitem\u001b[0m\u001b[1;33m)\u001b[0m\u001b[1;33m\u001b[0m\u001b[0m\n\u001b[0m\u001b[0;32m   1346\u001b[0m             \u001b[0mres\u001b[0m \u001b[1;33m=\u001b[0m \u001b[0mself\u001b[0m\u001b[1;33m.\u001b[0m\u001b[0m_box_item_values\u001b[0m\u001b[1;33m(\u001b[0m\u001b[0mitem\u001b[0m\u001b[1;33m,\u001b[0m \u001b[0mvalues\u001b[0m\u001b[1;33m)\u001b[0m\u001b[1;33m\u001b[0m\u001b[0m\n\u001b[0;32m   1347\u001b[0m             \u001b[0mcache\u001b[0m\u001b[1;33m[\u001b[0m\u001b[0mitem\u001b[0m\u001b[1;33m]\u001b[0m \u001b[1;33m=\u001b[0m \u001b[0mres\u001b[0m\u001b[1;33m\u001b[0m\u001b[0m\n",
      "\u001b[1;32m/usr/local/lib/python3.4/dist-packages/pandas/core/internals.py\u001b[0m in \u001b[0;36mget\u001b[1;34m(self, item, fastpath)\u001b[0m\n\u001b[0;32m   3223\u001b[0m \u001b[1;33m\u001b[0m\u001b[0m\n\u001b[0;32m   3224\u001b[0m             \u001b[1;32mif\u001b[0m \u001b[1;32mnot\u001b[0m \u001b[0misnull\u001b[0m\u001b[1;33m(\u001b[0m\u001b[0mitem\u001b[0m\u001b[1;33m)\u001b[0m\u001b[1;33m:\u001b[0m\u001b[1;33m\u001b[0m\u001b[0m\n\u001b[1;32m-> 3225\u001b[1;33m                 \u001b[0mloc\u001b[0m \u001b[1;33m=\u001b[0m \u001b[0mself\u001b[0m\u001b[1;33m.\u001b[0m\u001b[0mitems\u001b[0m\u001b[1;33m.\u001b[0m\u001b[0mget_loc\u001b[0m\u001b[1;33m(\u001b[0m\u001b[0mitem\u001b[0m\u001b[1;33m)\u001b[0m\u001b[1;33m\u001b[0m\u001b[0m\n\u001b[0m\u001b[0;32m   3226\u001b[0m             \u001b[1;32melse\u001b[0m\u001b[1;33m:\u001b[0m\u001b[1;33m\u001b[0m\u001b[0m\n\u001b[0;32m   3227\u001b[0m                 \u001b[0mindexer\u001b[0m \u001b[1;33m=\u001b[0m \u001b[0mnp\u001b[0m\u001b[1;33m.\u001b[0m\u001b[0marange\u001b[0m\u001b[1;33m(\u001b[0m\u001b[0mlen\u001b[0m\u001b[1;33m(\u001b[0m\u001b[0mself\u001b[0m\u001b[1;33m.\u001b[0m\u001b[0mitems\u001b[0m\u001b[1;33m)\u001b[0m\u001b[1;33m)\u001b[0m\u001b[1;33m[\u001b[0m\u001b[0misnull\u001b[0m\u001b[1;33m(\u001b[0m\u001b[0mself\u001b[0m\u001b[1;33m.\u001b[0m\u001b[0mitems\u001b[0m\u001b[1;33m)\u001b[0m\u001b[1;33m]\u001b[0m\u001b[1;33m\u001b[0m\u001b[0m\n",
      "\u001b[1;32m/usr/local/lib/python3.4/dist-packages/pandas/indexes/base.py\u001b[0m in \u001b[0;36mget_loc\u001b[1;34m(self, key, method, tolerance)\u001b[0m\n\u001b[0;32m   1876\u001b[0m                 \u001b[1;32mreturn\u001b[0m \u001b[0mself\u001b[0m\u001b[1;33m.\u001b[0m\u001b[0m_engine\u001b[0m\u001b[1;33m.\u001b[0m\u001b[0mget_loc\u001b[0m\u001b[1;33m(\u001b[0m\u001b[0mkey\u001b[0m\u001b[1;33m)\u001b[0m\u001b[1;33m\u001b[0m\u001b[0m\n\u001b[0;32m   1877\u001b[0m             \u001b[1;32mexcept\u001b[0m \u001b[0mKeyError\u001b[0m\u001b[1;33m:\u001b[0m\u001b[1;33m\u001b[0m\u001b[0m\n\u001b[1;32m-> 1878\u001b[1;33m                 \u001b[1;32mreturn\u001b[0m \u001b[0mself\u001b[0m\u001b[1;33m.\u001b[0m\u001b[0m_engine\u001b[0m\u001b[1;33m.\u001b[0m\u001b[0mget_loc\u001b[0m\u001b[1;33m(\u001b[0m\u001b[0mself\u001b[0m\u001b[1;33m.\u001b[0m\u001b[0m_maybe_cast_indexer\u001b[0m\u001b[1;33m(\u001b[0m\u001b[0mkey\u001b[0m\u001b[1;33m)\u001b[0m\u001b[1;33m)\u001b[0m\u001b[1;33m\u001b[0m\u001b[0m\n\u001b[0m\u001b[0;32m   1879\u001b[0m \u001b[1;33m\u001b[0m\u001b[0m\n\u001b[0;32m   1880\u001b[0m         \u001b[0mindexer\u001b[0m \u001b[1;33m=\u001b[0m \u001b[0mself\u001b[0m\u001b[1;33m.\u001b[0m\u001b[0mget_indexer\u001b[0m\u001b[1;33m(\u001b[0m\u001b[1;33m[\u001b[0m\u001b[0mkey\u001b[0m\u001b[1;33m]\u001b[0m\u001b[1;33m,\u001b[0m \u001b[0mmethod\u001b[0m\u001b[1;33m=\u001b[0m\u001b[0mmethod\u001b[0m\u001b[1;33m,\u001b[0m \u001b[0mtolerance\u001b[0m\u001b[1;33m=\u001b[0m\u001b[0mtolerance\u001b[0m\u001b[1;33m)\u001b[0m\u001b[1;33m\u001b[0m\u001b[0m\n",
      "\u001b[1;32mpandas/index.pyx\u001b[0m in \u001b[0;36mpandas.index.IndexEngine.get_loc (pandas/index.c:4027)\u001b[1;34m()\u001b[0m\n",
      "\u001b[1;32mpandas/index.pyx\u001b[0m in \u001b[0;36mpandas.index.IndexEngine.get_loc (pandas/index.c:3891)\u001b[1;34m()\u001b[0m\n",
      "\u001b[1;32mpandas/hashtable.pyx\u001b[0m in \u001b[0;36mpandas.hashtable.PyObjectHashTable.get_item (pandas/hashtable.c:12408)\u001b[1;34m()\u001b[0m\n",
      "\u001b[1;32mpandas/hashtable.pyx\u001b[0m in \u001b[0;36mpandas.hashtable.PyObjectHashTable.get_item (pandas/hashtable.c:12359)\u001b[1;34m()\u001b[0m\n",
      "\u001b[1;31mKeyError\u001b[0m: 'AppTime'"
     ]
    }
   ],
   "source": [
    "# Interpolate Lat and Lon of sensors' data\n",
    "import scipy.interpolate as interpolate\n",
    "for i in range(len(track_data))[:1]:\n",
    "    for j in range(len(track_data[i]))[:1]:\n",
    "        print('data: ', i, j)\n",
    "        truth_pos_lat = track_posi[i][j]['Lat']\n",
    "        truth_pos_lon = track_posi[i][j]['Lon']\n",
    "        truth_pos_time = track_posi[i][j]['Time']\n",
    "        lin_int = interpolate.interp1d(truth_pos_time.values, truth_pos_lat.values)\n",
    "        sensor_time = track_data[i][j]['AppTime'].values\n",
    "        track_data[i][j]['int_Lat'] = lin_int(sensor_time)\n",
    "        lin_int = interpolate.interp1d(truth_pos_time.values, truth_pos_lon.values)\n",
    "        sensor_time = track_data[i][j]['AppTime'].values\n",
    "        track_data[i][j]['int_Lon'] = lin_int(sensor_time)\n",
    "print(track_data[i][j].head())"
   ]
  },
  {
   "cell_type": "code",
   "execution_count": 38,
   "metadata": {
    "collapsed": false
   },
   "outputs": [],
   "source": [
    "# create pressure data frames\n",
    "pres_data = []\n",
    "for building in track_data:\n",
    "    pres_data.append([])\n",
    "    for track in building:\n",
    "        if track.iloc[track[0].values == 'PRES'].shape[0]:\n",
    "            pres_data[-1].append(track.iloc[track[0].values == 'PRES'])\n",
    "            pres_data[-1][-1] = pres_data[-1][-1].dropna(axis=1)\n",
    "            pres_data[-1][-1] = pres_data[-1][-1].drop(0, axis=1)\n",
    "            pres_data[-1][-1].columns.values[:4] = ['AppTime', 'SensorTime', 'pres', 'acc']\n",
    "        else:\n",
    "            pres_data[-1].append(0)"
   ]
  },
  {
   "cell_type": "code",
   "execution_count": 60,
   "metadata": {
    "collapsed": true
   },
   "outputs": [],
   "source": [
    "# filter time series\n",
    "def holt_filter(sensor_data, time_data, alpha, beta):\n",
    "    sensor_data = np.array(sensor_data).astype(float)\n",
    "    time_data = np.array(time_data).astype(float)\n",
    "    holt_data = np.zeros((sensor_data.shape[0]))\n",
    "    holt_data[0] = sensor_data[0]\n",
    "    trend = 0\n",
    "    for i in range(1, sensor_data.shape[0]):\n",
    "        dt = time_data[i] - time_data[i-1]\n",
    "        holt_data[i] = alpha * sensor_data[i] + (1 - alpha) * (holt_data[i-1] + trend * dt)\n",
    "        trend = beta * (holt_data[i] - holt_data[i-1]) + (1 - beta) * trend\n",
    "    return holt_data\n",
    "        "
   ]
  },
  {
   "cell_type": "code",
   "execution_count": 79,
   "metadata": {
    "collapsed": false
   },
   "outputs": [
    {
     "name": "stdout",
     "output_type": "stream",
     "text": [
      "train/UAH/logfile_UAH_R1_S3.txt\n"
     ]
    },
    {
     "data": {
      "image/png": "[encoded data removed]",
      "text/plain": [
       "<matplotlib.figure.Figure at 0x7fcb42d8f198>"
      ]
     },
     "metadata": {},
     "output_type": "display_data"
    }
   ],
   "source": [
    "# plot pressure and floor over time\n",
    "plot_i = 1\n",
    "plot_j = 0\n",
    "\n",
    "print(train_files_names[plot_i][plot_j])\n",
    "\n",
    "holt_seires = holt_filter(pres_data[plot_i][plot_j]['pres'], pres_data[plot_i][plot_j]['SensorTime'], 0.02, 0.02)\n",
    "\n",
    "fig, ax1 = plt.subplots()\n",
    "ax1.plot(pres_data[plot_i][plot_j]['AppTime'], pres_data[plot_i][plot_j]['pres'], 'b', \n",
    "         pres_data[plot_i][plot_j]['AppTime'], holt_seires, 'g')\n",
    "ax1.set_xlabel('time (s)')\n",
    "# Make the y-axis label and tick labels match the line color.\n",
    "ax1.set_ylabel('Pressure', color='b')\n",
    "# ax1.set_ylim([997,1002])\n",
    "for tl in ax1.get_yticklabels():\n",
    "    tl.set_color('b')\n",
    "\n",
    "\n",
    "ax2 = ax1.twinx()\n",
    "ax2.plot(pres_data[plot_i][plot_j]['AppTime'], pres_data[plot_i][plot_j]['POSI_floor'], 'r')\n",
    "ax2.set_ylabel('Floor', color='r')\n",
    "ax2.set_ylim([-0.5,5.5])\n",
    "for tl in ax2.get_yticklabels():\n",
    "    tl.set_color('r')\n",
    "plt.show()"
   ]
  },
  {
   "cell_type": "code",
   "execution_count": 12,
   "metadata": {
    "collapsed": false
   },
   "outputs": [
    {
     "name": "stdout",
     "output_type": "stream",
     "text": [
      "     AppTime                MAC  rssi  POSI_index  POSI_floor  POSI_building  \\\n",
      "637    2.293  00:0b:86:27:36:c2 -82.0         1.0         0.0           10.0   \n",
      "638    2.293  00:0b:86:27:32:e0 -66.0         1.0         0.0           10.0   \n",
      "639    2.293  00:0b:86:27:32:e2 -66.0         1.0         0.0           10.0   \n",
      "640    2.293  00:0b:86:27:32:e1 -68.0         1.0         0.0           10.0   \n",
      "641    2.293  00:0b:86:27:36:c0 -82.0         1.0         0.0           10.0   \n",
      "\n",
      "        POSI_lat  POSI_lon  \n",
      "637  40.31347091  -3.48315  \n",
      "638  40.31347091  -3.48315  \n",
      "639  40.31347091  -3.48315  \n",
      "640  40.31347091  -3.48315  \n",
      "641  40.31347091  -3.48315  \n"
     ]
    }
   ],
   "source": [
    "# create wifi data frames\n",
    "wifi_data = []\n",
    "for building in track_data:\n",
    "    wifi_data.append([])\n",
    "    for track in building:\n",
    "        wifi_data[-1].append(track[[1, 4, 5, 'POSI_index','POSI_floor', 'POSI_building', 'POSI_lat',  \n",
    "                                    'POSI_lon']].iloc[track[0].values == 'WIFI'])\n",
    "        wifi_data[-1][-1].columns.values[:3] = ['AppTime', 'MAC', 'rssi']\n",
    "print(wifi_data[0][0].head())"
   ]
  },
  {
   "cell_type": "code",
   "execution_count": 13,
   "metadata": {
    "collapsed": false
   },
   "outputs": [
    {
     "name": "stdout",
     "output_type": "stream",
     "text": [
      "0 51\n",
      "1 353\n",
      "2 158\n",
      "3 180\n"
     ]
    }
   ],
   "source": [
    "# create list of mac addresses for each building\n",
    "building_macs = []\n",
    "for i in range(len(wifi_data)):\n",
    "    building_macs.append([])\n",
    "    for j in range(len(wifi_data[i])):\n",
    "        track_mac_array = wifi_data[i][j]['MAC'].values\n",
    "        for mac_add in track_mac_array:\n",
    "            if not mac_add in building_macs[i]:\n",
    "                building_macs[i].append(mac_add)\n",
    "    print(i, len(building_macs[i]))\n",
    "\n",
    "# create list of mac addresses for each building for each floor\n",
    "# building_macs = []\n",
    "# for i in range(len(wifi_data)):\n",
    "#     building_macs.append([])\n",
    "#     for j in range(len(wifi_data[i])):\n",
    "#         track_mac_array = wifi_data[i][j]['MAC'].values\n",
    "#         for mac_add in track_mac_array:\n",
    "#             if not mac_add in building_macs[i]:\n",
    "#                 building_macs[i].append(mac_add)\n",
    "#     print(i, len(building_macs[i]))"
   ]
  },
  {
   "cell_type": "code",
   "execution_count": 14,
   "metadata": {
    "collapsed": false
   },
   "outputs": [
    {
     "name": "stdout",
     "output_type": "stream",
     "text": [
      "0 0 232\n",
      "0 1 210\n",
      "0 2 222\n",
      "0 3 221\n",
      "1 0 150\n",
      "1 1 276\n",
      "1 2 188\n",
      "1 3 297\n",
      "1 4 73\n",
      "1 5 127\n",
      "2 0 274\n",
      "2 1 138\n",
      "3 0 131\n",
      "3 1 98\n",
      "3 2 114\n",
      "3 3 92\n",
      "3 4 128\n",
      "        00:0b:86:27:36:c2  00:0b:86:27:32:e0  00:0b:86:27:32:e2  \\\n",
      "2.293               -82.0              -66.0              -66.0   \n",
      "8.276               -84.0              -69.0              -69.0   \n",
      "14.269              -85.0              -65.0              -68.0   \n",
      "18.284              -83.0              -65.0              -66.0   \n",
      "24.253              -81.0              -65.0              -65.0   \n",
      "\n",
      "        00:0b:86:27:32:e1  00:0b:86:27:36:c0  00:0b:86:27:36:c1  \\\n",
      "2.293               -68.0              -82.0              -82.0   \n",
      "8.276               -69.0              -84.0              -87.0   \n",
      "14.269              -68.0              -85.0              -86.0   \n",
      "18.284              -64.0              -82.0              -82.0   \n",
      "24.253              -65.0              -82.0              -80.0   \n",
      "\n",
      "        00:0b:86:27:35:90  00:0b:86:27:35:92  00:0b:86:27:35:91  \\\n",
      "2.293               -84.0              -81.0              -86.0   \n",
      "8.276               -87.0              -87.0              -89.0   \n",
      "14.269              -82.0              -83.0              -83.0   \n",
      "18.284              -81.0              -85.0              -82.0   \n",
      "24.253              -88.0              -90.0              -82.0   \n",
      "\n",
      "        00:0b:86:27:35:82        ...          40:4a:03:bc:2a:fd  \\\n",
      "2.293               -96.0        ...                     -200.0   \n",
      "8.276               -93.0        ...                     -200.0   \n",
      "14.269              -94.0        ...                     -200.0   \n",
      "18.284              -95.0        ...                     -200.0   \n",
      "24.253              -95.0        ...                     -200.0   \n",
      "\n",
      "        d4:21:22:5a:28:f3  1a:fe:34:9d:0d:2f  72:77:81:a4:9e:36  \\\n",
      "2.293              -200.0             -200.0             -200.0   \n",
      "8.276              -200.0             -200.0             -200.0   \n",
      "14.269             -200.0             -200.0             -200.0   \n",
      "18.284             -200.0             -200.0             -200.0   \n",
      "24.253             -200.0             -200.0             -200.0   \n",
      "\n",
      "        82:b6:be:58:5c:52  b2:46:fc:65:f0:f8  50:7e:5d:0d:d6:fd  \\\n",
      "2.293              -200.0             -200.0             -200.0   \n",
      "8.276              -200.0             -200.0             -200.0   \n",
      "14.269             -200.0             -200.0             -200.0   \n",
      "18.284             -200.0             -200.0             -200.0   \n",
      "24.253             -200.0             -200.0             -200.0   \n",
      "\n",
      "        00:90:4c:91:00:01  00:1d:1a:04:c4:01  00:22:a1:02:33:cc  \n",
      "2.293              -200.0             -200.0             -200.0  \n",
      "8.276              -200.0             -200.0             -200.0  \n",
      "14.269             -200.0             -200.0             -200.0  \n",
      "18.284             -200.0             -200.0             -200.0  \n",
      "24.253             -200.0             -200.0             -200.0  \n",
      "\n",
      "[5 rows x 51 columns]\n"
     ]
    }
   ],
   "source": [
    "# make WiFi data into dummy variable\n",
    "wifi_dummy_data = []\n",
    "for i in range(len(wifi_data)):\n",
    "    wifi_dummy_data.append([])\n",
    "    for j in range(len(wifi_data[i])):\n",
    "        wifi_samples_cur = np.unique(wifi_data[i][j]['AppTime'].values)\n",
    "        wifi_dummy_cur = np.ones((wifi_samples_cur.shape[0], len(building_macs[i]))) * -200\n",
    "        wifi_dummy_cur = pd.DataFrame(wifi_dummy_cur, columns=building_macs[i], index=wifi_samples_cur)\n",
    "        print(i, j, wifi_samples_cur.shape[0])\n",
    "        for k, sample_time in enumerate(wifi_samples_cur):\n",
    "            wifi_cur = wifi_data[i][j].iloc[wifi_data[i][j]['AppTime'].values == sample_time]\n",
    "            for l in range(wifi_cur.shape[0]):\n",
    "                wifi_dummy_cur[wifi_cur['MAC'].iat[l]].iat[k] = wifi_cur['rssi'].iat[l]\n",
    "        wifi_dummy_data[i].append(wifi_dummy_cur)\n",
    "print(wifi_dummy_data[0][0].head())"
   ]
  },
  {
   "cell_type": "code",
   "execution_count": 16,
   "metadata": {
    "collapsed": false
   },
   "outputs": [
    {
     "name": "stdout",
     "output_type": "stream",
     "text": [
      "[[-16.   0.   0. ..., -50. -50. -50.]\n",
      " [-15.   0.   0. ..., -50. -50. -50.]\n",
      " [-20.   0.  -3. ..., -50. -50. -50.]\n",
      " ..., \n",
      " [ -9.   0.  -5. ..., -50. -50. -50.]\n",
      " [-12.  -1.   0. ..., -50. -50. -50.]\n",
      " [-14.  -1.   0. ..., -50. -50. -50.]]\n",
      "0.0\n"
     ]
    }
   ],
   "source": [
    "# Normalize wifi and cut noise\n",
    "noise_level = -50\n",
    "for i in range(len(wifi_dummy_data)):\n",
    "    for j in range(len(wifi_dummy_data[i])):\n",
    "        max_per_line = np.amax(wifi_dummy_data[i][j].values, axis=1)\n",
    "        wifi_dummy_data[i][j].iloc[:, :] = wifi_dummy_data[i][j].values - max_per_line.reshape((max_per_line.shape[0], 1))\n",
    "        noise_not = (wifi_dummy_data[i][j].values >= noise_level) * 1\n",
    "        wifi_dummy_data[i][j].iloc[:, :] = noise_not * wifi_dummy_data[i][j].values + (1- noise_not) * noise_level\n",
    "\n",
    "# random macs\n",
    "# x2-xx-xx-xx-xx-xx\n",
    "# x6-xx-xx-xx-xx-xx\n",
    "# xA-xx-xx-xx-xx-xx\n",
    "# xE-xx-xx-xx-xx-xx\n",
    "# print(building_macs[3])"
   ]
  },
  {
   "cell_type": "code",
   "execution_count": null,
   "metadata": {
    "collapsed": true
   },
   "outputs": [],
   "source": [
    "# Check GPS data accuracy"
   ]
  }
 ],
 "metadata": {
  "kernelspec": {
   "display_name": "Python 3",
   "language": "python",
   "name": "python3"
  },
  "language_info": {
   "codemirror_mode": {
    "name": "ipython",
    "version": 3
   },
   "file_extension": ".py",
   "mimetype": "text/x-python",
   "name": "python",
   "nbconvert_exporter": "python",
   "pygments_lexer": "ipython3",
   "version": "3.4.3"
  }
 },
 "nbformat": 4,
 "nbformat_minor": 0
}
